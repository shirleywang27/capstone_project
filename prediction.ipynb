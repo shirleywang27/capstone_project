{
 "cells": [
  {
   "cell_type": "markdown",
   "metadata": {},
   "source": [
    "A way to predict which students won't meet the minimum standard.\n"
   ]
  },
  {
   "cell_type": "code",
   "execution_count": 1,
   "metadata": {
    "collapsed": true
   },
   "outputs": [],
   "source": [
    "import numpy as np\n",
    "import scipy.stats as stats\n",
    "import seaborn as sns\n",
    "import matplotlib.pyplot as plt\n",
    "import pandas as pd\n",
    "import re\n",
    "\n",
    "sns.set_style('whitegrid')\n",
    "sns.set_palette(\"husl\")\n",
    "\n",
    "%matplotlib inline"
   ]
  },
  {
   "cell_type": "code",
   "execution_count": 2,
   "metadata": {
    "collapsed": true
   },
   "outputs": [],
   "source": [
    "y7_2012_y9_2014 = pd.read_csv('y7_2012_y9_2014_2.csv' )\n",
    "y7_2013_y9_2015 = pd.read_csv('y7_2013_y9_2015_2.csv' )\n",
    "y7_2014_y9_2016 = pd.read_csv('y7_2014_y9_2016_2.csv' )\n",
    "y7_2015_y9_2017 = pd.read_csv('y7_2015_y9_2017_2.csv' )\n",
    "# need to predict\n",
    "y7_2016 = pd.read_csv('./NAPLAN/naplan_schoolexportYr7_2016.csv')\n",
    "y7_2016.drop([113,186],inplace=True)\n",
    "y7_2017 = pd.read_csv('./NAPLAN/naplan_schoolexportYr7_2017.csv')\n",
    "\n",
    "\n",
    "\n"
   ]
  },
  {
   "cell_type": "code",
   "execution_count": 3,
   "metadata": {
    "collapsed": true
   },
   "outputs": [],
   "source": [
    "X_y7_2012 = pd.read_csv('X_y7_2012_2.csv')\n",
    "X_y7_2013 = pd.read_csv('X_y7_2013_2.csv')\n",
    "X_y7_2014 = pd.read_csv('X_y7_2014_2.csv')\n",
    "X_y7_2015 = pd.read_csv('X_y7_2015_2.csv')\n",
    "X_y7_2016 = pd.read_csv('X_y7_2016.csv')\n",
    "X_y7_2017 = pd.read_csv('X_y7_2017.csv')"
   ]
  },
  {
   "cell_type": "code",
   "execution_count": 4,
   "metadata": {
    "collapsed": true
   },
   "outputs": [],
   "source": [
    "yc2012 = y7_2012_y9_2014['Band Year 9: Numeracy'] >=8\n",
    "yc2013 = y7_2013_y9_2015['Band Year 9: Numeracy'] >=8\n",
    "yc2014 = y7_2014_y9_2016['Band Year 9: Numeracy'] >=8\n",
    "yc2015 = y7_2015_y9_2017['Band Year 9: Numeracy'] >=8\n",
    "\n",
    "yr2012 = y7_2012_y9_2014['Band Year 9: Numeracy'] \n",
    "yr2013 = y7_2013_y9_2015['Band Year 9: Numeracy']\n",
    "yr2014 = y7_2014_y9_2016['Band Year 9: Numeracy'] \n",
    "yr2015 = y7_2015_y9_2017['Band Year 9: Numeracy'] "
   ]
  },
  {
   "cell_type": "code",
   "execution_count": 5,
   "metadata": {
    "collapsed": true
   },
   "outputs": [],
   "source": [
    "band2012 = y7_2012_y9_2014['Band Year 7: Numeracy'] #>=8\n",
    "band2013 = y7_2013_y9_2015['Band Year 7: Numeracy'] #>=8\n",
    "band2014 = y7_2014_y9_2016['Band Year 7: Numeracy'] #>=8\n",
    "band2015 = y7_2015_y9_2017['Band Year 7: Numeracy'] #>=8\n",
    "band2016 = y7_2016['Band Year 7: Numeracy']\n",
    "band2017 = y7_2017['Band Year 7: Numeracy']\n",
    "band2012_y5 = y7_2012_y9_2014['Previous Band Year 5: Numeracy']\n",
    "band2013_y5 = y7_2013_y9_2015['Previous Band Year 5: Numeracy']\n",
    "band2014_y5 = y7_2014_y9_2016['Previous Band Year 5: Numeracy']\n",
    "band2015_y5 = y7_2015_y9_2017['Previous Band Year 5: Numeracy']\n",
    "band2016_y5 = y7_2016['Previous Band Year 5: Numeracy']\n",
    "band2017_y5 = y7_2017['Previous Band Year 5: Numeracy']"
   ]
  },
  {
   "cell_type": "code",
   "execution_count": 6,
   "metadata": {
    "collapsed": true
   },
   "outputs": [],
   "source": [
    "# verbes\n",
    "X_y7_2012_v = pd.read_csv('X_y7_2012_verbes_2.csv')\n",
    "X_y7_2013_v = pd.read_csv('X_y7_2013_verbes_2.csv')\n",
    "X_y7_2014_v = pd.read_csv('X_y7_2014_verbes_2.csv')\n",
    "X_y7_2015_v = pd.read_csv('X_y7_2015_verbes_2.csv')\n",
    "X_y7_2016_v = pd.read_csv('X_y7_2016_verbes_2.csv')\n",
    "X_y7_2017_v = pd.read_csv('X_y7_2017_verbes_2.csv')"
   ]
  },
  {
   "cell_type": "code",
   "execution_count": 7,
   "metadata": {
    "collapsed": true,
    "scrolled": true
   },
   "outputs": [],
   "source": [
    "X_y7_2012.index = y7_2012_y9_2014.SRN\n",
    "X_y7_2013.index = y7_2013_y9_2015.SRN\n",
    "X_y7_2014.index = y7_2014_y9_2016.SRN\n",
    "X_y7_2015.index = y7_2015_y9_2017.SRN\n",
    "X_y7_2016.index = y7_2016.SRN\n",
    "X_y7_2017.index = y7_2017.SRN\n",
    "X_y7_2012_v.index = y7_2012_y9_2014.SRN\n",
    "X_y7_2013_v.index = y7_2013_y9_2015.SRN\n",
    "X_y7_2014_v.index = y7_2014_y9_2016.SRN\n",
    "X_y7_2015_v.index = y7_2015_y9_2017.SRN\n",
    "X_y7_2016_v.index = y7_2016.SRN\n",
    "X_y7_2017_v.index = y7_2017.SRN"
   ]
  },
  {
   "cell_type": "code",
   "execution_count": 8,
   "metadata": {
    "collapsed": true
   },
   "outputs": [],
   "source": [
    "yc = pd.DataFrame(pd.concat([yc2012,yc2013,yc2014]))\n",
    "yr = pd.DataFrame(pd.concat([yr2012,yr2013,yr2014]))\n",
    "yc1 = pd.DataFrame(pd.concat([yc2012,yc2013,yc2014,yc2015]))\n",
    "yr1 = pd.DataFrame(pd.concat([yr2012,yr2013,yr2014,yr2015]))"
   ]
  },
  {
   "cell_type": "code",
   "execution_count": null,
   "metadata": {
    "collapsed": true
   },
   "outputs": [],
   "source": []
  },
  {
   "cell_type": "code",
   "execution_count": 9,
   "metadata": {},
   "outputs": [
    {
     "data": {
      "text/plain": [
       "(576, 1)"
      ]
     },
     "execution_count": 9,
     "metadata": {},
     "output_type": "execute_result"
    }
   ],
   "source": [
    "yc.shape"
   ]
  },
  {
   "cell_type": "code",
   "execution_count": 10,
   "metadata": {
    "collapsed": true
   },
   "outputs": [],
   "source": [
    "syllabus_dict = {'MA1-11MG':'Volume and Capacity', 'MA1-8NA':'Patterns and Algebra', \n",
    "                 'MA2-11MG':'Volume and Capacity', 'MA2-12MG':'Mass', 'MA2-13MG':'Time', \n",
    "                 'MA2-14MG':'Three-Dimensional Space', 'MA2-15MG':'Two-Dimensional Space',\n",
    "                 'MA2-16MG':'Angles', 'MA2-17MG':'Position', 'MA2-18SP':'Data','MA2-19SP':'Chance',\n",
    "                 'MA2-4NA':'Whole Numbers', 'MA2-5NA':'Addition and Subtraction', 'MA2-6NA':'Multiplication and Division', \n",
    "                 'MA2-7NA':'Fractions and Decimals', 'MA2-8NA':'Patterns and Algebra', \n",
    "                 'MA3-10MG':'Area', 'MA3-11MG':'Volume and Capacity', 'MA3-12MG':'Mass', 'MA3-13MG':'Time', 'MA3-14MG':'Three-Dimensional Space', 'MA3-15MG':'Two-Dimensional Space', \n",
    "                 'MA3-16MG':'Angles', 'MA3-17MG':'Position', 'MA3-18SP':'Data', \n",
    "                 'MA3-19SP':'Chance', 'MA3-4NA':'Whole Numbers', \n",
    "                 'MA3-5NA':'Addition and Subtraction', 'MA3-6NA':'Multiplication and Division',\n",
    "                 'MA3-7NA':'Fractions, Decimals and Percentages', 'MA3-8NA':'Patterns and Algebra', \n",
    "                 'MA3-9MG':'Length', 'MA4-10NA':'Equations', 'MA4-11NA':'Linear Relationships', \n",
    "                 'MA4-12MG':'Length', 'MA4-13MG':'Area', 'MA4-14MG':'Volume','MA4-15MG':'Time', \n",
    "                 'MA4-17MG':'Properties of Geometrical Figures', 'MA4-18MG':'Angles','MA4-19SP':'Data Collection and Representation', \n",
    "                 'MA4-20SP':'Single Variable Data Analysis', 'MA4-21SP':'Probability', \n",
    "                  'MA4-4NA':'Computation with Integers', 'MA4-5NA':'Fractions, Decimals and Percentages', \n",
    "                 'MA4-6NA':'Financial Mathematics', 'MA4-7NA':'Ratios and Rates', \n",
    "                 'MA4-8NA':'Algebraic Techniques', 'MA4-9NA':'Indices'}"
   ]
  },
  {
   "cell_type": "code",
   "execution_count": 11,
   "metadata": {},
   "outputs": [
    {
     "data": {
      "text/html": [
       "<div>\n",
       "<style>\n",
       "    .dataframe thead tr:only-child th {\n",
       "        text-align: right;\n",
       "    }\n",
       "\n",
       "    .dataframe thead th {\n",
       "        text-align: left;\n",
       "    }\n",
       "\n",
       "    .dataframe tbody tr th {\n",
       "        vertical-align: top;\n",
       "    }\n",
       "</style>\n",
       "<table border=\"1\" class=\"dataframe\">\n",
       "  <thead>\n",
       "    <tr style=\"text-align: right;\">\n",
       "      <th></th>\n",
       "    </tr>\n",
       "  </thead>\n",
       "  <tbody>\n",
       "    <tr>\n",
       "      <th>accuracy</th>\n",
       "    </tr>\n",
       "    <tr>\n",
       "      <th>roc_auc_score</th>\n",
       "    </tr>\n",
       "    <tr>\n",
       "      <th>f1_score</th>\n",
       "    </tr>\n",
       "    <tr>\n",
       "      <th>precision_score</th>\n",
       "    </tr>\n",
       "    <tr>\n",
       "      <th>TN</th>\n",
       "    </tr>\n",
       "    <tr>\n",
       "      <th>FP</th>\n",
       "    </tr>\n",
       "    <tr>\n",
       "      <th>FN</th>\n",
       "    </tr>\n",
       "    <tr>\n",
       "      <th>TP</th>\n",
       "    </tr>\n",
       "  </tbody>\n",
       "</table>\n",
       "</div>"
      ],
      "text/plain": [
       "Empty DataFrame\n",
       "Columns: []\n",
       "Index: [accuracy, roc_auc_score, f1_score, precision_score, TN, FP, FN, TP]"
      ]
     },
     "execution_count": 11,
     "metadata": {},
     "output_type": "execute_result"
    }
   ],
   "source": [
    "scores = pd.DataFrame(index = ['accuracy','roc_auc_score','f1_score','precision_score',\n",
    "                                'TN','FP','FN','TP'])\n",
    "scores"
   ]
  },
  {
   "cell_type": "markdown",
   "metadata": {},
   "source": [
    "# analysis the data according to the syllabus"
   ]
  },
  {
   "cell_type": "markdown",
   "metadata": {},
   "source": [
    "Target: >= Band 8 or < band 8 in Y9 Naplan test\n",
    "\n",
    "Score: to evaluate and test model\n",
    "\n",
    "roc_auc_score, precision_score\n",
    "\n",
    "train_split_test\n",
    "\n",
    "Need to min the False Positive value.(Actual < 8 band, predict >= 8 band)\n",
    "\n",
    "So use precision and ROC plot to check the model.\n",
    "precision = (tp) / (tp + fp)\n",
    "\n"
   ]
  },
  {
   "cell_type": "code",
   "execution_count": 12,
   "metadata": {},
   "outputs": [
    {
     "data": {
      "text/html": [
       "<div>\n",
       "<style>\n",
       "    .dataframe thead tr:only-child th {\n",
       "        text-align: right;\n",
       "    }\n",
       "\n",
       "    .dataframe thead th {\n",
       "        text-align: left;\n",
       "    }\n",
       "\n",
       "    .dataframe tbody tr th {\n",
       "        vertical-align: top;\n",
       "    }\n",
       "</style>\n",
       "<table border=\"1\" class=\"dataframe\">\n",
       "  <thead>\n",
       "    <tr style=\"text-align: right;\">\n",
       "      <th></th>\n",
       "    </tr>\n",
       "  </thead>\n",
       "  <tbody>\n",
       "    <tr>\n",
       "      <th>accuracy</th>\n",
       "    </tr>\n",
       "    <tr>\n",
       "      <th>roc_auc_score</th>\n",
       "    </tr>\n",
       "    <tr>\n",
       "      <th>f1_score</th>\n",
       "    </tr>\n",
       "    <tr>\n",
       "      <th>precision_score</th>\n",
       "    </tr>\n",
       "    <tr>\n",
       "      <th>TN</th>\n",
       "    </tr>\n",
       "    <tr>\n",
       "      <th>FP</th>\n",
       "    </tr>\n",
       "    <tr>\n",
       "      <th>FN</th>\n",
       "    </tr>\n",
       "    <tr>\n",
       "      <th>TP</th>\n",
       "    </tr>\n",
       "  </tbody>\n",
       "</table>\n",
       "</div>"
      ],
      "text/plain": [
       "Empty DataFrame\n",
       "Columns: []\n",
       "Index: [accuracy, roc_auc_score, f1_score, precision_score, TN, FP, FN, TP]"
      ]
     },
     "execution_count": 12,
     "metadata": {},
     "output_type": "execute_result"
    }
   ],
   "source": [
    "scores = pd.DataFrame(index = ['accuracy','roc_auc_score','f1_score','precision_score',\n",
    "                                'TN','FP','FN','TP'])\n",
    "scores"
   ]
  },
  {
   "cell_type": "code",
   "execution_count": 13,
   "metadata": {
    "collapsed": true
   },
   "outputs": [],
   "source": [
    "df2 = pd.concat([X_y7_2012,X_y7_2013,X_y7_2014,X_y7_2015,X_y7_2016,X_y7_2017])"
   ]
  },
  {
   "cell_type": "code",
   "execution_count": 14,
   "metadata": {
    "collapsed": true
   },
   "outputs": [],
   "source": [
    "# create new columns\n",
    "new_columns = [syllabus_dict.get(i,0) for i in list(df2.columns) ]"
   ]
  },
  {
   "cell_type": "code",
   "execution_count": 15,
   "metadata": {
    "collapsed": true
   },
   "outputs": [],
   "source": [
    "df2.columns = new_columns"
   ]
  },
  {
   "cell_type": "code",
   "execution_count": 16,
   "metadata": {
    "collapsed": true
   },
   "outputs": [],
   "source": [
    "df3 = df2.T.reset_index().groupby(['index']).apply(np.mean)"
   ]
  },
  {
   "cell_type": "code",
   "execution_count": 17,
   "metadata": {
    "collapsed": true
   },
   "outputs": [],
   "source": [
    "# fill na with mean value of each student\n",
    "df4 = df3.T.fillna(df3.T.mean())"
   ]
  },
  {
   "cell_type": "code",
   "execution_count": 18,
   "metadata": {
    "collapsed": true
   },
   "outputs": [],
   "source": [
    "y7band = pd.concat([band2012,band2013,band2014,band2015,band2016,band2017])\n",
    "y5band = pd.concat([band2012_y5,band2013_y5,band2014_y5,band2015_y5,band2016_y5,band2017_y5])\n",
    "df4['y7_band'] = list(y7band/10)\n",
    "#df4['y5_band'] = list(y5band)"
   ]
  },
  {
   "cell_type": "code",
   "execution_count": 19,
   "metadata": {},
   "outputs": [
    {
     "data": {
      "text/html": [
       "<div>\n",
       "<style>\n",
       "    .dataframe thead tr:only-child th {\n",
       "        text-align: right;\n",
       "    }\n",
       "\n",
       "    .dataframe thead th {\n",
       "        text-align: left;\n",
       "    }\n",
       "\n",
       "    .dataframe tbody tr th {\n",
       "        vertical-align: top;\n",
       "    }\n",
       "</style>\n",
       "<table border=\"1\" class=\"dataframe\">\n",
       "  <thead>\n",
       "    <tr style=\"text-align: right;\">\n",
       "      <th>index</th>\n",
       "      <th>Addition and Subtraction</th>\n",
       "      <th>Algebraic Techniques</th>\n",
       "      <th>Angles</th>\n",
       "      <th>Area</th>\n",
       "      <th>Chance</th>\n",
       "      <th>Computation with Integers</th>\n",
       "      <th>Data</th>\n",
       "      <th>Data Collection and Representation</th>\n",
       "      <th>Equations</th>\n",
       "      <th>Financial Mathematics</th>\n",
       "      <th>...</th>\n",
       "      <th>Properties of Geometrical Figures</th>\n",
       "      <th>Ratios and Rates</th>\n",
       "      <th>Single Variable Data Analysis</th>\n",
       "      <th>Three-Dimensional Space</th>\n",
       "      <th>Time</th>\n",
       "      <th>Two-Dimensional Space</th>\n",
       "      <th>Volume</th>\n",
       "      <th>Volume and Capacity</th>\n",
       "      <th>Whole Numbers</th>\n",
       "      <th>y7_band</th>\n",
       "    </tr>\n",
       "    <tr>\n",
       "      <th>SRN</th>\n",
       "      <th></th>\n",
       "      <th></th>\n",
       "      <th></th>\n",
       "      <th></th>\n",
       "      <th></th>\n",
       "      <th></th>\n",
       "      <th></th>\n",
       "      <th></th>\n",
       "      <th></th>\n",
       "      <th></th>\n",
       "      <th></th>\n",
       "      <th></th>\n",
       "      <th></th>\n",
       "      <th></th>\n",
       "      <th></th>\n",
       "      <th></th>\n",
       "      <th></th>\n",
       "      <th></th>\n",
       "      <th></th>\n",
       "      <th></th>\n",
       "      <th></th>\n",
       "    </tr>\n",
       "  </thead>\n",
       "  <tbody>\n",
       "    <tr>\n",
       "      <th>436530790</th>\n",
       "      <td>0.741886</td>\n",
       "      <td>0.617984</td>\n",
       "      <td>0.5</td>\n",
       "      <td>0.5</td>\n",
       "      <td>0.833333</td>\n",
       "      <td>1.0</td>\n",
       "      <td>0.50</td>\n",
       "      <td>0.491803</td>\n",
       "      <td>1.0</td>\n",
       "      <td>0.483498</td>\n",
       "      <td>...</td>\n",
       "      <td>0.0</td>\n",
       "      <td>0.534686</td>\n",
       "      <td>0.415842</td>\n",
       "      <td>0.75</td>\n",
       "      <td>0.333333</td>\n",
       "      <td>0.9</td>\n",
       "      <td>0.942857</td>\n",
       "      <td>0.0</td>\n",
       "      <td>1.0</td>\n",
       "      <td>0.7</td>\n",
       "    </tr>\n",
       "    <tr>\n",
       "      <th>441546149</th>\n",
       "      <td>0.741886</td>\n",
       "      <td>0.617984</td>\n",
       "      <td>1.0</td>\n",
       "      <td>0.5</td>\n",
       "      <td>1.000000</td>\n",
       "      <td>1.0</td>\n",
       "      <td>1.00</td>\n",
       "      <td>0.491803</td>\n",
       "      <td>1.0</td>\n",
       "      <td>0.483498</td>\n",
       "      <td>...</td>\n",
       "      <td>0.0</td>\n",
       "      <td>0.534686</td>\n",
       "      <td>0.415842</td>\n",
       "      <td>0.75</td>\n",
       "      <td>0.833333</td>\n",
       "      <td>0.9</td>\n",
       "      <td>0.942857</td>\n",
       "      <td>0.0</td>\n",
       "      <td>1.0</td>\n",
       "      <td>0.9</td>\n",
       "    </tr>\n",
       "    <tr>\n",
       "      <th>432640256</th>\n",
       "      <td>0.741886</td>\n",
       "      <td>0.617984</td>\n",
       "      <td>0.5</td>\n",
       "      <td>0.0</td>\n",
       "      <td>1.000000</td>\n",
       "      <td>1.0</td>\n",
       "      <td>0.75</td>\n",
       "      <td>0.491803</td>\n",
       "      <td>0.0</td>\n",
       "      <td>0.483498</td>\n",
       "      <td>...</td>\n",
       "      <td>1.0</td>\n",
       "      <td>0.534686</td>\n",
       "      <td>0.415842</td>\n",
       "      <td>1.00</td>\n",
       "      <td>0.500000</td>\n",
       "      <td>0.8</td>\n",
       "      <td>0.942857</td>\n",
       "      <td>0.0</td>\n",
       "      <td>0.0</td>\n",
       "      <td>0.7</td>\n",
       "    </tr>\n",
       "    <tr>\n",
       "      <th>434220173</th>\n",
       "      <td>0.741886</td>\n",
       "      <td>0.617984</td>\n",
       "      <td>0.5</td>\n",
       "      <td>0.5</td>\n",
       "      <td>0.500000</td>\n",
       "      <td>1.0</td>\n",
       "      <td>0.75</td>\n",
       "      <td>0.491803</td>\n",
       "      <td>1.0</td>\n",
       "      <td>0.483498</td>\n",
       "      <td>...</td>\n",
       "      <td>0.0</td>\n",
       "      <td>0.534686</td>\n",
       "      <td>0.415842</td>\n",
       "      <td>0.75</td>\n",
       "      <td>0.333333</td>\n",
       "      <td>1.0</td>\n",
       "      <td>0.942857</td>\n",
       "      <td>0.0</td>\n",
       "      <td>0.0</td>\n",
       "      <td>0.7</td>\n",
       "    </tr>\n",
       "    <tr>\n",
       "      <th>431672294</th>\n",
       "      <td>0.741886</td>\n",
       "      <td>0.617984</td>\n",
       "      <td>0.5</td>\n",
       "      <td>0.5</td>\n",
       "      <td>1.000000</td>\n",
       "      <td>1.0</td>\n",
       "      <td>1.00</td>\n",
       "      <td>0.491803</td>\n",
       "      <td>1.0</td>\n",
       "      <td>0.483498</td>\n",
       "      <td>...</td>\n",
       "      <td>0.0</td>\n",
       "      <td>0.534686</td>\n",
       "      <td>0.415842</td>\n",
       "      <td>1.00</td>\n",
       "      <td>0.833333</td>\n",
       "      <td>1.0</td>\n",
       "      <td>0.942857</td>\n",
       "      <td>0.0</td>\n",
       "      <td>1.0</td>\n",
       "      <td>0.9</td>\n",
       "    </tr>\n",
       "  </tbody>\n",
       "</table>\n",
       "<p>5 rows × 30 columns</p>\n",
       "</div>"
      ],
      "text/plain": [
       "index      Addition and Subtraction  Algebraic Techniques  Angles  Area  \\\n",
       "SRN                                                                       \n",
       "436530790                  0.741886              0.617984     0.5   0.5   \n",
       "441546149                  0.741886              0.617984     1.0   0.5   \n",
       "432640256                  0.741886              0.617984     0.5   0.0   \n",
       "434220173                  0.741886              0.617984     0.5   0.5   \n",
       "431672294                  0.741886              0.617984     0.5   0.5   \n",
       "\n",
       "index        Chance  Computation with Integers  Data  \\\n",
       "SRN                                                    \n",
       "436530790  0.833333                        1.0  0.50   \n",
       "441546149  1.000000                        1.0  1.00   \n",
       "432640256  1.000000                        1.0  0.75   \n",
       "434220173  0.500000                        1.0  0.75   \n",
       "431672294  1.000000                        1.0  1.00   \n",
       "\n",
       "index      Data Collection and Representation  Equations  \\\n",
       "SRN                                                        \n",
       "436530790                            0.491803        1.0   \n",
       "441546149                            0.491803        1.0   \n",
       "432640256                            0.491803        0.0   \n",
       "434220173                            0.491803        1.0   \n",
       "431672294                            0.491803        1.0   \n",
       "\n",
       "index      Financial Mathematics   ...     Properties of Geometrical Figures  \\\n",
       "SRN                                ...                                         \n",
       "436530790               0.483498   ...                                   0.0   \n",
       "441546149               0.483498   ...                                   0.0   \n",
       "432640256               0.483498   ...                                   1.0   \n",
       "434220173               0.483498   ...                                   0.0   \n",
       "431672294               0.483498   ...                                   0.0   \n",
       "\n",
       "index      Ratios and Rates  Single Variable Data Analysis  \\\n",
       "SRN                                                          \n",
       "436530790          0.534686                       0.415842   \n",
       "441546149          0.534686                       0.415842   \n",
       "432640256          0.534686                       0.415842   \n",
       "434220173          0.534686                       0.415842   \n",
       "431672294          0.534686                       0.415842   \n",
       "\n",
       "index      Three-Dimensional Space      Time  Two-Dimensional Space    Volume  \\\n",
       "SRN                                                                             \n",
       "436530790                     0.75  0.333333                    0.9  0.942857   \n",
       "441546149                     0.75  0.833333                    0.9  0.942857   \n",
       "432640256                     1.00  0.500000                    0.8  0.942857   \n",
       "434220173                     0.75  0.333333                    1.0  0.942857   \n",
       "431672294                     1.00  0.833333                    1.0  0.942857   \n",
       "\n",
       "index      Volume and Capacity  Whole Numbers  y7_band  \n",
       "SRN                                                     \n",
       "436530790                  0.0            1.0      0.7  \n",
       "441546149                  0.0            1.0      0.9  \n",
       "432640256                  0.0            0.0      0.7  \n",
       "434220173                  0.0            0.0      0.7  \n",
       "431672294                  0.0            1.0      0.9  \n",
       "\n",
       "[5 rows x 30 columns]"
      ]
     },
     "execution_count": 19,
     "metadata": {},
     "output_type": "execute_result"
    }
   ],
   "source": [
    "df4.head()"
   ]
  },
  {
   "cell_type": "code",
   "execution_count": 20,
   "metadata": {},
   "outputs": [
    {
     "data": {
      "text/plain": [
       "(1178, 30)"
      ]
     },
     "execution_count": 20,
     "metadata": {},
     "output_type": "execute_result"
    }
   ],
   "source": [
    "df4.shape"
   ]
  },
  {
   "cell_type": "code",
   "execution_count": 21,
   "metadata": {},
   "outputs": [
    {
     "data": {
      "text/plain": [
       "(762, 1)"
      ]
     },
     "execution_count": 21,
     "metadata": {},
     "output_type": "execute_result"
    }
   ],
   "source": [
    "yc1.shape"
   ]
  },
  {
   "cell_type": "markdown",
   "metadata": {},
   "source": [
    "**Train test split**"
   ]
  },
  {
   "cell_type": "code",
   "execution_count": 22,
   "metadata": {
    "collapsed": true
   },
   "outputs": [],
   "source": [
    "# train test split\n",
    "from sklearn.model_selection import train_test_split\n",
    "X_train2,X_test2,y_train2,y_test2 = train_test_split(df4[:762],yc1,\n",
    "                              \n",
    "                                                     random_state = 233)"
   ]
  },
  {
   "cell_type": "code",
   "execution_count": 23,
   "metadata": {},
   "outputs": [
    {
     "data": {
      "text/plain": [
       "True     486\n",
       "False     85\n",
       "Name: Band Year 9: Numeracy, dtype: int64"
      ]
     },
     "execution_count": 23,
     "metadata": {},
     "output_type": "execute_result"
    }
   ],
   "source": [
    "y_train2['Band Year 9: Numeracy'].value_counts()"
   ]
  },
  {
   "cell_type": "markdown",
   "metadata": {},
   "source": [
    "## Decision tree"
   ]
  },
  {
   "cell_type": "code",
   "execution_count": 24,
   "metadata": {},
   "outputs": [
    {
     "name": "stdout",
     "output_type": "stream",
     "text": [
      "0.874345549738\n"
     ]
    }
   ],
   "source": [
    "import sklearn.tree\n",
    "dtc = sklearn.tree.DecisionTreeClassifier(max_depth=4)\n",
    "dtc.fit(X_train2, y_train2)\n",
    "print dtc.score(X_test2, y_test2)"
   ]
  },
  {
   "cell_type": "code",
   "execution_count": 25,
   "metadata": {},
   "outputs": [
    {
     "data": {
      "image/svg+xml": [
       "<?xml version=\"1.0\" encoding=\"UTF-8\" standalone=\"no\"?>\n",
       "<!DOCTYPE svg PUBLIC \"-//W3C//DTD SVG 1.1//EN\"\n",
       " \"http://www.w3.org/Graphics/SVG/1.1/DTD/svg11.dtd\">\n",
       "<!-- Generated by graphviz version 2.36.0 (20140111.2315)\n",
       " -->\n",
       "<!-- Title: Tree Pages: 1 -->\n",
       "<svg width=\"1369pt\" height=\"458pt\"\n",
       " viewBox=\"0.00 0.00 1369.00 458.00\" xmlns=\"http://www.w3.org/2000/svg\" xmlns:xlink=\"http://www.w3.org/1999/xlink\">\n",
       "<g id=\"graph0\" class=\"graph\" transform=\"scale(1 1) rotate(0) translate(4 454)\">\n",
       "<title>Tree</title>\n",
       "<polygon fill=\"white\" stroke=\"none\" points=\"-4,4 -4,-454 1365,-454 1365,4 -4,4\"/>\n",
       "<!-- 0 -->\n",
       "<g id=\"node1\" class=\"node\"><title>0</title>\n",
       "<polygon fill=\"none\" stroke=\"black\" points=\"592.904,-450 481.096,-450 481.096,-386 592.904,-386 592.904,-450\"/>\n",
       "<text text-anchor=\"middle\" x=\"537\" y=\"-434.8\" font-family=\"Times,serif\" font-size=\"14.00\">y7_band &lt;= 0.65</text>\n",
       "<text text-anchor=\"middle\" x=\"537\" y=\"-420.8\" font-family=\"Times,serif\" font-size=\"14.00\">gini = 0.2534</text>\n",
       "<text text-anchor=\"middle\" x=\"537\" y=\"-406.8\" font-family=\"Times,serif\" font-size=\"14.00\">samples = 571</text>\n",
       "<text text-anchor=\"middle\" x=\"537\" y=\"-392.8\" font-family=\"Times,serif\" font-size=\"14.00\">value = [85, 486]</text>\n",
       "</g>\n",
       "<!-- 1 -->\n",
       "<g id=\"node2\" class=\"node\"><title>1</title>\n",
       "<polygon fill=\"none\" stroke=\"black\" points=\"451.131,-350 340.869,-350 340.869,-286 451.131,-286 451.131,-350\"/>\n",
       "<text text-anchor=\"middle\" x=\"396\" y=\"-334.8\" font-family=\"Times,serif\" font-size=\"14.00\">y7_band &lt;= 0.55</text>\n",
       "<text text-anchor=\"middle\" x=\"396\" y=\"-320.8\" font-family=\"Times,serif\" font-size=\"14.00\">gini = 0.4221</text>\n",
       "<text text-anchor=\"middle\" x=\"396\" y=\"-306.8\" font-family=\"Times,serif\" font-size=\"14.00\">samples = 76</text>\n",
       "<text text-anchor=\"middle\" x=\"396\" y=\"-292.8\" font-family=\"Times,serif\" font-size=\"14.00\">value = [53, 23]</text>\n",
       "</g>\n",
       "<!-- 0&#45;&gt;1 -->\n",
       "<g id=\"edge1\" class=\"edge\"><title>0&#45;&gt;1</title>\n",
       "<path fill=\"none\" stroke=\"black\" d=\"M492.387,-385.992C478.628,-376.429 463.342,-365.805 449.072,-355.887\"/>\n",
       "<polygon fill=\"black\" stroke=\"black\" points=\"451.016,-352.976 440.807,-350.142 447.021,-358.724 451.016,-352.976\"/>\n",
       "<text text-anchor=\"middle\" x=\"445.234\" y=\"-370.547\" font-family=\"Times,serif\" font-size=\"14.00\">True</text>\n",
       "</g>\n",
       "<!-- 10 -->\n",
       "<g id=\"node11\" class=\"node\"><title>10</title>\n",
       "<polygon fill=\"none\" stroke=\"black\" points=\"741.904,-350 630.096,-350 630.096,-286 741.904,-286 741.904,-350\"/>\n",
       "<text text-anchor=\"middle\" x=\"686\" y=\"-334.8\" font-family=\"Times,serif\" font-size=\"14.00\">y7_band &lt;= 0.75</text>\n",
       "<text text-anchor=\"middle\" x=\"686\" y=\"-320.8\" font-family=\"Times,serif\" font-size=\"14.00\">gini = 0.1209</text>\n",
       "<text text-anchor=\"middle\" x=\"686\" y=\"-306.8\" font-family=\"Times,serif\" font-size=\"14.00\">samples = 495</text>\n",
       "<text text-anchor=\"middle\" x=\"686\" y=\"-292.8\" font-family=\"Times,serif\" font-size=\"14.00\">value = [32, 463]</text>\n",
       "</g>\n",
       "<!-- 0&#45;&gt;10 -->\n",
       "<g id=\"edge10\" class=\"edge\"><title>0&#45;&gt;10</title>\n",
       "<path fill=\"none\" stroke=\"black\" d=\"M584.145,-385.992C598.684,-376.429 614.837,-365.805 629.917,-355.887\"/>\n",
       "<polygon fill=\"black\" stroke=\"black\" points=\"632.219,-358.562 638.651,-350.142 628.373,-352.713 632.219,-358.562\"/>\n",
       "<text text-anchor=\"middle\" x=\"633.595\" y=\"-370.426\" font-family=\"Times,serif\" font-size=\"14.00\">False</text>\n",
       "</g>\n",
       "<!-- 2 -->\n",
       "<g id=\"node3\" class=\"node\"><title>2</title>\n",
       "<polygon fill=\"none\" stroke=\"black\" points=\"278.905,-243 181.095,-243 181.095,-193 278.905,-193 278.905,-243\"/>\n",
       "<text text-anchor=\"middle\" x=\"230\" y=\"-227.8\" font-family=\"Times,serif\" font-size=\"14.00\">gini = 0.0</text>\n",
       "<text text-anchor=\"middle\" x=\"230\" y=\"-213.8\" font-family=\"Times,serif\" font-size=\"14.00\">samples = 13</text>\n",
       "<text text-anchor=\"middle\" x=\"230\" y=\"-199.8\" font-family=\"Times,serif\" font-size=\"14.00\">value = [13, 0]</text>\n",
       "</g>\n",
       "<!-- 1&#45;&gt;2 -->\n",
       "<g id=\"edge2\" class=\"edge\"><title>1&#45;&gt;2</title>\n",
       "<path fill=\"none\" stroke=\"black\" d=\"M343.477,-285.992C323.039,-273.927 299.739,-260.171 279.592,-248.277\"/>\n",
       "<polygon fill=\"black\" stroke=\"black\" points=\"281.265,-245.2 270.874,-243.13 277.706,-251.228 281.265,-245.2\"/>\n",
       "</g>\n",
       "<!-- 3 -->\n",
       "<g id=\"node4\" class=\"node\"><title>3</title>\n",
       "<polygon fill=\"none\" stroke=\"black\" points=\"494.173,-250 297.827,-250 297.827,-186 494.173,-186 494.173,-250\"/>\n",
       "<text text-anchor=\"middle\" x=\"396\" y=\"-234.8\" font-family=\"Times,serif\" font-size=\"14.00\">Volume and Capacity &lt;= 0.4167</text>\n",
       "<text text-anchor=\"middle\" x=\"396\" y=\"-220.8\" font-family=\"Times,serif\" font-size=\"14.00\">gini = 0.4636</text>\n",
       "<text text-anchor=\"middle\" x=\"396\" y=\"-206.8\" font-family=\"Times,serif\" font-size=\"14.00\">samples = 63</text>\n",
       "<text text-anchor=\"middle\" x=\"396\" y=\"-192.8\" font-family=\"Times,serif\" font-size=\"14.00\">value = [40, 23]</text>\n",
       "</g>\n",
       "<!-- 1&#45;&gt;3 -->\n",
       "<g id=\"edge3\" class=\"edge\"><title>1&#45;&gt;3</title>\n",
       "<path fill=\"none\" stroke=\"black\" d=\"M396,-285.992C396,-277.859 396,-268.959 396,-260.378\"/>\n",
       "<polygon fill=\"black\" stroke=\"black\" points=\"399.5,-260.142 396,-250.142 392.5,-260.142 399.5,-260.142\"/>\n",
       "</g>\n",
       "<!-- 4 -->\n",
       "<g id=\"node5\" class=\"node\"><title>4</title>\n",
       "<polygon fill=\"none\" stroke=\"black\" points=\"273.333,-150 58.6674,-150 58.6674,-86 273.333,-86 273.333,-150\"/>\n",
       "<text text-anchor=\"middle\" x=\"166\" y=\"-134.8\" font-family=\"Times,serif\" font-size=\"14.00\">Two&#45;Dimensional Space &lt;= 0.6833</text>\n",
       "<text text-anchor=\"middle\" x=\"166\" y=\"-120.8\" font-family=\"Times,serif\" font-size=\"14.00\">gini = 0.375</text>\n",
       "<text text-anchor=\"middle\" x=\"166\" y=\"-106.8\" font-family=\"Times,serif\" font-size=\"14.00\">samples = 36</text>\n",
       "<text text-anchor=\"middle\" x=\"166\" y=\"-92.8\" font-family=\"Times,serif\" font-size=\"14.00\">value = [27, 9]</text>\n",
       "</g>\n",
       "<!-- 3&#45;&gt;4 -->\n",
       "<g id=\"edge4\" class=\"edge\"><title>3&#45;&gt;4</title>\n",
       "<path fill=\"none\" stroke=\"black\" d=\"M323.227,-185.992C299.42,-175.849 272.81,-164.51 248.349,-154.088\"/>\n",
       "<polygon fill=\"black\" stroke=\"black\" points=\"249.661,-150.843 239.089,-150.142 246.917,-157.282 249.661,-150.843\"/>\n",
       "</g>\n",
       "<!-- 7 -->\n",
       "<g id=\"node8\" class=\"node\"><title>7</title>\n",
       "<polygon fill=\"none\" stroke=\"black\" points=\"500.083,-150 291.917,-150 291.917,-86 500.083,-86 500.083,-150\"/>\n",
       "<text text-anchor=\"middle\" x=\"396\" y=\"-134.8\" font-family=\"Times,serif\" font-size=\"14.00\">Two&#45;Dimensional Space &lt;= 0.875</text>\n",
       "<text text-anchor=\"middle\" x=\"396\" y=\"-120.8\" font-family=\"Times,serif\" font-size=\"14.00\">gini = 0.4993</text>\n",
       "<text text-anchor=\"middle\" x=\"396\" y=\"-106.8\" font-family=\"Times,serif\" font-size=\"14.00\">samples = 27</text>\n",
       "<text text-anchor=\"middle\" x=\"396\" y=\"-92.8\" font-family=\"Times,serif\" font-size=\"14.00\">value = [13, 14]</text>\n",
       "</g>\n",
       "<!-- 3&#45;&gt;7 -->\n",
       "<g id=\"edge7\" class=\"edge\"><title>3&#45;&gt;7</title>\n",
       "<path fill=\"none\" stroke=\"black\" d=\"M396,-185.992C396,-177.859 396,-168.959 396,-160.378\"/>\n",
       "<polygon fill=\"black\" stroke=\"black\" points=\"399.5,-160.142 396,-150.142 392.5,-160.142 399.5,-160.142\"/>\n",
       "</g>\n",
       "<!-- 5 -->\n",
       "<g id=\"node6\" class=\"node\"><title>5</title>\n",
       "<polygon fill=\"none\" stroke=\"black\" points=\"97.9045,-50 0.095458,-50 0.095458,-0 97.9045,-0 97.9045,-50\"/>\n",
       "<text text-anchor=\"middle\" x=\"49\" y=\"-34.8\" font-family=\"Times,serif\" font-size=\"14.00\">gini = 0.0</text>\n",
       "<text text-anchor=\"middle\" x=\"49\" y=\"-20.8\" font-family=\"Times,serif\" font-size=\"14.00\">samples = 13</text>\n",
       "<text text-anchor=\"middle\" x=\"49\" y=\"-6.8\" font-family=\"Times,serif\" font-size=\"14.00\">value = [13, 0]</text>\n",
       "</g>\n",
       "<!-- 4&#45;&gt;5 -->\n",
       "<g id=\"edge5\" class=\"edge\"><title>4&#45;&gt;5</title>\n",
       "<path fill=\"none\" stroke=\"black\" d=\"M126.062,-85.9375C113.799,-76.3993 100.322,-65.9167 88.1139,-56.4219\"/>\n",
       "<polygon fill=\"black\" stroke=\"black\" points=\"89.9382,-53.4068 79.8958,-50.0301 85.6405,-58.9323 89.9382,-53.4068\"/>\n",
       "</g>\n",
       "<!-- 6 -->\n",
       "<g id=\"node7\" class=\"node\"><title>6</title>\n",
       "<polygon fill=\"none\" stroke=\"black\" points=\"214.905,-50 117.095,-50 117.095,-0 214.905,-0 214.905,-50\"/>\n",
       "<text text-anchor=\"middle\" x=\"166\" y=\"-34.8\" font-family=\"Times,serif\" font-size=\"14.00\">gini = 0.4764</text>\n",
       "<text text-anchor=\"middle\" x=\"166\" y=\"-20.8\" font-family=\"Times,serif\" font-size=\"14.00\">samples = 23</text>\n",
       "<text text-anchor=\"middle\" x=\"166\" y=\"-6.8\" font-family=\"Times,serif\" font-size=\"14.00\">value = [14, 9]</text>\n",
       "</g>\n",
       "<!-- 4&#45;&gt;6 -->\n",
       "<g id=\"edge6\" class=\"edge\"><title>4&#45;&gt;6</title>\n",
       "<path fill=\"none\" stroke=\"black\" d=\"M166,-85.9375C166,-77.6833 166,-68.7219 166,-60.3053\"/>\n",
       "<polygon fill=\"black\" stroke=\"black\" points=\"169.5,-60.03 166,-50.0301 162.5,-60.0301 169.5,-60.03\"/>\n",
       "</g>\n",
       "<!-- 8 -->\n",
       "<g id=\"node9\" class=\"node\"><title>8</title>\n",
       "<polygon fill=\"none\" stroke=\"black\" points=\"331.905,-50 234.095,-50 234.095,-0 331.905,-0 331.905,-50\"/>\n",
       "<text text-anchor=\"middle\" x=\"283\" y=\"-34.8\" font-family=\"Times,serif\" font-size=\"14.00\">gini = 0.455</text>\n",
       "<text text-anchor=\"middle\" x=\"283\" y=\"-20.8\" font-family=\"Times,serif\" font-size=\"14.00\">samples = 20</text>\n",
       "<text text-anchor=\"middle\" x=\"283\" y=\"-6.8\" font-family=\"Times,serif\" font-size=\"14.00\">value = [7, 13]</text>\n",
       "</g>\n",
       "<!-- 7&#45;&gt;8 -->\n",
       "<g id=\"edge8\" class=\"edge\"><title>7&#45;&gt;8</title>\n",
       "<path fill=\"none\" stroke=\"black\" d=\"M357.428,-85.9375C345.584,-76.3993 332.567,-65.9167 320.777,-56.4219\"/>\n",
       "<polygon fill=\"black\" stroke=\"black\" points=\"322.823,-53.5763 312.84,-50.0301 318.433,-59.0282 322.823,-53.5763\"/>\n",
       "</g>\n",
       "<!-- 9 -->\n",
       "<g id=\"node10\" class=\"node\"><title>9</title>\n",
       "<polygon fill=\"none\" stroke=\"black\" points=\"441.156,-50 350.844,-50 350.844,-0 441.156,-0 441.156,-50\"/>\n",
       "<text text-anchor=\"middle\" x=\"396\" y=\"-34.8\" font-family=\"Times,serif\" font-size=\"14.00\">gini = 0.2449</text>\n",
       "<text text-anchor=\"middle\" x=\"396\" y=\"-20.8\" font-family=\"Times,serif\" font-size=\"14.00\">samples = 7</text>\n",
       "<text text-anchor=\"middle\" x=\"396\" y=\"-6.8\" font-family=\"Times,serif\" font-size=\"14.00\">value = [6, 1]</text>\n",
       "</g>\n",
       "<!-- 7&#45;&gt;9 -->\n",
       "<g id=\"edge9\" class=\"edge\"><title>7&#45;&gt;9</title>\n",
       "<path fill=\"none\" stroke=\"black\" d=\"M396,-85.9375C396,-77.6833 396,-68.7219 396,-60.3053\"/>\n",
       "<polygon fill=\"black\" stroke=\"black\" points=\"399.5,-60.03 396,-50.0301 392.5,-60.0301 399.5,-60.03\"/>\n",
       "</g>\n",
       "<!-- 11 -->\n",
       "<g id=\"node12\" class=\"node\"><title>11</title>\n",
       "<polygon fill=\"none\" stroke=\"black\" points=\"742.018,-250 629.982,-250 629.982,-186 742.018,-186 742.018,-250\"/>\n",
       "<text text-anchor=\"middle\" x=\"686\" y=\"-234.8\" font-family=\"Times,serif\" font-size=\"14.00\">Area &lt;= 0.75</text>\n",
       "<text text-anchor=\"middle\" x=\"686\" y=\"-220.8\" font-family=\"Times,serif\" font-size=\"14.00\">gini = 0.3063</text>\n",
       "<text text-anchor=\"middle\" x=\"686\" y=\"-206.8\" font-family=\"Times,serif\" font-size=\"14.00\">samples = 143</text>\n",
       "<text text-anchor=\"middle\" x=\"686\" y=\"-192.8\" font-family=\"Times,serif\" font-size=\"14.00\">value = [27, 116]</text>\n",
       "</g>\n",
       "<!-- 10&#45;&gt;11 -->\n",
       "<g id=\"edge11\" class=\"edge\"><title>10&#45;&gt;11</title>\n",
       "<path fill=\"none\" stroke=\"black\" d=\"M686,-285.992C686,-277.859 686,-268.959 686,-260.378\"/>\n",
       "<polygon fill=\"black\" stroke=\"black\" points=\"689.5,-260.142 686,-250.142 682.5,-260.142 689.5,-260.142\"/>\n",
       "</g>\n",
       "<!-- 18 -->\n",
       "<g id=\"node19\" class=\"node\"><title>18</title>\n",
       "<polygon fill=\"none\" stroke=\"black\" points=\"1105.3,-250 882.7,-250 882.7,-186 1105.3,-186 1105.3,-250\"/>\n",
       "<text text-anchor=\"middle\" x=\"994\" y=\"-234.8\" font-family=\"Times,serif\" font-size=\"14.00\">Three&#45;Dimensional Space &lt;= 0.6125</text>\n",
       "<text text-anchor=\"middle\" x=\"994\" y=\"-220.8\" font-family=\"Times,serif\" font-size=\"14.00\">gini = 0.028</text>\n",
       "<text text-anchor=\"middle\" x=\"994\" y=\"-206.8\" font-family=\"Times,serif\" font-size=\"14.00\">samples = 352</text>\n",
       "<text text-anchor=\"middle\" x=\"994\" y=\"-192.8\" font-family=\"Times,serif\" font-size=\"14.00\">value = [5, 347]</text>\n",
       "</g>\n",
       "<!-- 10&#45;&gt;18 -->\n",
       "<g id=\"edge18\" class=\"edge\"><title>10&#45;&gt;18</title>\n",
       "<path fill=\"none\" stroke=\"black\" d=\"M742.134,-299.139C782.475,-286.303 838.115,-268.6 886.841,-253.096\"/>\n",
       "<polygon fill=\"black\" stroke=\"black\" points=\"888.019,-256.394 896.487,-250.027 885.897,-249.724 888.019,-256.394\"/>\n",
       "</g>\n",
       "<!-- 12 -->\n",
       "<g id=\"node13\" class=\"node\"><title>12</title>\n",
       "<polygon fill=\"none\" stroke=\"black\" points=\"674.904,-150 563.096,-150 563.096,-86 674.904,-86 674.904,-150\"/>\n",
       "<text text-anchor=\"middle\" x=\"619\" y=\"-134.8\" font-family=\"Times,serif\" font-size=\"14.00\">Indices &lt;= 0.25</text>\n",
       "<text text-anchor=\"middle\" x=\"619\" y=\"-120.8\" font-family=\"Times,serif\" font-size=\"14.00\">gini = 0.2528</text>\n",
       "<text text-anchor=\"middle\" x=\"619\" y=\"-106.8\" font-family=\"Times,serif\" font-size=\"14.00\">samples = 128</text>\n",
       "<text text-anchor=\"middle\" x=\"619\" y=\"-92.8\" font-family=\"Times,serif\" font-size=\"14.00\">value = [19, 109]</text>\n",
       "</g>\n",
       "<!-- 11&#45;&gt;12 -->\n",
       "<g id=\"edge12\" class=\"edge\"><title>11&#45;&gt;12</title>\n",
       "<path fill=\"none\" stroke=\"black\" d=\"M664.801,-185.992C658.813,-177.234 652.216,-167.585 645.939,-158.404\"/>\n",
       "<polygon fill=\"black\" stroke=\"black\" points=\"648.824,-156.422 640.291,-150.142 643.046,-160.373 648.824,-156.422\"/>\n",
       "</g>\n",
       "<!-- 15 -->\n",
       "<g id=\"node16\" class=\"node\"><title>15</title>\n",
       "<polygon fill=\"none\" stroke=\"black\" points=\"812.463,-150 693.537,-150 693.537,-86 812.463,-86 812.463,-150\"/>\n",
       "<text text-anchor=\"middle\" x=\"753\" y=\"-134.8\" font-family=\"Times,serif\" font-size=\"14.00\">Equations &lt;= 0.75</text>\n",
       "<text text-anchor=\"middle\" x=\"753\" y=\"-120.8\" font-family=\"Times,serif\" font-size=\"14.00\">gini = 0.4978</text>\n",
       "<text text-anchor=\"middle\" x=\"753\" y=\"-106.8\" font-family=\"Times,serif\" font-size=\"14.00\">samples = 15</text>\n",
       "<text text-anchor=\"middle\" x=\"753\" y=\"-92.8\" font-family=\"Times,serif\" font-size=\"14.00\">value = [8, 7]</text>\n",
       "</g>\n",
       "<!-- 11&#45;&gt;15 -->\n",
       "<g id=\"edge15\" class=\"edge\"><title>11&#45;&gt;15</title>\n",
       "<path fill=\"none\" stroke=\"black\" d=\"M707.199,-185.992C713.187,-177.234 719.784,-167.585 726.061,-158.404\"/>\n",
       "<polygon fill=\"black\" stroke=\"black\" points=\"728.954,-160.373 731.709,-150.142 723.176,-156.422 728.954,-160.373\"/>\n",
       "</g>\n",
       "<!-- 13 -->\n",
       "<g id=\"node14\" class=\"node\"><title>13</title>\n",
       "<polygon fill=\"none\" stroke=\"black\" points=\"551.156,-50 460.844,-50 460.844,-0 551.156,-0 551.156,-50\"/>\n",
       "<text text-anchor=\"middle\" x=\"506\" y=\"-34.8\" font-family=\"Times,serif\" font-size=\"14.00\">gini = 0.4444</text>\n",
       "<text text-anchor=\"middle\" x=\"506\" y=\"-20.8\" font-family=\"Times,serif\" font-size=\"14.00\">samples = 3</text>\n",
       "<text text-anchor=\"middle\" x=\"506\" y=\"-6.8\" font-family=\"Times,serif\" font-size=\"14.00\">value = [2, 1]</text>\n",
       "</g>\n",
       "<!-- 12&#45;&gt;13 -->\n",
       "<g id=\"edge13\" class=\"edge\"><title>12&#45;&gt;13</title>\n",
       "<path fill=\"none\" stroke=\"black\" d=\"M580.428,-85.9375C568.584,-76.3993 555.567,-65.9167 543.777,-56.4219\"/>\n",
       "<polygon fill=\"black\" stroke=\"black\" points=\"545.823,-53.5763 535.84,-50.0301 541.433,-59.0282 545.823,-53.5763\"/>\n",
       "</g>\n",
       "<!-- 14 -->\n",
       "<g id=\"node15\" class=\"node\"><title>14</title>\n",
       "<polygon fill=\"none\" stroke=\"black\" points=\"681.904,-50 570.096,-50 570.096,-0 681.904,-0 681.904,-50\"/>\n",
       "<text text-anchor=\"middle\" x=\"626\" y=\"-34.8\" font-family=\"Times,serif\" font-size=\"14.00\">gini = 0.235</text>\n",
       "<text text-anchor=\"middle\" x=\"626\" y=\"-20.8\" font-family=\"Times,serif\" font-size=\"14.00\">samples = 125</text>\n",
       "<text text-anchor=\"middle\" x=\"626\" y=\"-6.8\" font-family=\"Times,serif\" font-size=\"14.00\">value = [17, 108]</text>\n",
       "</g>\n",
       "<!-- 12&#45;&gt;14 -->\n",
       "<g id=\"edge14\" class=\"edge\"><title>12&#45;&gt;14</title>\n",
       "<path fill=\"none\" stroke=\"black\" d=\"M621.389,-85.9375C622.031,-77.5916 622.729,-68.5226 623.383,-60.025\"/>\n",
       "<polygon fill=\"black\" stroke=\"black\" points=\"626.874,-60.2691 624.152,-50.0301 619.895,-59.7321 626.874,-60.2691\"/>\n",
       "</g>\n",
       "<!-- 16 -->\n",
       "<g id=\"node17\" class=\"node\"><title>16</title>\n",
       "<polygon fill=\"none\" stroke=\"black\" points=\"791.156,-50 700.844,-50 700.844,-0 791.156,-0 791.156,-50\"/>\n",
       "<text text-anchor=\"middle\" x=\"746\" y=\"-34.8\" font-family=\"Times,serif\" font-size=\"14.00\">gini = 0.2188</text>\n",
       "<text text-anchor=\"middle\" x=\"746\" y=\"-20.8\" font-family=\"Times,serif\" font-size=\"14.00\">samples = 8</text>\n",
       "<text text-anchor=\"middle\" x=\"746\" y=\"-6.8\" font-family=\"Times,serif\" font-size=\"14.00\">value = [1, 7]</text>\n",
       "</g>\n",
       "<!-- 15&#45;&gt;16 -->\n",
       "<g id=\"edge16\" class=\"edge\"><title>15&#45;&gt;16</title>\n",
       "<path fill=\"none\" stroke=\"black\" d=\"M750.611,-85.9375C749.969,-77.5916 749.271,-68.5226 748.617,-60.025\"/>\n",
       "<polygon fill=\"black\" stroke=\"black\" points=\"752.105,-59.7321 747.848,-50.0301 745.126,-60.2691 752.105,-59.7321\"/>\n",
       "</g>\n",
       "<!-- 17 -->\n",
       "<g id=\"node18\" class=\"node\"><title>17</title>\n",
       "<polygon fill=\"none\" stroke=\"black\" points=\"901.156,-50 810.844,-50 810.844,-0 901.156,-0 901.156,-50\"/>\n",
       "<text text-anchor=\"middle\" x=\"856\" y=\"-34.8\" font-family=\"Times,serif\" font-size=\"14.00\">gini = 0.0</text>\n",
       "<text text-anchor=\"middle\" x=\"856\" y=\"-20.8\" font-family=\"Times,serif\" font-size=\"14.00\">samples = 7</text>\n",
       "<text text-anchor=\"middle\" x=\"856\" y=\"-6.8\" font-family=\"Times,serif\" font-size=\"14.00\">value = [7, 0]</text>\n",
       "</g>\n",
       "<!-- 15&#45;&gt;17 -->\n",
       "<g id=\"edge17\" class=\"edge\"><title>15&#45;&gt;17</title>\n",
       "<path fill=\"none\" stroke=\"black\" d=\"M788.159,-85.9375C798.851,-76.491 810.591,-66.1182 821.256,-56.6961\"/>\n",
       "<polygon fill=\"black\" stroke=\"black\" points=\"823.624,-59.2741 828.801,-50.0301 818.99,-54.0282 823.624,-59.2741\"/>\n",
       "</g>\n",
       "<!-- 19 -->\n",
       "<g id=\"node20\" class=\"node\"><title>19</title>\n",
       "<polygon fill=\"none\" stroke=\"black\" points=\"1045.21,-150 942.785,-150 942.785,-86 1045.21,-86 1045.21,-150\"/>\n",
       "<text text-anchor=\"middle\" x=\"994\" y=\"-134.8\" font-family=\"Times,serif\" font-size=\"14.00\">Angles &lt;= 0.25</text>\n",
       "<text text-anchor=\"middle\" x=\"994\" y=\"-120.8\" font-family=\"Times,serif\" font-size=\"14.00\">gini = 0.1388</text>\n",
       "<text text-anchor=\"middle\" x=\"994\" y=\"-106.8\" font-family=\"Times,serif\" font-size=\"14.00\">samples = 40</text>\n",
       "<text text-anchor=\"middle\" x=\"994\" y=\"-92.8\" font-family=\"Times,serif\" font-size=\"14.00\">value = [3, 37]</text>\n",
       "</g>\n",
       "<!-- 18&#45;&gt;19 -->\n",
       "<g id=\"edge19\" class=\"edge\"><title>18&#45;&gt;19</title>\n",
       "<path fill=\"none\" stroke=\"black\" d=\"M994,-185.992C994,-177.859 994,-168.959 994,-160.378\"/>\n",
       "<polygon fill=\"black\" stroke=\"black\" points=\"997.5,-160.142 994,-150.142 990.5,-160.142 997.5,-160.142\"/>\n",
       "</g>\n",
       "<!-- 22 -->\n",
       "<g id=\"node23\" class=\"node\"><title>22</title>\n",
       "<polygon fill=\"none\" stroke=\"black\" points=\"1292.33,-150 1091.67,-150 1091.67,-86 1292.33,-86 1292.33,-150\"/>\n",
       "<text text-anchor=\"middle\" x=\"1192\" y=\"-134.8\" font-family=\"Times,serif\" font-size=\"14.00\">Two&#45;Dimensional Space &lt;= 0.45</text>\n",
       "<text text-anchor=\"middle\" x=\"1192\" y=\"-120.8\" font-family=\"Times,serif\" font-size=\"14.00\">gini = 0.0127</text>\n",
       "<text text-anchor=\"middle\" x=\"1192\" y=\"-106.8\" font-family=\"Times,serif\" font-size=\"14.00\">samples = 312</text>\n",
       "<text text-anchor=\"middle\" x=\"1192\" y=\"-92.8\" font-family=\"Times,serif\" font-size=\"14.00\">value = [2, 310]</text>\n",
       "</g>\n",
       "<!-- 18&#45;&gt;22 -->\n",
       "<g id=\"edge22\" class=\"edge\"><title>18&#45;&gt;22</title>\n",
       "<path fill=\"none\" stroke=\"black\" d=\"M1056.65,-185.992C1076.78,-176.027 1099.24,-164.91 1119.99,-154.64\"/>\n",
       "<polygon fill=\"black\" stroke=\"black\" points=\"1121.67,-157.715 1129.08,-150.142 1118.56,-151.442 1121.67,-157.715\"/>\n",
       "</g>\n",
       "<!-- 20 -->\n",
       "<g id=\"node21\" class=\"node\"><title>20</title>\n",
       "<polygon fill=\"none\" stroke=\"black\" points=\"1011.16,-50 920.844,-50 920.844,-0 1011.16,-0 1011.16,-50\"/>\n",
       "<text text-anchor=\"middle\" x=\"966\" y=\"-34.8\" font-family=\"Times,serif\" font-size=\"14.00\">gini = 0.0</text>\n",
       "<text text-anchor=\"middle\" x=\"966\" y=\"-20.8\" font-family=\"Times,serif\" font-size=\"14.00\">samples = 1</text>\n",
       "<text text-anchor=\"middle\" x=\"966\" y=\"-6.8\" font-family=\"Times,serif\" font-size=\"14.00\">value = [1, 0]</text>\n",
       "</g>\n",
       "<!-- 19&#45;&gt;20 -->\n",
       "<g id=\"edge20\" class=\"edge\"><title>19&#45;&gt;20</title>\n",
       "<path fill=\"none\" stroke=\"black\" d=\"M984.442,-85.9375C981.846,-77.4998 979.023,-68.3232 976.383,-59.7451\"/>\n",
       "<polygon fill=\"black\" stroke=\"black\" points=\"979.68,-58.5585 973.394,-50.0301 972.99,-60.6172 979.68,-58.5585\"/>\n",
       "</g>\n",
       "<!-- 21 -->\n",
       "<g id=\"node22\" class=\"node\"><title>21</title>\n",
       "<polygon fill=\"none\" stroke=\"black\" points=\"1127.9,-50 1030.1,-50 1030.1,-0 1127.9,-0 1127.9,-50\"/>\n",
       "<text text-anchor=\"middle\" x=\"1079\" y=\"-34.8\" font-family=\"Times,serif\" font-size=\"14.00\">gini = 0.0973</text>\n",
       "<text text-anchor=\"middle\" x=\"1079\" y=\"-20.8\" font-family=\"Times,serif\" font-size=\"14.00\">samples = 39</text>\n",
       "<text text-anchor=\"middle\" x=\"1079\" y=\"-6.8\" font-family=\"Times,serif\" font-size=\"14.00\">value = [2, 37]</text>\n",
       "</g>\n",
       "<!-- 19&#45;&gt;21 -->\n",
       "<g id=\"edge21\" class=\"edge\"><title>19&#45;&gt;21</title>\n",
       "<path fill=\"none\" stroke=\"black\" d=\"M1023.01,-85.9375C1031.58,-76.7661 1040.96,-66.7217 1049.56,-57.5217\"/>\n",
       "<polygon fill=\"black\" stroke=\"black\" points=\"1052.29,-59.7271 1056.55,-50.0301 1047.17,-54.9489 1052.29,-59.7271\"/>\n",
       "</g>\n",
       "<!-- 23 -->\n",
       "<g id=\"node24\" class=\"node\"><title>23</title>\n",
       "<polygon fill=\"none\" stroke=\"black\" points=\"1237.16,-50 1146.84,-50 1146.84,-0 1237.16,-0 1237.16,-50\"/>\n",
       "<text text-anchor=\"middle\" x=\"1192\" y=\"-34.8\" font-family=\"Times,serif\" font-size=\"14.00\">gini = 0.2188</text>\n",
       "<text text-anchor=\"middle\" x=\"1192\" y=\"-20.8\" font-family=\"Times,serif\" font-size=\"14.00\">samples = 8</text>\n",
       "<text text-anchor=\"middle\" x=\"1192\" y=\"-6.8\" font-family=\"Times,serif\" font-size=\"14.00\">value = [1, 7]</text>\n",
       "</g>\n",
       "<!-- 22&#45;&gt;23 -->\n",
       "<g id=\"edge23\" class=\"edge\"><title>22&#45;&gt;23</title>\n",
       "<path fill=\"none\" stroke=\"black\" d=\"M1192,-85.9375C1192,-77.6833 1192,-68.7219 1192,-60.3053\"/>\n",
       "<polygon fill=\"black\" stroke=\"black\" points=\"1195.5,-60.03 1192,-50.0301 1188.5,-60.0301 1195.5,-60.03\"/>\n",
       "</g>\n",
       "<!-- 24 -->\n",
       "<g id=\"node25\" class=\"node\"><title>24</title>\n",
       "<polygon fill=\"none\" stroke=\"black\" points=\"1361.16,-50 1256.84,-50 1256.84,-0 1361.16,-0 1361.16,-50\"/>\n",
       "<text text-anchor=\"middle\" x=\"1309\" y=\"-34.8\" font-family=\"Times,serif\" font-size=\"14.00\">gini = 0.0066</text>\n",
       "<text text-anchor=\"middle\" x=\"1309\" y=\"-20.8\" font-family=\"Times,serif\" font-size=\"14.00\">samples = 304</text>\n",
       "<text text-anchor=\"middle\" x=\"1309\" y=\"-6.8\" font-family=\"Times,serif\" font-size=\"14.00\">value = [1, 303]</text>\n",
       "</g>\n",
       "<!-- 22&#45;&gt;24 -->\n",
       "<g id=\"edge24\" class=\"edge\"><title>22&#45;&gt;24</title>\n",
       "<path fill=\"none\" stroke=\"black\" d=\"M1231.94,-85.9375C1244.2,-76.3993 1257.68,-65.9167 1269.89,-56.4219\"/>\n",
       "<polygon fill=\"black\" stroke=\"black\" points=\"1272.36,-58.9323 1278.1,-50.0301 1268.06,-53.4068 1272.36,-58.9323\"/>\n",
       "</g>\n",
       "</g>\n",
       "</svg>\n"
      ],
      "text/plain": [
       "<graphviz.files.Source at 0x10f5e8690>"
      ]
     },
     "execution_count": 25,
     "metadata": {},
     "output_type": "execute_result"
    }
   ],
   "source": [
    "%matplotlib inline\n",
    "import graphviz\n",
    "dot_data = sklearn.tree.export_graphviz(dtc, out_file=None,feature_names=X_train2.columns) \n",
    "graph = graphviz.Source(dot_data) \n",
    "graph"
   ]
  },
  {
   "cell_type": "code",
   "execution_count": 26,
   "metadata": {},
   "outputs": [
    {
     "name": "stdout",
     "output_type": "stream",
     "text": [
      "0.863004032258\n",
      "0.928143712575\n",
      "0.890804597701\n"
     ]
    }
   ],
   "source": [
    "y_pred = dtc.predict(X_test2)\n",
    "Y_pp = pd.DataFrame(dtc.predict_proba(X_test2), columns=['class_0_pp','class_1_pp'])\n",
    "from sklearn.metrics import roc_auc_score\n",
    "print roc_auc_score(y_test2, Y_pp.class_1_pp)\n",
    "from sklearn.metrics import f1_score\n",
    "print f1_score(y_test2, y_pred)\n",
    "from sklearn.metrics import precision_score\n",
    "print precision_score(y_test2, y_pred)"
   ]
  },
  {
   "cell_type": "code",
   "execution_count": 27,
   "metadata": {},
   "outputs": [
    {
     "data": {
      "text/plain": [
       "array([[ 12,  19],\n",
       "       [  5, 155]])"
      ]
     },
     "execution_count": 27,
     "metadata": {},
     "output_type": "execute_result"
    }
   ],
   "source": [
    "import sklearn.metrics \n",
    "sklearn.metrics.confusion_matrix(y_test2, y_pred)"
   ]
  },
  {
   "cell_type": "code",
   "execution_count": 28,
   "metadata": {
    "collapsed": true
   },
   "outputs": [],
   "source": [
    "tn, fp, fn, tp =sklearn.metrics.confusion_matrix(y_test2, \n",
    "                                                 y_pred).ravel()\n",
    "\n"
   ]
  },
  {
   "cell_type": "code",
   "execution_count": 29,
   "metadata": {
    "collapsed": true
   },
   "outputs": [],
   "source": [
    "Y_pp = pd.DataFrame(dtc.predict_proba(X_test2), columns=['class_0_pp','class_1_pp'])\n",
    "scores['dtc_syllabus'] = [dtc.score(X_test2, y_test2),\n",
    "                               roc_auc_score(y_test2, Y_pp.class_1_pp),\n",
    "                               f1_score(y_test2, y_pred),\n",
    "                               precision_score(y_test2, y_pred),\n",
    "                               tn, fp, fn, tp\n",
    "                              ]"
   ]
  },
  {
   "cell_type": "markdown",
   "metadata": {},
   "source": [
    "## random forest"
   ]
  },
  {
   "cell_type": "code",
   "execution_count": 151,
   "metadata": {},
   "outputs": [
    {
     "name": "stderr",
     "output_type": "stream",
     "text": [
      "/Users/shirleywang/anaconda/lib/python2.7/site-packages/ipykernel_launcher.py:4: DataConversionWarning: A column-vector y was passed when a 1d array was expected. Please change the shape of y to (n_samples,), for example using ravel().\n",
      "  after removing the cwd from sys.path.\n"
     ]
    },
    {
     "data": {
      "text/plain": [
       "0.86910994764397909"
      ]
     },
     "execution_count": 151,
     "metadata": {},
     "output_type": "execute_result"
    }
   ],
   "source": [
    "import sklearn.ensemble\n",
    "\n",
    "rf = sklearn.ensemble.RandomForestClassifier() \n",
    "rf.fit(X_train2, y_train2) \n",
    "y_pred = rf.predict(X_test2)\n",
    "rf.score(X_test2, y_test2)"
   ]
  },
  {
   "cell_type": "code",
   "execution_count": 152,
   "metadata": {},
   "outputs": [
    {
     "name": "stdout",
     "output_type": "stream",
     "text": [
      "0.726814516129\n",
      "0.923076923077\n",
      "0.949473465017\n"
     ]
    }
   ],
   "source": [
    "y_pred = rf.predict(X_test2)\n",
    "from sklearn.metrics import roc_auc_score\n",
    "print roc_auc_score(y_test2, y_pred)\n",
    "from sklearn.metrics import f1_score\n",
    "print f1_score(y_test2, y_pred)\n",
    "from sklearn.metrics import average_precision_score\n",
    "print average_precision_score(y_test2, y_pred)"
   ]
  },
  {
   "cell_type": "code",
   "execution_count": 153,
   "metadata": {},
   "outputs": [
    {
     "data": {
      "text/plain": [
       "array([[ 16,  15],\n",
       "       [ 10, 150]])"
      ]
     },
     "execution_count": 153,
     "metadata": {},
     "output_type": "execute_result"
    }
   ],
   "source": [
    "import sklearn.metrics \n",
    "sklearn.metrics.confusion_matrix(y_test2, y_pred)"
   ]
  },
  {
   "cell_type": "markdown",
   "metadata": {},
   "source": [
    "### Find the best Parameter for rf\n"
   ]
  },
  {
   "cell_type": "code",
   "execution_count": 154,
   "metadata": {
    "collapsed": true
   },
   "outputs": [
    {
     "ename": "KeyboardInterrupt",
     "evalue": "",
     "output_type": "error",
     "traceback": [
      "\u001b[0;31m---------------------------------------------------------------------------\u001b[0m",
      "\u001b[0;31mKeyboardInterrupt\u001b[0m                         Traceback (most recent call last)",
      "\u001b[0;32m<ipython-input-154-7341248962df>\u001b[0m in \u001b[0;36m<module>\u001b[0;34m()\u001b[0m\n\u001b[1;32m      9\u001b[0m     \u001b[0mcv\u001b[0m\u001b[0;34m=\u001b[0m\u001b[0;36m6\u001b[0m\u001b[0;34m\u001b[0m\u001b[0m\n\u001b[1;32m     10\u001b[0m )\n\u001b[0;32m---> 11\u001b[0;31m \u001b[0mgrid3\u001b[0m\u001b[0;34m.\u001b[0m\u001b[0mfit\u001b[0m\u001b[0;34m(\u001b[0m\u001b[0mX_train2\u001b[0m\u001b[0;34m,\u001b[0m\u001b[0my_train2\u001b[0m\u001b[0;34m[\u001b[0m\u001b[0;34m'Band Year 9: Numeracy'\u001b[0m\u001b[0;34m]\u001b[0m\u001b[0;34m)\u001b[0m\u001b[0;34m\u001b[0m\u001b[0m\n\u001b[0m\u001b[1;32m     12\u001b[0m \u001b[0;32mprint\u001b[0m \u001b[0mgrid3\u001b[0m\u001b[0;34m.\u001b[0m\u001b[0mbest_score_\u001b[0m\u001b[0;34m\u001b[0m\u001b[0m\n\u001b[1;32m     13\u001b[0m \u001b[0;32mprint\u001b[0m \u001b[0mgrid3\u001b[0m\u001b[0;34m.\u001b[0m\u001b[0mbest_params_\u001b[0m\u001b[0;34m\u001b[0m\u001b[0m\n",
      "\u001b[0;32m/Users/shirleywang/anaconda/lib/python2.7/site-packages/sklearn/model_selection/_search.pyc\u001b[0m in \u001b[0;36mfit\u001b[0;34m(self, X, y, groups)\u001b[0m\n\u001b[1;32m    943\u001b[0m             \u001b[0mtrain\u001b[0m\u001b[0;34m/\u001b[0m\u001b[0mtest\u001b[0m \u001b[0mset\u001b[0m\u001b[0;34m.\u001b[0m\u001b[0;34m\u001b[0m\u001b[0m\n\u001b[1;32m    944\u001b[0m         \"\"\"\n\u001b[0;32m--> 945\u001b[0;31m         \u001b[0;32mreturn\u001b[0m \u001b[0mself\u001b[0m\u001b[0;34m.\u001b[0m\u001b[0m_fit\u001b[0m\u001b[0;34m(\u001b[0m\u001b[0mX\u001b[0m\u001b[0;34m,\u001b[0m \u001b[0my\u001b[0m\u001b[0;34m,\u001b[0m \u001b[0mgroups\u001b[0m\u001b[0;34m,\u001b[0m \u001b[0mParameterGrid\u001b[0m\u001b[0;34m(\u001b[0m\u001b[0mself\u001b[0m\u001b[0;34m.\u001b[0m\u001b[0mparam_grid\u001b[0m\u001b[0;34m)\u001b[0m\u001b[0;34m)\u001b[0m\u001b[0;34m\u001b[0m\u001b[0m\n\u001b[0m\u001b[1;32m    946\u001b[0m \u001b[0;34m\u001b[0m\u001b[0m\n\u001b[1;32m    947\u001b[0m \u001b[0;34m\u001b[0m\u001b[0m\n",
      "\u001b[0;32m/Users/shirleywang/anaconda/lib/python2.7/site-packages/sklearn/model_selection/_search.pyc\u001b[0m in \u001b[0;36m_fit\u001b[0;34m(self, X, y, groups, parameter_iterable)\u001b[0m\n\u001b[1;32m    562\u001b[0m                                   \u001b[0mreturn_times\u001b[0m\u001b[0;34m=\u001b[0m\u001b[0mTrue\u001b[0m\u001b[0;34m,\u001b[0m \u001b[0mreturn_parameters\u001b[0m\u001b[0;34m=\u001b[0m\u001b[0mTrue\u001b[0m\u001b[0;34m,\u001b[0m\u001b[0;34m\u001b[0m\u001b[0m\n\u001b[1;32m    563\u001b[0m                                   error_score=self.error_score)\n\u001b[0;32m--> 564\u001b[0;31m           \u001b[0;32mfor\u001b[0m \u001b[0mparameters\u001b[0m \u001b[0;32min\u001b[0m \u001b[0mparameter_iterable\u001b[0m\u001b[0;34m\u001b[0m\u001b[0m\n\u001b[0m\u001b[1;32m    565\u001b[0m           for train, test in cv_iter)\n\u001b[1;32m    566\u001b[0m \u001b[0;34m\u001b[0m\u001b[0m\n",
      "\u001b[0;32m/Users/shirleywang/anaconda/lib/python2.7/site-packages/sklearn/externals/joblib/parallel.pyc\u001b[0m in \u001b[0;36m__call__\u001b[0;34m(self, iterable)\u001b[0m\n\u001b[1;32m    756\u001b[0m             \u001b[0;31m# was dispatched. In particular this covers the edge\u001b[0m\u001b[0;34m\u001b[0m\u001b[0;34m\u001b[0m\u001b[0m\n\u001b[1;32m    757\u001b[0m             \u001b[0;31m# case of Parallel used with an exhausted iterator.\u001b[0m\u001b[0;34m\u001b[0m\u001b[0;34m\u001b[0m\u001b[0m\n\u001b[0;32m--> 758\u001b[0;31m             \u001b[0;32mwhile\u001b[0m \u001b[0mself\u001b[0m\u001b[0;34m.\u001b[0m\u001b[0mdispatch_one_batch\u001b[0m\u001b[0;34m(\u001b[0m\u001b[0miterator\u001b[0m\u001b[0;34m)\u001b[0m\u001b[0;34m:\u001b[0m\u001b[0;34m\u001b[0m\u001b[0m\n\u001b[0m\u001b[1;32m    759\u001b[0m                 \u001b[0mself\u001b[0m\u001b[0;34m.\u001b[0m\u001b[0m_iterating\u001b[0m \u001b[0;34m=\u001b[0m \u001b[0mTrue\u001b[0m\u001b[0;34m\u001b[0m\u001b[0m\n\u001b[1;32m    760\u001b[0m             \u001b[0;32melse\u001b[0m\u001b[0;34m:\u001b[0m\u001b[0;34m\u001b[0m\u001b[0m\n",
      "\u001b[0;32m/Users/shirleywang/anaconda/lib/python2.7/site-packages/sklearn/externals/joblib/parallel.pyc\u001b[0m in \u001b[0;36mdispatch_one_batch\u001b[0;34m(self, iterator)\u001b[0m\n\u001b[1;32m    606\u001b[0m                 \u001b[0;32mreturn\u001b[0m \u001b[0mFalse\u001b[0m\u001b[0;34m\u001b[0m\u001b[0m\n\u001b[1;32m    607\u001b[0m             \u001b[0;32melse\u001b[0m\u001b[0;34m:\u001b[0m\u001b[0;34m\u001b[0m\u001b[0m\n\u001b[0;32m--> 608\u001b[0;31m                 \u001b[0mself\u001b[0m\u001b[0;34m.\u001b[0m\u001b[0m_dispatch\u001b[0m\u001b[0;34m(\u001b[0m\u001b[0mtasks\u001b[0m\u001b[0;34m)\u001b[0m\u001b[0;34m\u001b[0m\u001b[0m\n\u001b[0m\u001b[1;32m    609\u001b[0m                 \u001b[0;32mreturn\u001b[0m \u001b[0mTrue\u001b[0m\u001b[0;34m\u001b[0m\u001b[0m\n\u001b[1;32m    610\u001b[0m \u001b[0;34m\u001b[0m\u001b[0m\n",
      "\u001b[0;32m/Users/shirleywang/anaconda/lib/python2.7/site-packages/sklearn/externals/joblib/parallel.pyc\u001b[0m in \u001b[0;36m_dispatch\u001b[0;34m(self, batch)\u001b[0m\n\u001b[1;32m    569\u001b[0m         \u001b[0mdispatch_timestamp\u001b[0m \u001b[0;34m=\u001b[0m \u001b[0mtime\u001b[0m\u001b[0;34m.\u001b[0m\u001b[0mtime\u001b[0m\u001b[0;34m(\u001b[0m\u001b[0;34m)\u001b[0m\u001b[0;34m\u001b[0m\u001b[0m\n\u001b[1;32m    570\u001b[0m         \u001b[0mcb\u001b[0m \u001b[0;34m=\u001b[0m \u001b[0mBatchCompletionCallBack\u001b[0m\u001b[0;34m(\u001b[0m\u001b[0mdispatch_timestamp\u001b[0m\u001b[0;34m,\u001b[0m \u001b[0mlen\u001b[0m\u001b[0;34m(\u001b[0m\u001b[0mbatch\u001b[0m\u001b[0;34m)\u001b[0m\u001b[0;34m,\u001b[0m \u001b[0mself\u001b[0m\u001b[0;34m)\u001b[0m\u001b[0;34m\u001b[0m\u001b[0m\n\u001b[0;32m--> 571\u001b[0;31m         \u001b[0mjob\u001b[0m \u001b[0;34m=\u001b[0m \u001b[0mself\u001b[0m\u001b[0;34m.\u001b[0m\u001b[0m_backend\u001b[0m\u001b[0;34m.\u001b[0m\u001b[0mapply_async\u001b[0m\u001b[0;34m(\u001b[0m\u001b[0mbatch\u001b[0m\u001b[0;34m,\u001b[0m \u001b[0mcallback\u001b[0m\u001b[0;34m=\u001b[0m\u001b[0mcb\u001b[0m\u001b[0;34m)\u001b[0m\u001b[0;34m\u001b[0m\u001b[0m\n\u001b[0m\u001b[1;32m    572\u001b[0m         \u001b[0mself\u001b[0m\u001b[0;34m.\u001b[0m\u001b[0m_jobs\u001b[0m\u001b[0;34m.\u001b[0m\u001b[0mappend\u001b[0m\u001b[0;34m(\u001b[0m\u001b[0mjob\u001b[0m\u001b[0;34m)\u001b[0m\u001b[0;34m\u001b[0m\u001b[0m\n\u001b[1;32m    573\u001b[0m \u001b[0;34m\u001b[0m\u001b[0m\n",
      "\u001b[0;32m/Users/shirleywang/anaconda/lib/python2.7/site-packages/sklearn/externals/joblib/_parallel_backends.pyc\u001b[0m in \u001b[0;36mapply_async\u001b[0;34m(self, func, callback)\u001b[0m\n\u001b[1;32m    107\u001b[0m     \u001b[0;32mdef\u001b[0m \u001b[0mapply_async\u001b[0m\u001b[0;34m(\u001b[0m\u001b[0mself\u001b[0m\u001b[0;34m,\u001b[0m \u001b[0mfunc\u001b[0m\u001b[0;34m,\u001b[0m \u001b[0mcallback\u001b[0m\u001b[0;34m=\u001b[0m\u001b[0mNone\u001b[0m\u001b[0;34m)\u001b[0m\u001b[0;34m:\u001b[0m\u001b[0;34m\u001b[0m\u001b[0m\n\u001b[1;32m    108\u001b[0m         \u001b[0;34m\"\"\"Schedule a func to be run\"\"\"\u001b[0m\u001b[0;34m\u001b[0m\u001b[0m\n\u001b[0;32m--> 109\u001b[0;31m         \u001b[0mresult\u001b[0m \u001b[0;34m=\u001b[0m \u001b[0mImmediateResult\u001b[0m\u001b[0;34m(\u001b[0m\u001b[0mfunc\u001b[0m\u001b[0;34m)\u001b[0m\u001b[0;34m\u001b[0m\u001b[0m\n\u001b[0m\u001b[1;32m    110\u001b[0m         \u001b[0;32mif\u001b[0m \u001b[0mcallback\u001b[0m\u001b[0;34m:\u001b[0m\u001b[0;34m\u001b[0m\u001b[0m\n\u001b[1;32m    111\u001b[0m             \u001b[0mcallback\u001b[0m\u001b[0;34m(\u001b[0m\u001b[0mresult\u001b[0m\u001b[0;34m)\u001b[0m\u001b[0;34m\u001b[0m\u001b[0m\n",
      "\u001b[0;32m/Users/shirleywang/anaconda/lib/python2.7/site-packages/sklearn/externals/joblib/_parallel_backends.pyc\u001b[0m in \u001b[0;36m__init__\u001b[0;34m(self, batch)\u001b[0m\n\u001b[1;32m    324\u001b[0m         \u001b[0;31m# Don't delay the application, to avoid keeping the input\u001b[0m\u001b[0;34m\u001b[0m\u001b[0;34m\u001b[0m\u001b[0m\n\u001b[1;32m    325\u001b[0m         \u001b[0;31m# arguments in memory\u001b[0m\u001b[0;34m\u001b[0m\u001b[0;34m\u001b[0m\u001b[0m\n\u001b[0;32m--> 326\u001b[0;31m         \u001b[0mself\u001b[0m\u001b[0;34m.\u001b[0m\u001b[0mresults\u001b[0m \u001b[0;34m=\u001b[0m \u001b[0mbatch\u001b[0m\u001b[0;34m(\u001b[0m\u001b[0;34m)\u001b[0m\u001b[0;34m\u001b[0m\u001b[0m\n\u001b[0m\u001b[1;32m    327\u001b[0m \u001b[0;34m\u001b[0m\u001b[0m\n\u001b[1;32m    328\u001b[0m     \u001b[0;32mdef\u001b[0m \u001b[0mget\u001b[0m\u001b[0;34m(\u001b[0m\u001b[0mself\u001b[0m\u001b[0;34m)\u001b[0m\u001b[0;34m:\u001b[0m\u001b[0;34m\u001b[0m\u001b[0m\n",
      "\u001b[0;32m/Users/shirleywang/anaconda/lib/python2.7/site-packages/sklearn/externals/joblib/parallel.pyc\u001b[0m in \u001b[0;36m__call__\u001b[0;34m(self)\u001b[0m\n\u001b[1;32m    129\u001b[0m \u001b[0;34m\u001b[0m\u001b[0m\n\u001b[1;32m    130\u001b[0m     \u001b[0;32mdef\u001b[0m \u001b[0m__call__\u001b[0m\u001b[0;34m(\u001b[0m\u001b[0mself\u001b[0m\u001b[0;34m)\u001b[0m\u001b[0;34m:\u001b[0m\u001b[0;34m\u001b[0m\u001b[0m\n\u001b[0;32m--> 131\u001b[0;31m         \u001b[0;32mreturn\u001b[0m \u001b[0;34m[\u001b[0m\u001b[0mfunc\u001b[0m\u001b[0;34m(\u001b[0m\u001b[0;34m*\u001b[0m\u001b[0margs\u001b[0m\u001b[0;34m,\u001b[0m \u001b[0;34m**\u001b[0m\u001b[0mkwargs\u001b[0m\u001b[0;34m)\u001b[0m \u001b[0;32mfor\u001b[0m \u001b[0mfunc\u001b[0m\u001b[0;34m,\u001b[0m \u001b[0margs\u001b[0m\u001b[0;34m,\u001b[0m \u001b[0mkwargs\u001b[0m \u001b[0;32min\u001b[0m \u001b[0mself\u001b[0m\u001b[0;34m.\u001b[0m\u001b[0mitems\u001b[0m\u001b[0;34m]\u001b[0m\u001b[0;34m\u001b[0m\u001b[0m\n\u001b[0m\u001b[1;32m    132\u001b[0m \u001b[0;34m\u001b[0m\u001b[0m\n\u001b[1;32m    133\u001b[0m     \u001b[0;32mdef\u001b[0m \u001b[0m__len__\u001b[0m\u001b[0;34m(\u001b[0m\u001b[0mself\u001b[0m\u001b[0;34m)\u001b[0m\u001b[0;34m:\u001b[0m\u001b[0;34m\u001b[0m\u001b[0m\n",
      "\u001b[0;32m/Users/shirleywang/anaconda/lib/python2.7/site-packages/sklearn/model_selection/_validation.pyc\u001b[0m in \u001b[0;36m_fit_and_score\u001b[0;34m(estimator, X, y, scorer, train, test, verbose, parameters, fit_params, return_train_score, return_parameters, return_n_test_samples, return_times, error_score)\u001b[0m\n\u001b[1;32m    258\u001b[0m     \u001b[0;32melse\u001b[0m\u001b[0;34m:\u001b[0m\u001b[0;34m\u001b[0m\u001b[0m\n\u001b[1;32m    259\u001b[0m         \u001b[0mfit_time\u001b[0m \u001b[0;34m=\u001b[0m \u001b[0mtime\u001b[0m\u001b[0;34m.\u001b[0m\u001b[0mtime\u001b[0m\u001b[0;34m(\u001b[0m\u001b[0;34m)\u001b[0m \u001b[0;34m-\u001b[0m \u001b[0mstart_time\u001b[0m\u001b[0;34m\u001b[0m\u001b[0m\n\u001b[0;32m--> 260\u001b[0;31m         \u001b[0mtest_score\u001b[0m \u001b[0;34m=\u001b[0m \u001b[0m_score\u001b[0m\u001b[0;34m(\u001b[0m\u001b[0mestimator\u001b[0m\u001b[0;34m,\u001b[0m \u001b[0mX_test\u001b[0m\u001b[0;34m,\u001b[0m \u001b[0my_test\u001b[0m\u001b[0;34m,\u001b[0m \u001b[0mscorer\u001b[0m\u001b[0;34m)\u001b[0m\u001b[0;34m\u001b[0m\u001b[0m\n\u001b[0m\u001b[1;32m    261\u001b[0m         \u001b[0mscore_time\u001b[0m \u001b[0;34m=\u001b[0m \u001b[0mtime\u001b[0m\u001b[0;34m.\u001b[0m\u001b[0mtime\u001b[0m\u001b[0;34m(\u001b[0m\u001b[0;34m)\u001b[0m \u001b[0;34m-\u001b[0m \u001b[0mstart_time\u001b[0m \u001b[0;34m-\u001b[0m \u001b[0mfit_time\u001b[0m\u001b[0;34m\u001b[0m\u001b[0m\n\u001b[1;32m    262\u001b[0m         \u001b[0;32mif\u001b[0m \u001b[0mreturn_train_score\u001b[0m\u001b[0;34m:\u001b[0m\u001b[0;34m\u001b[0m\u001b[0m\n",
      "\u001b[0;32m/Users/shirleywang/anaconda/lib/python2.7/site-packages/sklearn/model_selection/_validation.pyc\u001b[0m in \u001b[0;36m_score\u001b[0;34m(estimator, X_test, y_test, scorer)\u001b[0m\n\u001b[1;32m    286\u001b[0m         \u001b[0mscore\u001b[0m \u001b[0;34m=\u001b[0m \u001b[0mscorer\u001b[0m\u001b[0;34m(\u001b[0m\u001b[0mestimator\u001b[0m\u001b[0;34m,\u001b[0m \u001b[0mX_test\u001b[0m\u001b[0;34m)\u001b[0m\u001b[0;34m\u001b[0m\u001b[0m\n\u001b[1;32m    287\u001b[0m     \u001b[0;32melse\u001b[0m\u001b[0;34m:\u001b[0m\u001b[0;34m\u001b[0m\u001b[0m\n\u001b[0;32m--> 288\u001b[0;31m         \u001b[0mscore\u001b[0m \u001b[0;34m=\u001b[0m \u001b[0mscorer\u001b[0m\u001b[0;34m(\u001b[0m\u001b[0mestimator\u001b[0m\u001b[0;34m,\u001b[0m \u001b[0mX_test\u001b[0m\u001b[0;34m,\u001b[0m \u001b[0my_test\u001b[0m\u001b[0;34m)\u001b[0m\u001b[0;34m\u001b[0m\u001b[0m\n\u001b[0m\u001b[1;32m    289\u001b[0m     \u001b[0;32mif\u001b[0m \u001b[0mhasattr\u001b[0m\u001b[0;34m(\u001b[0m\u001b[0mscore\u001b[0m\u001b[0;34m,\u001b[0m \u001b[0;34m'item'\u001b[0m\u001b[0;34m)\u001b[0m\u001b[0;34m:\u001b[0m\u001b[0;34m\u001b[0m\u001b[0m\n\u001b[1;32m    290\u001b[0m         \u001b[0;32mtry\u001b[0m\u001b[0;34m:\u001b[0m\u001b[0;34m\u001b[0m\u001b[0m\n",
      "\u001b[0;32m/Users/shirleywang/anaconda/lib/python2.7/site-packages/sklearn/metrics/scorer.pyc\u001b[0m in \u001b[0;36m_passthrough_scorer\u001b[0;34m(estimator, *args, **kwargs)\u001b[0m\n\u001b[1;32m    217\u001b[0m \u001b[0;32mdef\u001b[0m \u001b[0m_passthrough_scorer\u001b[0m\u001b[0;34m(\u001b[0m\u001b[0mestimator\u001b[0m\u001b[0;34m,\u001b[0m \u001b[0;34m*\u001b[0m\u001b[0margs\u001b[0m\u001b[0;34m,\u001b[0m \u001b[0;34m**\u001b[0m\u001b[0mkwargs\u001b[0m\u001b[0;34m)\u001b[0m\u001b[0;34m:\u001b[0m\u001b[0;34m\u001b[0m\u001b[0m\n\u001b[1;32m    218\u001b[0m     \u001b[0;34m\"\"\"Function that wraps estimator.score\"\"\"\u001b[0m\u001b[0;34m\u001b[0m\u001b[0m\n\u001b[0;32m--> 219\u001b[0;31m     \u001b[0;32mreturn\u001b[0m \u001b[0mestimator\u001b[0m\u001b[0;34m.\u001b[0m\u001b[0mscore\u001b[0m\u001b[0;34m(\u001b[0m\u001b[0;34m*\u001b[0m\u001b[0margs\u001b[0m\u001b[0;34m,\u001b[0m \u001b[0;34m**\u001b[0m\u001b[0mkwargs\u001b[0m\u001b[0;34m)\u001b[0m\u001b[0;34m\u001b[0m\u001b[0m\n\u001b[0m\u001b[1;32m    220\u001b[0m \u001b[0;34m\u001b[0m\u001b[0m\n\u001b[1;32m    221\u001b[0m \u001b[0;34m\u001b[0m\u001b[0m\n",
      "\u001b[0;32m/Users/shirleywang/anaconda/lib/python2.7/site-packages/sklearn/base.pyc\u001b[0m in \u001b[0;36mscore\u001b[0;34m(self, X, y, sample_weight)\u001b[0m\n\u001b[1;32m    347\u001b[0m         \"\"\"\n\u001b[1;32m    348\u001b[0m         \u001b[0;32mfrom\u001b[0m \u001b[0;34m.\u001b[0m\u001b[0mmetrics\u001b[0m \u001b[0;32mimport\u001b[0m \u001b[0maccuracy_score\u001b[0m\u001b[0;34m\u001b[0m\u001b[0m\n\u001b[0;32m--> 349\u001b[0;31m         \u001b[0;32mreturn\u001b[0m \u001b[0maccuracy_score\u001b[0m\u001b[0;34m(\u001b[0m\u001b[0my\u001b[0m\u001b[0;34m,\u001b[0m \u001b[0mself\u001b[0m\u001b[0;34m.\u001b[0m\u001b[0mpredict\u001b[0m\u001b[0;34m(\u001b[0m\u001b[0mX\u001b[0m\u001b[0;34m)\u001b[0m\u001b[0;34m,\u001b[0m \u001b[0msample_weight\u001b[0m\u001b[0;34m=\u001b[0m\u001b[0msample_weight\u001b[0m\u001b[0;34m)\u001b[0m\u001b[0;34m\u001b[0m\u001b[0m\n\u001b[0m\u001b[1;32m    350\u001b[0m \u001b[0;34m\u001b[0m\u001b[0m\n\u001b[1;32m    351\u001b[0m \u001b[0;34m\u001b[0m\u001b[0m\n",
      "\u001b[0;32m/Users/shirleywang/anaconda/lib/python2.7/site-packages/sklearn/ensemble/forest.pyc\u001b[0m in \u001b[0;36mpredict\u001b[0;34m(self, X)\u001b[0m\n\u001b[1;32m    532\u001b[0m             \u001b[0mThe\u001b[0m \u001b[0mpredicted\u001b[0m \u001b[0mclasses\u001b[0m\u001b[0;34m.\u001b[0m\u001b[0;34m\u001b[0m\u001b[0m\n\u001b[1;32m    533\u001b[0m         \"\"\"\n\u001b[0;32m--> 534\u001b[0;31m         \u001b[0mproba\u001b[0m \u001b[0;34m=\u001b[0m \u001b[0mself\u001b[0m\u001b[0;34m.\u001b[0m\u001b[0mpredict_proba\u001b[0m\u001b[0;34m(\u001b[0m\u001b[0mX\u001b[0m\u001b[0;34m)\u001b[0m\u001b[0;34m\u001b[0m\u001b[0m\n\u001b[0m\u001b[1;32m    535\u001b[0m \u001b[0;34m\u001b[0m\u001b[0m\n\u001b[1;32m    536\u001b[0m         \u001b[0;32mif\u001b[0m \u001b[0mself\u001b[0m\u001b[0;34m.\u001b[0m\u001b[0mn_outputs_\u001b[0m \u001b[0;34m==\u001b[0m \u001b[0;36m1\u001b[0m\u001b[0;34m:\u001b[0m\u001b[0;34m\u001b[0m\u001b[0m\n",
      "\u001b[0;32m/Users/shirleywang/anaconda/lib/python2.7/site-packages/sklearn/ensemble/forest.pyc\u001b[0m in \u001b[0;36mpredict_proba\u001b[0;34m(self, X)\u001b[0m\n\u001b[1;32m    581\u001b[0m             delayed(parallel_helper)(e, 'predict_proba', X,\n\u001b[1;32m    582\u001b[0m                                       check_input=False)\n\u001b[0;32m--> 583\u001b[0;31m             for e in self.estimators_)\n\u001b[0m\u001b[1;32m    584\u001b[0m \u001b[0;34m\u001b[0m\u001b[0m\n\u001b[1;32m    585\u001b[0m         \u001b[0;31m# Reduce\u001b[0m\u001b[0;34m\u001b[0m\u001b[0;34m\u001b[0m\u001b[0m\n",
      "\u001b[0;32m/Users/shirleywang/anaconda/lib/python2.7/site-packages/sklearn/externals/joblib/parallel.pyc\u001b[0m in \u001b[0;36m__call__\u001b[0;34m(self, iterable)\u001b[0m\n\u001b[1;32m    766\u001b[0m                 \u001b[0;31m# consumption.\u001b[0m\u001b[0;34m\u001b[0m\u001b[0;34m\u001b[0m\u001b[0m\n\u001b[1;32m    767\u001b[0m                 \u001b[0mself\u001b[0m\u001b[0;34m.\u001b[0m\u001b[0m_iterating\u001b[0m \u001b[0;34m=\u001b[0m \u001b[0mFalse\u001b[0m\u001b[0;34m\u001b[0m\u001b[0m\n\u001b[0;32m--> 768\u001b[0;31m             \u001b[0mself\u001b[0m\u001b[0;34m.\u001b[0m\u001b[0mretrieve\u001b[0m\u001b[0;34m(\u001b[0m\u001b[0;34m)\u001b[0m\u001b[0;34m\u001b[0m\u001b[0m\n\u001b[0m\u001b[1;32m    769\u001b[0m             \u001b[0;31m# Make sure that we get a last message telling us we are done\u001b[0m\u001b[0;34m\u001b[0m\u001b[0;34m\u001b[0m\u001b[0m\n\u001b[1;32m    770\u001b[0m             \u001b[0melapsed_time\u001b[0m \u001b[0;34m=\u001b[0m \u001b[0mtime\u001b[0m\u001b[0;34m.\u001b[0m\u001b[0mtime\u001b[0m\u001b[0;34m(\u001b[0m\u001b[0;34m)\u001b[0m \u001b[0;34m-\u001b[0m \u001b[0mself\u001b[0m\u001b[0;34m.\u001b[0m\u001b[0m_start_time\u001b[0m\u001b[0;34m\u001b[0m\u001b[0m\n",
      "\u001b[0;32m/Users/shirleywang/anaconda/lib/python2.7/site-packages/sklearn/externals/joblib/parallel.pyc\u001b[0m in \u001b[0;36mretrieve\u001b[0;34m(self)\u001b[0m\n\u001b[1;32m    717\u001b[0m                     \u001b[0mensure_ready\u001b[0m \u001b[0;34m=\u001b[0m \u001b[0mself\u001b[0m\u001b[0;34m.\u001b[0m\u001b[0m_managed_backend\u001b[0m\u001b[0;34m\u001b[0m\u001b[0m\n\u001b[1;32m    718\u001b[0m                     \u001b[0mbackend\u001b[0m\u001b[0;34m.\u001b[0m\u001b[0mabort_everything\u001b[0m\u001b[0;34m(\u001b[0m\u001b[0mensure_ready\u001b[0m\u001b[0;34m=\u001b[0m\u001b[0mensure_ready\u001b[0m\u001b[0;34m)\u001b[0m\u001b[0;34m\u001b[0m\u001b[0m\n\u001b[0;32m--> 719\u001b[0;31m                 \u001b[0;32mraise\u001b[0m \u001b[0mexception\u001b[0m\u001b[0;34m\u001b[0m\u001b[0m\n\u001b[0m\u001b[1;32m    720\u001b[0m \u001b[0;34m\u001b[0m\u001b[0m\n\u001b[1;32m    721\u001b[0m     \u001b[0;32mdef\u001b[0m \u001b[0m__call__\u001b[0m\u001b[0;34m(\u001b[0m\u001b[0mself\u001b[0m\u001b[0;34m,\u001b[0m \u001b[0miterable\u001b[0m\u001b[0;34m)\u001b[0m\u001b[0;34m:\u001b[0m\u001b[0;34m\u001b[0m\u001b[0m\n",
      "\u001b[0;31mKeyboardInterrupt\u001b[0m: "
     ]
    }
   ],
   "source": [
    "import sklearn.ensemble\n",
    "grid3 = sklearn.model_selection.GridSearchCV(\n",
    "    sklearn.ensemble.RandomForestClassifier(),\n",
    "    param_grid = {'max_depth': [1,2,3,4,5,6], \n",
    "                  'criterion': ['gini', 'entropy'],\n",
    "                  'min_samples_leaf': [1,2,3,4,5],\n",
    "                  'min_samples_split': [2,3,4,5,6]\n",
    "                 },\n",
    "    cv=6    \n",
    ")\n",
    "grid3.fit(X_train2,y_train2['Band Year 9: Numeracy'])\n",
    "print grid3.best_score_\n",
    "print grid3.best_params_"
   ]
  },
  {
   "cell_type": "code",
   "execution_count": 481,
   "metadata": {},
   "outputs": [
    {
     "data": {
      "text/plain": [
       "0.90340909090909094"
      ]
     },
     "execution_count": 481,
     "metadata": {},
     "output_type": "execute_result"
    }
   ],
   "source": [
    "best_rf = grid3.best_estimator_\n",
    "# predict and score\n",
    "y_pred = best_rf.predict(X_test2)\n",
    "best_rf.score(X_test2, y_test2)"
   ]
  },
  {
   "cell_type": "code",
   "execution_count": 482,
   "metadata": {},
   "outputs": [
    {
     "name": "stdout",
     "output_type": "stream",
     "text": [
      "0.819444444444\n",
      "0.941580756014\n",
      "0.961567202639\n"
     ]
    }
   ],
   "source": [
    "from sklearn.metrics import roc_auc_score\n",
    "print roc_auc_score(y_test2, y_pred)\n",
    "from sklearn.metrics import f1_score\n",
    "print f1_score(y_test2, y_pred)\n",
    "from sklearn.metrics import average_precision_score\n",
    "print average_precision_score(y_test2, y_pred)"
   ]
  },
  {
   "cell_type": "code",
   "execution_count": 483,
   "metadata": {},
   "outputs": [
    {
     "data": {
      "text/plain": [
       "array([[ 22,  10],\n",
       "       [  7, 137]])"
      ]
     },
     "execution_count": 483,
     "metadata": {},
     "output_type": "execute_result"
    }
   ],
   "source": [
    "import sklearn.metrics \n",
    "sklearn.metrics.confusion_matrix(y_test2, y_pred)"
   ]
  },
  {
   "cell_type": "code",
   "execution_count": 484,
   "metadata": {
    "scrolled": true
   },
   "outputs": [
    {
     "data": {
      "image/svg+xml": [
       "<?xml version=\"1.0\" encoding=\"UTF-8\" standalone=\"no\"?>\n",
       "<!DOCTYPE svg PUBLIC \"-//W3C//DTD SVG 1.1//EN\"\n",
       " \"http://www.w3.org/Graphics/SVG/1.1/DTD/svg11.dtd\">\n",
       "<!-- Generated by graphviz version 2.36.0 (20140111.2315)\n",
       " -->\n",
       "<!-- Title: Tree Pages: 1 -->\n",
       "<svg width=\"2402pt\" height=\"558pt\"\n",
       " viewBox=\"0.00 0.00 2402.00 558.00\" xmlns=\"http://www.w3.org/2000/svg\" xmlns:xlink=\"http://www.w3.org/1999/xlink\">\n",
       "<g id=\"graph0\" class=\"graph\" transform=\"scale(1 1) rotate(0) translate(4 554)\">\n",
       "<title>Tree</title>\n",
       "<polygon fill=\"white\" stroke=\"none\" points=\"-4,4 -4,-554 2398,-554 2398,4 -4,4\"/>\n",
       "<!-- 0 -->\n",
       "<g id=\"node1\" class=\"node\"><title>0</title>\n",
       "<polygon fill=\"none\" stroke=\"black\" points=\"1342.13,-550 1109.87,-550 1109.87,-486 1342.13,-486 1342.13,-550\"/>\n",
       "<text text-anchor=\"middle\" x=\"1226\" y=\"-534.8\" font-family=\"Times,serif\" font-size=\"14.00\">Multiplication and Division &lt;= 0.6515</text>\n",
       "<text text-anchor=\"middle\" x=\"1226\" y=\"-520.8\" font-family=\"Times,serif\" font-size=\"14.00\">gini = 0.2163</text>\n",
       "<text text-anchor=\"middle\" x=\"1226\" y=\"-506.8\" font-family=\"Times,serif\" font-size=\"14.00\">samples = 332</text>\n",
       "<text text-anchor=\"middle\" x=\"1226\" y=\"-492.8\" font-family=\"Times,serif\" font-size=\"14.00\">value = [65, 462]</text>\n",
       "</g>\n",
       "<!-- 1 -->\n",
       "<g id=\"node2\" class=\"node\"><title>1</title>\n",
       "<polygon fill=\"none\" stroke=\"black\" points=\"1023.54,-450 852.46,-450 852.46,-386 1023.54,-386 1023.54,-450\"/>\n",
       "<text text-anchor=\"middle\" x=\"938\" y=\"-434.8\" font-family=\"Times,serif\" font-size=\"14.00\">Ratios and Rates &lt;= 0.2917</text>\n",
       "<text text-anchor=\"middle\" x=\"938\" y=\"-420.8\" font-family=\"Times,serif\" font-size=\"14.00\">gini = 0.4709</text>\n",
       "<text text-anchor=\"middle\" x=\"938\" y=\"-406.8\" font-family=\"Times,serif\" font-size=\"14.00\">samples = 62</text>\n",
       "<text text-anchor=\"middle\" x=\"938\" y=\"-392.8\" font-family=\"Times,serif\" font-size=\"14.00\">value = [33, 54]</text>\n",
       "</g>\n",
       "<!-- 0&#45;&gt;1 -->\n",
       "<g id=\"edge1\" class=\"edge\"><title>0&#45;&gt;1</title>\n",
       "<path fill=\"none\" stroke=\"black\" d=\"M1134.88,-485.992C1102.48,-474.968 1065.93,-462.533 1033.2,-451.396\"/>\n",
       "<polygon fill=\"black\" stroke=\"black\" points=\"1034.22,-448.046 1023.63,-448.138 1031.97,-454.673 1034.22,-448.046\"/>\n",
       "<text text-anchor=\"middle\" x=\"1034.67\" y=\"-466.368\" font-family=\"Times,serif\" font-size=\"14.00\">True</text>\n",
       "</g>\n",
       "<!-- 24 -->\n",
       "<g id=\"node25\" class=\"node\"><title>24</title>\n",
       "<polygon fill=\"none\" stroke=\"black\" points=\"1569.9,-450 1458.1,-450 1458.1,-386 1569.9,-386 1569.9,-450\"/>\n",
       "<text text-anchor=\"middle\" x=\"1514\" y=\"-434.8\" font-family=\"Times,serif\" font-size=\"14.00\">y5_band &lt;= 5.5</text>\n",
       "<text text-anchor=\"middle\" x=\"1514\" y=\"-420.8\" font-family=\"Times,serif\" font-size=\"14.00\">gini = 0.1349</text>\n",
       "<text text-anchor=\"middle\" x=\"1514\" y=\"-406.8\" font-family=\"Times,serif\" font-size=\"14.00\">samples = 270</text>\n",
       "<text text-anchor=\"middle\" x=\"1514\" y=\"-392.8\" font-family=\"Times,serif\" font-size=\"14.00\">value = [32, 408]</text>\n",
       "</g>\n",
       "<!-- 0&#45;&gt;24 -->\n",
       "<g id=\"edge24\" class=\"edge\"><title>0&#45;&gt;24</title>\n",
       "<path fill=\"none\" stroke=\"black\" d=\"M1317.12,-485.992C1359.66,-471.518 1409.35,-454.61 1448.16,-441.403\"/>\n",
       "<polygon fill=\"black\" stroke=\"black\" points=\"1449.45,-444.663 1457.79,-438.128 1447.19,-438.036 1449.45,-444.663\"/>\n",
       "<text text-anchor=\"middle\" x=\"1446.75\" y=\"-456.358\" font-family=\"Times,serif\" font-size=\"14.00\">False</text>\n",
       "</g>\n",
       "<!-- 2 -->\n",
       "<g id=\"node3\" class=\"node\"><title>2</title>\n",
       "<polygon fill=\"none\" stroke=\"black\" points=\"529.3,-350 320.7,-350 320.7,-286 529.3,-286 529.3,-350\"/>\n",
       "<text text-anchor=\"middle\" x=\"425\" y=\"-334.8\" font-family=\"Times,serif\" font-size=\"14.00\">Three&#45;Dimensional Space &lt;= 0.45</text>\n",
       "<text text-anchor=\"middle\" x=\"425\" y=\"-320.8\" font-family=\"Times,serif\" font-size=\"14.00\">gini = 0.4654</text>\n",
       "<text text-anchor=\"middle\" x=\"425\" y=\"-306.8\" font-family=\"Times,serif\" font-size=\"14.00\">samples = 27</text>\n",
       "<text text-anchor=\"middle\" x=\"425\" y=\"-292.8\" font-family=\"Times,serif\" font-size=\"14.00\">value = [24, 14]</text>\n",
       "</g>\n",
       "<!-- 1&#45;&gt;2 -->\n",
       "<g id=\"edge2\" class=\"edge\"><title>1&#45;&gt;2</title>\n",
       "<path fill=\"none\" stroke=\"black\" d=\"M852.424,-400.652C766.66,-384.268 634.106,-358.946 539.363,-340.847\"/>\n",
       "<polygon fill=\"black\" stroke=\"black\" points=\"539.929,-337.392 529.45,-338.953 538.616,-344.268 539.929,-337.392\"/>\n",
       "</g>\n",
       "<!-- 11 -->\n",
       "<g id=\"node12\" class=\"node\"><title>11</title>\n",
       "<polygon fill=\"none\" stroke=\"black\" points=\"1034.45,-350 841.55,-350 841.55,-286 1034.45,-286 1034.45,-350\"/>\n",
       "<text text-anchor=\"middle\" x=\"938\" y=\"-334.8\" font-family=\"Times,serif\" font-size=\"14.00\">Patterns and Algebra &lt;= 0.5833</text>\n",
       "<text text-anchor=\"middle\" x=\"938\" y=\"-320.8\" font-family=\"Times,serif\" font-size=\"14.00\">gini = 0.2999</text>\n",
       "<text text-anchor=\"middle\" x=\"938\" y=\"-306.8\" font-family=\"Times,serif\" font-size=\"14.00\">samples = 35</text>\n",
       "<text text-anchor=\"middle\" x=\"938\" y=\"-292.8\" font-family=\"Times,serif\" font-size=\"14.00\">value = [9, 40]</text>\n",
       "</g>\n",
       "<!-- 1&#45;&gt;11 -->\n",
       "<g id=\"edge11\" class=\"edge\"><title>1&#45;&gt;11</title>\n",
       "<path fill=\"none\" stroke=\"black\" d=\"M938,-385.992C938,-377.859 938,-368.959 938,-360.378\"/>\n",
       "<polygon fill=\"black\" stroke=\"black\" points=\"941.5,-360.142 938,-350.142 934.5,-360.142 941.5,-360.142\"/>\n",
       "</g>\n",
       "<!-- 3 -->\n",
       "<g id=\"node4\" class=\"node\"><title>3</title>\n",
       "<polygon fill=\"none\" stroke=\"black\" points=\"241.2,-250 68.8004,-250 68.8004,-186 241.2,-186 241.2,-250\"/>\n",
       "<text text-anchor=\"middle\" x=\"155\" y=\"-234.8\" font-family=\"Times,serif\" font-size=\"14.00\">Patterns and Algebra &lt;= 0.5</text>\n",
       "<text text-anchor=\"middle\" x=\"155\" y=\"-220.8\" font-family=\"Times,serif\" font-size=\"14.00\">gini = 0.18</text>\n",
       "<text text-anchor=\"middle\" x=\"155\" y=\"-206.8\" font-family=\"Times,serif\" font-size=\"14.00\">samples = 7</text>\n",
       "<text text-anchor=\"middle\" x=\"155\" y=\"-192.8\" font-family=\"Times,serif\" font-size=\"14.00\">value = [9, 1]</text>\n",
       "</g>\n",
       "<!-- 2&#45;&gt;3 -->\n",
       "<g id=\"edge3\" class=\"edge\"><title>2&#45;&gt;3</title>\n",
       "<path fill=\"none\" stroke=\"black\" d=\"M339.57,-285.992C311.254,-275.714 279.559,-264.21 250.533,-253.675\"/>\n",
       "<polygon fill=\"black\" stroke=\"black\" points=\"251.395,-250.264 240.801,-250.142 249.006,-256.844 251.395,-250.264\"/>\n",
       "</g>\n",
       "<!-- 6 -->\n",
       "<g id=\"node7\" class=\"node\"><title>6</title>\n",
       "<polygon fill=\"none\" stroke=\"black\" points=\"484.463,-250 365.537,-250 365.537,-186 484.463,-186 484.463,-250\"/>\n",
       "<text text-anchor=\"middle\" x=\"425\" y=\"-234.8\" font-family=\"Times,serif\" font-size=\"14.00\">Equations &lt;= 0.75</text>\n",
       "<text text-anchor=\"middle\" x=\"425\" y=\"-220.8\" font-family=\"Times,serif\" font-size=\"14.00\">gini = 0.4974</text>\n",
       "<text text-anchor=\"middle\" x=\"425\" y=\"-206.8\" font-family=\"Times,serif\" font-size=\"14.00\">samples = 20</text>\n",
       "<text text-anchor=\"middle\" x=\"425\" y=\"-192.8\" font-family=\"Times,serif\" font-size=\"14.00\">value = [15, 13]</text>\n",
       "</g>\n",
       "<!-- 2&#45;&gt;6 -->\n",
       "<g id=\"edge6\" class=\"edge\"><title>2&#45;&gt;6</title>\n",
       "<path fill=\"none\" stroke=\"black\" d=\"M425,-285.992C425,-277.859 425,-268.959 425,-260.378\"/>\n",
       "<polygon fill=\"black\" stroke=\"black\" points=\"428.5,-260.142 425,-250.142 421.5,-260.142 428.5,-260.142\"/>\n",
       "</g>\n",
       "<!-- 4 -->\n",
       "<g id=\"node5\" class=\"node\"><title>4</title>\n",
       "<polygon fill=\"none\" stroke=\"black\" points=\"90.1559,-143 -0.15593,-143 -0.15593,-93 90.1559,-93 90.1559,-143\"/>\n",
       "<text text-anchor=\"middle\" x=\"45\" y=\"-127.8\" font-family=\"Times,serif\" font-size=\"14.00\">gini = 0.375</text>\n",
       "<text text-anchor=\"middle\" x=\"45\" y=\"-113.8\" font-family=\"Times,serif\" font-size=\"14.00\">samples = 4</text>\n",
       "<text text-anchor=\"middle\" x=\"45\" y=\"-99.8\" font-family=\"Times,serif\" font-size=\"14.00\">value = [3, 1]</text>\n",
       "</g>\n",
       "<!-- 3&#45;&gt;4 -->\n",
       "<g id=\"edge4\" class=\"edge\"><title>3&#45;&gt;4</title>\n",
       "<path fill=\"none\" stroke=\"black\" d=\"M120.195,-185.992C107.373,-174.568 92.8495,-161.63 80.009,-150.19\"/>\n",
       "<polygon fill=\"black\" stroke=\"black\" points=\"82.0565,-147.326 72.2617,-143.288 77.4,-152.553 82.0565,-147.326\"/>\n",
       "</g>\n",
       "<!-- 5 -->\n",
       "<g id=\"node6\" class=\"node\"><title>5</title>\n",
       "<polygon fill=\"none\" stroke=\"black\" points=\"200.156,-143 109.844,-143 109.844,-93 200.156,-93 200.156,-143\"/>\n",
       "<text text-anchor=\"middle\" x=\"155\" y=\"-127.8\" font-family=\"Times,serif\" font-size=\"14.00\">gini = 0.0</text>\n",
       "<text text-anchor=\"middle\" x=\"155\" y=\"-113.8\" font-family=\"Times,serif\" font-size=\"14.00\">samples = 3</text>\n",
       "<text text-anchor=\"middle\" x=\"155\" y=\"-99.8\" font-family=\"Times,serif\" font-size=\"14.00\">value = [6, 0]</text>\n",
       "</g>\n",
       "<!-- 3&#45;&gt;5 -->\n",
       "<g id=\"edge5\" class=\"edge\"><title>3&#45;&gt;5</title>\n",
       "<path fill=\"none\" stroke=\"black\" d=\"M155,-185.992C155,-175.646 155,-164.057 155,-153.465\"/>\n",
       "<polygon fill=\"black\" stroke=\"black\" points=\"158.5,-153.288 155,-143.288 151.5,-153.288 158.5,-153.288\"/>\n",
       "</g>\n",
       "<!-- 7 -->\n",
       "<g id=\"node8\" class=\"node\"><title>7</title>\n",
       "<polygon fill=\"none\" stroke=\"black\" points=\"451.127,-150 218.873,-150 218.873,-86 451.127,-86 451.127,-150\"/>\n",
       "<text text-anchor=\"middle\" x=\"335\" y=\"-134.8\" font-family=\"Times,serif\" font-size=\"14.00\">Multiplication and Division &lt;= 0.4886</text>\n",
       "<text text-anchor=\"middle\" x=\"335\" y=\"-120.8\" font-family=\"Times,serif\" font-size=\"14.00\">gini = 0.4991</text>\n",
       "<text text-anchor=\"middle\" x=\"335\" y=\"-106.8\" font-family=\"Times,serif\" font-size=\"14.00\">samples = 15</text>\n",
       "<text text-anchor=\"middle\" x=\"335\" y=\"-92.8\" font-family=\"Times,serif\" font-size=\"14.00\">value = [11, 12]</text>\n",
       "</g>\n",
       "<!-- 6&#45;&gt;7 -->\n",
       "<g id=\"edge7\" class=\"edge\"><title>6&#45;&gt;7</title>\n",
       "<path fill=\"none\" stroke=\"black\" d=\"M396.523,-185.992C388.234,-176.966 379.075,-166.993 370.414,-157.562\"/>\n",
       "<polygon fill=\"black\" stroke=\"black\" points=\"372.942,-155.14 363.6,-150.142 367.786,-159.875 372.942,-155.14\"/>\n",
       "</g>\n",
       "<!-- 10 -->\n",
       "<g id=\"node11\" class=\"node\"><title>10</title>\n",
       "<polygon fill=\"none\" stroke=\"black\" points=\"560.156,-143 469.844,-143 469.844,-93 560.156,-93 560.156,-143\"/>\n",
       "<text text-anchor=\"middle\" x=\"515\" y=\"-127.8\" font-family=\"Times,serif\" font-size=\"14.00\">gini = 0.32</text>\n",
       "<text text-anchor=\"middle\" x=\"515\" y=\"-113.8\" font-family=\"Times,serif\" font-size=\"14.00\">samples = 5</text>\n",
       "<text text-anchor=\"middle\" x=\"515\" y=\"-99.8\" font-family=\"Times,serif\" font-size=\"14.00\">value = [4, 1]</text>\n",
       "</g>\n",
       "<!-- 6&#45;&gt;10 -->\n",
       "<g id=\"edge10\" class=\"edge\"><title>6&#45;&gt;10</title>\n",
       "<path fill=\"none\" stroke=\"black\" d=\"M453.477,-185.992C463.77,-174.784 475.402,-162.117 485.76,-150.839\"/>\n",
       "<polygon fill=\"black\" stroke=\"black\" points=\"488.509,-153.02 492.695,-143.288 483.353,-148.286 488.509,-153.02\"/>\n",
       "</g>\n",
       "<!-- 8 -->\n",
       "<g id=\"node9\" class=\"node\"><title>8</title>\n",
       "<polygon fill=\"none\" stroke=\"black\" points=\"325.156,-50 234.844,-50 234.844,-0 325.156,-0 325.156,-50\"/>\n",
       "<text text-anchor=\"middle\" x=\"280\" y=\"-34.8\" font-family=\"Times,serif\" font-size=\"14.00\">gini = 0.4444</text>\n",
       "<text text-anchor=\"middle\" x=\"280\" y=\"-20.8\" font-family=\"Times,serif\" font-size=\"14.00\">samples = 9</text>\n",
       "<text text-anchor=\"middle\" x=\"280\" y=\"-6.8\" font-family=\"Times,serif\" font-size=\"14.00\">value = [8, 4]</text>\n",
       "</g>\n",
       "<!-- 7&#45;&gt;8 -->\n",
       "<g id=\"edge8\" class=\"edge\"><title>7&#45;&gt;8</title>\n",
       "<path fill=\"none\" stroke=\"black\" d=\"M316.226,-85.9375C310.905,-77.133 305.097,-67.5239 299.721,-58.6297\"/>\n",
       "<polygon fill=\"black\" stroke=\"black\" points=\"302.692,-56.778 294.524,-50.0301 296.701,-60.3988 302.692,-56.778\"/>\n",
       "</g>\n",
       "<!-- 9 -->\n",
       "<g id=\"node10\" class=\"node\"><title>9</title>\n",
       "<polygon fill=\"none\" stroke=\"black\" points=\"435.156,-50 344.844,-50 344.844,-0 435.156,-0 435.156,-50\"/>\n",
       "<text text-anchor=\"middle\" x=\"390\" y=\"-34.8\" font-family=\"Times,serif\" font-size=\"14.00\">gini = 0.3967</text>\n",
       "<text text-anchor=\"middle\" x=\"390\" y=\"-20.8\" font-family=\"Times,serif\" font-size=\"14.00\">samples = 6</text>\n",
       "<text text-anchor=\"middle\" x=\"390\" y=\"-6.8\" font-family=\"Times,serif\" font-size=\"14.00\">value = [3, 8]</text>\n",
       "</g>\n",
       "<!-- 7&#45;&gt;9 -->\n",
       "<g id=\"edge9\" class=\"edge\"><title>7&#45;&gt;9</title>\n",
       "<path fill=\"none\" stroke=\"black\" d=\"M353.774,-85.9375C359.095,-77.133 364.903,-67.5239 370.279,-58.6297\"/>\n",
       "<polygon fill=\"black\" stroke=\"black\" points=\"373.299,-60.3988 375.476,-50.0301 367.308,-56.778 373.299,-60.3988\"/>\n",
       "</g>\n",
       "<!-- 12 -->\n",
       "<g id=\"node13\" class=\"node\"><title>12</title>\n",
       "<polygon fill=\"none\" stroke=\"black\" points=\"906.452,-250 787.548,-250 787.548,-186 906.452,-186 906.452,-250\"/>\n",
       "<text text-anchor=\"middle\" x=\"847\" y=\"-234.8\" font-family=\"Times,serif\" font-size=\"14.00\">Chance &lt;= 0.9167</text>\n",
       "<text text-anchor=\"middle\" x=\"847\" y=\"-220.8\" font-family=\"Times,serif\" font-size=\"14.00\">gini = 0.4444</text>\n",
       "<text text-anchor=\"middle\" x=\"847\" y=\"-206.8\" font-family=\"Times,serif\" font-size=\"14.00\">samples = 13</text>\n",
       "<text text-anchor=\"middle\" x=\"847\" y=\"-192.8\" font-family=\"Times,serif\" font-size=\"14.00\">value = [6, 12]</text>\n",
       "</g>\n",
       "<!-- 11&#45;&gt;12 -->\n",
       "<g id=\"edge12\" class=\"edge\"><title>11&#45;&gt;12</title>\n",
       "<path fill=\"none\" stroke=\"black\" d=\"M909.207,-285.992C900.825,-276.966 891.565,-266.993 882.807,-257.562\"/>\n",
       "<polygon fill=\"black\" stroke=\"black\" points=\"885.287,-255.089 875.918,-250.142 880.158,-259.852 885.287,-255.089\"/>\n",
       "</g>\n",
       "<!-- 19 -->\n",
       "<g id=\"node20\" class=\"node\"><title>19</title>\n",
       "<polygon fill=\"none\" stroke=\"black\" points=\"1087.29,-250 970.71,-250 970.71,-186 1087.29,-186 1087.29,-250\"/>\n",
       "<text text-anchor=\"middle\" x=\"1029\" y=\"-234.8\" font-family=\"Times,serif\" font-size=\"14.00\">Indices &lt;= 0.9093</text>\n",
       "<text text-anchor=\"middle\" x=\"1029\" y=\"-220.8\" font-family=\"Times,serif\" font-size=\"14.00\">gini = 0.1748</text>\n",
       "<text text-anchor=\"middle\" x=\"1029\" y=\"-206.8\" font-family=\"Times,serif\" font-size=\"14.00\">samples = 22</text>\n",
       "<text text-anchor=\"middle\" x=\"1029\" y=\"-192.8\" font-family=\"Times,serif\" font-size=\"14.00\">value = [3, 28]</text>\n",
       "</g>\n",
       "<!-- 11&#45;&gt;19 -->\n",
       "<g id=\"edge19\" class=\"edge\"><title>11&#45;&gt;19</title>\n",
       "<path fill=\"none\" stroke=\"black\" d=\"M966.793,-285.992C975.175,-276.966 984.435,-266.993 993.193,-257.562\"/>\n",
       "<polygon fill=\"black\" stroke=\"black\" points=\"995.842,-259.852 1000.08,-250.142 990.713,-255.089 995.842,-259.852\"/>\n",
       "</g>\n",
       "<!-- 13 -->\n",
       "<g id=\"node14\" class=\"node\"><title>13</title>\n",
       "<polygon fill=\"none\" stroke=\"black\" points=\"772.159,-150 579.841,-150 579.841,-86 772.159,-86 772.159,-150\"/>\n",
       "<text text-anchor=\"middle\" x=\"676\" y=\"-134.8\" font-family=\"Times,serif\" font-size=\"14.00\">Linear Relationships &lt;= 0.2599</text>\n",
       "<text text-anchor=\"middle\" x=\"676\" y=\"-120.8\" font-family=\"Times,serif\" font-size=\"14.00\">gini = 0.4938</text>\n",
       "<text text-anchor=\"middle\" x=\"676\" y=\"-106.8\" font-family=\"Times,serif\" font-size=\"14.00\">samples = 6</text>\n",
       "<text text-anchor=\"middle\" x=\"676\" y=\"-92.8\" font-family=\"Times,serif\" font-size=\"14.00\">value = [5, 4]</text>\n",
       "</g>\n",
       "<!-- 12&#45;&gt;13 -->\n",
       "<g id=\"edge13\" class=\"edge\"><title>12&#45;&gt;13</title>\n",
       "<path fill=\"none\" stroke=\"black\" d=\"M792.895,-185.992C775.897,-176.251 756.976,-165.408 739.395,-155.332\"/>\n",
       "<polygon fill=\"black\" stroke=\"black\" points=\"740.757,-152.078 730.34,-150.142 737.276,-158.151 740.757,-152.078\"/>\n",
       "</g>\n",
       "<!-- 16 -->\n",
       "<g id=\"node17\" class=\"node\"><title>16</title>\n",
       "<polygon fill=\"none\" stroke=\"black\" points=\"903.213,-150 790.787,-150 790.787,-86 903.213,-86 903.213,-150\"/>\n",
       "<text text-anchor=\"middle\" x=\"847\" y=\"-134.8\" font-family=\"Times,serif\" font-size=\"14.00\">Equations &lt;= 0.5</text>\n",
       "<text text-anchor=\"middle\" x=\"847\" y=\"-120.8\" font-family=\"Times,serif\" font-size=\"14.00\">gini = 0.1975</text>\n",
       "<text text-anchor=\"middle\" x=\"847\" y=\"-106.8\" font-family=\"Times,serif\" font-size=\"14.00\">samples = 7</text>\n",
       "<text text-anchor=\"middle\" x=\"847\" y=\"-92.8\" font-family=\"Times,serif\" font-size=\"14.00\">value = [1, 8]</text>\n",
       "</g>\n",
       "<!-- 12&#45;&gt;16 -->\n",
       "<g id=\"edge16\" class=\"edge\"><title>12&#45;&gt;16</title>\n",
       "<path fill=\"none\" stroke=\"black\" d=\"M847,-185.992C847,-177.859 847,-168.959 847,-160.378\"/>\n",
       "<polygon fill=\"black\" stroke=\"black\" points=\"850.5,-160.142 847,-150.142 843.5,-160.142 850.5,-160.142\"/>\n",
       "</g>\n",
       "<!-- 14 -->\n",
       "<g id=\"node15\" class=\"node\"><title>14</title>\n",
       "<polygon fill=\"none\" stroke=\"black\" points=\"614.156,-50 523.844,-50 523.844,-0 614.156,-0 614.156,-50\"/>\n",
       "<text text-anchor=\"middle\" x=\"569\" y=\"-34.8\" font-family=\"Times,serif\" font-size=\"14.00\">gini = 0.375</text>\n",
       "<text text-anchor=\"middle\" x=\"569\" y=\"-20.8\" font-family=\"Times,serif\" font-size=\"14.00\">samples = 3</text>\n",
       "<text text-anchor=\"middle\" x=\"569\" y=\"-6.8\" font-family=\"Times,serif\" font-size=\"14.00\">value = [3, 1]</text>\n",
       "</g>\n",
       "<!-- 13&#45;&gt;14 -->\n",
       "<g id=\"edge14\" class=\"edge\"><title>13&#45;&gt;14</title>\n",
       "<path fill=\"none\" stroke=\"black\" d=\"M639.476,-85.9375C628.369,-76.491 616.172,-66.1182 605.093,-56.6961\"/>\n",
       "<polygon fill=\"black\" stroke=\"black\" points=\"607.14,-53.8425 597.255,-50.0301 602.605,-59.1748 607.14,-53.8425\"/>\n",
       "</g>\n",
       "<!-- 15 -->\n",
       "<g id=\"node16\" class=\"node\"><title>15</title>\n",
       "<polygon fill=\"none\" stroke=\"black\" points=\"724.156,-50 633.844,-50 633.844,-0 724.156,-0 724.156,-50\"/>\n",
       "<text text-anchor=\"middle\" x=\"679\" y=\"-34.8\" font-family=\"Times,serif\" font-size=\"14.00\">gini = 0.48</text>\n",
       "<text text-anchor=\"middle\" x=\"679\" y=\"-20.8\" font-family=\"Times,serif\" font-size=\"14.00\">samples = 3</text>\n",
       "<text text-anchor=\"middle\" x=\"679\" y=\"-6.8\" font-family=\"Times,serif\" font-size=\"14.00\">value = [2, 3]</text>\n",
       "</g>\n",
       "<!-- 13&#45;&gt;15 -->\n",
       "<g id=\"edge15\" class=\"edge\"><title>13&#45;&gt;15</title>\n",
       "<path fill=\"none\" stroke=\"black\" d=\"M677.024,-85.9375C677.299,-77.5916 677.598,-68.5226 677.878,-60.025\"/>\n",
       "<polygon fill=\"black\" stroke=\"black\" points=\"681.376,-60.14 678.208,-50.0301 674.38,-59.9093 681.376,-60.14\"/>\n",
       "</g>\n",
       "<!-- 17 -->\n",
       "<g id=\"node18\" class=\"node\"><title>17</title>\n",
       "<polygon fill=\"none\" stroke=\"black\" points=\"840.156,-50 749.844,-50 749.844,-0 840.156,-0 840.156,-50\"/>\n",
       "<text text-anchor=\"middle\" x=\"795\" y=\"-34.8\" font-family=\"Times,serif\" font-size=\"14.00\">gini = 0.0</text>\n",
       "<text text-anchor=\"middle\" x=\"795\" y=\"-20.8\" font-family=\"Times,serif\" font-size=\"14.00\">samples = 4</text>\n",
       "<text text-anchor=\"middle\" x=\"795\" y=\"-6.8\" font-family=\"Times,serif\" font-size=\"14.00\">value = [0, 6]</text>\n",
       "</g>\n",
       "<!-- 16&#45;&gt;17 -->\n",
       "<g id=\"edge17\" class=\"edge\"><title>16&#45;&gt;17</title>\n",
       "<path fill=\"none\" stroke=\"black\" d=\"M829.25,-85.9375C824.271,-77.2247 818.842,-67.724 813.804,-58.9078\"/>\n",
       "<polygon fill=\"black\" stroke=\"black\" points=\"816.732,-56.976 808.731,-50.0301 810.654,-60.449 816.732,-56.976\"/>\n",
       "</g>\n",
       "<!-- 18 -->\n",
       "<g id=\"node19\" class=\"node\"><title>18</title>\n",
       "<polygon fill=\"none\" stroke=\"black\" points=\"950.156,-50 859.844,-50 859.844,-0 950.156,-0 950.156,-50\"/>\n",
       "<text text-anchor=\"middle\" x=\"905\" y=\"-34.8\" font-family=\"Times,serif\" font-size=\"14.00\">gini = 0.4444</text>\n",
       "<text text-anchor=\"middle\" x=\"905\" y=\"-20.8\" font-family=\"Times,serif\" font-size=\"14.00\">samples = 3</text>\n",
       "<text text-anchor=\"middle\" x=\"905\" y=\"-6.8\" font-family=\"Times,serif\" font-size=\"14.00\">value = [1, 2]</text>\n",
       "</g>\n",
       "<!-- 16&#45;&gt;18 -->\n",
       "<g id=\"edge18\" class=\"edge\"><title>16&#45;&gt;18</title>\n",
       "<path fill=\"none\" stroke=\"black\" d=\"M866.798,-85.9375C872.41,-77.133 878.534,-67.5239 884.203,-58.6297\"/>\n",
       "<polygon fill=\"black\" stroke=\"black\" points=\"887.261,-60.3441 889.684,-50.0301 881.358,-56.5817 887.261,-60.3441\"/>\n",
       "</g>\n",
       "<!-- 20 -->\n",
       "<g id=\"node21\" class=\"node\"><title>20</title>\n",
       "<polygon fill=\"none\" stroke=\"black\" points=\"1137.05,-150 920.949,-150 920.949,-86 1137.05,-86 1137.05,-150\"/>\n",
       "<text text-anchor=\"middle\" x=\"1029\" y=\"-134.8\" font-family=\"Times,serif\" font-size=\"14.00\">Three&#45;Dimensional Space &lt;= 0.775</text>\n",
       "<text text-anchor=\"middle\" x=\"1029\" y=\"-120.8\" font-family=\"Times,serif\" font-size=\"14.00\">gini = 0.3047</text>\n",
       "<text text-anchor=\"middle\" x=\"1029\" y=\"-106.8\" font-family=\"Times,serif\" font-size=\"14.00\">samples = 12</text>\n",
       "<text text-anchor=\"middle\" x=\"1029\" y=\"-92.8\" font-family=\"Times,serif\" font-size=\"14.00\">value = [3, 13]</text>\n",
       "</g>\n",
       "<!-- 19&#45;&gt;20 -->\n",
       "<g id=\"edge20\" class=\"edge\"><title>19&#45;&gt;20</title>\n",
       "<path fill=\"none\" stroke=\"black\" d=\"M1029,-185.992C1029,-177.859 1029,-168.959 1029,-160.378\"/>\n",
       "<polygon fill=\"black\" stroke=\"black\" points=\"1032.5,-160.142 1029,-150.142 1025.5,-160.142 1032.5,-160.142\"/>\n",
       "</g>\n",
       "<!-- 23 -->\n",
       "<g id=\"node24\" class=\"node\"><title>23</title>\n",
       "<polygon fill=\"none\" stroke=\"black\" points=\"1252.9,-143 1155.1,-143 1155.1,-93 1252.9,-93 1252.9,-143\"/>\n",
       "<text text-anchor=\"middle\" x=\"1204\" y=\"-127.8\" font-family=\"Times,serif\" font-size=\"14.00\">gini = 0.0</text>\n",
       "<text text-anchor=\"middle\" x=\"1204\" y=\"-113.8\" font-family=\"Times,serif\" font-size=\"14.00\">samples = 10</text>\n",
       "<text text-anchor=\"middle\" x=\"1204\" y=\"-99.8\" font-family=\"Times,serif\" font-size=\"14.00\">value = [0, 15]</text>\n",
       "</g>\n",
       "<!-- 19&#45;&gt;23 -->\n",
       "<g id=\"edge23\" class=\"edge\"><title>19&#45;&gt;23</title>\n",
       "<path fill=\"none\" stroke=\"black\" d=\"M1084.37,-185.992C1106.01,-173.873 1130.7,-160.048 1152.01,-148.117\"/>\n",
       "<polygon fill=\"black\" stroke=\"black\" points=\"1153.9,-151.07 1160.91,-143.13 1150.47,-144.963 1153.9,-151.07\"/>\n",
       "</g>\n",
       "<!-- 21 -->\n",
       "<g id=\"node22\" class=\"node\"><title>21</title>\n",
       "<polygon fill=\"none\" stroke=\"black\" points=\"1071.16,-50 980.844,-50 980.844,-0 1071.16,-0 1071.16,-50\"/>\n",
       "<text text-anchor=\"middle\" x=\"1026\" y=\"-34.8\" font-family=\"Times,serif\" font-size=\"14.00\">gini = 0.4444</text>\n",
       "<text text-anchor=\"middle\" x=\"1026\" y=\"-20.8\" font-family=\"Times,serif\" font-size=\"14.00\">samples = 7</text>\n",
       "<text text-anchor=\"middle\" x=\"1026\" y=\"-6.8\" font-family=\"Times,serif\" font-size=\"14.00\">value = [3, 6]</text>\n",
       "</g>\n",
       "<!-- 20&#45;&gt;21 -->\n",
       "<g id=\"edge21\" class=\"edge\"><title>20&#45;&gt;21</title>\n",
       "<path fill=\"none\" stroke=\"black\" d=\"M1027.98,-85.9375C1027.7,-77.5916 1027.4,-68.5226 1027.12,-60.025\"/>\n",
       "<polygon fill=\"black\" stroke=\"black\" points=\"1030.62,-59.9093 1026.79,-50.0301 1023.62,-60.14 1030.62,-59.9093\"/>\n",
       "</g>\n",
       "<!-- 22 -->\n",
       "<g id=\"node23\" class=\"node\"><title>22</title>\n",
       "<polygon fill=\"none\" stroke=\"black\" points=\"1181.16,-50 1090.84,-50 1090.84,-0 1181.16,-0 1181.16,-50\"/>\n",
       "<text text-anchor=\"middle\" x=\"1136\" y=\"-34.8\" font-family=\"Times,serif\" font-size=\"14.00\">gini = 0.0</text>\n",
       "<text text-anchor=\"middle\" x=\"1136\" y=\"-20.8\" font-family=\"Times,serif\" font-size=\"14.00\">samples = 5</text>\n",
       "<text text-anchor=\"middle\" x=\"1136\" y=\"-6.8\" font-family=\"Times,serif\" font-size=\"14.00\">value = [0, 7]</text>\n",
       "</g>\n",
       "<!-- 20&#45;&gt;22 -->\n",
       "<g id=\"edge22\" class=\"edge\"><title>20&#45;&gt;22</title>\n",
       "<path fill=\"none\" stroke=\"black\" d=\"M1065.52,-85.9375C1076.63,-76.491 1088.83,-66.1182 1099.91,-56.6961\"/>\n",
       "<polygon fill=\"black\" stroke=\"black\" points=\"1102.39,-59.1748 1107.74,-50.0301 1097.86,-53.8425 1102.39,-59.1748\"/>\n",
       "</g>\n",
       "<!-- 25 -->\n",
       "<g id=\"node26\" class=\"node\"><title>25</title>\n",
       "<polygon fill=\"none\" stroke=\"black\" points=\"1614.33,-350 1413.67,-350 1413.67,-286 1614.33,-286 1614.33,-350\"/>\n",
       "<text text-anchor=\"middle\" x=\"1514\" y=\"-334.8\" font-family=\"Times,serif\" font-size=\"14.00\">Two&#45;Dimensional Space &lt;= 0.95</text>\n",
       "<text text-anchor=\"middle\" x=\"1514\" y=\"-320.8\" font-family=\"Times,serif\" font-size=\"14.00\">gini = 0.4673</text>\n",
       "<text text-anchor=\"middle\" x=\"1514\" y=\"-306.8\" font-family=\"Times,serif\" font-size=\"14.00\">samples = 25</text>\n",
       "<text text-anchor=\"middle\" x=\"1514\" y=\"-292.8\" font-family=\"Times,serif\" font-size=\"14.00\">value = [16, 27]</text>\n",
       "</g>\n",
       "<!-- 24&#45;&gt;25 -->\n",
       "<g id=\"edge25\" class=\"edge\"><title>24&#45;&gt;25</title>\n",
       "<path fill=\"none\" stroke=\"black\" d=\"M1514,-385.992C1514,-377.859 1514,-368.959 1514,-360.378\"/>\n",
       "<polygon fill=\"black\" stroke=\"black\" points=\"1517.5,-360.142 1514,-350.142 1510.5,-360.142 1517.5,-360.142\"/>\n",
       "</g>\n",
       "<!-- 34 -->\n",
       "<g id=\"node35\" class=\"node\"><title>34</title>\n",
       "<polygon fill=\"none\" stroke=\"black\" points=\"1844.9,-350 1733.1,-350 1733.1,-286 1844.9,-286 1844.9,-350\"/>\n",
       "<text text-anchor=\"middle\" x=\"1789\" y=\"-334.8\" font-family=\"Times,serif\" font-size=\"14.00\">Angles &lt;= 0.25</text>\n",
       "<text text-anchor=\"middle\" x=\"1789\" y=\"-320.8\" font-family=\"Times,serif\" font-size=\"14.00\">gini = 0.0774</text>\n",
       "<text text-anchor=\"middle\" x=\"1789\" y=\"-306.8\" font-family=\"Times,serif\" font-size=\"14.00\">samples = 245</text>\n",
       "<text text-anchor=\"middle\" x=\"1789\" y=\"-292.8\" font-family=\"Times,serif\" font-size=\"14.00\">value = [16, 381]</text>\n",
       "</g>\n",
       "<!-- 24&#45;&gt;34 -->\n",
       "<g id=\"edge34\" class=\"edge\"><title>24&#45;&gt;34</title>\n",
       "<path fill=\"none\" stroke=\"black\" d=\"M1569.98,-397.05C1614.35,-381.238 1676.45,-359.11 1723.19,-342.451\"/>\n",
       "<polygon fill=\"black\" stroke=\"black\" points=\"1724.38,-345.744 1732.63,-339.09 1722.03,-339.15 1724.38,-345.744\"/>\n",
       "</g>\n",
       "<!-- 26 -->\n",
       "<g id=\"node27\" class=\"node\"><title>26</title>\n",
       "<polygon fill=\"none\" stroke=\"black\" points=\"1556.5,-250 1273.5,-250 1273.5,-186 1556.5,-186 1556.5,-250\"/>\n",
       "<text text-anchor=\"middle\" x=\"1415\" y=\"-234.8\" font-family=\"Times,serif\" font-size=\"14.00\">Fractions, Decimals and Percentages &lt;= 0.4722</text>\n",
       "<text text-anchor=\"middle\" x=\"1415\" y=\"-220.8\" font-family=\"Times,serif\" font-size=\"14.00\">gini = 0.4974</text>\n",
       "<text text-anchor=\"middle\" x=\"1415\" y=\"-206.8\" font-family=\"Times,serif\" font-size=\"14.00\">samples = 19</text>\n",
       "<text text-anchor=\"middle\" x=\"1415\" y=\"-192.8\" font-family=\"Times,serif\" font-size=\"14.00\">value = [15, 13]</text>\n",
       "</g>\n",
       "<!-- 25&#45;&gt;26 -->\n",
       "<g id=\"edge26\" class=\"edge\"><title>25&#45;&gt;26</title>\n",
       "<path fill=\"none\" stroke=\"black\" d=\"M1482.68,-285.992C1473.47,-276.876 1463.28,-266.796 1453.67,-257.282\"/>\n",
       "<polygon fill=\"black\" stroke=\"black\" points=\"1456.03,-254.69 1446.46,-250.142 1451.1,-259.665 1456.03,-254.69\"/>\n",
       "</g>\n",
       "<!-- 33 -->\n",
       "<g id=\"node34\" class=\"node\"><title>33</title>\n",
       "<polygon fill=\"none\" stroke=\"black\" points=\"1672.9,-243 1575.1,-243 1575.1,-193 1672.9,-193 1672.9,-243\"/>\n",
       "<text text-anchor=\"middle\" x=\"1624\" y=\"-227.8\" font-family=\"Times,serif\" font-size=\"14.00\">gini = 0.1244</text>\n",
       "<text text-anchor=\"middle\" x=\"1624\" y=\"-213.8\" font-family=\"Times,serif\" font-size=\"14.00\">samples = 6</text>\n",
       "<text text-anchor=\"middle\" x=\"1624\" y=\"-199.8\" font-family=\"Times,serif\" font-size=\"14.00\">value = [1, 14]</text>\n",
       "</g>\n",
       "<!-- 25&#45;&gt;33 -->\n",
       "<g id=\"edge33\" class=\"edge\"><title>25&#45;&gt;33</title>\n",
       "<path fill=\"none\" stroke=\"black\" d=\"M1548.8,-285.992C1561.63,-274.568 1576.15,-261.63 1588.99,-250.19\"/>\n",
       "<polygon fill=\"black\" stroke=\"black\" points=\"1591.6,-252.553 1596.74,-243.288 1586.94,-247.326 1591.6,-252.553\"/>\n",
       "</g>\n",
       "<!-- 27 -->\n",
       "<g id=\"node28\" class=\"node\"><title>27</title>\n",
       "<polygon fill=\"none\" stroke=\"black\" points=\"1480.61,-150 1271.39,-150 1271.39,-86 1480.61,-86 1480.61,-150\"/>\n",
       "<text text-anchor=\"middle\" x=\"1376\" y=\"-134.8\" font-family=\"Times,serif\" font-size=\"14.00\">Fractions and Decimals &lt;= 0.8847</text>\n",
       "<text text-anchor=\"middle\" x=\"1376\" y=\"-120.8\" font-family=\"Times,serif\" font-size=\"14.00\">gini = 0.2188</text>\n",
       "<text text-anchor=\"middle\" x=\"1376\" y=\"-106.8\" font-family=\"Times,serif\" font-size=\"14.00\">samples = 11</text>\n",
       "<text text-anchor=\"middle\" x=\"1376\" y=\"-92.8\" font-family=\"Times,serif\" font-size=\"14.00\">value = [14, 2]</text>\n",
       "</g>\n",
       "<!-- 26&#45;&gt;27 -->\n",
       "<g id=\"edge27\" class=\"edge\"><title>26&#45;&gt;27</title>\n",
       "<path fill=\"none\" stroke=\"black\" d=\"M1402.66,-185.992C1399.32,-177.591 1395.65,-168.371 1392.13,-159.53\"/>\n",
       "<polygon fill=\"black\" stroke=\"black\" points=\"1395.34,-158.14 1388.39,-150.142 1388.84,-160.728 1395.34,-158.14\"/>\n",
       "</g>\n",
       "<!-- 30 -->\n",
       "<g id=\"node31\" class=\"node\"><title>30</title>\n",
       "<polygon fill=\"none\" stroke=\"black\" points=\"1685.2,-150 1498.8,-150 1498.8,-86 1685.2,-86 1685.2,-150\"/>\n",
       "<text text-anchor=\"middle\" x=\"1592\" y=\"-134.8\" font-family=\"Times,serif\" font-size=\"14.00\">Patterns and Algebra &lt;= 0.675</text>\n",
       "<text text-anchor=\"middle\" x=\"1592\" y=\"-120.8\" font-family=\"Times,serif\" font-size=\"14.00\">gini = 0.1528</text>\n",
       "<text text-anchor=\"middle\" x=\"1592\" y=\"-106.8\" font-family=\"Times,serif\" font-size=\"14.00\">samples = 8</text>\n",
       "<text text-anchor=\"middle\" x=\"1592\" y=\"-92.8\" font-family=\"Times,serif\" font-size=\"14.00\">value = [1, 11]</text>\n",
       "</g>\n",
       "<!-- 26&#45;&gt;30 -->\n",
       "<g id=\"edge30\" class=\"edge\"><title>26&#45;&gt;30</title>\n",
       "<path fill=\"none\" stroke=\"black\" d=\"M1471,-185.992C1488.76,-176.161 1508.54,-165.208 1526.88,-155.055\"/>\n",
       "<polygon fill=\"black\" stroke=\"black\" points=\"1528.7,-158.048 1535.75,-150.142 1525.31,-151.924 1528.7,-158.048\"/>\n",
       "</g>\n",
       "<!-- 28 -->\n",
       "<g id=\"node29\" class=\"node\"><title>28</title>\n",
       "<polygon fill=\"none\" stroke=\"black\" points=\"1313.9,-50 1216.1,-50 1216.1,-0 1313.9,-0 1313.9,-50\"/>\n",
       "<text text-anchor=\"middle\" x=\"1265\" y=\"-34.8\" font-family=\"Times,serif\" font-size=\"14.00\">gini = 0.0</text>\n",
       "<text text-anchor=\"middle\" x=\"1265\" y=\"-20.8\" font-family=\"Times,serif\" font-size=\"14.00\">samples = 8</text>\n",
       "<text text-anchor=\"middle\" x=\"1265\" y=\"-6.8\" font-family=\"Times,serif\" font-size=\"14.00\">value = [12, 0]</text>\n",
       "</g>\n",
       "<!-- 27&#45;&gt;28 -->\n",
       "<g id=\"edge28\" class=\"edge\"><title>27&#45;&gt;28</title>\n",
       "<path fill=\"none\" stroke=\"black\" d=\"M1338.11,-85.9375C1326.48,-76.3993 1313.69,-65.9167 1302.11,-56.4219\"/>\n",
       "<polygon fill=\"black\" stroke=\"black\" points=\"1304.26,-53.6634 1294.31,-50.0301 1299.83,-59.0768 1304.26,-53.6634\"/>\n",
       "</g>\n",
       "<!-- 29 -->\n",
       "<g id=\"node30\" class=\"node\"><title>29</title>\n",
       "<polygon fill=\"none\" stroke=\"black\" points=\"1423.16,-50 1332.84,-50 1332.84,-0 1423.16,-0 1423.16,-50\"/>\n",
       "<text text-anchor=\"middle\" x=\"1378\" y=\"-34.8\" font-family=\"Times,serif\" font-size=\"14.00\">gini = 0.5</text>\n",
       "<text text-anchor=\"middle\" x=\"1378\" y=\"-20.8\" font-family=\"Times,serif\" font-size=\"14.00\">samples = 3</text>\n",
       "<text text-anchor=\"middle\" x=\"1378\" y=\"-6.8\" font-family=\"Times,serif\" font-size=\"14.00\">value = [2, 2]</text>\n",
       "</g>\n",
       "<!-- 27&#45;&gt;29 -->\n",
       "<g id=\"edge29\" class=\"edge\"><title>27&#45;&gt;29</title>\n",
       "<path fill=\"none\" stroke=\"black\" d=\"M1376.68,-85.9375C1376.86,-77.6833 1377.06,-68.7219 1377.25,-60.3053\"/>\n",
       "<polygon fill=\"black\" stroke=\"black\" points=\"1380.75,-60.1046 1377.47,-50.0301 1373.75,-59.9507 1380.75,-60.1046\"/>\n",
       "</g>\n",
       "<!-- 31 -->\n",
       "<g id=\"node32\" class=\"node\"><title>31</title>\n",
       "<polygon fill=\"none\" stroke=\"black\" points=\"1537.16,-50 1446.84,-50 1446.84,-0 1537.16,-0 1537.16,-50\"/>\n",
       "<text text-anchor=\"middle\" x=\"1492\" y=\"-34.8\" font-family=\"Times,serif\" font-size=\"14.00\">gini = 0.0</text>\n",
       "<text text-anchor=\"middle\" x=\"1492\" y=\"-20.8\" font-family=\"Times,serif\" font-size=\"14.00\">samples = 5</text>\n",
       "<text text-anchor=\"middle\" x=\"1492\" y=\"-6.8\" font-family=\"Times,serif\" font-size=\"14.00\">value = [0, 9]</text>\n",
       "</g>\n",
       "<!-- 30&#45;&gt;31 -->\n",
       "<g id=\"edge31\" class=\"edge\"><title>30&#45;&gt;31</title>\n",
       "<path fill=\"none\" stroke=\"black\" d=\"M1557.87,-85.9375C1547.59,-76.5827 1536.31,-66.3196 1526.03,-56.9708\"/>\n",
       "<polygon fill=\"black\" stroke=\"black\" points=\"1528.16,-54.1719 1518.41,-50.0301 1523.45,-59.3491 1528.16,-54.1719\"/>\n",
       "</g>\n",
       "<!-- 32 -->\n",
       "<g id=\"node33\" class=\"node\"><title>32</title>\n",
       "<polygon fill=\"none\" stroke=\"black\" points=\"1647.16,-50 1556.84,-50 1556.84,-0 1647.16,-0 1647.16,-50\"/>\n",
       "<text text-anchor=\"middle\" x=\"1602\" y=\"-34.8\" font-family=\"Times,serif\" font-size=\"14.00\">gini = 0.4444</text>\n",
       "<text text-anchor=\"middle\" x=\"1602\" y=\"-20.8\" font-family=\"Times,serif\" font-size=\"14.00\">samples = 3</text>\n",
       "<text text-anchor=\"middle\" x=\"1602\" y=\"-6.8\" font-family=\"Times,serif\" font-size=\"14.00\">value = [1, 2]</text>\n",
       "</g>\n",
       "<!-- 30&#45;&gt;32 -->\n",
       "<g id=\"edge32\" class=\"edge\"><title>30&#45;&gt;32</title>\n",
       "<path fill=\"none\" stroke=\"black\" d=\"M1595.41,-85.9375C1596.33,-77.5916 1597.33,-68.5226 1598.26,-60.025\"/>\n",
       "<polygon fill=\"black\" stroke=\"black\" points=\"1601.75,-60.3526 1599.36,-50.0301 1594.79,-59.5879 1601.75,-60.3526\"/>\n",
       "</g>\n",
       "<!-- 35 -->\n",
       "<g id=\"node36\" class=\"node\"><title>35</title>\n",
       "<polygon fill=\"none\" stroke=\"black\" points=\"1848.45,-250 1729.55,-250 1729.55,-186 1848.45,-186 1848.45,-250\"/>\n",
       "<text text-anchor=\"middle\" x=\"1789\" y=\"-234.8\" font-family=\"Times,serif\" font-size=\"14.00\">Chance &lt;= 0.9167</text>\n",
       "<text text-anchor=\"middle\" x=\"1789\" y=\"-220.8\" font-family=\"Times,serif\" font-size=\"14.00\">gini = 0.375</text>\n",
       "<text text-anchor=\"middle\" x=\"1789\" y=\"-206.8\" font-family=\"Times,serif\" font-size=\"14.00\">samples = 15</text>\n",
       "<text text-anchor=\"middle\" x=\"1789\" y=\"-192.8\" font-family=\"Times,serif\" font-size=\"14.00\">value = [6, 18]</text>\n",
       "</g>\n",
       "<!-- 34&#45;&gt;35 -->\n",
       "<g id=\"edge35\" class=\"edge\"><title>34&#45;&gt;35</title>\n",
       "<path fill=\"none\" stroke=\"black\" d=\"M1789,-285.992C1789,-277.859 1789,-268.959 1789,-260.378\"/>\n",
       "<polygon fill=\"black\" stroke=\"black\" points=\"1792.5,-260.142 1789,-250.142 1785.5,-260.142 1792.5,-260.142\"/>\n",
       "</g>\n",
       "<!-- 40 -->\n",
       "<g id=\"node41\" class=\"node\"><title>40</title>\n",
       "<polygon fill=\"none\" stroke=\"black\" points=\"2143.97,-250 1900.03,-250 1900.03,-186 2143.97,-186 2143.97,-250\"/>\n",
       "<text text-anchor=\"middle\" x=\"2022\" y=\"-234.8\" font-family=\"Times,serif\" font-size=\"14.00\">Single Variable Data Analysis &lt;= 0.2303</text>\n",
       "<text text-anchor=\"middle\" x=\"2022\" y=\"-220.8\" font-family=\"Times,serif\" font-size=\"14.00\">gini = 0.0522</text>\n",
       "<text text-anchor=\"middle\" x=\"2022\" y=\"-206.8\" font-family=\"Times,serif\" font-size=\"14.00\">samples = 230</text>\n",
       "<text text-anchor=\"middle\" x=\"2022\" y=\"-192.8\" font-family=\"Times,serif\" font-size=\"14.00\">value = [10, 363]</text>\n",
       "</g>\n",
       "<!-- 34&#45;&gt;40 -->\n",
       "<g id=\"edge40\" class=\"edge\"><title>34&#45;&gt;40</title>\n",
       "<path fill=\"none\" stroke=\"black\" d=\"M1845.11,-293.402C1873.05,-281.648 1907.41,-267.199 1938.38,-254.17\"/>\n",
       "<polygon fill=\"black\" stroke=\"black\" points=\"1940.01,-257.28 1947.88,-250.177 1937.3,-250.828 1940.01,-257.28\"/>\n",
       "</g>\n",
       "<!-- 36 -->\n",
       "<g id=\"node37\" class=\"node\"><title>36</title>\n",
       "<polygon fill=\"none\" stroke=\"black\" points=\"1807.88,-150 1704.12,-150 1704.12,-86 1807.88,-86 1807.88,-150\"/>\n",
       "<text text-anchor=\"middle\" x=\"1756\" y=\"-134.8\" font-family=\"Times,serif\" font-size=\"14.00\">y7_band &lt;= 7.5</text>\n",
       "<text text-anchor=\"middle\" x=\"1756\" y=\"-120.8\" font-family=\"Times,serif\" font-size=\"14.00\">gini = 0.4959</text>\n",
       "<text text-anchor=\"middle\" x=\"1756\" y=\"-106.8\" font-family=\"Times,serif\" font-size=\"14.00\">samples = 8</text>\n",
       "<text text-anchor=\"middle\" x=\"1756\" y=\"-92.8\" font-family=\"Times,serif\" font-size=\"14.00\">value = [6, 5]</text>\n",
       "</g>\n",
       "<!-- 35&#45;&gt;36 -->\n",
       "<g id=\"edge36\" class=\"edge\"><title>35&#45;&gt;36</title>\n",
       "<path fill=\"none\" stroke=\"black\" d=\"M1778.56,-185.992C1775.76,-177.681 1772.69,-168.567 1769.74,-159.812\"/>\n",
       "<polygon fill=\"black\" stroke=\"black\" points=\"1773,-158.503 1766.49,-150.142 1766.36,-160.737 1773,-158.503\"/>\n",
       "</g>\n",
       "<!-- 39 -->\n",
       "<g id=\"node40\" class=\"node\"><title>39</title>\n",
       "<polygon fill=\"none\" stroke=\"black\" points=\"1924.9,-143 1827.1,-143 1827.1,-93 1924.9,-93 1924.9,-143\"/>\n",
       "<text text-anchor=\"middle\" x=\"1876\" y=\"-127.8\" font-family=\"Times,serif\" font-size=\"14.00\">gini = 0.0</text>\n",
       "<text text-anchor=\"middle\" x=\"1876\" y=\"-113.8\" font-family=\"Times,serif\" font-size=\"14.00\">samples = 7</text>\n",
       "<text text-anchor=\"middle\" x=\"1876\" y=\"-99.8\" font-family=\"Times,serif\" font-size=\"14.00\">value = [0, 13]</text>\n",
       "</g>\n",
       "<!-- 35&#45;&gt;39 -->\n",
       "<g id=\"edge39\" class=\"edge\"><title>35&#45;&gt;39</title>\n",
       "<path fill=\"none\" stroke=\"black\" d=\"M1816.53,-185.992C1826.48,-174.784 1837.72,-162.117 1847.73,-150.839\"/>\n",
       "<polygon fill=\"black\" stroke=\"black\" points=\"1850.42,-153.09 1854.44,-143.288 1845.18,-148.442 1850.42,-153.09\"/>\n",
       "</g>\n",
       "<!-- 37 -->\n",
       "<g id=\"node38\" class=\"node\"><title>37</title>\n",
       "<polygon fill=\"none\" stroke=\"black\" points=\"1766.16,-50 1675.84,-50 1675.84,-0 1766.16,-0 1766.16,-50\"/>\n",
       "<text text-anchor=\"middle\" x=\"1721\" y=\"-34.8\" font-family=\"Times,serif\" font-size=\"14.00\">gini = 0.2778</text>\n",
       "<text text-anchor=\"middle\" x=\"1721\" y=\"-20.8\" font-family=\"Times,serif\" font-size=\"14.00\">samples = 5</text>\n",
       "<text text-anchor=\"middle\" x=\"1721\" y=\"-6.8\" font-family=\"Times,serif\" font-size=\"14.00\">value = [1, 5]</text>\n",
       "</g>\n",
       "<!-- 36&#45;&gt;37 -->\n",
       "<g id=\"edge37\" class=\"edge\"><title>36&#45;&gt;37</title>\n",
       "<path fill=\"none\" stroke=\"black\" d=\"M1744.05,-85.9375C1740.77,-77.4081 1737.2,-68.1236 1733.87,-59.4655\"/>\n",
       "<polygon fill=\"black\" stroke=\"black\" points=\"1737.1,-58.1071 1730.24,-50.0301 1730.57,-60.62 1737.1,-58.1071\"/>\n",
       "</g>\n",
       "<!-- 38 -->\n",
       "<g id=\"node39\" class=\"node\"><title>38</title>\n",
       "<polygon fill=\"none\" stroke=\"black\" points=\"1876.16,-50 1785.84,-50 1785.84,-0 1876.16,-0 1876.16,-50\"/>\n",
       "<text text-anchor=\"middle\" x=\"1831\" y=\"-34.8\" font-family=\"Times,serif\" font-size=\"14.00\">gini = 0.0</text>\n",
       "<text text-anchor=\"middle\" x=\"1831\" y=\"-20.8\" font-family=\"Times,serif\" font-size=\"14.00\">samples = 3</text>\n",
       "<text text-anchor=\"middle\" x=\"1831\" y=\"-6.8\" font-family=\"Times,serif\" font-size=\"14.00\">value = [5, 0]</text>\n",
       "</g>\n",
       "<!-- 36&#45;&gt;38 -->\n",
       "<g id=\"edge38\" class=\"edge\"><title>36&#45;&gt;38</title>\n",
       "<path fill=\"none\" stroke=\"black\" d=\"M1781.6,-85.9375C1789.08,-76.8578 1797.27,-66.9225 1804.79,-57.798\"/>\n",
       "<polygon fill=\"black\" stroke=\"black\" points=\"1807.54,-59.973 1811.19,-50.0301 1802.13,-55.5209 1807.54,-59.973\"/>\n",
       "</g>\n",
       "<!-- 41 -->\n",
       "<g id=\"node42\" class=\"node\"><title>41</title>\n",
       "<polygon fill=\"none\" stroke=\"black\" points=\"2100.54,-150 1943.46,-150 1943.46,-86 2100.54,-86 2100.54,-150\"/>\n",
       "<text text-anchor=\"middle\" x=\"2022\" y=\"-134.8\" font-family=\"Times,serif\" font-size=\"14.00\">Ratios and Rates &lt;= 0.25</text>\n",
       "<text text-anchor=\"middle\" x=\"2022\" y=\"-120.8\" font-family=\"Times,serif\" font-size=\"14.00\">gini = 0.18</text>\n",
       "<text text-anchor=\"middle\" x=\"2022\" y=\"-106.8\" font-family=\"Times,serif\" font-size=\"14.00\">samples = 23</text>\n",
       "<text text-anchor=\"middle\" x=\"2022\" y=\"-92.8\" font-family=\"Times,serif\" font-size=\"14.00\">value = [4, 36]</text>\n",
       "</g>\n",
       "<!-- 40&#45;&gt;41 -->\n",
       "<g id=\"edge41\" class=\"edge\"><title>40&#45;&gt;41</title>\n",
       "<path fill=\"none\" stroke=\"black\" d=\"M2022,-185.992C2022,-177.859 2022,-168.959 2022,-160.378\"/>\n",
       "<polygon fill=\"black\" stroke=\"black\" points=\"2025.5,-160.142 2022,-150.142 2018.5,-160.142 2025.5,-160.142\"/>\n",
       "</g>\n",
       "<!-- 44 -->\n",
       "<g id=\"node45\" class=\"node\"><title>44</title>\n",
       "<polygon fill=\"none\" stroke=\"black\" points=\"2330.37,-150 2119.63,-150 2119.63,-86 2330.37,-86 2330.37,-150\"/>\n",
       "<text text-anchor=\"middle\" x=\"2225\" y=\"-134.8\" font-family=\"Times,serif\" font-size=\"14.00\">Addition and Subtraction &lt;= 0.625</text>\n",
       "<text text-anchor=\"middle\" x=\"2225\" y=\"-120.8\" font-family=\"Times,serif\" font-size=\"14.00\">gini = 0.0354</text>\n",
       "<text text-anchor=\"middle\" x=\"2225\" y=\"-106.8\" font-family=\"Times,serif\" font-size=\"14.00\">samples = 207</text>\n",
       "<text text-anchor=\"middle\" x=\"2225\" y=\"-92.8\" font-family=\"Times,serif\" font-size=\"14.00\">value = [6, 327]</text>\n",
       "</g>\n",
       "<!-- 40&#45;&gt;44 -->\n",
       "<g id=\"edge44\" class=\"edge\"><title>40&#45;&gt;44</title>\n",
       "<path fill=\"none\" stroke=\"black\" d=\"M2086.23,-185.992C2106.96,-175.983 2130.11,-164.81 2151.46,-154.501\"/>\n",
       "<polygon fill=\"black\" stroke=\"black\" points=\"2153.01,-157.642 2160.49,-150.142 2149.96,-151.338 2153.01,-157.642\"/>\n",
       "</g>\n",
       "<!-- 42 -->\n",
       "<g id=\"node43\" class=\"node\"><title>42</title>\n",
       "<polygon fill=\"none\" stroke=\"black\" points=\"2003.16,-50 1912.84,-50 1912.84,-0 2003.16,-0 2003.16,-50\"/>\n",
       "<text text-anchor=\"middle\" x=\"1958\" y=\"-34.8\" font-family=\"Times,serif\" font-size=\"14.00\">gini = 0.5</text>\n",
       "<text text-anchor=\"middle\" x=\"1958\" y=\"-20.8\" font-family=\"Times,serif\" font-size=\"14.00\">samples = 6</text>\n",
       "<text text-anchor=\"middle\" x=\"1958\" y=\"-6.8\" font-family=\"Times,serif\" font-size=\"14.00\">value = [4, 4]</text>\n",
       "</g>\n",
       "<!-- 41&#45;&gt;42 -->\n",
       "<g id=\"edge42\" class=\"edge\"><title>41&#45;&gt;42</title>\n",
       "<path fill=\"none\" stroke=\"black\" d=\"M2000.15,-85.9375C1993.9,-77.0413 1987.06,-67.3236 1980.75,-58.352\"/>\n",
       "<polygon fill=\"black\" stroke=\"black\" points=\"1983.52,-56.1963 1974.9,-50.0301 1977.79,-60.2232 1983.52,-56.1963\"/>\n",
       "</g>\n",
       "<!-- 43 -->\n",
       "<g id=\"node44\" class=\"node\"><title>43</title>\n",
       "<polygon fill=\"none\" stroke=\"black\" points=\"2119.9,-50 2022.1,-50 2022.1,-0 2119.9,-0 2119.9,-50\"/>\n",
       "<text text-anchor=\"middle\" x=\"2071\" y=\"-34.8\" font-family=\"Times,serif\" font-size=\"14.00\">gini = 0.0</text>\n",
       "<text text-anchor=\"middle\" x=\"2071\" y=\"-20.8\" font-family=\"Times,serif\" font-size=\"14.00\">samples = 17</text>\n",
       "<text text-anchor=\"middle\" x=\"2071\" y=\"-6.8\" font-family=\"Times,serif\" font-size=\"14.00\">value = [0, 32]</text>\n",
       "</g>\n",
       "<!-- 41&#45;&gt;43 -->\n",
       "<g id=\"edge43\" class=\"edge\"><title>41&#45;&gt;43</title>\n",
       "<path fill=\"none\" stroke=\"black\" d=\"M2038.73,-85.9375C2043.42,-77.2247 2048.53,-67.724 2053.28,-58.9078\"/>\n",
       "<polygon fill=\"black\" stroke=\"black\" points=\"2056.4,-60.4942 2058.06,-50.0301 2050.24,-57.1754 2056.4,-60.4942\"/>\n",
       "</g>\n",
       "<!-- 45 -->\n",
       "<g id=\"node46\" class=\"node\"><title>45</title>\n",
       "<polygon fill=\"none\" stroke=\"black\" points=\"2270.9,-50 2173.1,-50 2173.1,-0 2270.9,-0 2270.9,-50\"/>\n",
       "<text text-anchor=\"middle\" x=\"2222\" y=\"-34.8\" font-family=\"Times,serif\" font-size=\"14.00\">gini = 0.149</text>\n",
       "<text text-anchor=\"middle\" x=\"2222\" y=\"-20.8\" font-family=\"Times,serif\" font-size=\"14.00\">samples = 21</text>\n",
       "<text text-anchor=\"middle\" x=\"2222\" y=\"-6.8\" font-family=\"Times,serif\" font-size=\"14.00\">value = [3, 34]</text>\n",
       "</g>\n",
       "<!-- 44&#45;&gt;45 -->\n",
       "<g id=\"edge45\" class=\"edge\"><title>44&#45;&gt;45</title>\n",
       "<path fill=\"none\" stroke=\"black\" d=\"M2223.98,-85.9375C2223.7,-77.5916 2223.4,-68.5226 2223.12,-60.025\"/>\n",
       "<polygon fill=\"black\" stroke=\"black\" points=\"2226.62,-59.9093 2222.79,-50.0301 2219.62,-60.14 2226.62,-59.9093\"/>\n",
       "</g>\n",
       "<!-- 46 -->\n",
       "<g id=\"node47\" class=\"node\"><title>46</title>\n",
       "<polygon fill=\"none\" stroke=\"black\" points=\"2394.16,-50 2289.84,-50 2289.84,-0 2394.16,-0 2394.16,-50\"/>\n",
       "<text text-anchor=\"middle\" x=\"2342\" y=\"-34.8\" font-family=\"Times,serif\" font-size=\"14.00\">gini = 0.0201</text>\n",
       "<text text-anchor=\"middle\" x=\"2342\" y=\"-20.8\" font-family=\"Times,serif\" font-size=\"14.00\">samples = 186</text>\n",
       "<text text-anchor=\"middle\" x=\"2342\" y=\"-6.8\" font-family=\"Times,serif\" font-size=\"14.00\">value = [3, 293]</text>\n",
       "</g>\n",
       "<!-- 44&#45;&gt;46 -->\n",
       "<g id=\"edge46\" class=\"edge\"><title>44&#45;&gt;46</title>\n",
       "<path fill=\"none\" stroke=\"black\" d=\"M2264.94,-85.9375C2277.2,-76.3993 2290.68,-65.9167 2302.89,-56.4219\"/>\n",
       "<polygon fill=\"black\" stroke=\"black\" points=\"2305.36,-58.9323 2311.1,-50.0301 2301.06,-53.4068 2305.36,-58.9323\"/>\n",
       "</g>\n",
       "</g>\n",
       "</svg>\n"
      ],
      "text/plain": [
       "<graphviz.files.Source at 0x12a3484d0>"
      ]
     },
     "execution_count": 484,
     "metadata": {},
     "output_type": "execute_result"
    }
   ],
   "source": [
    "%matplotlib inline\n",
    "import graphviz\n",
    "dot_data = sklearn.tree.export_graphviz(best_rf.estimators_[5], out_file=None,feature_names=X_train2.columns) \n",
    "graph = graphviz.Source(dot_data) \n",
    "graph"
   ]
  },
  {
   "cell_type": "code",
   "execution_count": 45,
   "metadata": {
    "collapsed": true
   },
   "outputs": [],
   "source": [
    "tn, fp, fn, tp =sklearn.metrics.confusion_matrix(y_test2, \n",
    "                                                 y_pred).ravel()\n",
    "\n"
   ]
  },
  {
   "cell_type": "code",
   "execution_count": 94,
   "metadata": {
    "collapsed": true
   },
   "outputs": [],
   "source": [
    "Y_pp = pd.DataFrame(rf.predict_proba(X_test2), columns=['class_0_pp','class_1_pp'])\n",
    "scores['rf_syllabus'] = [rf.score(X_test2, y_test2),\n",
    "                               roc_auc_score(y_test2, Y_pp.class_1_pp),\n",
    "                               f1_score(y_test2, y_pred),\n",
    "                               precision_score(y_test2, y_pred),\n",
    "                               tn, fp, fn, tp\n",
    "                              ]"
   ]
  },
  {
   "cell_type": "markdown",
   "metadata": {},
   "source": [
    "## knn"
   ]
  },
  {
   "cell_type": "code",
   "execution_count": 156,
   "metadata": {
    "scrolled": true
   },
   "outputs": [
    {
     "name": "stderr",
     "output_type": "stream",
     "text": [
      "/Users/shirleywang/anaconda/lib/python2.7/site-packages/ipykernel_launcher.py:3: DataConversionWarning: A column-vector y was passed when a 1d array was expected. Please change the shape of y to (n_samples, ), for example using ravel().\n",
      "  This is separate from the ipykernel package so we can avoid doing imports until\n"
     ]
    },
    {
     "data": {
      "text/plain": [
       "0.84293193717277481"
      ]
     },
     "execution_count": 156,
     "metadata": {},
     "output_type": "execute_result"
    }
   ],
   "source": [
    "import sklearn.neighbors\n",
    "knn = sklearn.neighbors.KNeighborsClassifier()\n",
    "knn.fit(X_train2, y_train2) \n",
    "y_pred = knn.predict(X_test2)\n",
    "knn.score(X_test2, y_test2)"
   ]
  },
  {
   "cell_type": "code",
   "execution_count": 161,
   "metadata": {},
   "outputs": [
    {
     "name": "stdout",
     "output_type": "stream",
     "text": [
      "0.91124260355\n",
      "0.929541075946\n"
     ]
    }
   ],
   "source": [
    "\n",
    "from sklearn.metrics import f1_score\n",
    "print f1_score(y_test2, y_pred)\n",
    "from sklearn.metrics import average_precision_score\n",
    "print average_precision_score(y_test2, y_pred)"
   ]
  },
  {
   "cell_type": "code",
   "execution_count": 162,
   "metadata": {},
   "outputs": [
    {
     "data": {
      "text/plain": [
       "array([[  7,  24],\n",
       "       [  6, 154]])"
      ]
     },
     "execution_count": 162,
     "metadata": {},
     "output_type": "execute_result"
    }
   ],
   "source": [
    "import sklearn.metrics \n",
    "sklearn.metrics.confusion_matrix(y_test2, y_pred)"
   ]
  },
  {
   "cell_type": "code",
   "execution_count": 163,
   "metadata": {
    "collapsed": true
   },
   "outputs": [],
   "source": [
    "tn, fp, fn, tp =sklearn.metrics.confusion_matrix(y_test2, \n",
    "                                                 y_pred).ravel()"
   ]
  },
  {
   "cell_type": "code",
   "execution_count": 164,
   "metadata": {
    "collapsed": true
   },
   "outputs": [],
   "source": [
    "Y_pp = pd.DataFrame(knn.predict_proba(X_test2), columns=['class_0_pp','class_1_pp'])\n",
    "scores['knn_syllabus'] = [knn.score(X_test2, y_test2),\n",
    "                               roc_auc_score(y_test2, Y_pp.class_1_pp),\n",
    "                               f1_score(y_test2, y_pred),\n",
    "                               precision_score(y_test2, y_pred),\n",
    "                               tn, fp, fn, tp\n",
    "                              ]"
   ]
  },
  {
   "cell_type": "markdown",
   "metadata": {},
   "source": [
    "## Logistic Regression"
   ]
  },
  {
   "cell_type": "code",
   "execution_count": 47,
   "metadata": {},
   "outputs": [
    {
     "name": "stdout",
     "output_type": "stream",
     "text": [
      "0.910994764398\n"
     ]
    }
   ],
   "source": [
    "import sklearn.linear_model\n",
    "lr = sklearn.linear_model.LogisticRegression(penalty='l1')\n",
    "lr.fit(X_train2, y_train2)\n",
    "y_pred_lr = lr.predict(X_test2)\n",
    "print lr.score(X_test2, y_test2)\n"
   ]
  },
  {
   "cell_type": "code",
   "execution_count": 48,
   "metadata": {},
   "outputs": [
    {
     "data": {
      "text/plain": [
       "array([[ 22,   9],\n",
       "       [  8, 152]])"
      ]
     },
     "execution_count": 48,
     "metadata": {},
     "output_type": "execute_result"
    }
   ],
   "source": [
    "sklearn.metrics.confusion_matrix(y_test2, y_pred_lr)"
   ]
  },
  {
   "cell_type": "code",
   "execution_count": 53,
   "metadata": {
    "collapsed": true
   },
   "outputs": [],
   "source": [
    "Y_pp = pd.DataFrame(lr.predict_proba(X_test2), columns=['class_0_pp','class_1_pp'])\n",
    "Y_pp['pred_class_thresh10'] = [1 if x >= 0.6 else 0 for x in Y_pp.class_1_pp.values]"
   ]
  },
  {
   "cell_type": "code",
   "execution_count": 54,
   "metadata": {
    "scrolled": true
   },
   "outputs": [
    {
     "data": {
      "text/plain": [
       "array([[ 23,   8],\n",
       "       [ 12, 148]])"
      ]
     },
     "execution_count": 54,
     "metadata": {},
     "output_type": "execute_result"
    }
   ],
   "source": [
    "sklearn.metrics.confusion_matrix(y_test2, Y_pp['pred_class_thresh10'])"
   ]
  },
  {
   "cell_type": "code",
   "execution_count": 39,
   "metadata": {
    "collapsed": true
   },
   "outputs": [],
   "source": [
    "tn, fp, fn, tp =sklearn.metrics.confusion_matrix(y_test2, \n",
    "                                                 Y_pp['pred_class_thresh10']).ravel()"
   ]
  },
  {
   "cell_type": "code",
   "execution_count": 55,
   "metadata": {},
   "outputs": [
    {
     "data": {
      "text/plain": [
       "0.91572580645161294"
      ]
     },
     "execution_count": 55,
     "metadata": {},
     "output_type": "execute_result"
    }
   ],
   "source": [
    "roc_auc_score(y_test2, Y_pp.class_1_pp)"
   ]
  },
  {
   "cell_type": "code",
   "execution_count": 41,
   "metadata": {
    "collapsed": true
   },
   "outputs": [],
   "source": [
    "from sklearn.metrics import accuracy_score\n",
    "scores['lr_syllabus'] = [accuracy_score(y_test2,Y_pp['pred_class_thresh10']),\n",
    "                               roc_auc_score(y_test2, Y_pp.class_1_pp),\n",
    "                               f1_score(y_test2, Y_pp['pred_class_thresh10']),\n",
    "                               precision_score(y_test2, Y_pp['pred_class_thresh10']),\n",
    "                               tn, fp, fn, tp\n",
    "                              ]"
   ]
  },
  {
   "cell_type": "code",
   "execution_count": null,
   "metadata": {
    "collapsed": true
   },
   "outputs": [],
   "source": []
  },
  {
   "cell_type": "markdown",
   "metadata": {},
   "source": [
    "## Deep Learning: Neural Network"
   ]
  },
  {
   "cell_type": "markdown",
   "metadata": {},
   "source": [
    "Keras"
   ]
  },
  {
   "cell_type": "code",
   "execution_count": 115,
   "metadata": {},
   "outputs": [
    {
     "data": {
      "text/plain": [
       "(571, 30)"
      ]
     },
     "execution_count": 115,
     "metadata": {},
     "output_type": "execute_result"
    }
   ],
   "source": [
    "X_train2.shape\n",
    "# there are 30 features"
   ]
  },
  {
   "cell_type": "code",
   "execution_count": 117,
   "metadata": {},
   "outputs": [
    {
     "name": "stdout",
     "output_type": "stream",
     "text": [
      "Training completed\n"
     ]
    }
   ],
   "source": [
    "from keras.models import Sequential\n",
    "from keras.layers import Dense\n",
    "import numpy as np\n",
    "model = Sequential()\n",
    "hidden_nodes = 20\n",
    "model.add(Dense(hidden_nodes, input_dim = 30, kernel_initializer = 'random_normal',\n",
    "               activation = 'sigmoid'))\n",
    "model.add(Dense(1, input_dim = hidden_nodes, kernel_initializer = 'random_normal',\n",
    "               activation = 'sigmoid'))\n",
    "model.compile(loss = 'binary_crossentropy',optimizer = 'sgd')\n",
    "model.fit(np.array(X_train2),np.array(y_train2),epochs=3000, verbose=0)\n",
    "print 'Training completed'\n"
   ]
  },
  {
   "cell_type": "code",
   "execution_count": 118,
   "metadata": {},
   "outputs": [
    {
     "data": {
      "text/plain": [
       "0.8534031413612565"
      ]
     },
     "execution_count": 118,
     "metadata": {},
     "output_type": "execute_result"
    }
   ],
   "source": [
    "from sklearn.metrics import accuracy_score\n",
    "y_pred = model.predict(np.array(X_test2))\n",
    "accuracy_score(y_test2,np.round(y_pred))"
   ]
  },
  {
   "cell_type": "code",
   "execution_count": 119,
   "metadata": {},
   "outputs": [
    {
     "name": "stdout",
     "output_type": "stream",
     "text": [
      "0.678427419355\n",
      "0.914634146341\n",
      "0.9413565819\n"
     ]
    }
   ],
   "source": [
    "from sklearn.metrics import roc_auc_score\n",
    "print roc_auc_score(y_test2, np.round(y_pred))\n",
    "from sklearn.metrics import f1_score\n",
    "print f1_score(y_test2, np.round(y_pred))\n",
    "from sklearn.metrics import average_precision_score\n",
    "print average_precision_score(y_test2, np.round(y_pred))"
   ]
  },
  {
   "cell_type": "code",
   "execution_count": null,
   "metadata": {
    "collapsed": true
   },
   "outputs": [],
   "source": [
    "import sklearn.metrics \n",
    "sklearn.metrics.confusion_matrix(y_test2, np.round(y_pred))"
   ]
  },
  {
   "cell_type": "markdown",
   "metadata": {},
   "source": [
    "### try to find the best parameter"
   ]
  },
  {
   "cell_type": "code",
   "execution_count": 823,
   "metadata": {
    "collapsed": true
   },
   "outputs": [],
   "source": [
    "def build_neural_network(hidden_units = 10):\n",
    "    model = Sequential()\n",
    "    model.add(Dense(hidden_units, input_dim = 30, kernel_initializer = 'random_normal',\n",
    "               activation = 'sigmoid'))\n",
    "    model.add(Dense(1, input_dim = hidden_units, kernel_initializer = 'random_normal',\n",
    "               activation = 'sigmoid'))\n",
    "    model.compile(loss = 'binary_crossentropy',optimizer = 'sgd')\n",
    "    return model"
   ]
  },
  {
   "cell_type": "code",
   "execution_count": 825,
   "metadata": {},
   "outputs": [
    {
     "data": {
      "text/plain": [
       "0.84704049844236751"
      ]
     },
     "execution_count": 825,
     "metadata": {},
     "output_type": "execute_result"
    }
   ],
   "source": [
    "from keras.wrappers.scikit_learn import KerasClassifier\n",
    "from sklearn.model_selection import cross_val_score\n",
    "model = KerasClassifier(build_fn= build_neural_network,epochs = 300, verbose = 0)\n",
    "results = cross_val_score(model, X = np.array(df4[:536]), y = np.array(yc),\n",
    "                         cv = 5, scoring = 'accuracy')\n",
    "np.mean(results)"
   ]
  },
  {
   "cell_type": "code",
   "execution_count": 827,
   "metadata": {
    "collapsed": true
   },
   "outputs": [],
   "source": [
    "from sklearn.model_selection import GridSearchCV\n",
    "model = KerasClassifier(build_fn=build_neural_network,hidden_units = 10,\n",
    "                       epochs = 300, verbose = 0)\n",
    "param_grid = {'hidden_units': [5,10,15, 20]}\n",
    "#param_grid = {'epochs' : [300,500,1000]}\n",
    "grid = GridSearchCV(model, param_grid,scoring='accuracy')\n",
    "results = grid.fit(np.array(df4[:536]),np.array(yc))\n"
   ]
  },
  {
   "cell_type": "code",
   "execution_count": 828,
   "metadata": {
    "collapsed": true
   },
   "outputs": [
    {
     "data": {
      "text/plain": [
       "{'hidden_units': 5}"
      ]
     },
     "execution_count": 828,
     "metadata": {},
     "output_type": "execute_result"
    }
   ],
   "source": [
    "results.best_params_"
   ]
  },
  {
   "cell_type": "code",
   "execution_count": 252,
   "metadata": {
    "collapsed": true
   },
   "outputs": [],
   "source": []
  },
  {
   "cell_type": "code",
   "execution_count": 120,
   "metadata": {
    "collapsed": true
   },
   "outputs": [],
   "source": [
    "tn, fp, fn, tp =sklearn.metrics.confusion_matrix(y_test2, \n",
    "                                                 np.round(y_pred)).ravel()\n",
    "scores['neutal_network_syllabus'] = [accuracy_score(y_test2,np.round(y_pred)),\n",
    "                               roc_auc_score(y_test2, y_pred),\n",
    "                               f1_score(y_test2, np.round(y_pred)),\n",
    "                               precision_score(y_test2, np.round(y_pred)),\n",
    "                               tn, fp, fn, tp\n",
    "                              ]"
   ]
  },
  {
   "cell_type": "code",
   "execution_count": 121,
   "metadata": {
    "collapsed": true
   },
   "outputs": [],
   "source": [
    "#del scores['lr_new_syllabus']"
   ]
  },
  {
   "cell_type": "markdown",
   "metadata": {},
   "source": [
    "## Compare the scores for different models"
   ]
  },
  {
   "cell_type": "code",
   "execution_count": 180,
   "metadata": {},
   "outputs": [
    {
     "data": {
      "text/html": [
       "<div>\n",
       "<style>\n",
       "    .dataframe thead tr:only-child th {\n",
       "        text-align: right;\n",
       "    }\n",
       "\n",
       "    .dataframe thead th {\n",
       "        text-align: left;\n",
       "    }\n",
       "\n",
       "    .dataframe tbody tr th {\n",
       "        vertical-align: top;\n",
       "    }\n",
       "</style>\n",
       "<table border=\"1\" class=\"dataframe\">\n",
       "  <thead>\n",
       "    <tr style=\"text-align: right;\">\n",
       "      <th></th>\n",
       "      <th>dtc_syllabus</th>\n",
       "      <th>rf_syllabus</th>\n",
       "      <th>knn_syllabus</th>\n",
       "      <th>lr_syllabus</th>\n",
       "      <th>neutal_network_syllabus</th>\n",
       "    </tr>\n",
       "  </thead>\n",
       "  <tbody>\n",
       "    <tr>\n",
       "      <th>accuracy</th>\n",
       "      <td>0.874346</td>\n",
       "      <td>0.863874</td>\n",
       "      <td>0.842932</td>\n",
       "      <td>0.853403</td>\n",
       "      <td>0.853403</td>\n",
       "    </tr>\n",
       "    <tr>\n",
       "      <th>roc_auc_score</th>\n",
       "      <td>0.863004</td>\n",
       "      <td>0.809173</td>\n",
       "      <td>0.857258</td>\n",
       "      <td>0.883065</td>\n",
       "      <td>0.884476</td>\n",
       "    </tr>\n",
       "    <tr>\n",
       "      <th>f1_score</th>\n",
       "      <td>0.928144</td>\n",
       "      <td>0.919753</td>\n",
       "      <td>0.911243</td>\n",
       "      <td>0.914110</td>\n",
       "      <td>0.914634</td>\n",
       "    </tr>\n",
       "    <tr>\n",
       "      <th>precision_score</th>\n",
       "      <td>0.890805</td>\n",
       "      <td>0.908537</td>\n",
       "      <td>0.865169</td>\n",
       "      <td>0.897590</td>\n",
       "      <td>0.892857</td>\n",
       "    </tr>\n",
       "    <tr>\n",
       "      <th>TN</th>\n",
       "      <td>12.000000</td>\n",
       "      <td>12.000000</td>\n",
       "      <td>7.000000</td>\n",
       "      <td>14.000000</td>\n",
       "      <td>13.000000</td>\n",
       "    </tr>\n",
       "    <tr>\n",
       "      <th>FP</th>\n",
       "      <td>19.000000</td>\n",
       "      <td>19.000000</td>\n",
       "      <td>24.000000</td>\n",
       "      <td>17.000000</td>\n",
       "      <td>18.000000</td>\n",
       "    </tr>\n",
       "    <tr>\n",
       "      <th>FN</th>\n",
       "      <td>5.000000</td>\n",
       "      <td>5.000000</td>\n",
       "      <td>6.000000</td>\n",
       "      <td>11.000000</td>\n",
       "      <td>10.000000</td>\n",
       "    </tr>\n",
       "    <tr>\n",
       "      <th>TP</th>\n",
       "      <td>155.000000</td>\n",
       "      <td>155.000000</td>\n",
       "      <td>154.000000</td>\n",
       "      <td>149.000000</td>\n",
       "      <td>150.000000</td>\n",
       "    </tr>\n",
       "  </tbody>\n",
       "</table>\n",
       "</div>"
      ],
      "text/plain": [
       "                 dtc_syllabus  rf_syllabus  knn_syllabus  lr_syllabus  \\\n",
       "accuracy             0.874346     0.863874      0.842932     0.853403   \n",
       "roc_auc_score        0.863004     0.809173      0.857258     0.883065   \n",
       "f1_score             0.928144     0.919753      0.911243     0.914110   \n",
       "precision_score      0.890805     0.908537      0.865169     0.897590   \n",
       "TN                  12.000000    12.000000      7.000000    14.000000   \n",
       "FP                  19.000000    19.000000     24.000000    17.000000   \n",
       "FN                   5.000000     5.000000      6.000000    11.000000   \n",
       "TP                 155.000000   155.000000    154.000000   149.000000   \n",
       "\n",
       "                 neutal_network_syllabus  \n",
       "accuracy                        0.853403  \n",
       "roc_auc_score                   0.884476  \n",
       "f1_score                        0.914634  \n",
       "precision_score                 0.892857  \n",
       "TN                             13.000000  \n",
       "FP                             18.000000  \n",
       "FN                             10.000000  \n",
       "TP                            150.000000  "
      ]
     },
     "execution_count": 180,
     "metadata": {},
     "output_type": "execute_result"
    }
   ],
   "source": [
    "scores"
   ]
  },
  {
   "cell_type": "code",
   "execution_count": 181,
   "metadata": {},
   "outputs": [
    {
     "data": {
      "text/plain": [
       "<matplotlib.axes._subplots.AxesSubplot at 0x12d811950>"
      ]
     },
     "execution_count": 181,
     "metadata": {},
     "output_type": "execute_result"
    },
    {
     "data": {
      "image/png": "[encoded data removed]",
      "text/plain": [
       "<matplotlib.figure.Figure at 0x12d7fb0d0>"
      ]
     },
     "metadata": {},
     "output_type": "display_data"
    }
   ],
   "source": [
    "\n",
    "scores.iloc[0:4].plot(cmap = 'rainbow_r',linewidth=3)"
   ]
  },
  {
   "cell_type": "markdown",
   "metadata": {},
   "source": [
    "## Logistic Regression - cross val score"
   ]
  },
  {
   "cell_type": "code",
   "execution_count": 132,
   "metadata": {
    "collapsed": true
   },
   "outputs": [],
   "source": [
    "df4_2 = df4.copy()\n",
    "\n",
    "# train test split\n",
    "from sklearn.model_selection import train_test_split\n",
    "X_train2,X_test2,y_train2,y_test2 = train_test_split(df4_2[:762],yc1,\n",
    "                                                     random_state = 29,\n",
    "                                                    )"
   ]
  },
  {
   "cell_type": "code",
   "execution_count": 133,
   "metadata": {},
   "outputs": [
    {
     "name": "stdout",
     "output_type": "stream",
     "text": [
      "0.921465968586\n"
     ]
    }
   ],
   "source": [
    "import sklearn.linear_model\n",
    "#lr = sklearn.linear_model.LogisticRegression()\n",
    "#lr.fit(X_train2, y_train2)\n",
    "#lr.fit(df4_2[:762], yc1)\n",
    "y_pred_lr = lr.predict(X_test2)\n",
    "print lr.score(X_test2, y_test2)\n"
   ]
  },
  {
   "cell_type": "code",
   "execution_count": 134,
   "metadata": {
    "collapsed": true
   },
   "outputs": [],
   "source": [
    "import sklearn.model_selection\n",
    "accuracy_lr = sklearn.model_selection.cross_val_score(lr, df4[:762],\n",
    "                                                      yc1['Band Year 9: Numeracy'], \n",
    "                                                      cv = 10,scoring = 'accuracy')\n",
    "roc_auc_score_lr = sklearn.model_selection.cross_val_score(lr, df4[:762],\n",
    "                                                      yc1['Band Year 9: Numeracy'], \n",
    "                                                      cv = 10,scoring = 'roc_auc')\n",
    "f1_score_lr = sklearn.model_selection.cross_val_score(lr, df4[:762],\n",
    "                                                      yc1['Band Year 9: Numeracy'], \n",
    "                                                      cv = 10,scoring = 'f1')\n",
    "precision_score_lr = sklearn.model_selection.cross_val_score(lr, df4[:762],\n",
    "                                                      yc1['Band Year 9: Numeracy'], \n",
    "                                                      cv = 10,scoring = 'precision')\n",
    "precision_score_lr2 = sklearn.model_selection.cross_val_score(lr, df4[:762],\n",
    "                                                      yc1['Band Year 9: Numeracy'], \n",
    "                                                      cv = 10,scoring = 'average_precision')\n"
   ]
  },
  {
   "cell_type": "code",
   "execution_count": 135,
   "metadata": {
    "collapsed": true
   },
   "outputs": [],
   "source": [
    "import sklearn.model_selection\n",
    "accuracy_lr = sklearn.model_selection.cross_val_score(lr, X_test2, y_test2['Band Year 9: Numeracy'], \n",
    "                                                      cv = 10,scoring = 'accuracy')\n",
    "roc_auc_score_lr = sklearn.model_selection.cross_val_score(lr, X_test2, y_test2['Band Year 9: Numeracy'], \n",
    "                                                      cv = 10,scoring = 'roc_auc')\n",
    "f1_score_lr = sklearn.model_selection.cross_val_score(lr, X_test2, y_test2['Band Year 9: Numeracy'], \n",
    "                                                      cv = 10,scoring = 'f1')\n",
    "precision_score_lr = sklearn.model_selection.cross_val_score(lr, X_test2, y_test2['Band Year 9: Numeracy'], \n",
    "                                                      cv = 10,scoring = 'precision')\n"
   ]
  },
  {
   "cell_type": "code",
   "execution_count": 136,
   "metadata": {},
   "outputs": [
    {
     "data": {
      "text/plain": [
       "[0.90605263157894744,\n",
       " 0.89411764705882357,\n",
       " 0.94951093951093957,\n",
       " 0.9145321637426902]"
      ]
     },
     "execution_count": 136,
     "metadata": {},
     "output_type": "execute_result"
    }
   ],
   "source": [
    "[np.mean(accuracy_lr),\n",
    "np.mean(roc_auc_score_lr),\n",
    "np.mean(f1_score_lr),\n",
    "np.mean(precision_score_lr)]"
   ]
  },
  {
   "cell_type": "code",
   "execution_count": 137,
   "metadata": {},
   "outputs": [
    {
     "data": {
      "text/plain": [
       "array([[  9,  12],\n",
       "       [  3, 167]])"
      ]
     },
     "execution_count": 137,
     "metadata": {},
     "output_type": "execute_result"
    }
   ],
   "source": [
    "sklearn.metrics.confusion_matrix(y_test2, y_pred_lr)\n"
   ]
  },
  {
   "cell_type": "code",
   "execution_count": 392,
   "metadata": {
    "collapsed": true
   },
   "outputs": [],
   "source": [
    "Y_pp = pd.DataFrame(lr.predict_proba(X_test2), columns=['class_0_pp','class_1_pp'])\n",
    "Y_pp['pred_class_thresh10'] = [1 if x >= 0.9 else 0 for x in Y_pp.class_1_pp.values]"
   ]
  },
  {
   "cell_type": "code",
   "execution_count": 393,
   "metadata": {},
   "outputs": [
    {
     "data": {
      "text/plain": [
       "array([[ 20,   1],\n",
       "       [ 45, 125]])"
      ]
     },
     "execution_count": 393,
     "metadata": {},
     "output_type": "execute_result"
    }
   ],
   "source": [
    "sklearn.metrics.confusion_matrix(y_test2, Y_pp['pred_class_thresh10'])\n"
   ]
  },
  {
   "cell_type": "code",
   "execution_count": null,
   "metadata": {
    "collapsed": true
   },
   "outputs": [],
   "source": []
  },
  {
   "cell_type": "markdown",
   "metadata": {},
   "source": [
    "### Scores analysis:\n",
    "\n",
    "According to the scores, I will choose Logistic Regression as the model."
   ]
  },
  {
   "cell_type": "code",
   "execution_count": 131,
   "metadata": {},
   "outputs": [
    {
     "data": {
      "image/png": "[encoded data removed]",
      "text/plain": [
       "<matplotlib.figure.Figure at 0x1130f76d0>"
      ]
     },
     "metadata": {},
     "output_type": "display_data"
    }
   ],
   "source": [
    "# ROC Plot\n",
    "Y_pp = pd.DataFrame(lr.predict_proba(X_test2), columns=['class_0_pp','class_1_pp'])\n",
    "\n",
    "\n",
    "from sklearn.metrics import roc_curve, auc\n",
    "fpr, tpr, _ = roc_curve(y_test2, Y_pp.class_1_pp)\n",
    "\n",
    "roc_auc = auc(fpr, tpr) \n",
    "# Plot of a ROC curve for class 1 \n",
    "plt.figure(figsize=[6,6])\n",
    "plt.plot(fpr, tpr, label='ROC curve (area = %0.2f)' % roc_auc, linewidth=4,c = 'blue')\n",
    "\n",
    "plt.plot([0, 1], [0, 1], 'k--', linewidth=4)\n",
    "plt.xlim([-0.05, 1.0])\n",
    "plt.ylim([-0.05, 1.05])\n",
    "plt.xlabel('False Positive Rate', fontsize=18)\n",
    "plt.ylabel('True Positive Rate', fontsize=18)\n",
    "plt.title('y9 band', fontsize=18)\n",
    "plt.legend(loc=\"lower right\")\n",
    "plt.show()"
   ]
  },
  {
   "cell_type": "code",
   "execution_count": 140,
   "metadata": {
    "scrolled": false
   },
   "outputs": [
    {
     "data": {
      "text/html": [
       "<div>\n",
       "<style>\n",
       "    .dataframe thead tr:only-child th {\n",
       "        text-align: right;\n",
       "    }\n",
       "\n",
       "    .dataframe thead th {\n",
       "        text-align: left;\n",
       "    }\n",
       "\n",
       "    .dataframe tbody tr th {\n",
       "        vertical-align: top;\n",
       "    }\n",
       "</style>\n",
       "<table border=\"1\" class=\"dataframe\">\n",
       "  <thead>\n",
       "    <tr style=\"text-align: right;\">\n",
       "      <th></th>\n",
       "      <th>question</th>\n",
       "      <th>strength</th>\n",
       "    </tr>\n",
       "  </thead>\n",
       "  <tbody>\n",
       "    <tr>\n",
       "      <th>11</th>\n",
       "      <td>Fractions, Decimals and Percentages</td>\n",
       "      <td>3.380297</td>\n",
       "    </tr>\n",
       "    <tr>\n",
       "      <th>6</th>\n",
       "      <td>Data</td>\n",
       "      <td>1.903522</td>\n",
       "    </tr>\n",
       "    <tr>\n",
       "      <th>16</th>\n",
       "      <td>Multiplication and Division</td>\n",
       "      <td>1.040753</td>\n",
       "    </tr>\n",
       "    <tr>\n",
       "      <th>17</th>\n",
       "      <td>Patterns and Algebra</td>\n",
       "      <td>1.016135</td>\n",
       "    </tr>\n",
       "    <tr>\n",
       "      <th>12</th>\n",
       "      <td>Indices</td>\n",
       "      <td>0.901886</td>\n",
       "    </tr>\n",
       "    <tr>\n",
       "      <th>21</th>\n",
       "      <td>Ratios and Rates</td>\n",
       "      <td>0.742824</td>\n",
       "    </tr>\n",
       "    <tr>\n",
       "      <th>20</th>\n",
       "      <td>Properties of Geometrical Figures</td>\n",
       "      <td>0.722016</td>\n",
       "    </tr>\n",
       "    <tr>\n",
       "      <th>2</th>\n",
       "      <td>Angles</td>\n",
       "      <td>0.713007</td>\n",
       "    </tr>\n",
       "    <tr>\n",
       "      <th>23</th>\n",
       "      <td>Three-Dimensional Space</td>\n",
       "      <td>0.656721</td>\n",
       "    </tr>\n",
       "    <tr>\n",
       "      <th>9</th>\n",
       "      <td>Financial Mathematics</td>\n",
       "      <td>0.655975</td>\n",
       "    </tr>\n",
       "    <tr>\n",
       "      <th>27</th>\n",
       "      <td>Volume and Capacity</td>\n",
       "      <td>0.645947</td>\n",
       "    </tr>\n",
       "    <tr>\n",
       "      <th>18</th>\n",
       "      <td>Position</td>\n",
       "      <td>0.479549</td>\n",
       "    </tr>\n",
       "    <tr>\n",
       "      <th>22</th>\n",
       "      <td>Single Variable Data Analysis</td>\n",
       "      <td>0.371362</td>\n",
       "    </tr>\n",
       "    <tr>\n",
       "      <th>4</th>\n",
       "      <td>Chance</td>\n",
       "      <td>0.337630</td>\n",
       "    </tr>\n",
       "    <tr>\n",
       "      <th>14</th>\n",
       "      <td>Linear Relationships</td>\n",
       "      <td>0.303433</td>\n",
       "    </tr>\n",
       "    <tr>\n",
       "      <th>10</th>\n",
       "      <td>Fractions and Decimals</td>\n",
       "      <td>0.297193</td>\n",
       "    </tr>\n",
       "    <tr>\n",
       "      <th>0</th>\n",
       "      <td>Addition and Subtraction</td>\n",
       "      <td>0.201833</td>\n",
       "    </tr>\n",
       "    <tr>\n",
       "      <th>15</th>\n",
       "      <td>Mass</td>\n",
       "      <td>0.198449</td>\n",
       "    </tr>\n",
       "    <tr>\n",
       "      <th>24</th>\n",
       "      <td>Time</td>\n",
       "      <td>0.160418</td>\n",
       "    </tr>\n",
       "    <tr>\n",
       "      <th>28</th>\n",
       "      <td>Whole Numbers</td>\n",
       "      <td>0.053547</td>\n",
       "    </tr>\n",
       "    <tr>\n",
       "      <th>1</th>\n",
       "      <td>Algebraic Techniques</td>\n",
       "      <td>0.000000</td>\n",
       "    </tr>\n",
       "    <tr>\n",
       "      <th>13</th>\n",
       "      <td>Length</td>\n",
       "      <td>0.000000</td>\n",
       "    </tr>\n",
       "    <tr>\n",
       "      <th>8</th>\n",
       "      <td>Equations</td>\n",
       "      <td>0.000000</td>\n",
       "    </tr>\n",
       "    <tr>\n",
       "      <th>25</th>\n",
       "      <td>Two-Dimensional Space</td>\n",
       "      <td>0.000000</td>\n",
       "    </tr>\n",
       "    <tr>\n",
       "      <th>26</th>\n",
       "      <td>Volume</td>\n",
       "      <td>0.000000</td>\n",
       "    </tr>\n",
       "    <tr>\n",
       "      <th>3</th>\n",
       "      <td>Area</td>\n",
       "      <td>0.000000</td>\n",
       "    </tr>\n",
       "    <tr>\n",
       "      <th>29</th>\n",
       "      <td>y7_band</td>\n",
       "      <td>0.000000</td>\n",
       "    </tr>\n",
       "    <tr>\n",
       "      <th>7</th>\n",
       "      <td>Data Collection and Representation</td>\n",
       "      <td>-0.064992</td>\n",
       "    </tr>\n",
       "    <tr>\n",
       "      <th>19</th>\n",
       "      <td>Probability</td>\n",
       "      <td>-0.065396</td>\n",
       "    </tr>\n",
       "    <tr>\n",
       "      <th>5</th>\n",
       "      <td>Computation with Integers</td>\n",
       "      <td>-0.327209</td>\n",
       "    </tr>\n",
       "  </tbody>\n",
       "</table>\n",
       "</div>"
      ],
      "text/plain": [
       "                               question  strength\n",
       "11  Fractions, Decimals and Percentages  3.380297\n",
       "6                                  Data  1.903522\n",
       "16          Multiplication and Division  1.040753\n",
       "17                 Patterns and Algebra  1.016135\n",
       "12                              Indices  0.901886\n",
       "21                     Ratios and Rates  0.742824\n",
       "20    Properties of Geometrical Figures  0.722016\n",
       "2                                Angles  0.713007\n",
       "23              Three-Dimensional Space  0.656721\n",
       "9                 Financial Mathematics  0.655975\n",
       "27                  Volume and Capacity  0.645947\n",
       "18                             Position  0.479549\n",
       "22        Single Variable Data Analysis  0.371362\n",
       "4                                Chance  0.337630\n",
       "14                 Linear Relationships  0.303433\n",
       "10               Fractions and Decimals  0.297193\n",
       "0              Addition and Subtraction  0.201833\n",
       "15                                 Mass  0.198449\n",
       "24                                 Time  0.160418\n",
       "28                        Whole Numbers  0.053547\n",
       "1                  Algebraic Techniques  0.000000\n",
       "13                               Length  0.000000\n",
       "8                             Equations  0.000000\n",
       "25                Two-Dimensional Space  0.000000\n",
       "26                               Volume  0.000000\n",
       "3                                  Area  0.000000\n",
       "29                              y7_band  0.000000\n",
       "7    Data Collection and Representation -0.064992\n",
       "19                          Probability -0.065396\n",
       "5             Computation with Integers -0.327209"
      ]
     },
     "execution_count": 140,
     "metadata": {},
     "output_type": "execute_result"
    }
   ],
   "source": [
    "lr_coef1 = pd.DataFrame({\n",
    "    'strength': lr.coef_[0,:],\n",
    "    'question': X_train2.columns\n",
    "}).sort_values('strength', ascending = False)\n",
    "lr_coef1"
   ]
  },
  {
   "cell_type": "code",
   "execution_count": null,
   "metadata": {
    "collapsed": true
   },
   "outputs": [],
   "source": []
  },
  {
   "cell_type": "code",
   "execution_count": 141,
   "metadata": {},
   "outputs": [
    {
     "data": {
      "text/plain": [
       "<matplotlib.axes._subplots.AxesSubplot at 0x112dbf390>"
      ]
     },
     "execution_count": 141,
     "metadata": {},
     "output_type": "execute_result"
    },
    {
     "data": {
      "image/png": "[encoded data removed]",
      "text/plain": [
       "<matplotlib.figure.Figure at 0x10ecb46d0>"
      ]
     },
     "metadata": {},
     "output_type": "display_data"
    }
   ],
   "source": [
    "sns.barplot(x = 'strength', y ='question',data = lr_coef1[:5] )"
   ]
  },
  {
   "cell_type": "code",
   "execution_count": null,
   "metadata": {
    "collapsed": true
   },
   "outputs": [],
   "source": []
  },
  {
   "cell_type": "code",
   "execution_count": 238,
   "metadata": {
    "collapsed": true
   },
   "outputs": [],
   "source": [
    "new_columns_2016 = [syllabus_dict.get(i,0) for i in list(X_y7_2016.columns) ]\n",
    "new_columns_2017 = [syllabus_dict.get(i,0) for i in list(X_y7_2017.columns) ]"
   ]
  },
  {
   "cell_type": "code",
   "execution_count": null,
   "metadata": {
    "collapsed": true
   },
   "outputs": [],
   "source": []
  },
  {
   "cell_type": "markdown",
   "metadata": {
    "collapsed": true
   },
   "source": [
    "# Application"
   ]
  },
  {
   "cell_type": "code",
   "execution_count": 118,
   "metadata": {},
   "outputs": [
    {
     "data": {
      "text/plain": [
       "(762, 1)"
      ]
     },
     "execution_count": 118,
     "metadata": {},
     "output_type": "execute_result"
    }
   ],
   "source": [
    "yc1.shape"
   ]
  },
  {
   "cell_type": "code",
   "execution_count": 143,
   "metadata": {},
   "outputs": [
    {
     "data": {
      "text/plain": [
       "((206, 31), (210, 24), (186, 31))"
      ]
     },
     "execution_count": 143,
     "metadata": {},
     "output_type": "execute_result"
    }
   ],
   "source": [
    "X_y7_2016.shape,X_y7_2017.shape,X_y7_2015.shape"
   ]
  },
  {
   "cell_type": "code",
   "execution_count": 144,
   "metadata": {
    "collapsed": true
   },
   "outputs": [],
   "source": [
    "y_2015_xdf = df4[576:762]\n",
    "y_2016_xdf = df4[762:968]\n",
    "y_2017_xdf = df4[968:]"
   ]
  },
  {
   "cell_type": "code",
   "execution_count": 145,
   "metadata": {},
   "outputs": [
    {
     "data": {
      "text/plain": [
       "((206, 30), (210, 30), (186, 30))"
      ]
     },
     "execution_count": 145,
     "metadata": {},
     "output_type": "execute_result"
    }
   ],
   "source": [
    "y_2016_xdf.shape,y_2017_xdf.shape,y_2015_xdf.shape"
   ]
  },
  {
   "cell_type": "markdown",
   "metadata": {},
   "source": [
    "**2015**"
   ]
  },
  {
   "cell_type": "code",
   "execution_count": 146,
   "metadata": {
    "collapsed": true
   },
   "outputs": [],
   "source": [
    "pred_future2015= lr.predict(y_2015_xdf)"
   ]
  },
  {
   "cell_type": "code",
   "execution_count": 163,
   "metadata": {
    "collapsed": true
   },
   "outputs": [],
   "source": [
    "Y_pp2015 = pd.DataFrame(lr.predict_proba(y_2015_xdf), columns=['class_0_pp','class_1_pp'])\n",
    "Y_pp2015['pred_class_thresh1'] = [1 if x >= 0.4 else 0 for x in Y_pp2015.class_1_pp.values]\n",
    "Y_pp2015['pred_class_thresh2'] = [1 if x >= 0.8 else 0 for x in Y_pp2015.class_1_pp.values]\n",
    "# 0.5, 0.7,0.85"
   ]
  },
  {
   "cell_type": "code",
   "execution_count": 164,
   "metadata": {},
   "outputs": [
    {
     "data": {
      "text/plain": [
       "array([[ 16,  14],\n",
       "       [  7, 149]])"
      ]
     },
     "execution_count": 164,
     "metadata": {},
     "output_type": "execute_result"
    }
   ],
   "source": [
    "sklearn.metrics.confusion_matrix(yc2015, pred_future2015)"
   ]
  },
  {
   "cell_type": "code",
   "execution_count": 165,
   "metadata": {},
   "outputs": [
    {
     "data": {
      "text/plain": [
       "array([[ 14,  16],\n",
       "       [  3, 153]])"
      ]
     },
     "execution_count": 165,
     "metadata": {},
     "output_type": "execute_result"
    }
   ],
   "source": [
    "sklearn.metrics.confusion_matrix(yc2015, Y_pp2015['pred_class_thresh1'] )"
   ]
  },
  {
   "cell_type": "code",
   "execution_count": 166,
   "metadata": {},
   "outputs": [
    {
     "data": {
      "text/plain": [
       "array([[ 26,   4],\n",
       "       [ 27, 129]])"
      ]
     },
     "execution_count": 166,
     "metadata": {},
     "output_type": "execute_result"
    }
   ],
   "source": [
    "sklearn.metrics.confusion_matrix(yc2015, Y_pp2015['pred_class_thresh2'])"
   ]
  },
  {
   "cell_type": "code",
   "execution_count": 167,
   "metadata": {},
   "outputs": [
    {
     "data": {
      "text/plain": [
       "array([ 23, 163])"
      ]
     },
     "execution_count": 167,
     "metadata": {},
     "output_type": "execute_result"
    }
   ],
   "source": [
    "np.bincount(pred_future2015)"
   ]
  },
  {
   "cell_type": "code",
   "execution_count": 168,
   "metadata": {},
   "outputs": [
    {
     "data": {
      "text/plain": [
       "array([ 17, 169])"
      ]
     },
     "execution_count": 168,
     "metadata": {},
     "output_type": "execute_result"
    }
   ],
   "source": [
    "np.bincount(Y_pp2015['pred_class_thresh1'] )"
   ]
  },
  {
   "cell_type": "code",
   "execution_count": 169,
   "metadata": {},
   "outputs": [
    {
     "data": {
      "text/plain": [
       "array([ 53, 133])"
      ]
     },
     "execution_count": 169,
     "metadata": {},
     "output_type": "execute_result"
    }
   ],
   "source": [
    "np.bincount(Y_pp2015['pred_class_thresh2'] )"
   ]
  },
  {
   "cell_type": "code",
   "execution_count": null,
   "metadata": {
    "collapsed": true
   },
   "outputs": [],
   "source": []
  },
  {
   "cell_type": "code",
   "execution_count": null,
   "metadata": {
    "collapsed": true
   },
   "outputs": [],
   "source": []
  },
  {
   "cell_type": "markdown",
   "metadata": {},
   "source": [
    "# the reason for a particlar student why is fail"
   ]
  },
  {
   "cell_type": "code",
   "execution_count": 170,
   "metadata": {},
   "outputs": [
    {
     "data": {
      "text/plain": [
       "array([ True], dtype=bool)"
      ]
     },
     "execution_count": 170,
     "metadata": {},
     "output_type": "execute_result"
    }
   ],
   "source": [
    "\n",
    "lr.predict(y_2015_xdf.iloc[[1]])"
   ]
  },
  {
   "cell_type": "code",
   "execution_count": 171,
   "metadata": {},
   "outputs": [
    {
     "data": {
      "text/plain": [
       "array([-6.5449182])"
      ]
     },
     "execution_count": 171,
     "metadata": {},
     "output_type": "execute_result"
    }
   ],
   "source": [
    "lr.intercept_"
   ]
  },
  {
   "cell_type": "code",
   "execution_count": 172,
   "metadata": {},
   "outputs": [
    {
     "data": {
      "text/plain": [
       "array([[ 0.01226851,  0.98773149]])"
      ]
     },
     "execution_count": 172,
     "metadata": {},
     "output_type": "execute_result"
    }
   ],
   "source": [
    "lr.predict_proba(y_2015_xdf.iloc[[1]])"
   ]
  },
  {
   "cell_type": "code",
   "execution_count": 183,
   "metadata": {},
   "outputs": [
    {
     "data": {
      "text/plain": [
       "0.98773148850072556"
      ]
     },
     "execution_count": 183,
     "metadata": {},
     "output_type": "execute_result"
    }
   ],
   "source": [
    "x=4.3883749488770807\n",
    "np.exp(x) / (np.exp(x)*1.0+1) "
   ]
  },
  {
   "cell_type": "code",
   "execution_count": 184,
   "metadata": {},
   "outputs": [
    {
     "data": {
      "text/html": [
       "<div>\n",
       "<style>\n",
       "    .dataframe thead tr:only-child th {\n",
       "        text-align: right;\n",
       "    }\n",
       "\n",
       "    .dataframe thead th {\n",
       "        text-align: left;\n",
       "    }\n",
       "\n",
       "    .dataframe tbody tr th {\n",
       "        vertical-align: top;\n",
       "    }\n",
       "</style>\n",
       "<table border=\"1\" class=\"dataframe\">\n",
       "  <thead>\n",
       "    <tr style=\"text-align: right;\">\n",
       "      <th>index</th>\n",
       "      <th>Addition and Subtraction</th>\n",
       "      <th>Algebraic Techniques</th>\n",
       "      <th>Angles</th>\n",
       "      <th>Area</th>\n",
       "      <th>Chance</th>\n",
       "      <th>Computation with Integers</th>\n",
       "      <th>Data</th>\n",
       "      <th>Data Collection and Representation</th>\n",
       "      <th>Equations</th>\n",
       "      <th>Financial Mathematics</th>\n",
       "      <th>...</th>\n",
       "      <th>Properties of Geometrical Figures</th>\n",
       "      <th>Ratios and Rates</th>\n",
       "      <th>Single Variable Data Analysis</th>\n",
       "      <th>Three-Dimensional Space</th>\n",
       "      <th>Time</th>\n",
       "      <th>Two-Dimensional Space</th>\n",
       "      <th>Volume</th>\n",
       "      <th>Volume and Capacity</th>\n",
       "      <th>Whole Numbers</th>\n",
       "      <th>y7_band</th>\n",
       "    </tr>\n",
       "    <tr>\n",
       "      <th>SRN</th>\n",
       "      <th></th>\n",
       "      <th></th>\n",
       "      <th></th>\n",
       "      <th></th>\n",
       "      <th></th>\n",
       "      <th></th>\n",
       "      <th></th>\n",
       "      <th></th>\n",
       "      <th></th>\n",
       "      <th></th>\n",
       "      <th></th>\n",
       "      <th></th>\n",
       "      <th></th>\n",
       "      <th></th>\n",
       "      <th></th>\n",
       "      <th></th>\n",
       "      <th></th>\n",
       "      <th></th>\n",
       "      <th></th>\n",
       "      <th></th>\n",
       "      <th></th>\n",
       "    </tr>\n",
       "  </thead>\n",
       "  <tbody>\n",
       "    <tr>\n",
       "      <th>433787013</th>\n",
       "      <td>0.5</td>\n",
       "      <td>0.333333</td>\n",
       "      <td>1.0</td>\n",
       "      <td>1.0</td>\n",
       "      <td>0.5</td>\n",
       "      <td>0.5</td>\n",
       "      <td>0.666667</td>\n",
       "      <td>0.491803</td>\n",
       "      <td>1.0</td>\n",
       "      <td>0.483498</td>\n",
       "      <td>...</td>\n",
       "      <td>0.5</td>\n",
       "      <td>1.0</td>\n",
       "      <td>0.415842</td>\n",
       "      <td>0.666667</td>\n",
       "      <td>0.5</td>\n",
       "      <td>1.0</td>\n",
       "      <td>0.942857</td>\n",
       "      <td>1.0</td>\n",
       "      <td>0.628303</td>\n",
       "      <td>0.9</td>\n",
       "    </tr>\n",
       "  </tbody>\n",
       "</table>\n",
       "<p>1 rows × 30 columns</p>\n",
       "</div>"
      ],
      "text/plain": [
       "index      Addition and Subtraction  Algebraic Techniques  Angles  Area  \\\n",
       "SRN                                                                       \n",
       "433787013                       0.5              0.333333     1.0   1.0   \n",
       "\n",
       "index      Chance  Computation with Integers      Data  \\\n",
       "SRN                                                      \n",
       "433787013     0.5                        0.5  0.666667   \n",
       "\n",
       "index      Data Collection and Representation  Equations  \\\n",
       "SRN                                                        \n",
       "433787013                            0.491803        1.0   \n",
       "\n",
       "index      Financial Mathematics   ...     Properties of Geometrical Figures  \\\n",
       "SRN                                ...                                         \n",
       "433787013               0.483498   ...                                   0.5   \n",
       "\n",
       "index      Ratios and Rates  Single Variable Data Analysis  \\\n",
       "SRN                                                          \n",
       "433787013               1.0                       0.415842   \n",
       "\n",
       "index      Three-Dimensional Space  Time  Two-Dimensional Space    Volume  \\\n",
       "SRN                                                                         \n",
       "433787013                 0.666667   0.5                    1.0  0.942857   \n",
       "\n",
       "index      Volume and Capacity  Whole Numbers  y7_band  \n",
       "SRN                                                     \n",
       "433787013                  1.0       0.628303      0.9  \n",
       "\n",
       "[1 rows x 30 columns]"
      ]
     },
     "execution_count": 184,
     "metadata": {},
     "output_type": "execute_result"
    }
   ],
   "source": [
    "y_2015_xdf.iloc[[1]]"
   ]
  },
  {
   "cell_type": "code",
   "execution_count": 177,
   "metadata": {},
   "outputs": [
    {
     "data": {
      "text/plain": [
       "False"
      ]
     },
     "execution_count": 177,
     "metadata": {},
     "output_type": "execute_result"
    }
   ],
   "source": [
    "yc2015.iloc[2]"
   ]
  },
  {
   "cell_type": "code",
   "execution_count": 178,
   "metadata": {
    "collapsed": true
   },
   "outputs": [],
   "source": [
    "student1 = y_2015_xdf.iloc[[1]].T\n",
    "new1 = pd.merge(student1,lr_coef1,left_index=True, right_on='question')"
   ]
  },
  {
   "cell_type": "code",
   "execution_count": 179,
   "metadata": {},
   "outputs": [
    {
     "data": {
      "text/plain": [
       "Index([433787013, u'question', u'strength'], dtype='object')"
      ]
     },
     "execution_count": 179,
     "metadata": {},
     "output_type": "execute_result"
    }
   ],
   "source": [
    "new1.columns"
   ]
  },
  {
   "cell_type": "code",
   "execution_count": 180,
   "metadata": {
    "collapsed": true
   },
   "outputs": [],
   "source": [
    "new1['score'] = new1[433787013]*new1.strength"
   ]
  },
  {
   "cell_type": "code",
   "execution_count": 182,
   "metadata": {},
   "outputs": [
    {
     "data": {
      "text/plain": [
       "4.3883749488770807"
      ]
     },
     "execution_count": 182,
     "metadata": {},
     "output_type": "execute_result"
    }
   ],
   "source": [
    "sum(new1.score) - 6.5449182"
   ]
  },
  {
   "cell_type": "code",
   "execution_count": 185,
   "metadata": {},
   "outputs": [
    {
     "data": {
      "text/html": [
       "<div>\n",
       "<style>\n",
       "    .dataframe thead tr:only-child th {\n",
       "        text-align: right;\n",
       "    }\n",
       "\n",
       "    .dataframe thead th {\n",
       "        text-align: left;\n",
       "    }\n",
       "\n",
       "    .dataframe tbody tr th {\n",
       "        vertical-align: top;\n",
       "    }\n",
       "</style>\n",
       "<table border=\"1\" class=\"dataframe\">\n",
       "  <thead>\n",
       "    <tr style=\"text-align: right;\">\n",
       "      <th></th>\n",
       "      <th>433787013</th>\n",
       "      <th>question</th>\n",
       "      <th>strength</th>\n",
       "      <th>score</th>\n",
       "    </tr>\n",
       "  </thead>\n",
       "  <tbody>\n",
       "    <tr>\n",
       "      <th>11</th>\n",
       "      <td>0.875000</td>\n",
       "      <td>Fractions, Decimals and Percentages</td>\n",
       "      <td>3.380297</td>\n",
       "      <td>2.957760</td>\n",
       "    </tr>\n",
       "    <tr>\n",
       "      <th>6</th>\n",
       "      <td>0.666667</td>\n",
       "      <td>Data</td>\n",
       "      <td>1.903522</td>\n",
       "      <td>1.269015</td>\n",
       "    </tr>\n",
       "    <tr>\n",
       "      <th>16</th>\n",
       "      <td>0.818182</td>\n",
       "      <td>Multiplication and Division</td>\n",
       "      <td>1.040753</td>\n",
       "      <td>0.851525</td>\n",
       "    </tr>\n",
       "    <tr>\n",
       "      <th>21</th>\n",
       "      <td>1.000000</td>\n",
       "      <td>Ratios and Rates</td>\n",
       "      <td>0.742824</td>\n",
       "      <td>0.742824</td>\n",
       "    </tr>\n",
       "    <tr>\n",
       "      <th>12</th>\n",
       "      <td>0.817010</td>\n",
       "      <td>Indices</td>\n",
       "      <td>0.901886</td>\n",
       "      <td>0.736850</td>\n",
       "    </tr>\n",
       "  </tbody>\n",
       "</table>\n",
       "</div>"
      ],
      "text/plain": [
       "    433787013                             question  strength     score\n",
       "11   0.875000  Fractions, Decimals and Percentages  3.380297  2.957760\n",
       "6    0.666667                                 Data  1.903522  1.269015\n",
       "16   0.818182          Multiplication and Division  1.040753  0.851525\n",
       "21   1.000000                     Ratios and Rates  0.742824  0.742824\n",
       "12   0.817010                              Indices  0.901886  0.736850"
      ]
     },
     "execution_count": 185,
     "metadata": {},
     "output_type": "execute_result"
    }
   ],
   "source": [
    "new1.sort_values('score', ascending=False).head()"
   ]
  },
  {
   "cell_type": "code",
   "execution_count": 186,
   "metadata": {},
   "outputs": [
    {
     "data": {
      "text/html": [
       "<div>\n",
       "<style>\n",
       "    .dataframe thead tr:only-child th {\n",
       "        text-align: right;\n",
       "    }\n",
       "\n",
       "    .dataframe thead th {\n",
       "        text-align: left;\n",
       "    }\n",
       "\n",
       "    .dataframe tbody tr th {\n",
       "        vertical-align: top;\n",
       "    }\n",
       "</style>\n",
       "<table border=\"1\" class=\"dataframe\">\n",
       "  <thead>\n",
       "    <tr style=\"text-align: right;\">\n",
       "      <th></th>\n",
       "      <th>question</th>\n",
       "      <th>strength</th>\n",
       "    </tr>\n",
       "  </thead>\n",
       "  <tbody>\n",
       "    <tr>\n",
       "      <th>11</th>\n",
       "      <td>Fractions, Decimals and Percentages</td>\n",
       "      <td>3.380297</td>\n",
       "    </tr>\n",
       "    <tr>\n",
       "      <th>6</th>\n",
       "      <td>Data</td>\n",
       "      <td>1.903522</td>\n",
       "    </tr>\n",
       "    <tr>\n",
       "      <th>16</th>\n",
       "      <td>Multiplication and Division</td>\n",
       "      <td>1.040753</td>\n",
       "    </tr>\n",
       "    <tr>\n",
       "      <th>17</th>\n",
       "      <td>Patterns and Algebra</td>\n",
       "      <td>1.016135</td>\n",
       "    </tr>\n",
       "    <tr>\n",
       "      <th>12</th>\n",
       "      <td>Indices</td>\n",
       "      <td>0.901886</td>\n",
       "    </tr>\n",
       "  </tbody>\n",
       "</table>\n",
       "</div>"
      ],
      "text/plain": [
       "                               question  strength\n",
       "11  Fractions, Decimals and Percentages  3.380297\n",
       "6                                  Data  1.903522\n",
       "16          Multiplication and Division  1.040753\n",
       "17                 Patterns and Algebra  1.016135\n",
       "12                              Indices  0.901886"
      ]
     },
     "execution_count": 186,
     "metadata": {},
     "output_type": "execute_result"
    }
   ],
   "source": [
    "lr_coef1.head()"
   ]
  },
  {
   "cell_type": "code",
   "execution_count": 187,
   "metadata": {
    "collapsed": true
   },
   "outputs": [],
   "source": [
    "all_student = pd.DataFrame(df4[:762].mean())\n",
    "new2 = pd.merge(all_student,lr_coef1,left_index=True, right_on='question')\n",
    "new2.columns = ['mean_Score','question','strength']"
   ]
  },
  {
   "cell_type": "code",
   "execution_count": 188,
   "metadata": {},
   "outputs": [
    {
     "data": {
      "text/html": [
       "<div>\n",
       "<style>\n",
       "    .dataframe thead tr:only-child th {\n",
       "        text-align: right;\n",
       "    }\n",
       "\n",
       "    .dataframe thead th {\n",
       "        text-align: left;\n",
       "    }\n",
       "\n",
       "    .dataframe tbody tr th {\n",
       "        vertical-align: top;\n",
       "    }\n",
       "</style>\n",
       "<table border=\"1\" class=\"dataframe\">\n",
       "  <thead>\n",
       "    <tr style=\"text-align: right;\">\n",
       "      <th></th>\n",
       "      <th>mean_Score</th>\n",
       "      <th>question</th>\n",
       "      <th>strength</th>\n",
       "      <th>score</th>\n",
       "    </tr>\n",
       "  </thead>\n",
       "  <tbody>\n",
       "    <tr>\n",
       "      <th>11</th>\n",
       "      <td>0.616918</td>\n",
       "      <td>Fractions, Decimals and Percentages</td>\n",
       "      <td>3.380297</td>\n",
       "      <td>2.085365</td>\n",
       "    </tr>\n",
       "    <tr>\n",
       "      <th>6</th>\n",
       "      <td>0.732940</td>\n",
       "      <td>Data</td>\n",
       "      <td>1.903522</td>\n",
       "      <td>1.395167</td>\n",
       "    </tr>\n",
       "    <tr>\n",
       "      <th>16</th>\n",
       "      <td>0.755603</td>\n",
       "      <td>Multiplication and Division</td>\n",
       "      <td>1.040753</td>\n",
       "      <td>0.786397</td>\n",
       "    </tr>\n",
       "    <tr>\n",
       "      <th>17</th>\n",
       "      <td>0.727668</td>\n",
       "      <td>Patterns and Algebra</td>\n",
       "      <td>1.016135</td>\n",
       "      <td>0.739410</td>\n",
       "    </tr>\n",
       "    <tr>\n",
       "      <th>12</th>\n",
       "      <td>0.817010</td>\n",
       "      <td>Indices</td>\n",
       "      <td>0.901886</td>\n",
       "      <td>0.736850</td>\n",
       "    </tr>\n",
       "  </tbody>\n",
       "</table>\n",
       "</div>"
      ],
      "text/plain": [
       "    mean_Score                             question  strength     score\n",
       "11    0.616918  Fractions, Decimals and Percentages  3.380297  2.085365\n",
       "6     0.732940                                 Data  1.903522  1.395167\n",
       "16    0.755603          Multiplication and Division  1.040753  0.786397\n",
       "17    0.727668                 Patterns and Algebra  1.016135  0.739410\n",
       "12    0.817010                              Indices  0.901886  0.736850"
      ]
     },
     "execution_count": 188,
     "metadata": {},
     "output_type": "execute_result"
    }
   ],
   "source": [
    "new2['score'] = new2.mean_Score*new2.strength\n",
    "new2.sort_values('score', ascending=False).head()"
   ]
  },
  {
   "cell_type": "code",
   "execution_count": 189,
   "metadata": {
    "collapsed": true
   },
   "outputs": [],
   "source": [
    "compare_df = new2[['question','score']]"
   ]
  },
  {
   "cell_type": "code",
   "execution_count": 190,
   "metadata": {
    "collapsed": true
   },
   "outputs": [],
   "source": [
    "student1_r = pd.merge(compare_df, new1[['question','score']],on='question')\n",
    "a = student1_r[student1_r >=0].dropna()"
   ]
  },
  {
   "cell_type": "code",
   "execution_count": 191,
   "metadata": {},
   "outputs": [
    {
     "data": {
      "text/html": [
       "<div>\n",
       "<style>\n",
       "    .dataframe thead tr:only-child th {\n",
       "        text-align: right;\n",
       "    }\n",
       "\n",
       "    .dataframe thead th {\n",
       "        text-align: left;\n",
       "    }\n",
       "\n",
       "    .dataframe tbody tr th {\n",
       "        vertical-align: top;\n",
       "    }\n",
       "</style>\n",
       "<table border=\"1\" class=\"dataframe\">\n",
       "  <thead>\n",
       "    <tr style=\"text-align: right;\">\n",
       "      <th></th>\n",
       "      <th>question</th>\n",
       "      <th>score_x</th>\n",
       "      <th>score_y</th>\n",
       "      <th>diff</th>\n",
       "    </tr>\n",
       "  </thead>\n",
       "  <tbody>\n",
       "    <tr>\n",
       "      <th>17</th>\n",
       "      <td>Patterns and Algebra</td>\n",
       "      <td>0.739410</td>\n",
       "      <td>0.508068</td>\n",
       "      <td>0.231342</td>\n",
       "    </tr>\n",
       "    <tr>\n",
       "      <th>6</th>\n",
       "      <td>Data</td>\n",
       "      <td>1.395167</td>\n",
       "      <td>1.269015</td>\n",
       "      <td>0.126152</td>\n",
       "    </tr>\n",
       "    <tr>\n",
       "      <th>4</th>\n",
       "      <td>Chance</td>\n",
       "      <td>0.245543</td>\n",
       "      <td>0.168815</td>\n",
       "      <td>0.076727</td>\n",
       "    </tr>\n",
       "    <tr>\n",
       "      <th>0</th>\n",
       "      <td>Addition and Subtraction</td>\n",
       "      <td>0.164140</td>\n",
       "      <td>0.100916</td>\n",
       "      <td>0.063223</td>\n",
       "    </tr>\n",
       "    <tr>\n",
       "      <th>23</th>\n",
       "      <td>Three-Dimensional Space</td>\n",
       "      <td>0.488275</td>\n",
       "      <td>0.437814</td>\n",
       "      <td>0.050461</td>\n",
       "    </tr>\n",
       "  </tbody>\n",
       "</table>\n",
       "</div>"
      ],
      "text/plain": [
       "                    question   score_x   score_y      diff\n",
       "17      Patterns and Algebra  0.739410  0.508068  0.231342\n",
       "6                       Data  1.395167  1.269015  0.126152\n",
       "4                     Chance  0.245543  0.168815  0.076727\n",
       "0   Addition and Subtraction  0.164140  0.100916  0.063223\n",
       "23   Three-Dimensional Space  0.488275  0.437814  0.050461"
      ]
     },
     "execution_count": 191,
     "metadata": {},
     "output_type": "execute_result"
    }
   ],
   "source": [
    "a['diff'] = a.score_x - a.score_y\n",
    "a.sort_values('diff',ascending=False).head()"
   ]
  },
  {
   "cell_type": "code",
   "execution_count": 239,
   "metadata": {
    "collapsed": true
   },
   "outputs": [],
   "source": []
  },
  {
   "cell_type": "code",
   "execution_count": null,
   "metadata": {
    "collapsed": true
   },
   "outputs": [],
   "source": []
  },
  {
   "cell_type": "markdown",
   "metadata": {},
   "source": [
    "# predict 2016 and 2017 y7 student score"
   ]
  },
  {
   "cell_type": "markdown",
   "metadata": {},
   "source": [
    "** 2016**"
   ]
  },
  {
   "cell_type": "code",
   "execution_count": 193,
   "metadata": {
    "collapsed": true
   },
   "outputs": [],
   "source": [
    "pred_future2016= lr.predict(y_2016_xdf)"
   ]
  },
  {
   "cell_type": "code",
   "execution_count": 225,
   "metadata": {
    "collapsed": true
   },
   "outputs": [],
   "source": [
    "Y_pp2016 = pd.DataFrame(lr.predict_proba(y_2016_xdf), columns=['class_0_pp','class_1_pp'])\n",
    "Y_pp2016['pred_class_thresh1'] = [1 if x >= 0.5 else 0 for x in Y_pp2016.class_1_pp.values]\n",
    "Y_pp2016['pred_class_thresh2'] = [1 if x >= 0.75 else 0 for x in Y_pp2016.class_1_pp.values]\n",
    "Y_pp2016['pred_class_thresh3'] = [1 if x >= 0.85 else 0 for x in Y_pp2016.class_1_pp.values]\n",
    "# 0.5, 0.75,0.85"
   ]
  },
  {
   "cell_type": "code",
   "execution_count": 226,
   "metadata": {},
   "outputs": [
    {
     "data": {
      "text/plain": [
       "array([  5, 201])"
      ]
     },
     "execution_count": 226,
     "metadata": {},
     "output_type": "execute_result"
    }
   ],
   "source": [
    "np.bincount(pred_future2016)"
   ]
  },
  {
   "cell_type": "code",
   "execution_count": 227,
   "metadata": {},
   "outputs": [
    {
     "data": {
      "text/plain": [
       "array([  5, 201])"
      ]
     },
     "execution_count": 227,
     "metadata": {},
     "output_type": "execute_result"
    }
   ],
   "source": [
    "np.bincount(Y_pp2016['pred_class_thresh1'] )"
   ]
  },
  {
   "cell_type": "code",
   "execution_count": 228,
   "metadata": {},
   "outputs": [
    {
     "data": {
      "text/plain": [
       "array([ 17, 189])"
      ]
     },
     "execution_count": 228,
     "metadata": {},
     "output_type": "execute_result"
    }
   ],
   "source": [
    "np.bincount(Y_pp2016['pred_class_thresh2'] )"
   ]
  },
  {
   "cell_type": "code",
   "execution_count": 229,
   "metadata": {},
   "outputs": [
    {
     "data": {
      "text/plain": [
       "array([ 32, 174])"
      ]
     },
     "execution_count": 229,
     "metadata": {},
     "output_type": "execute_result"
    }
   ],
   "source": [
    "np.bincount(Y_pp2016['pred_class_thresh3'] )"
   ]
  },
  {
   "cell_type": "code",
   "execution_count": 265,
   "metadata": {
    "collapsed": true
   },
   "outputs": [],
   "source": [
    "Y_pp2016['y7'] = list(y_2016_xdf.y7_band)"
   ]
  },
  {
   "cell_type": "code",
   "execution_count": null,
   "metadata": {
    "collapsed": true
   },
   "outputs": [],
   "source": []
  },
  {
   "cell_type": "markdown",
   "metadata": {
    "collapsed": true
   },
   "source": [
    "**2017**"
   ]
  },
  {
   "cell_type": "code",
   "execution_count": null,
   "metadata": {
    "collapsed": true
   },
   "outputs": [],
   "source": []
  },
  {
   "cell_type": "code",
   "execution_count": 214,
   "metadata": {
    "collapsed": true
   },
   "outputs": [],
   "source": [
    "pred_future2017= lr.predict(y_2017_xdf)"
   ]
  },
  {
   "cell_type": "code",
   "execution_count": 222,
   "metadata": {
    "collapsed": true
   },
   "outputs": [],
   "source": [
    "Y_pp2017 = pd.DataFrame(lr.predict_proba(y_2017_xdf), columns=['class_0_pp','class_1_pp'])\n",
    "Y_pp2017['pred_class_thresh1'] = [1 if x >= 0.5 else 0 for x in Y_pp2017.class_1_pp.values]\n",
    "Y_pp2017['pred_class_thresh2'] = [1 if x >= 0.75 else 0 for x in Y_pp2017.class_1_pp.values]\n",
    "Y_pp2017['pred_class_thresh3'] = [1 if x >= 0.85 else 0 for x in Y_pp2017.class_1_pp.values]\n",
    "# 0.5, 0.75,0.85"
   ]
  },
  {
   "cell_type": "code",
   "execution_count": 223,
   "metadata": {},
   "outputs": [
    {
     "data": {
      "text/plain": [
       "array([  8, 202])"
      ]
     },
     "execution_count": 223,
     "metadata": {},
     "output_type": "execute_result"
    }
   ],
   "source": [
    "np.bincount(pred_future2017)"
   ]
  },
  {
   "cell_type": "code",
   "execution_count": 224,
   "metadata": {},
   "outputs": [
    {
     "data": {
      "text/plain": [
       "array([  8, 202])"
      ]
     },
     "execution_count": 224,
     "metadata": {},
     "output_type": "execute_result"
    }
   ],
   "source": [
    "np.bincount(Y_pp2017['pred_class_thresh1'] )"
   ]
  },
  {
   "cell_type": "code",
   "execution_count": 218,
   "metadata": {},
   "outputs": [
    {
     "data": {
      "text/plain": [
       "array([ 29, 181])"
      ]
     },
     "execution_count": 218,
     "metadata": {},
     "output_type": "execute_result"
    }
   ],
   "source": [
    "np.bincount(Y_pp2017['pred_class_thresh2'] )"
   ]
  },
  {
   "cell_type": "code",
   "execution_count": 219,
   "metadata": {},
   "outputs": [
    {
     "data": {
      "text/plain": [
       "array([ 43, 167])"
      ]
     },
     "execution_count": 219,
     "metadata": {},
     "output_type": "execute_result"
    }
   ],
   "source": [
    "np.bincount(Y_pp2017['pred_class_thresh3'] )"
   ]
  },
  {
   "cell_type": "code",
   "execution_count": 221,
   "metadata": {},
   "outputs": [
    {
     "data": {
      "text/plain": [
       "0.14761904761904762"
      ]
     },
     "execution_count": 221,
     "metadata": {},
     "output_type": "execute_result"
    }
   ],
   "source": [
    "31/210.0"
   ]
  },
  {
   "cell_type": "code",
   "execution_count": null,
   "metadata": {
    "collapsed": true
   },
   "outputs": [],
   "source": []
  },
  {
   "cell_type": "code",
   "execution_count": null,
   "metadata": {
    "collapsed": true
   },
   "outputs": [],
   "source": []
  },
  {
   "cell_type": "code",
   "execution_count": null,
   "metadata": {
    "collapsed": true
   },
   "outputs": [],
   "source": []
  },
  {
   "cell_type": "code",
   "execution_count": null,
   "metadata": {
    "collapsed": true
   },
   "outputs": [],
   "source": []
  },
  {
   "cell_type": "code",
   "execution_count": 375,
   "metadata": {
    "collapsed": true
   },
   "outputs": [],
   "source": [
    "new_columns_2016 = [syllabus_dict.get(i,0) for i in list(X_y7_2016.columns) ]\n",
    "new_columns_2017 = [syllabus_dict.get(i,0) for i in list(X_y7_2017.columns) ]\n",
    "\n",
    "def is_band8_or_not(student_id):\n",
    "    pred_p = lr.predict_proba(df4.loc[[student_id]]).tolist()[0][1]\n",
    "    if pred_p >= 0.9:\n",
    "        return 'Minimal Risk'\n",
    "    elif pred_p >= 0.8:\n",
    "        return 'Low Risk'\n",
    "    elif pred_p >= 0.6:\n",
    "        return 'Medium Risk'\n",
    "    else:\n",
    "        return 'High Risk'\n",
    "    \n",
    "\n",
    "def questions_need_improve_2016(student_id):\n",
    "    student_p = df4.loc[[student_id]].T\n",
    "    new_p = pd.merge(student_p,lr_coef1,left_index=True, right_on='question')\n",
    "    new_p['score'] = new_p[student_id]*new1.strength\n",
    "    all_student = pd.DataFrame(df4[:762].mean())\n",
    "    new_p2 = pd.merge(all_student,lr_coef1,left_index=True, right_on='question')\n",
    "    new_p2.columns = ['mean_Score','question','strength']\n",
    "    new_p2['score'] = new_p2.mean_Score*new_p2.strength\n",
    "    student_p2 = pd.merge(new_p2[['question','score']], new_p[['question','score']],on='question')\n",
    "    a = student_p2[student_p2 >=0].dropna()\n",
    "    a['diff'] = a.score_x - a.score_y\n",
    "    new_a = a[a['question'].isin(new_columns_2016)]\n",
    "    return list(new_a.sort_values('diff',ascending=False)['question'].head(3))\n",
    "def questions_need_improve_2017(student_id):\n",
    "    student_p = df4.loc[[student_id]].T\n",
    "    new_p = pd.merge(student_p,lr_coef1,left_index=True, right_on='question')\n",
    "    new_p['score'] = new_p[student_id]*new1.strength\n",
    "    all_student = pd.DataFrame(df4[:762].mean())\n",
    "    new_p2 = pd.merge(all_student,lr_coef1,left_index=True, right_on='question')\n",
    "    new_p2.columns = ['mean_Score','question','strength']\n",
    "    new_p2['score'] = new_p2.mean_Score*new_p2.strength\n",
    "    student_p2 = pd.merge(new_p2[['question','score']], new_p[['question','score']],on='question')\n",
    "    a = student_p2[student_p2 >=0].dropna()\n",
    "    a['diff'] = a.score_x - a.score_y\n",
    "    new_a = a[a['question'].isin(new_columns_2017)]\n",
    "    return list(new_a.sort_values('diff',ascending=False)['question'].head(3))"
   ]
  },
  {
   "cell_type": "code",
   "execution_count": 376,
   "metadata": {},
   "outputs": [
    {
     "data": {
      "text/html": [
       "<div>\n",
       "<style>\n",
       "    .dataframe thead tr:only-child th {\n",
       "        text-align: right;\n",
       "    }\n",
       "\n",
       "    .dataframe thead th {\n",
       "        text-align: left;\n",
       "    }\n",
       "\n",
       "    .dataframe tbody tr th {\n",
       "        vertical-align: top;\n",
       "    }\n",
       "</style>\n",
       "<table border=\"1\" class=\"dataframe\">\n",
       "  <thead>\n",
       "    <tr style=\"text-align: right;\">\n",
       "      <th>index</th>\n",
       "      <th>Addition and Subtraction</th>\n",
       "      <th>Algebraic Techniques</th>\n",
       "      <th>Angles</th>\n",
       "      <th>Area</th>\n",
       "      <th>Chance</th>\n",
       "      <th>Computation with Integers</th>\n",
       "      <th>Data</th>\n",
       "      <th>Data Collection and Representation</th>\n",
       "      <th>Equations</th>\n",
       "      <th>Financial Mathematics</th>\n",
       "      <th>...</th>\n",
       "      <th>Properties of Geometrical Figures</th>\n",
       "      <th>Ratios and Rates</th>\n",
       "      <th>Single Variable Data Analysis</th>\n",
       "      <th>Three-Dimensional Space</th>\n",
       "      <th>Time</th>\n",
       "      <th>Two-Dimensional Space</th>\n",
       "      <th>Volume</th>\n",
       "      <th>Volume and Capacity</th>\n",
       "      <th>Whole Numbers</th>\n",
       "      <th>y7_band</th>\n",
       "    </tr>\n",
       "    <tr>\n",
       "      <th>SRN</th>\n",
       "      <th></th>\n",
       "      <th></th>\n",
       "      <th></th>\n",
       "      <th></th>\n",
       "      <th></th>\n",
       "      <th></th>\n",
       "      <th></th>\n",
       "      <th></th>\n",
       "      <th></th>\n",
       "      <th></th>\n",
       "      <th></th>\n",
       "      <th></th>\n",
       "      <th></th>\n",
       "      <th></th>\n",
       "      <th></th>\n",
       "      <th></th>\n",
       "      <th></th>\n",
       "      <th></th>\n",
       "      <th></th>\n",
       "      <th></th>\n",
       "      <th></th>\n",
       "    </tr>\n",
       "  </thead>\n",
       "  <tbody>\n",
       "    <tr>\n",
       "      <th>435890903</th>\n",
       "      <td>0.5</td>\n",
       "      <td>0.5</td>\n",
       "      <td>0.0</td>\n",
       "      <td>0.0</td>\n",
       "      <td>0.0</td>\n",
       "      <td>0.0</td>\n",
       "      <td>0.75</td>\n",
       "      <td>1.0</td>\n",
       "      <td>0.625328</td>\n",
       "      <td>0.0</td>\n",
       "      <td>...</td>\n",
       "      <td>0.0</td>\n",
       "      <td>0.333333</td>\n",
       "      <td>0.0</td>\n",
       "      <td>0.0</td>\n",
       "      <td>0.5</td>\n",
       "      <td>0.75</td>\n",
       "      <td>0.942857</td>\n",
       "      <td>0.666667</td>\n",
       "      <td>0.333333</td>\n",
       "      <td>0.6</td>\n",
       "    </tr>\n",
       "  </tbody>\n",
       "</table>\n",
       "<p>1 rows × 30 columns</p>\n",
       "</div>"
      ],
      "text/plain": [
       "index      Addition and Subtraction  Algebraic Techniques  Angles  Area  \\\n",
       "SRN                                                                       \n",
       "435890903                       0.5                   0.5     0.0   0.0   \n",
       "\n",
       "index      Chance  Computation with Integers  Data  \\\n",
       "SRN                                                  \n",
       "435890903     0.0                        0.0  0.75   \n",
       "\n",
       "index      Data Collection and Representation  Equations  \\\n",
       "SRN                                                        \n",
       "435890903                                 1.0   0.625328   \n",
       "\n",
       "index      Financial Mathematics   ...     Properties of Geometrical Figures  \\\n",
       "SRN                                ...                                         \n",
       "435890903                    0.0   ...                                   0.0   \n",
       "\n",
       "index      Ratios and Rates  Single Variable Data Analysis  \\\n",
       "SRN                                                          \n",
       "435890903          0.333333                            0.0   \n",
       "\n",
       "index      Three-Dimensional Space  Time  Two-Dimensional Space    Volume  \\\n",
       "SRN                                                                         \n",
       "435890903                      0.0   0.5                   0.75  0.942857   \n",
       "\n",
       "index      Volume and Capacity  Whole Numbers  y7_band  \n",
       "SRN                                                     \n",
       "435890903             0.666667       0.333333      0.6  \n",
       "\n",
       "[1 rows x 30 columns]"
      ]
     },
     "execution_count": 376,
     "metadata": {},
     "output_type": "execute_result"
    }
   ],
   "source": [
    "y_2016_xdf.loc[[435890903]]"
   ]
  },
  {
   "cell_type": "code",
   "execution_count": 377,
   "metadata": {},
   "outputs": [
    {
     "data": {
      "text/plain": [
       "array([[ 0.54683268,  0.45316732]])"
      ]
     },
     "execution_count": 377,
     "metadata": {},
     "output_type": "execute_result"
    }
   ],
   "source": [
    "lr.predict_proba(df4.loc[[435890903]])"
   ]
  },
  {
   "cell_type": "code",
   "execution_count": 378,
   "metadata": {},
   "outputs": [
    {
     "data": {
      "text/plain": [
       "'High Risk'"
      ]
     },
     "execution_count": 378,
     "metadata": {},
     "output_type": "execute_result"
    }
   ],
   "source": [
    "is_band8_or_not(435890903)"
   ]
  },
  {
   "cell_type": "code",
   "execution_count": 379,
   "metadata": {},
   "outputs": [
    {
     "data": {
      "text/plain": [
       "['Fractions, Decimals and Percentages', 'Angles', 'Three-Dimensional Space']"
      ]
     },
     "execution_count": 379,
     "metadata": {},
     "output_type": "execute_result"
    }
   ],
   "source": [
    "questions_need_improve_2016(435890903)"
   ]
  },
  {
   "cell_type": "code",
   "execution_count": null,
   "metadata": {
    "collapsed": true
   },
   "outputs": [],
   "source": []
  },
  {
   "cell_type": "code",
   "execution_count": 380,
   "metadata": {},
   "outputs": [
    {
     "data": {
      "text/html": [
       "<div>\n",
       "<style>\n",
       "    .dataframe thead tr:only-child th {\n",
       "        text-align: right;\n",
       "    }\n",
       "\n",
       "    .dataframe thead th {\n",
       "        text-align: left;\n",
       "    }\n",
       "\n",
       "    .dataframe tbody tr th {\n",
       "        vertical-align: top;\n",
       "    }\n",
       "</style>\n",
       "<table border=\"1\" class=\"dataframe\">\n",
       "  <thead>\n",
       "    <tr style=\"text-align: right;\">\n",
       "      <th>index</th>\n",
       "      <th>Addition and Subtraction</th>\n",
       "      <th>Algebraic Techniques</th>\n",
       "      <th>Angles</th>\n",
       "      <th>Area</th>\n",
       "      <th>Chance</th>\n",
       "      <th>Computation with Integers</th>\n",
       "      <th>Data</th>\n",
       "      <th>Data Collection and Representation</th>\n",
       "      <th>Equations</th>\n",
       "      <th>Financial Mathematics</th>\n",
       "      <th>...</th>\n",
       "      <th>Properties of Geometrical Figures</th>\n",
       "      <th>Ratios and Rates</th>\n",
       "      <th>Single Variable Data Analysis</th>\n",
       "      <th>Three-Dimensional Space</th>\n",
       "      <th>Time</th>\n",
       "      <th>Two-Dimensional Space</th>\n",
       "      <th>Volume</th>\n",
       "      <th>Volume and Capacity</th>\n",
       "      <th>Whole Numbers</th>\n",
       "      <th>y7_band</th>\n",
       "    </tr>\n",
       "    <tr>\n",
       "      <th>SRN</th>\n",
       "      <th></th>\n",
       "      <th></th>\n",
       "      <th></th>\n",
       "      <th></th>\n",
       "      <th></th>\n",
       "      <th></th>\n",
       "      <th></th>\n",
       "      <th></th>\n",
       "      <th></th>\n",
       "      <th></th>\n",
       "      <th></th>\n",
       "      <th></th>\n",
       "      <th></th>\n",
       "      <th></th>\n",
       "      <th></th>\n",
       "      <th></th>\n",
       "      <th></th>\n",
       "      <th></th>\n",
       "      <th></th>\n",
       "      <th></th>\n",
       "      <th></th>\n",
       "    </tr>\n",
       "  </thead>\n",
       "  <tbody>\n",
       "    <tr>\n",
       "      <th>436615825</th>\n",
       "      <td>1.0</td>\n",
       "      <td>0.617984</td>\n",
       "      <td>1.0</td>\n",
       "      <td>1.0</td>\n",
       "      <td>1.0</td>\n",
       "      <td>1.0</td>\n",
       "      <td>0.75</td>\n",
       "      <td>0.0</td>\n",
       "      <td>0.625328</td>\n",
       "      <td>1.0</td>\n",
       "      <td>...</td>\n",
       "      <td>0.567794</td>\n",
       "      <td>0.534686</td>\n",
       "      <td>0.0</td>\n",
       "      <td>0.0</td>\n",
       "      <td>0.5</td>\n",
       "      <td>1.0</td>\n",
       "      <td>1.0</td>\n",
       "      <td>0.5</td>\n",
       "      <td>0.628303</td>\n",
       "      <td>0.7</td>\n",
       "    </tr>\n",
       "  </tbody>\n",
       "</table>\n",
       "<p>1 rows × 30 columns</p>\n",
       "</div>"
      ],
      "text/plain": [
       "index      Addition and Subtraction  Algebraic Techniques  Angles  Area  \\\n",
       "SRN                                                                       \n",
       "436615825                       1.0              0.617984     1.0   1.0   \n",
       "\n",
       "index      Chance  Computation with Integers  Data  \\\n",
       "SRN                                                  \n",
       "436615825     1.0                        1.0  0.75   \n",
       "\n",
       "index      Data Collection and Representation  Equations  \\\n",
       "SRN                                                        \n",
       "436615825                                 0.0   0.625328   \n",
       "\n",
       "index      Financial Mathematics   ...     Properties of Geometrical Figures  \\\n",
       "SRN                                ...                                         \n",
       "436615825                    1.0   ...                              0.567794   \n",
       "\n",
       "index      Ratios and Rates  Single Variable Data Analysis  \\\n",
       "SRN                                                          \n",
       "436615825          0.534686                            0.0   \n",
       "\n",
       "index      Three-Dimensional Space  Time  Two-Dimensional Space  Volume  \\\n",
       "SRN                                                                       \n",
       "436615825                      0.0   0.5                    1.0     1.0   \n",
       "\n",
       "index      Volume and Capacity  Whole Numbers  y7_band  \n",
       "SRN                                                     \n",
       "436615825                  0.5       0.628303      0.7  \n",
       "\n",
       "[1 rows x 30 columns]"
      ]
     },
     "execution_count": 380,
     "metadata": {},
     "output_type": "execute_result"
    }
   ],
   "source": [
    "y_2017_xdf.loc[[436615825]]"
   ]
  },
  {
   "cell_type": "code",
   "execution_count": 381,
   "metadata": {},
   "outputs": [
    {
     "data": {
      "text/plain": [
       "'Minimal Risk'"
      ]
     },
     "execution_count": 381,
     "metadata": {},
     "output_type": "execute_result"
    }
   ],
   "source": [
    "is_band8_or_not(436615825)"
   ]
  },
  {
   "cell_type": "code",
   "execution_count": 382,
   "metadata": {},
   "outputs": [
    {
     "data": {
      "text/plain": [
       "['Three-Dimensional Space', 'Position', 'Single Variable Data Analysis']"
      ]
     },
     "execution_count": 382,
     "metadata": {},
     "output_type": "execute_result"
    }
   ],
   "source": [
    "questions_need_improve_2017(436615825)"
   ]
  },
  {
   "cell_type": "code",
   "execution_count": 383,
   "metadata": {},
   "outputs": [
    {
     "data": {
      "text/html": [
       "<div>\n",
       "<style>\n",
       "    .dataframe thead tr:only-child th {\n",
       "        text-align: right;\n",
       "    }\n",
       "\n",
       "    .dataframe thead th {\n",
       "        text-align: left;\n",
       "    }\n",
       "\n",
       "    .dataframe tbody tr th {\n",
       "        vertical-align: top;\n",
       "    }\n",
       "</style>\n",
       "<table border=\"1\" class=\"dataframe\">\n",
       "  <thead>\n",
       "    <tr style=\"text-align: right;\">\n",
       "      <th></th>\n",
       "    </tr>\n",
       "  </thead>\n",
       "  <tbody>\n",
       "    <tr>\n",
       "      <th>Risk</th>\n",
       "    </tr>\n",
       "    <tr>\n",
       "      <th>Questions 1</th>\n",
       "    </tr>\n",
       "    <tr>\n",
       "      <th>Questions 2</th>\n",
       "    </tr>\n",
       "    <tr>\n",
       "      <th>Questions 3</th>\n",
       "    </tr>\n",
       "  </tbody>\n",
       "</table>\n",
       "</div>"
      ],
      "text/plain": [
       "Empty DataFrame\n",
       "Columns: []\n",
       "Index: [Risk, Questions 1, Questions 2, Questions 3]"
      ]
     },
     "execution_count": 383,
     "metadata": {},
     "output_type": "execute_result"
    }
   ],
   "source": [
    "student_df_2016 = pd.DataFrame(index = ['Risk','Questions 1',\n",
    "                                       'Questions 2','Questions 3'])\n",
    "student_df_2016"
   ]
  },
  {
   "cell_type": "code",
   "execution_count": 384,
   "metadata": {},
   "outputs": [
    {
     "data": {
      "text/plain": [
       "Index([435890202, 447613247, 435977111, 435890903, 435859500, 445177172,\n",
       "       436020210, 436106246, 435861989, 441906960,\n",
       "       ...\n",
       "       435625428, 436126158, 435600077, 447833298, 436561679, 442691941,\n",
       "       447797739, 436341342, 436799446, 436163223],\n",
       "      dtype='object', name=u'SRN', length=206)"
      ]
     },
     "execution_count": 384,
     "metadata": {},
     "output_type": "execute_result"
    }
   ],
   "source": [
    "y_2016_xdf.index"
   ]
  },
  {
   "cell_type": "code",
   "execution_count": 385,
   "metadata": {
    "collapsed": true
   },
   "outputs": [],
   "source": [
    "for student_id in y_2016_xdf.index:\n",
    "    student_df_2016[student_id]= [is_band8_or_not(student_id),\n",
    "                                  questions_need_improve_2016(student_id)[0],\n",
    "                                  questions_need_improve_2016(student_id)[1],\n",
    "                                  questions_need_improve_2016(student_id)[2]]"
   ]
  },
  {
   "cell_type": "code",
   "execution_count": 368,
   "metadata": {
    "collapsed": true
   },
   "outputs": [
    {
     "data": {
      "text/html": [
       "<div>\n",
       "<style>\n",
       "    .dataframe thead tr:only-child th {\n",
       "        text-align: right;\n",
       "    }\n",
       "\n",
       "    .dataframe thead th {\n",
       "        text-align: left;\n",
       "    }\n",
       "\n",
       "    .dataframe tbody tr th {\n",
       "        vertical-align: top;\n",
       "    }\n",
       "</style>\n",
       "<table border=\"1\" class=\"dataframe\">\n",
       "  <thead>\n",
       "    <tr style=\"text-align: right;\">\n",
       "      <th></th>\n",
       "      <th>Risk</th>\n",
       "      <th>Questions 1</th>\n",
       "      <th>Questions 2</th>\n",
       "      <th>Questions 3</th>\n",
       "    </tr>\n",
       "  </thead>\n",
       "  <tbody>\n",
       "    <tr>\n",
       "      <th>435890202</th>\n",
       "      <td>Low Risk</td>\n",
       "      <td>Angles</td>\n",
       "      <td>Three-Dimensional Space</td>\n",
       "      <td>Data</td>\n",
       "    </tr>\n",
       "    <tr>\n",
       "      <th>447613247</th>\n",
       "      <td>High Risk</td>\n",
       "      <td>Fractions, Decimals and Percentages</td>\n",
       "      <td>Angles</td>\n",
       "      <td>Three-Dimensional Space</td>\n",
       "    </tr>\n",
       "    <tr>\n",
       "      <th>435977111</th>\n",
       "      <td>Minimal Risk</td>\n",
       "      <td>Fractions, Decimals and Percentages</td>\n",
       "      <td>Angles</td>\n",
       "      <td>Three-Dimensional Space</td>\n",
       "    </tr>\n",
       "    <tr>\n",
       "      <th>435890903</th>\n",
       "      <td>High Risk</td>\n",
       "      <td>Fractions, Decimals and Percentages</td>\n",
       "      <td>Angles</td>\n",
       "      <td>Three-Dimensional Space</td>\n",
       "    </tr>\n",
       "    <tr>\n",
       "      <th>435859500</th>\n",
       "      <td>Minimal Risk</td>\n",
       "      <td>Three-Dimensional Space</td>\n",
       "      <td>Fractions, Decimals and Percentages</td>\n",
       "      <td>Patterns and Algebra</td>\n",
       "    </tr>\n",
       "    <tr>\n",
       "      <th>445177172</th>\n",
       "      <td>Minimal Risk</td>\n",
       "      <td>Three-Dimensional Space</td>\n",
       "      <td>Chance</td>\n",
       "      <td>Time</td>\n",
       "    </tr>\n",
       "    <tr>\n",
       "      <th>436020210</th>\n",
       "      <td>Minimal Risk</td>\n",
       "      <td>Data</td>\n",
       "      <td>Patterns and Algebra</td>\n",
       "      <td>Fractions, Decimals and Percentages</td>\n",
       "    </tr>\n",
       "    <tr>\n",
       "      <th>436106246</th>\n",
       "      <td>Minimal Risk</td>\n",
       "      <td>Three-Dimensional Space</td>\n",
       "      <td>Linear Relationships</td>\n",
       "      <td>Addition and Subtraction</td>\n",
       "    </tr>\n",
       "    <tr>\n",
       "      <th>435861989</th>\n",
       "      <td>Low Risk</td>\n",
       "      <td>Fractions, Decimals and Percentages</td>\n",
       "      <td>Three-Dimensional Space</td>\n",
       "      <td>Properties of Geometrical Figures</td>\n",
       "    </tr>\n",
       "    <tr>\n",
       "      <th>441906960</th>\n",
       "      <td>Low Risk</td>\n",
       "      <td>Fractions, Decimals and Percentages</td>\n",
       "      <td>Angles</td>\n",
       "      <td>Three-Dimensional Space</td>\n",
       "    </tr>\n",
       "    <tr>\n",
       "      <th>435572529</th>\n",
       "      <td>Minimal Risk</td>\n",
       "      <td>Three-Dimensional Space</td>\n",
       "      <td>Position</td>\n",
       "      <td>Patterns and Algebra</td>\n",
       "    </tr>\n",
       "    <tr>\n",
       "      <th>436188366</th>\n",
       "      <td>Minimal Risk</td>\n",
       "      <td>Properties of Geometrical Figures</td>\n",
       "      <td>Ratios and Rates</td>\n",
       "      <td>Angles</td>\n",
       "    </tr>\n",
       "    <tr>\n",
       "      <th>436022077</th>\n",
       "      <td>Minimal Risk</td>\n",
       "      <td>Angles</td>\n",
       "      <td>Three-Dimensional Space</td>\n",
       "      <td>Fractions, Decimals and Percentages</td>\n",
       "    </tr>\n",
       "    <tr>\n",
       "      <th>435935605</th>\n",
       "      <td>Medium Risk</td>\n",
       "      <td>Fractions, Decimals and Percentages</td>\n",
       "      <td>Angles</td>\n",
       "      <td>Three-Dimensional Space</td>\n",
       "    </tr>\n",
       "    <tr>\n",
       "      <th>429541301</th>\n",
       "      <td>Minimal Risk</td>\n",
       "      <td>Three-Dimensional Space</td>\n",
       "      <td>Patterns and Algebra</td>\n",
       "      <td>Addition and Subtraction</td>\n",
       "    </tr>\n",
       "    <tr>\n",
       "      <th>436037848</th>\n",
       "      <td>Minimal Risk</td>\n",
       "      <td>Three-Dimensional Space</td>\n",
       "      <td>Patterns and Algebra</td>\n",
       "      <td>Volume and Capacity</td>\n",
       "    </tr>\n",
       "    <tr>\n",
       "      <th>436025726</th>\n",
       "      <td>Minimal Risk</td>\n",
       "      <td>Angles</td>\n",
       "      <td>Three-Dimensional Space</td>\n",
       "      <td>Patterns and Algebra</td>\n",
       "    </tr>\n",
       "    <tr>\n",
       "      <th>435823009</th>\n",
       "      <td>Minimal Risk</td>\n",
       "      <td>Three-Dimensional Space</td>\n",
       "      <td>Financial Mathematics</td>\n",
       "      <td>Volume and Capacity</td>\n",
       "    </tr>\n",
       "    <tr>\n",
       "      <th>447807432</th>\n",
       "      <td>Medium Risk</td>\n",
       "      <td>Fractions, Decimals and Percentages</td>\n",
       "      <td>Data</td>\n",
       "      <td>Patterns and Algebra</td>\n",
       "    </tr>\n",
       "    <tr>\n",
       "      <th>435846351</th>\n",
       "      <td>Low Risk</td>\n",
       "      <td>Fractions, Decimals and Percentages</td>\n",
       "      <td>Three-Dimensional Space</td>\n",
       "      <td>Ratios and Rates</td>\n",
       "    </tr>\n",
       "    <tr>\n",
       "      <th>442966214</th>\n",
       "      <td>Minimal Risk</td>\n",
       "      <td>Mass</td>\n",
       "      <td>Length</td>\n",
       "      <td>Two-Dimensional Space</td>\n",
       "    </tr>\n",
       "    <tr>\n",
       "      <th>433787978</th>\n",
       "      <td>Minimal Risk</td>\n",
       "      <td>Three-Dimensional Space</td>\n",
       "      <td>Patterns and Algebra</td>\n",
       "      <td>Properties of Geometrical Figures</td>\n",
       "    </tr>\n",
       "    <tr>\n",
       "      <th>435891560</th>\n",
       "      <td>Minimal Risk</td>\n",
       "      <td>Three-Dimensional Space</td>\n",
       "      <td>Patterns and Algebra</td>\n",
       "      <td>Angles</td>\n",
       "    </tr>\n",
       "    <tr>\n",
       "      <th>437475121</th>\n",
       "      <td>Minimal Risk</td>\n",
       "      <td>Angles</td>\n",
       "      <td>Three-Dimensional Space</td>\n",
       "      <td>Patterns and Algebra</td>\n",
       "    </tr>\n",
       "    <tr>\n",
       "      <th>443053433</th>\n",
       "      <td>Minimal Risk</td>\n",
       "      <td>Three-Dimensional Space</td>\n",
       "      <td>Fractions, Decimals and Percentages</td>\n",
       "      <td>Financial Mathematics</td>\n",
       "    </tr>\n",
       "    <tr>\n",
       "      <th>429378320</th>\n",
       "      <td>Minimal Risk</td>\n",
       "      <td>Three-Dimensional Space</td>\n",
       "      <td>Linear Relationships</td>\n",
       "      <td>Length</td>\n",
       "    </tr>\n",
       "    <tr>\n",
       "      <th>442975442</th>\n",
       "      <td>Minimal Risk</td>\n",
       "      <td>Three-Dimensional Space</td>\n",
       "      <td>Length</td>\n",
       "      <td>Two-Dimensional Space</td>\n",
       "    </tr>\n",
       "    <tr>\n",
       "      <th>436051808</th>\n",
       "      <td>Minimal Risk</td>\n",
       "      <td>Three-Dimensional Space</td>\n",
       "      <td>Financial Mathematics</td>\n",
       "      <td>Patterns and Algebra</td>\n",
       "    </tr>\n",
       "    <tr>\n",
       "      <th>435709265</th>\n",
       "      <td>Minimal Risk</td>\n",
       "      <td>Financial Mathematics</td>\n",
       "      <td>Linear Relationships</td>\n",
       "      <td>Addition and Subtraction</td>\n",
       "    </tr>\n",
       "    <tr>\n",
       "      <th>435601570</th>\n",
       "      <td>Minimal Risk</td>\n",
       "      <td>Three-Dimensional Space</td>\n",
       "      <td>Financial Mathematics</td>\n",
       "      <td>Chance</td>\n",
       "    </tr>\n",
       "    <tr>\n",
       "      <th>...</th>\n",
       "      <td>...</td>\n",
       "      <td>...</td>\n",
       "      <td>...</td>\n",
       "      <td>...</td>\n",
       "    </tr>\n",
       "    <tr>\n",
       "      <th>435833322</th>\n",
       "      <td>Minimal Risk</td>\n",
       "      <td>Three-Dimensional Space</td>\n",
       "      <td>Patterns and Algebra</td>\n",
       "      <td>Properties of Geometrical Figures</td>\n",
       "    </tr>\n",
       "    <tr>\n",
       "      <th>448373240</th>\n",
       "      <td>Minimal Risk</td>\n",
       "      <td>Angles</td>\n",
       "      <td>Three-Dimensional Space</td>\n",
       "      <td>Multiplication and Division</td>\n",
       "    </tr>\n",
       "    <tr>\n",
       "      <th>446158112</th>\n",
       "      <td>Minimal Risk</td>\n",
       "      <td>Angles</td>\n",
       "      <td>Three-Dimensional Space</td>\n",
       "      <td>Chance</td>\n",
       "    </tr>\n",
       "    <tr>\n",
       "      <th>435909167</th>\n",
       "      <td>Minimal Risk</td>\n",
       "      <td>Three-Dimensional Space</td>\n",
       "      <td>Whole Numbers</td>\n",
       "      <td>Linear Relationships</td>\n",
       "    </tr>\n",
       "    <tr>\n",
       "      <th>435563481</th>\n",
       "      <td>Minimal Risk</td>\n",
       "      <td>Three-Dimensional Space</td>\n",
       "      <td>Fractions, Decimals and Percentages</td>\n",
       "      <td>Single Variable Data Analysis</td>\n",
       "    </tr>\n",
       "    <tr>\n",
       "      <th>445939901</th>\n",
       "      <td>Minimal Risk</td>\n",
       "      <td>Three-Dimensional Space</td>\n",
       "      <td>Angles</td>\n",
       "      <td>Linear Relationships</td>\n",
       "    </tr>\n",
       "    <tr>\n",
       "      <th>440857833</th>\n",
       "      <td>Minimal Risk</td>\n",
       "      <td>Three-Dimensional Space</td>\n",
       "      <td>Financial Mathematics</td>\n",
       "      <td>Ratios and Rates</td>\n",
       "    </tr>\n",
       "    <tr>\n",
       "      <th>435851258</th>\n",
       "      <td>Minimal Risk</td>\n",
       "      <td>Three-Dimensional Space</td>\n",
       "      <td>Financial Mathematics</td>\n",
       "      <td>Patterns and Algebra</td>\n",
       "    </tr>\n",
       "    <tr>\n",
       "      <th>436333340</th>\n",
       "      <td>Minimal Risk</td>\n",
       "      <td>Three-Dimensional Space</td>\n",
       "      <td>Patterns and Algebra</td>\n",
       "      <td>Multiplication and Division</td>\n",
       "    </tr>\n",
       "    <tr>\n",
       "      <th>436339852</th>\n",
       "      <td>Minimal Risk</td>\n",
       "      <td>Three-Dimensional Space</td>\n",
       "      <td>Data</td>\n",
       "      <td>Addition and Subtraction</td>\n",
       "    </tr>\n",
       "    <tr>\n",
       "      <th>435474870</th>\n",
       "      <td>Minimal Risk</td>\n",
       "      <td>Three-Dimensional Space</td>\n",
       "      <td>Angles</td>\n",
       "      <td>Linear Relationships</td>\n",
       "    </tr>\n",
       "    <tr>\n",
       "      <th>436571127</th>\n",
       "      <td>Minimal Risk</td>\n",
       "      <td>Three-Dimensional Space</td>\n",
       "      <td>Data</td>\n",
       "      <td>Financial Mathematics</td>\n",
       "    </tr>\n",
       "    <tr>\n",
       "      <th>436127391</th>\n",
       "      <td>Minimal Risk</td>\n",
       "      <td>Properties of Geometrical Figures</td>\n",
       "      <td>Patterns and Algebra</td>\n",
       "      <td>Financial Mathematics</td>\n",
       "    </tr>\n",
       "    <tr>\n",
       "      <th>437900744</th>\n",
       "      <td>Minimal Risk</td>\n",
       "      <td>Three-Dimensional Space</td>\n",
       "      <td>Financial Mathematics</td>\n",
       "      <td>Addition and Subtraction</td>\n",
       "    </tr>\n",
       "    <tr>\n",
       "      <th>428783221</th>\n",
       "      <td>Minimal Risk</td>\n",
       "      <td>Three-Dimensional Space</td>\n",
       "      <td>Financial Mathematics</td>\n",
       "      <td>Fractions, Decimals and Percentages</td>\n",
       "    </tr>\n",
       "    <tr>\n",
       "      <th>436083858</th>\n",
       "      <td>Minimal Risk</td>\n",
       "      <td>Angles</td>\n",
       "      <td>Three-Dimensional Space</td>\n",
       "      <td>Financial Mathematics</td>\n",
       "    </tr>\n",
       "    <tr>\n",
       "      <th>435794904</th>\n",
       "      <td>Minimal Risk</td>\n",
       "      <td>Three-Dimensional Space</td>\n",
       "      <td>Multiplication and Division</td>\n",
       "      <td>Whole Numbers</td>\n",
       "    </tr>\n",
       "    <tr>\n",
       "      <th>434423953</th>\n",
       "      <td>Minimal Risk</td>\n",
       "      <td>Length</td>\n",
       "      <td>Two-Dimensional Space</td>\n",
       "      <td>Area</td>\n",
       "    </tr>\n",
       "    <tr>\n",
       "      <th>436151853</th>\n",
       "      <td>Minimal Risk</td>\n",
       "      <td>Properties of Geometrical Figures</td>\n",
       "      <td>Patterns and Algebra</td>\n",
       "      <td>Volume and Capacity</td>\n",
       "    </tr>\n",
       "    <tr>\n",
       "      <th>445709344</th>\n",
       "      <td>Minimal Risk</td>\n",
       "      <td>Three-Dimensional Space</td>\n",
       "      <td>Chance</td>\n",
       "      <td>Ratios and Rates</td>\n",
       "    </tr>\n",
       "    <tr>\n",
       "      <th>435625428</th>\n",
       "      <td>Minimal Risk</td>\n",
       "      <td>Linear Relationships</td>\n",
       "      <td>Addition and Subtraction</td>\n",
       "      <td>Length</td>\n",
       "    </tr>\n",
       "    <tr>\n",
       "      <th>436126158</th>\n",
       "      <td>Minimal Risk</td>\n",
       "      <td>Angles</td>\n",
       "      <td>Three-Dimensional Space</td>\n",
       "      <td>Fractions, Decimals and Percentages</td>\n",
       "    </tr>\n",
       "    <tr>\n",
       "      <th>435600077</th>\n",
       "      <td>Minimal Risk</td>\n",
       "      <td>Three-Dimensional Space</td>\n",
       "      <td>Properties of Geometrical Figures</td>\n",
       "      <td>Patterns and Algebra</td>\n",
       "    </tr>\n",
       "    <tr>\n",
       "      <th>447833298</th>\n",
       "      <td>Minimal Risk</td>\n",
       "      <td>Multiplication and Division</td>\n",
       "      <td>Three-Dimensional Space</td>\n",
       "      <td>Patterns and Algebra</td>\n",
       "    </tr>\n",
       "    <tr>\n",
       "      <th>436561679</th>\n",
       "      <td>Minimal Risk</td>\n",
       "      <td>Three-Dimensional Space</td>\n",
       "      <td>Patterns and Algebra</td>\n",
       "      <td>Financial Mathematics</td>\n",
       "    </tr>\n",
       "    <tr>\n",
       "      <th>442691941</th>\n",
       "      <td>Minimal Risk</td>\n",
       "      <td>Three-Dimensional Space</td>\n",
       "      <td>Linear Relationships</td>\n",
       "      <td>Addition and Subtraction</td>\n",
       "    </tr>\n",
       "    <tr>\n",
       "      <th>447797739</th>\n",
       "      <td>Minimal Risk</td>\n",
       "      <td>Fractions, Decimals and Percentages</td>\n",
       "      <td>Angles</td>\n",
       "      <td>Three-Dimensional Space</td>\n",
       "    </tr>\n",
       "    <tr>\n",
       "      <th>436341342</th>\n",
       "      <td>Minimal Risk</td>\n",
       "      <td>Fractions, Decimals and Percentages</td>\n",
       "      <td>Three-Dimensional Space</td>\n",
       "      <td>Patterns and Algebra</td>\n",
       "    </tr>\n",
       "    <tr>\n",
       "      <th>436799446</th>\n",
       "      <td>Minimal Risk</td>\n",
       "      <td>Three-Dimensional Space</td>\n",
       "      <td>Properties of Geometrical Figures</td>\n",
       "      <td>Financial Mathematics</td>\n",
       "    </tr>\n",
       "    <tr>\n",
       "      <th>436163223</th>\n",
       "      <td>Minimal Risk</td>\n",
       "      <td>Fractions, Decimals and Percentages</td>\n",
       "      <td>Three-Dimensional Space</td>\n",
       "      <td>Data</td>\n",
       "    </tr>\n",
       "  </tbody>\n",
       "</table>\n",
       "<p>206 rows × 4 columns</p>\n",
       "</div>"
      ],
      "text/plain": [
       "                   Risk                          Questions 1  \\\n",
       "435890202      Low Risk                               Angles   \n",
       "447613247     High Risk  Fractions, Decimals and Percentages   \n",
       "435977111  Minimal Risk  Fractions, Decimals and Percentages   \n",
       "435890903     High Risk  Fractions, Decimals and Percentages   \n",
       "435859500  Minimal Risk              Three-Dimensional Space   \n",
       "445177172  Minimal Risk              Three-Dimensional Space   \n",
       "436020210  Minimal Risk                                 Data   \n",
       "436106246  Minimal Risk              Three-Dimensional Space   \n",
       "435861989      Low Risk  Fractions, Decimals and Percentages   \n",
       "441906960      Low Risk  Fractions, Decimals and Percentages   \n",
       "435572529  Minimal Risk              Three-Dimensional Space   \n",
       "436188366  Minimal Risk    Properties of Geometrical Figures   \n",
       "436022077  Minimal Risk                               Angles   \n",
       "435935605   Medium Risk  Fractions, Decimals and Percentages   \n",
       "429541301  Minimal Risk              Three-Dimensional Space   \n",
       "436037848  Minimal Risk              Three-Dimensional Space   \n",
       "436025726  Minimal Risk                               Angles   \n",
       "435823009  Minimal Risk              Three-Dimensional Space   \n",
       "447807432   Medium Risk  Fractions, Decimals and Percentages   \n",
       "435846351      Low Risk  Fractions, Decimals and Percentages   \n",
       "442966214  Minimal Risk                                 Mass   \n",
       "433787978  Minimal Risk              Three-Dimensional Space   \n",
       "435891560  Minimal Risk              Three-Dimensional Space   \n",
       "437475121  Minimal Risk                               Angles   \n",
       "443053433  Minimal Risk              Three-Dimensional Space   \n",
       "429378320  Minimal Risk              Three-Dimensional Space   \n",
       "442975442  Minimal Risk              Three-Dimensional Space   \n",
       "436051808  Minimal Risk              Three-Dimensional Space   \n",
       "435709265  Minimal Risk                Financial Mathematics   \n",
       "435601570  Minimal Risk              Three-Dimensional Space   \n",
       "...                 ...                                  ...   \n",
       "435833322  Minimal Risk              Three-Dimensional Space   \n",
       "448373240  Minimal Risk                               Angles   \n",
       "446158112  Minimal Risk                               Angles   \n",
       "435909167  Minimal Risk              Three-Dimensional Space   \n",
       "435563481  Minimal Risk              Three-Dimensional Space   \n",
       "445939901  Minimal Risk              Three-Dimensional Space   \n",
       "440857833  Minimal Risk              Three-Dimensional Space   \n",
       "435851258  Minimal Risk              Three-Dimensional Space   \n",
       "436333340  Minimal Risk              Three-Dimensional Space   \n",
       "436339852  Minimal Risk              Three-Dimensional Space   \n",
       "435474870  Minimal Risk              Three-Dimensional Space   \n",
       "436571127  Minimal Risk              Three-Dimensional Space   \n",
       "436127391  Minimal Risk    Properties of Geometrical Figures   \n",
       "437900744  Minimal Risk              Three-Dimensional Space   \n",
       "428783221  Minimal Risk              Three-Dimensional Space   \n",
       "436083858  Minimal Risk                               Angles   \n",
       "435794904  Minimal Risk              Three-Dimensional Space   \n",
       "434423953  Minimal Risk                               Length   \n",
       "436151853  Minimal Risk    Properties of Geometrical Figures   \n",
       "445709344  Minimal Risk              Three-Dimensional Space   \n",
       "435625428  Minimal Risk                 Linear Relationships   \n",
       "436126158  Minimal Risk                               Angles   \n",
       "435600077  Minimal Risk              Three-Dimensional Space   \n",
       "447833298  Minimal Risk          Multiplication and Division   \n",
       "436561679  Minimal Risk              Three-Dimensional Space   \n",
       "442691941  Minimal Risk              Three-Dimensional Space   \n",
       "447797739  Minimal Risk  Fractions, Decimals and Percentages   \n",
       "436341342  Minimal Risk  Fractions, Decimals and Percentages   \n",
       "436799446  Minimal Risk              Three-Dimensional Space   \n",
       "436163223  Minimal Risk  Fractions, Decimals and Percentages   \n",
       "\n",
       "                                   Questions 2  \\\n",
       "435890202              Three-Dimensional Space   \n",
       "447613247                               Angles   \n",
       "435977111                               Angles   \n",
       "435890903                               Angles   \n",
       "435859500  Fractions, Decimals and Percentages   \n",
       "445177172                               Chance   \n",
       "436020210                 Patterns and Algebra   \n",
       "436106246                 Linear Relationships   \n",
       "435861989              Three-Dimensional Space   \n",
       "441906960                               Angles   \n",
       "435572529                             Position   \n",
       "436188366                     Ratios and Rates   \n",
       "436022077              Three-Dimensional Space   \n",
       "435935605                               Angles   \n",
       "429541301                 Patterns and Algebra   \n",
       "436037848                 Patterns and Algebra   \n",
       "436025726              Three-Dimensional Space   \n",
       "435823009                Financial Mathematics   \n",
       "447807432                                 Data   \n",
       "435846351              Three-Dimensional Space   \n",
       "442966214                               Length   \n",
       "433787978                 Patterns and Algebra   \n",
       "435891560                 Patterns and Algebra   \n",
       "437475121              Three-Dimensional Space   \n",
       "443053433  Fractions, Decimals and Percentages   \n",
       "429378320                 Linear Relationships   \n",
       "442975442                               Length   \n",
       "436051808                Financial Mathematics   \n",
       "435709265                 Linear Relationships   \n",
       "435601570                Financial Mathematics   \n",
       "...                                        ...   \n",
       "435833322                 Patterns and Algebra   \n",
       "448373240              Three-Dimensional Space   \n",
       "446158112              Three-Dimensional Space   \n",
       "435909167                        Whole Numbers   \n",
       "435563481  Fractions, Decimals and Percentages   \n",
       "445939901                               Angles   \n",
       "440857833                Financial Mathematics   \n",
       "435851258                Financial Mathematics   \n",
       "436333340                 Patterns and Algebra   \n",
       "436339852                                 Data   \n",
       "435474870                               Angles   \n",
       "436571127                                 Data   \n",
       "436127391                 Patterns and Algebra   \n",
       "437900744                Financial Mathematics   \n",
       "428783221                Financial Mathematics   \n",
       "436083858              Three-Dimensional Space   \n",
       "435794904          Multiplication and Division   \n",
       "434423953                Two-Dimensional Space   \n",
       "436151853                 Patterns and Algebra   \n",
       "445709344                               Chance   \n",
       "435625428             Addition and Subtraction   \n",
       "436126158              Three-Dimensional Space   \n",
       "435600077    Properties of Geometrical Figures   \n",
       "447833298              Three-Dimensional Space   \n",
       "436561679                 Patterns and Algebra   \n",
       "442691941                 Linear Relationships   \n",
       "447797739                               Angles   \n",
       "436341342              Three-Dimensional Space   \n",
       "436799446    Properties of Geometrical Figures   \n",
       "436163223              Three-Dimensional Space   \n",
       "\n",
       "                                   Questions 3  \n",
       "435890202                                 Data  \n",
       "447613247              Three-Dimensional Space  \n",
       "435977111              Three-Dimensional Space  \n",
       "435890903              Three-Dimensional Space  \n",
       "435859500                 Patterns and Algebra  \n",
       "445177172                                 Time  \n",
       "436020210  Fractions, Decimals and Percentages  \n",
       "436106246             Addition and Subtraction  \n",
       "435861989    Properties of Geometrical Figures  \n",
       "441906960              Three-Dimensional Space  \n",
       "435572529                 Patterns and Algebra  \n",
       "436188366                               Angles  \n",
       "436022077  Fractions, Decimals and Percentages  \n",
       "435935605              Three-Dimensional Space  \n",
       "429541301             Addition and Subtraction  \n",
       "436037848                  Volume and Capacity  \n",
       "436025726                 Patterns and Algebra  \n",
       "435823009                  Volume and Capacity  \n",
       "447807432                 Patterns and Algebra  \n",
       "435846351                     Ratios and Rates  \n",
       "442966214                Two-Dimensional Space  \n",
       "433787978    Properties of Geometrical Figures  \n",
       "435891560                               Angles  \n",
       "437475121                 Patterns and Algebra  \n",
       "443053433                Financial Mathematics  \n",
       "429378320                               Length  \n",
       "442975442                Two-Dimensional Space  \n",
       "436051808                 Patterns and Algebra  \n",
       "435709265             Addition and Subtraction  \n",
       "435601570                               Chance  \n",
       "...                                        ...  \n",
       "435833322    Properties of Geometrical Figures  \n",
       "448373240          Multiplication and Division  \n",
       "446158112                               Chance  \n",
       "435909167                 Linear Relationships  \n",
       "435563481        Single Variable Data Analysis  \n",
       "445939901                 Linear Relationships  \n",
       "440857833                     Ratios and Rates  \n",
       "435851258                 Patterns and Algebra  \n",
       "436333340          Multiplication and Division  \n",
       "436339852             Addition and Subtraction  \n",
       "435474870                 Linear Relationships  \n",
       "436571127                Financial Mathematics  \n",
       "436127391                Financial Mathematics  \n",
       "437900744             Addition and Subtraction  \n",
       "428783221  Fractions, Decimals and Percentages  \n",
       "436083858                Financial Mathematics  \n",
       "435794904                        Whole Numbers  \n",
       "434423953                                 Area  \n",
       "436151853                  Volume and Capacity  \n",
       "445709344                     Ratios and Rates  \n",
       "435625428                               Length  \n",
       "436126158  Fractions, Decimals and Percentages  \n",
       "435600077                 Patterns and Algebra  \n",
       "447833298                 Patterns and Algebra  \n",
       "436561679                Financial Mathematics  \n",
       "442691941             Addition and Subtraction  \n",
       "447797739              Three-Dimensional Space  \n",
       "436341342                 Patterns and Algebra  \n",
       "436799446                Financial Mathematics  \n",
       "436163223                                 Data  \n",
       "\n",
       "[206 rows x 4 columns]"
      ]
     },
     "execution_count": 368,
     "metadata": {},
     "output_type": "execute_result"
    }
   ],
   "source": [
    "student_df_2016.T"
   ]
  },
  {
   "cell_type": "code",
   "execution_count": 395,
   "metadata": {
    "collapsed": true
   },
   "outputs": [],
   "source": [
    "#student_df_2016.T.to_csv('2016_students_prediction.csv', header=True, index = True)"
   ]
  },
  {
   "cell_type": "code",
   "execution_count": 386,
   "metadata": {},
   "outputs": [
    {
     "data": {
      "text/plain": [
       "Minimal Risk    163\n",
       "Low Risk         19\n",
       "Medium Risk      16\n",
       "High Risk         8\n",
       "Name: Risk, dtype: int64"
      ]
     },
     "execution_count": 386,
     "metadata": {},
     "output_type": "execute_result"
    }
   ],
   "source": [
    "student_df_2016.T.Risk.value_counts()"
   ]
  },
  {
   "cell_type": "code",
   "execution_count": null,
   "metadata": {
    "collapsed": true
   },
   "outputs": [],
   "source": []
  },
  {
   "cell_type": "code",
   "execution_count": 387,
   "metadata": {},
   "outputs": [
    {
     "data": {
      "text/html": [
       "<div>\n",
       "<style>\n",
       "    .dataframe thead tr:only-child th {\n",
       "        text-align: right;\n",
       "    }\n",
       "\n",
       "    .dataframe thead th {\n",
       "        text-align: left;\n",
       "    }\n",
       "\n",
       "    .dataframe tbody tr th {\n",
       "        vertical-align: top;\n",
       "    }\n",
       "</style>\n",
       "<table border=\"1\" class=\"dataframe\">\n",
       "  <thead>\n",
       "    <tr style=\"text-align: right;\">\n",
       "      <th></th>\n",
       "    </tr>\n",
       "  </thead>\n",
       "  <tbody>\n",
       "    <tr>\n",
       "      <th>Risk</th>\n",
       "    </tr>\n",
       "    <tr>\n",
       "      <th>Questions 1</th>\n",
       "    </tr>\n",
       "    <tr>\n",
       "      <th>Questions 2</th>\n",
       "    </tr>\n",
       "    <tr>\n",
       "      <th>Questions 3</th>\n",
       "    </tr>\n",
       "  </tbody>\n",
       "</table>\n",
       "</div>"
      ],
      "text/plain": [
       "Empty DataFrame\n",
       "Columns: []\n",
       "Index: [Risk, Questions 1, Questions 2, Questions 3]"
      ]
     },
     "execution_count": 387,
     "metadata": {},
     "output_type": "execute_result"
    }
   ],
   "source": [
    "student_df_2017 = pd.DataFrame(index = ['Risk','Questions 1',\n",
    "                                       'Questions 2','Questions 3'])\n",
    "student_df_2017"
   ]
  },
  {
   "cell_type": "code",
   "execution_count": 388,
   "metadata": {
    "collapsed": true
   },
   "outputs": [],
   "source": [
    "for student_id in y_2017_xdf.index:\n",
    "    student_df_2017[student_id]= [is_band8_or_not(student_id),\n",
    "                                  questions_need_improve_2017(student_id)[0],\n",
    "                                  questions_need_improve_2017(student_id)[1],\n",
    "                                  questions_need_improve_2017(student_id)[2]]"
   ]
  },
  {
   "cell_type": "code",
   "execution_count": 389,
   "metadata": {
    "collapsed": true
   },
   "outputs": [
    {
     "data": {
      "text/html": [
       "<div>\n",
       "<style>\n",
       "    .dataframe thead tr:only-child th {\n",
       "        text-align: right;\n",
       "    }\n",
       "\n",
       "    .dataframe thead th {\n",
       "        text-align: left;\n",
       "    }\n",
       "\n",
       "    .dataframe tbody tr th {\n",
       "        vertical-align: top;\n",
       "    }\n",
       "</style>\n",
       "<table border=\"1\" class=\"dataframe\">\n",
       "  <thead>\n",
       "    <tr style=\"text-align: right;\">\n",
       "      <th></th>\n",
       "      <th>Risk</th>\n",
       "      <th>Questions 1</th>\n",
       "      <th>Questions 2</th>\n",
       "      <th>Questions 3</th>\n",
       "    </tr>\n",
       "  </thead>\n",
       "  <tbody>\n",
       "    <tr>\n",
       "      <th>441410735</th>\n",
       "      <td>Minimal Risk</td>\n",
       "      <td>Three-Dimensional Space</td>\n",
       "      <td>Position</td>\n",
       "      <td>Single Variable Data Analysis</td>\n",
       "    </tr>\n",
       "    <tr>\n",
       "      <th>436808992</th>\n",
       "      <td>Minimal Risk</td>\n",
       "      <td>Three-Dimensional Space</td>\n",
       "      <td>Multiplication and Division</td>\n",
       "      <td>Single Variable Data Analysis</td>\n",
       "    </tr>\n",
       "    <tr>\n",
       "      <th>436991703</th>\n",
       "      <td>Minimal Risk</td>\n",
       "      <td>Fractions, Decimals and Percentages</td>\n",
       "      <td>Three-Dimensional Space</td>\n",
       "      <td>Single Variable Data Analysis</td>\n",
       "    </tr>\n",
       "    <tr>\n",
       "      <th>448607429</th>\n",
       "      <td>High Risk</td>\n",
       "      <td>Fractions, Decimals and Percentages</td>\n",
       "      <td>Angles</td>\n",
       "      <td>Three-Dimensional Space</td>\n",
       "    </tr>\n",
       "    <tr>\n",
       "      <th>437076511</th>\n",
       "      <td>Minimal Risk</td>\n",
       "      <td>Single Variable Data Analysis</td>\n",
       "      <td>Volume and Capacity</td>\n",
       "      <td>Time</td>\n",
       "    </tr>\n",
       "    <tr>\n",
       "      <th>437399492</th>\n",
       "      <td>Minimal Risk</td>\n",
       "      <td>Multiplication and Division</td>\n",
       "      <td>Single Variable Data Analysis</td>\n",
       "      <td>Volume and Capacity</td>\n",
       "    </tr>\n",
       "    <tr>\n",
       "      <th>436615825</th>\n",
       "      <td>Minimal Risk</td>\n",
       "      <td>Three-Dimensional Space</td>\n",
       "      <td>Position</td>\n",
       "      <td>Single Variable Data Analysis</td>\n",
       "    </tr>\n",
       "    <tr>\n",
       "      <th>444269936</th>\n",
       "      <td>Minimal Risk</td>\n",
       "      <td>Fractions, Decimals and Percentages</td>\n",
       "      <td>Multiplication and Division</td>\n",
       "      <td>Single Variable Data Analysis</td>\n",
       "    </tr>\n",
       "    <tr>\n",
       "      <th>443672141</th>\n",
       "      <td>Minimal Risk</td>\n",
       "      <td>Three-Dimensional Space</td>\n",
       "      <td>Single Variable Data Analysis</td>\n",
       "      <td>Volume and Capacity</td>\n",
       "    </tr>\n",
       "    <tr>\n",
       "      <th>444303069</th>\n",
       "      <td>Minimal Risk</td>\n",
       "      <td>Three-Dimensional Space</td>\n",
       "      <td>Single Variable Data Analysis</td>\n",
       "      <td>Chance</td>\n",
       "    </tr>\n",
       "    <tr>\n",
       "      <th>437254711</th>\n",
       "      <td>Minimal Risk</td>\n",
       "      <td>Three-Dimensional Space</td>\n",
       "      <td>Multiplication and Division</td>\n",
       "      <td>Single Variable Data Analysis</td>\n",
       "    </tr>\n",
       "    <tr>\n",
       "      <th>436592345</th>\n",
       "      <td>High Risk</td>\n",
       "      <td>Fractions, Decimals and Percentages</td>\n",
       "      <td>Three-Dimensional Space</td>\n",
       "      <td>Position</td>\n",
       "    </tr>\n",
       "    <tr>\n",
       "      <th>448630137</th>\n",
       "      <td>Minimal Risk</td>\n",
       "      <td>Three-Dimensional Space</td>\n",
       "      <td>Multiplication and Division</td>\n",
       "      <td>Financial Mathematics</td>\n",
       "    </tr>\n",
       "    <tr>\n",
       "      <th>435984827</th>\n",
       "      <td>Minimal Risk</td>\n",
       "      <td>Three-Dimensional Space</td>\n",
       "      <td>Single Variable Data Analysis</td>\n",
       "      <td>Addition and Subtraction</td>\n",
       "    </tr>\n",
       "    <tr>\n",
       "      <th>436955502</th>\n",
       "      <td>Minimal Risk</td>\n",
       "      <td>Multiplication and Division</td>\n",
       "      <td>Single Variable Data Analysis</td>\n",
       "      <td>Patterns and Algebra</td>\n",
       "    </tr>\n",
       "    <tr>\n",
       "      <th>436247770</th>\n",
       "      <td>Minimal Risk</td>\n",
       "      <td>Three-Dimensional Space</td>\n",
       "      <td>Multiplication and Division</td>\n",
       "      <td>Patterns and Algebra</td>\n",
       "    </tr>\n",
       "    <tr>\n",
       "      <th>436723938</th>\n",
       "      <td>Minimal Risk</td>\n",
       "      <td>Three-Dimensional Space</td>\n",
       "      <td>Position</td>\n",
       "      <td>Patterns and Algebra</td>\n",
       "    </tr>\n",
       "    <tr>\n",
       "      <th>437000808</th>\n",
       "      <td>Minimal Risk</td>\n",
       "      <td>Single Variable Data Analysis</td>\n",
       "      <td>Time</td>\n",
       "      <td>Area</td>\n",
       "    </tr>\n",
       "    <tr>\n",
       "      <th>436757964</th>\n",
       "      <td>Minimal Risk</td>\n",
       "      <td>Angles</td>\n",
       "      <td>Three-Dimensional Space</td>\n",
       "      <td>Multiplication and Division</td>\n",
       "    </tr>\n",
       "    <tr>\n",
       "      <th>436916281</th>\n",
       "      <td>Minimal Risk</td>\n",
       "      <td>Chance</td>\n",
       "      <td>Time</td>\n",
       "      <td>Area</td>\n",
       "    </tr>\n",
       "    <tr>\n",
       "      <th>436694628</th>\n",
       "      <td>Minimal Risk</td>\n",
       "      <td>Three-Dimensional Space</td>\n",
       "      <td>Multiplication and Division</td>\n",
       "      <td>Single Variable Data Analysis</td>\n",
       "    </tr>\n",
       "    <tr>\n",
       "      <th>444164808</th>\n",
       "      <td>Minimal Risk</td>\n",
       "      <td>Single Variable Data Analysis</td>\n",
       "      <td>Time</td>\n",
       "      <td>Area</td>\n",
       "    </tr>\n",
       "    <tr>\n",
       "      <th>441333714</th>\n",
       "      <td>Minimal Risk</td>\n",
       "      <td>Position</td>\n",
       "      <td>Single Variable Data Analysis</td>\n",
       "      <td>Chance</td>\n",
       "    </tr>\n",
       "    <tr>\n",
       "      <th>443603620</th>\n",
       "      <td>Low Risk</td>\n",
       "      <td>Fractions, Decimals and Percentages</td>\n",
       "      <td>Three-Dimensional Space</td>\n",
       "      <td>Multiplication and Division</td>\n",
       "    </tr>\n",
       "    <tr>\n",
       "      <th>437124698</th>\n",
       "      <td>Minimal Risk</td>\n",
       "      <td>Three-Dimensional Space</td>\n",
       "      <td>Multiplication and Division</td>\n",
       "      <td>Single Variable Data Analysis</td>\n",
       "    </tr>\n",
       "    <tr>\n",
       "      <th>437092869</th>\n",
       "      <td>Minimal Risk</td>\n",
       "      <td>Three-Dimensional Space</td>\n",
       "      <td>Area</td>\n",
       "      <td>Volume</td>\n",
       "    </tr>\n",
       "    <tr>\n",
       "      <th>446610007</th>\n",
       "      <td>Minimal Risk</td>\n",
       "      <td>Fractions, Decimals and Percentages</td>\n",
       "      <td>Single Variable Data Analysis</td>\n",
       "      <td>Chance</td>\n",
       "    </tr>\n",
       "    <tr>\n",
       "      <th>447823047</th>\n",
       "      <td>Minimal Risk</td>\n",
       "      <td>Three-Dimensional Space</td>\n",
       "      <td>Position</td>\n",
       "      <td>Single Variable Data Analysis</td>\n",
       "    </tr>\n",
       "    <tr>\n",
       "      <th>435934218</th>\n",
       "      <td>Minimal Risk</td>\n",
       "      <td>Three-Dimensional Space</td>\n",
       "      <td>Position</td>\n",
       "      <td>Time</td>\n",
       "    </tr>\n",
       "    <tr>\n",
       "      <th>436968230</th>\n",
       "      <td>Minimal Risk</td>\n",
       "      <td>Multiplication and Division</td>\n",
       "      <td>Length</td>\n",
       "      <td>Area</td>\n",
       "    </tr>\n",
       "    <tr>\n",
       "      <th>...</th>\n",
       "      <td>...</td>\n",
       "      <td>...</td>\n",
       "      <td>...</td>\n",
       "      <td>...</td>\n",
       "    </tr>\n",
       "    <tr>\n",
       "      <th>436562934</th>\n",
       "      <td>High Risk</td>\n",
       "      <td>Fractions, Decimals and Percentages</td>\n",
       "      <td>Three-Dimensional Space</td>\n",
       "      <td>Position</td>\n",
       "    </tr>\n",
       "    <tr>\n",
       "      <th>436743963</th>\n",
       "      <td>Medium Risk</td>\n",
       "      <td>Fractions, Decimals and Percentages</td>\n",
       "      <td>Three-Dimensional Space</td>\n",
       "      <td>Data</td>\n",
       "    </tr>\n",
       "    <tr>\n",
       "      <th>436811250</th>\n",
       "      <td>Minimal Risk</td>\n",
       "      <td>Fractions, Decimals and Percentages</td>\n",
       "      <td>Position</td>\n",
       "      <td>Single Variable Data Analysis</td>\n",
       "    </tr>\n",
       "    <tr>\n",
       "      <th>436761937</th>\n",
       "      <td>Minimal Risk</td>\n",
       "      <td>Three-Dimensional Space</td>\n",
       "      <td>Single Variable Data Analysis</td>\n",
       "      <td>Chance</td>\n",
       "    </tr>\n",
       "    <tr>\n",
       "      <th>436738838</th>\n",
       "      <td>Minimal Risk</td>\n",
       "      <td>Single Variable Data Analysis</td>\n",
       "      <td>Addition and Subtraction</td>\n",
       "      <td>Volume and Capacity</td>\n",
       "    </tr>\n",
       "    <tr>\n",
       "      <th>437393281</th>\n",
       "      <td>Minimal Risk</td>\n",
       "      <td>Fractions, Decimals and Percentages</td>\n",
       "      <td>Three-Dimensional Space</td>\n",
       "      <td>Multiplication and Division</td>\n",
       "    </tr>\n",
       "    <tr>\n",
       "      <th>446215086</th>\n",
       "      <td>Minimal Risk</td>\n",
       "      <td>Three-Dimensional Space</td>\n",
       "      <td>Fractions, Decimals and Percentages</td>\n",
       "      <td>Single Variable Data Analysis</td>\n",
       "    </tr>\n",
       "    <tr>\n",
       "      <th>437473331</th>\n",
       "      <td>Minimal Risk</td>\n",
       "      <td>Three-Dimensional Space</td>\n",
       "      <td>Single Variable Data Analysis</td>\n",
       "      <td>Chance</td>\n",
       "    </tr>\n",
       "    <tr>\n",
       "      <th>436049251</th>\n",
       "      <td>Minimal Risk</td>\n",
       "      <td>Single Variable Data Analysis</td>\n",
       "      <td>Addition and Subtraction</td>\n",
       "      <td>Volume and Capacity</td>\n",
       "    </tr>\n",
       "    <tr>\n",
       "      <th>443648968</th>\n",
       "      <td>Minimal Risk</td>\n",
       "      <td>Three-Dimensional Space</td>\n",
       "      <td>Position</td>\n",
       "      <td>Multiplication and Division</td>\n",
       "    </tr>\n",
       "    <tr>\n",
       "      <th>436709234</th>\n",
       "      <td>Minimal Risk</td>\n",
       "      <td>Fractions, Decimals and Percentages</td>\n",
       "      <td>Three-Dimensional Space</td>\n",
       "      <td>Multiplication and Division</td>\n",
       "    </tr>\n",
       "    <tr>\n",
       "      <th>436861541</th>\n",
       "      <td>Minimal Risk</td>\n",
       "      <td>Three-Dimensional Space</td>\n",
       "      <td>Chance</td>\n",
       "      <td>Addition and Subtraction</td>\n",
       "    </tr>\n",
       "    <tr>\n",
       "      <th>437260168</th>\n",
       "      <td>Minimal Risk</td>\n",
       "      <td>Three-Dimensional Space</td>\n",
       "      <td>Single Variable Data Analysis</td>\n",
       "      <td>Addition and Subtraction</td>\n",
       "    </tr>\n",
       "    <tr>\n",
       "      <th>437114528</th>\n",
       "      <td>Minimal Risk</td>\n",
       "      <td>Single Variable Data Analysis</td>\n",
       "      <td>Chance</td>\n",
       "      <td>Patterns and Algebra</td>\n",
       "    </tr>\n",
       "    <tr>\n",
       "      <th>442619034</th>\n",
       "      <td>Medium Risk</td>\n",
       "      <td>Fractions, Decimals and Percentages</td>\n",
       "      <td>Three-Dimensional Space</td>\n",
       "      <td>Multiplication and Division</td>\n",
       "    </tr>\n",
       "    <tr>\n",
       "      <th>436765908</th>\n",
       "      <td>Medium Risk</td>\n",
       "      <td>Fractions, Decimals and Percentages</td>\n",
       "      <td>Three-Dimensional Space</td>\n",
       "      <td>Patterns and Algebra</td>\n",
       "    </tr>\n",
       "    <tr>\n",
       "      <th>444183659</th>\n",
       "      <td>Low Risk</td>\n",
       "      <td>Fractions, Decimals and Percentages</td>\n",
       "      <td>Three-Dimensional Space</td>\n",
       "      <td>Position</td>\n",
       "    </tr>\n",
       "    <tr>\n",
       "      <th>443279172</th>\n",
       "      <td>Minimal Risk</td>\n",
       "      <td>Three-Dimensional Space</td>\n",
       "      <td>Chance</td>\n",
       "      <td>Volume and Capacity</td>\n",
       "    </tr>\n",
       "    <tr>\n",
       "      <th>447901218</th>\n",
       "      <td>Minimal Risk</td>\n",
       "      <td>Position</td>\n",
       "      <td>Single Variable Data Analysis</td>\n",
       "      <td>Area</td>\n",
       "    </tr>\n",
       "    <tr>\n",
       "      <th>436611901</th>\n",
       "      <td>Minimal Risk</td>\n",
       "      <td>Three-Dimensional Space</td>\n",
       "      <td>Volume and Capacity</td>\n",
       "      <td>Position</td>\n",
       "    </tr>\n",
       "    <tr>\n",
       "      <th>448051625</th>\n",
       "      <td>Minimal Risk</td>\n",
       "      <td>Three-Dimensional Space</td>\n",
       "      <td>Data</td>\n",
       "      <td>Volume and Capacity</td>\n",
       "    </tr>\n",
       "    <tr>\n",
       "      <th>436773510</th>\n",
       "      <td>Minimal Risk</td>\n",
       "      <td>Area</td>\n",
       "      <td>Volume</td>\n",
       "      <td>Two-Dimensional Space</td>\n",
       "    </tr>\n",
       "    <tr>\n",
       "      <th>448455696</th>\n",
       "      <td>High Risk</td>\n",
       "      <td>Fractions, Decimals and Percentages</td>\n",
       "      <td>Three-Dimensional Space</td>\n",
       "      <td>Data</td>\n",
       "    </tr>\n",
       "    <tr>\n",
       "      <th>444330252</th>\n",
       "      <td>Minimal Risk</td>\n",
       "      <td>Three-Dimensional Space</td>\n",
       "      <td>Single Variable Data Analysis</td>\n",
       "      <td>Chance</td>\n",
       "    </tr>\n",
       "    <tr>\n",
       "      <th>437287686</th>\n",
       "      <td>Minimal Risk</td>\n",
       "      <td>Three-Dimensional Space</td>\n",
       "      <td>Single Variable Data Analysis</td>\n",
       "      <td>Addition and Subtraction</td>\n",
       "    </tr>\n",
       "    <tr>\n",
       "      <th>448781046</th>\n",
       "      <td>Low Risk</td>\n",
       "      <td>Fractions, Decimals and Percentages</td>\n",
       "      <td>Three-Dimensional Space</td>\n",
       "      <td>Financial Mathematics</td>\n",
       "    </tr>\n",
       "    <tr>\n",
       "      <th>440981763</th>\n",
       "      <td>Low Risk</td>\n",
       "      <td>Fractions, Decimals and Percentages</td>\n",
       "      <td>Three-Dimensional Space</td>\n",
       "      <td>Position</td>\n",
       "    </tr>\n",
       "    <tr>\n",
       "      <th>447856123</th>\n",
       "      <td>Medium Risk</td>\n",
       "      <td>Fractions, Decimals and Percentages</td>\n",
       "      <td>Three-Dimensional Space</td>\n",
       "      <td>Position</td>\n",
       "    </tr>\n",
       "    <tr>\n",
       "      <th>441960824</th>\n",
       "      <td>Minimal Risk</td>\n",
       "      <td>Three-Dimensional Space</td>\n",
       "      <td>Position</td>\n",
       "      <td>Multiplication and Division</td>\n",
       "    </tr>\n",
       "    <tr>\n",
       "      <th>436721986</th>\n",
       "      <td>High Risk</td>\n",
       "      <td>Fractions, Decimals and Percentages</td>\n",
       "      <td>Three-Dimensional Space</td>\n",
       "      <td>Position</td>\n",
       "    </tr>\n",
       "  </tbody>\n",
       "</table>\n",
       "<p>210 rows × 4 columns</p>\n",
       "</div>"
      ],
      "text/plain": [
       "                   Risk                          Questions 1  \\\n",
       "441410735  Minimal Risk              Three-Dimensional Space   \n",
       "436808992  Minimal Risk              Three-Dimensional Space   \n",
       "436991703  Minimal Risk  Fractions, Decimals and Percentages   \n",
       "448607429     High Risk  Fractions, Decimals and Percentages   \n",
       "437076511  Minimal Risk        Single Variable Data Analysis   \n",
       "437399492  Minimal Risk          Multiplication and Division   \n",
       "436615825  Minimal Risk              Three-Dimensional Space   \n",
       "444269936  Minimal Risk  Fractions, Decimals and Percentages   \n",
       "443672141  Minimal Risk              Three-Dimensional Space   \n",
       "444303069  Minimal Risk              Three-Dimensional Space   \n",
       "437254711  Minimal Risk              Three-Dimensional Space   \n",
       "436592345     High Risk  Fractions, Decimals and Percentages   \n",
       "448630137  Minimal Risk              Three-Dimensional Space   \n",
       "435984827  Minimal Risk              Three-Dimensional Space   \n",
       "436955502  Minimal Risk          Multiplication and Division   \n",
       "436247770  Minimal Risk              Three-Dimensional Space   \n",
       "436723938  Minimal Risk              Three-Dimensional Space   \n",
       "437000808  Minimal Risk        Single Variable Data Analysis   \n",
       "436757964  Minimal Risk                               Angles   \n",
       "436916281  Minimal Risk                               Chance   \n",
       "436694628  Minimal Risk              Three-Dimensional Space   \n",
       "444164808  Minimal Risk        Single Variable Data Analysis   \n",
       "441333714  Minimal Risk                             Position   \n",
       "443603620      Low Risk  Fractions, Decimals and Percentages   \n",
       "437124698  Minimal Risk              Three-Dimensional Space   \n",
       "437092869  Minimal Risk              Three-Dimensional Space   \n",
       "446610007  Minimal Risk  Fractions, Decimals and Percentages   \n",
       "447823047  Minimal Risk              Three-Dimensional Space   \n",
       "435934218  Minimal Risk              Three-Dimensional Space   \n",
       "436968230  Minimal Risk          Multiplication and Division   \n",
       "...                 ...                                  ...   \n",
       "436562934     High Risk  Fractions, Decimals and Percentages   \n",
       "436743963   Medium Risk  Fractions, Decimals and Percentages   \n",
       "436811250  Minimal Risk  Fractions, Decimals and Percentages   \n",
       "436761937  Minimal Risk              Three-Dimensional Space   \n",
       "436738838  Minimal Risk        Single Variable Data Analysis   \n",
       "437393281  Minimal Risk  Fractions, Decimals and Percentages   \n",
       "446215086  Minimal Risk              Three-Dimensional Space   \n",
       "437473331  Minimal Risk              Three-Dimensional Space   \n",
       "436049251  Minimal Risk        Single Variable Data Analysis   \n",
       "443648968  Minimal Risk              Three-Dimensional Space   \n",
       "436709234  Minimal Risk  Fractions, Decimals and Percentages   \n",
       "436861541  Minimal Risk              Three-Dimensional Space   \n",
       "437260168  Minimal Risk              Three-Dimensional Space   \n",
       "437114528  Minimal Risk        Single Variable Data Analysis   \n",
       "442619034   Medium Risk  Fractions, Decimals and Percentages   \n",
       "436765908   Medium Risk  Fractions, Decimals and Percentages   \n",
       "444183659      Low Risk  Fractions, Decimals and Percentages   \n",
       "443279172  Minimal Risk              Three-Dimensional Space   \n",
       "447901218  Minimal Risk                             Position   \n",
       "436611901  Minimal Risk              Three-Dimensional Space   \n",
       "448051625  Minimal Risk              Three-Dimensional Space   \n",
       "436773510  Minimal Risk                                 Area   \n",
       "448455696     High Risk  Fractions, Decimals and Percentages   \n",
       "444330252  Minimal Risk              Three-Dimensional Space   \n",
       "437287686  Minimal Risk              Three-Dimensional Space   \n",
       "448781046      Low Risk  Fractions, Decimals and Percentages   \n",
       "440981763      Low Risk  Fractions, Decimals and Percentages   \n",
       "447856123   Medium Risk  Fractions, Decimals and Percentages   \n",
       "441960824  Minimal Risk              Three-Dimensional Space   \n",
       "436721986     High Risk  Fractions, Decimals and Percentages   \n",
       "\n",
       "                                   Questions 2                    Questions 3  \n",
       "441410735                             Position  Single Variable Data Analysis  \n",
       "436808992          Multiplication and Division  Single Variable Data Analysis  \n",
       "436991703              Three-Dimensional Space  Single Variable Data Analysis  \n",
       "448607429                               Angles        Three-Dimensional Space  \n",
       "437076511                  Volume and Capacity                           Time  \n",
       "437399492        Single Variable Data Analysis            Volume and Capacity  \n",
       "436615825                             Position  Single Variable Data Analysis  \n",
       "444269936          Multiplication and Division  Single Variable Data Analysis  \n",
       "443672141        Single Variable Data Analysis            Volume and Capacity  \n",
       "444303069        Single Variable Data Analysis                         Chance  \n",
       "437254711          Multiplication and Division  Single Variable Data Analysis  \n",
       "436592345              Three-Dimensional Space                       Position  \n",
       "448630137          Multiplication and Division          Financial Mathematics  \n",
       "435984827        Single Variable Data Analysis       Addition and Subtraction  \n",
       "436955502        Single Variable Data Analysis           Patterns and Algebra  \n",
       "436247770          Multiplication and Division           Patterns and Algebra  \n",
       "436723938                             Position           Patterns and Algebra  \n",
       "437000808                                 Time                           Area  \n",
       "436757964              Three-Dimensional Space    Multiplication and Division  \n",
       "436916281                                 Time                           Area  \n",
       "436694628          Multiplication and Division  Single Variable Data Analysis  \n",
       "444164808                                 Time                           Area  \n",
       "441333714        Single Variable Data Analysis                         Chance  \n",
       "443603620              Three-Dimensional Space    Multiplication and Division  \n",
       "437124698          Multiplication and Division  Single Variable Data Analysis  \n",
       "437092869                                 Area                         Volume  \n",
       "446610007        Single Variable Data Analysis                         Chance  \n",
       "447823047                             Position  Single Variable Data Analysis  \n",
       "435934218                             Position                           Time  \n",
       "436968230                               Length                           Area  \n",
       "...                                        ...                            ...  \n",
       "436562934              Three-Dimensional Space                       Position  \n",
       "436743963              Three-Dimensional Space                           Data  \n",
       "436811250                             Position  Single Variable Data Analysis  \n",
       "436761937        Single Variable Data Analysis                         Chance  \n",
       "436738838             Addition and Subtraction            Volume and Capacity  \n",
       "437393281              Three-Dimensional Space    Multiplication and Division  \n",
       "446215086  Fractions, Decimals and Percentages  Single Variable Data Analysis  \n",
       "437473331        Single Variable Data Analysis                         Chance  \n",
       "436049251             Addition and Subtraction            Volume and Capacity  \n",
       "443648968                             Position    Multiplication and Division  \n",
       "436709234              Three-Dimensional Space    Multiplication and Division  \n",
       "436861541                               Chance       Addition and Subtraction  \n",
       "437260168        Single Variable Data Analysis       Addition and Subtraction  \n",
       "437114528                               Chance           Patterns and Algebra  \n",
       "442619034              Three-Dimensional Space    Multiplication and Division  \n",
       "436765908              Three-Dimensional Space           Patterns and Algebra  \n",
       "444183659              Three-Dimensional Space                       Position  \n",
       "443279172                               Chance            Volume and Capacity  \n",
       "447901218        Single Variable Data Analysis                           Area  \n",
       "436611901                  Volume and Capacity                       Position  \n",
       "448051625                                 Data            Volume and Capacity  \n",
       "436773510                               Volume          Two-Dimensional Space  \n",
       "448455696              Three-Dimensional Space                           Data  \n",
       "444330252        Single Variable Data Analysis                         Chance  \n",
       "437287686        Single Variable Data Analysis       Addition and Subtraction  \n",
       "448781046              Three-Dimensional Space          Financial Mathematics  \n",
       "440981763              Three-Dimensional Space                       Position  \n",
       "447856123              Three-Dimensional Space                       Position  \n",
       "441960824                             Position    Multiplication and Division  \n",
       "436721986              Three-Dimensional Space                       Position  \n",
       "\n",
       "[210 rows x 4 columns]"
      ]
     },
     "execution_count": 389,
     "metadata": {},
     "output_type": "execute_result"
    }
   ],
   "source": [
    "student_df_2017.T"
   ]
  },
  {
   "cell_type": "code",
   "execution_count": 394,
   "metadata": {
    "collapsed": true
   },
   "outputs": [],
   "source": [
    "#student_df_2017.T.to_csv('2017_students_prediction.csv', header=True, index = True)"
   ]
  },
  {
   "cell_type": "code",
   "execution_count": 391,
   "metadata": {},
   "outputs": [
    {
     "data": {
      "text/plain": [
       "Minimal Risk    159\n",
       "Medium Risk      17\n",
       "Low Risk         17\n",
       "High Risk        17\n",
       "Name: Risk, dtype: int64"
      ]
     },
     "execution_count": 391,
     "metadata": {},
     "output_type": "execute_result"
    }
   ],
   "source": [
    "student_df_2017.T.Risk.value_counts()"
   ]
  },
  {
   "cell_type": "markdown",
   "metadata": {},
   "source": [
    "#  verbes columns"
   ]
  },
  {
   "cell_type": "code",
   "execution_count": 209,
   "metadata": {
    "collapsed": true
   },
   "outputs": [],
   "source": [
    "df_v = pd.concat([X_y7_2012_v,X_y7_2013_v,X_y7_2014_v,X_y7_2015_v])"
   ]
  },
  {
   "cell_type": "code",
   "execution_count": 210,
   "metadata": {
    "collapsed": true
   },
   "outputs": [],
   "source": [
    "df_v = df_v.T.fillna(df_v.T.mean()).T"
   ]
  },
  {
   "cell_type": "code",
   "execution_count": 211,
   "metadata": {
    "collapsed": true
   },
   "outputs": [],
   "source": [
    "y7band = pd.concat([band2012,band2013,band2014,band2015])\n",
    "y5band = pd.concat([band2012_y5,band2013_y5,band2014_y5,band2015_y5])\n",
    "df_v['y7_band'] = list(y7band/10)\n",
    "#df_v['y5_band'] = list(y5band)"
   ]
  },
  {
   "cell_type": "code",
   "execution_count": 212,
   "metadata": {},
   "outputs": [
    {
     "data": {
      "text/html": [
       "<div>\n",
       "<style>\n",
       "    .dataframe thead tr:only-child th {\n",
       "        text-align: right;\n",
       "    }\n",
       "\n",
       "    .dataframe thead th {\n",
       "        text-align: left;\n",
       "    }\n",
       "\n",
       "    .dataframe tbody tr th {\n",
       "        vertical-align: top;\n",
       "    }\n",
       "</style>\n",
       "<table border=\"1\" class=\"dataframe\">\n",
       "  <thead>\n",
       "    <tr style=\"text-align: right;\">\n",
       "      <th></th>\n",
       "      <th>Adds</th>\n",
       "      <th>Applies</th>\n",
       "      <th>Calculates</th>\n",
       "      <th>Chooses</th>\n",
       "      <th>Compares</th>\n",
       "      <th>Completes</th>\n",
       "      <th>Continues</th>\n",
       "      <th>Converts</th>\n",
       "      <th>Counts</th>\n",
       "      <th>Describes</th>\n",
       "      <th>...</th>\n",
       "      <th>Reads</th>\n",
       "      <th>Recognises</th>\n",
       "      <th>Rounds</th>\n",
       "      <th>Selects</th>\n",
       "      <th>Solves</th>\n",
       "      <th>Subtracts</th>\n",
       "      <th>Uses</th>\n",
       "      <th>Visualises</th>\n",
       "      <th>Writes</th>\n",
       "      <th>y7_band</th>\n",
       "    </tr>\n",
       "    <tr>\n",
       "      <th>SRN</th>\n",
       "      <th></th>\n",
       "      <th></th>\n",
       "      <th></th>\n",
       "      <th></th>\n",
       "      <th></th>\n",
       "      <th></th>\n",
       "      <th></th>\n",
       "      <th></th>\n",
       "      <th></th>\n",
       "      <th></th>\n",
       "      <th></th>\n",
       "      <th></th>\n",
       "      <th></th>\n",
       "      <th></th>\n",
       "      <th></th>\n",
       "      <th></th>\n",
       "      <th></th>\n",
       "      <th></th>\n",
       "      <th></th>\n",
       "      <th></th>\n",
       "      <th></th>\n",
       "    </tr>\n",
       "  </thead>\n",
       "  <tbody>\n",
       "    <tr>\n",
       "      <th>436530790</th>\n",
       "      <td>1.0</td>\n",
       "      <td>0.666667</td>\n",
       "      <td>0.6250</td>\n",
       "      <td>0.553686</td>\n",
       "      <td>0.0</td>\n",
       "      <td>0.553686</td>\n",
       "      <td>0.0</td>\n",
       "      <td>0.0</td>\n",
       "      <td>0.553686</td>\n",
       "      <td>1.0</td>\n",
       "      <td>...</td>\n",
       "      <td>0.553686</td>\n",
       "      <td>0.553686</td>\n",
       "      <td>1.0</td>\n",
       "      <td>0.553686</td>\n",
       "      <td>0.500000</td>\n",
       "      <td>0.553686</td>\n",
       "      <td>1.0</td>\n",
       "      <td>0.553686</td>\n",
       "      <td>0.553686</td>\n",
       "      <td>0.7</td>\n",
       "    </tr>\n",
       "    <tr>\n",
       "      <th>441546149</th>\n",
       "      <td>1.0</td>\n",
       "      <td>1.000000</td>\n",
       "      <td>0.8125</td>\n",
       "      <td>0.874599</td>\n",
       "      <td>1.0</td>\n",
       "      <td>0.874599</td>\n",
       "      <td>1.0</td>\n",
       "      <td>1.0</td>\n",
       "      <td>0.874599</td>\n",
       "      <td>1.0</td>\n",
       "      <td>...</td>\n",
       "      <td>0.874599</td>\n",
       "      <td>0.874599</td>\n",
       "      <td>1.0</td>\n",
       "      <td>0.874599</td>\n",
       "      <td>0.666667</td>\n",
       "      <td>0.874599</td>\n",
       "      <td>1.0</td>\n",
       "      <td>0.874599</td>\n",
       "      <td>0.874599</td>\n",
       "      <td>0.9</td>\n",
       "    </tr>\n",
       "    <tr>\n",
       "      <th>432640256</th>\n",
       "      <td>1.0</td>\n",
       "      <td>0.000000</td>\n",
       "      <td>0.6875</td>\n",
       "      <td>0.456170</td>\n",
       "      <td>0.0</td>\n",
       "      <td>0.456170</td>\n",
       "      <td>0.0</td>\n",
       "      <td>0.0</td>\n",
       "      <td>0.456170</td>\n",
       "      <td>1.0</td>\n",
       "      <td>...</td>\n",
       "      <td>0.456170</td>\n",
       "      <td>0.456170</td>\n",
       "      <td>0.0</td>\n",
       "      <td>0.456170</td>\n",
       "      <td>0.666667</td>\n",
       "      <td>0.456170</td>\n",
       "      <td>1.0</td>\n",
       "      <td>0.456170</td>\n",
       "      <td>0.456170</td>\n",
       "      <td>0.7</td>\n",
       "    </tr>\n",
       "    <tr>\n",
       "      <th>434220173</th>\n",
       "      <td>1.0</td>\n",
       "      <td>0.666667</td>\n",
       "      <td>0.5625</td>\n",
       "      <td>0.467228</td>\n",
       "      <td>0.0</td>\n",
       "      <td>0.467228</td>\n",
       "      <td>0.0</td>\n",
       "      <td>0.0</td>\n",
       "      <td>0.467228</td>\n",
       "      <td>1.0</td>\n",
       "      <td>...</td>\n",
       "      <td>0.467228</td>\n",
       "      <td>0.467228</td>\n",
       "      <td>0.0</td>\n",
       "      <td>0.467228</td>\n",
       "      <td>0.333333</td>\n",
       "      <td>0.467228</td>\n",
       "      <td>0.5</td>\n",
       "      <td>0.467228</td>\n",
       "      <td>0.467228</td>\n",
       "      <td>0.7</td>\n",
       "    </tr>\n",
       "    <tr>\n",
       "      <th>431672294</th>\n",
       "      <td>1.0</td>\n",
       "      <td>1.000000</td>\n",
       "      <td>0.8125</td>\n",
       "      <td>0.786779</td>\n",
       "      <td>0.0</td>\n",
       "      <td>0.786779</td>\n",
       "      <td>1.0</td>\n",
       "      <td>1.0</td>\n",
       "      <td>0.786779</td>\n",
       "      <td>1.0</td>\n",
       "      <td>...</td>\n",
       "      <td>0.786779</td>\n",
       "      <td>0.786779</td>\n",
       "      <td>1.0</td>\n",
       "      <td>0.786779</td>\n",
       "      <td>0.500000</td>\n",
       "      <td>0.786779</td>\n",
       "      <td>1.0</td>\n",
       "      <td>0.786779</td>\n",
       "      <td>0.786779</td>\n",
       "      <td>0.9</td>\n",
       "    </tr>\n",
       "  </tbody>\n",
       "</table>\n",
       "<p>5 rows × 37 columns</p>\n",
       "</div>"
      ],
      "text/plain": [
       "           Adds   Applies  Calculates   Chooses  Compares  Completes  \\\n",
       "SRN                                                                    \n",
       "436530790   1.0  0.666667      0.6250  0.553686       0.0   0.553686   \n",
       "441546149   1.0  1.000000      0.8125  0.874599       1.0   0.874599   \n",
       "432640256   1.0  0.000000      0.6875  0.456170       0.0   0.456170   \n",
       "434220173   1.0  0.666667      0.5625  0.467228       0.0   0.467228   \n",
       "431672294   1.0  1.000000      0.8125  0.786779       0.0   0.786779   \n",
       "\n",
       "           Continues  Converts    Counts  Describes   ...        Reads  \\\n",
       "SRN                                                   ...                \n",
       "436530790        0.0       0.0  0.553686        1.0   ...     0.553686   \n",
       "441546149        1.0       1.0  0.874599        1.0   ...     0.874599   \n",
       "432640256        0.0       0.0  0.456170        1.0   ...     0.456170   \n",
       "434220173        0.0       0.0  0.467228        1.0   ...     0.467228   \n",
       "431672294        1.0       1.0  0.786779        1.0   ...     0.786779   \n",
       "\n",
       "           Recognises  Rounds   Selects    Solves  Subtracts  Uses  \\\n",
       "SRN                                                                  \n",
       "436530790    0.553686     1.0  0.553686  0.500000   0.553686   1.0   \n",
       "441546149    0.874599     1.0  0.874599  0.666667   0.874599   1.0   \n",
       "432640256    0.456170     0.0  0.456170  0.666667   0.456170   1.0   \n",
       "434220173    0.467228     0.0  0.467228  0.333333   0.467228   0.5   \n",
       "431672294    0.786779     1.0  0.786779  0.500000   0.786779   1.0   \n",
       "\n",
       "           Visualises    Writes  y7_band  \n",
       "SRN                                       \n",
       "436530790    0.553686  0.553686      0.7  \n",
       "441546149    0.874599  0.874599      0.9  \n",
       "432640256    0.456170  0.456170      0.7  \n",
       "434220173    0.467228  0.467228      0.7  \n",
       "431672294    0.786779  0.786779      0.9  \n",
       "\n",
       "[5 rows x 37 columns]"
      ]
     },
     "execution_count": 212,
     "metadata": {},
     "output_type": "execute_result"
    }
   ],
   "source": [
    "df_v.head()"
   ]
  },
  {
   "cell_type": "code",
   "execution_count": 213,
   "metadata": {
    "collapsed": true
   },
   "outputs": [],
   "source": [
    "# train test split\n",
    "from sklearn.model_selection import train_test_split\n",
    "X_train4,X_test4,y_train4,y_test4 = train_test_split(df_v,yc1,\n",
    "                                                    random_state = 233)"
   ]
  },
  {
   "cell_type": "markdown",
   "metadata": {
    "collapsed": true
   },
   "source": [
    "## Logistic Regression"
   ]
  },
  {
   "cell_type": "code",
   "execution_count": 214,
   "metadata": {},
   "outputs": [
    {
     "name": "stdout",
     "output_type": "stream",
     "text": [
      "0.869109947644\n"
     ]
    }
   ],
   "source": [
    "import sklearn.linear_model\n",
    "lr = sklearn.linear_model.LogisticRegression()\n",
    "lr.fit(X_train4, y_train4)\n",
    "y_pred = lr.predict(X_test4)\n",
    "print lr.score(X_test4, y_test4)"
   ]
  },
  {
   "cell_type": "code",
   "execution_count": 217,
   "metadata": {},
   "outputs": [
    {
     "name": "stdout",
     "output_type": "stream",
     "text": [
      "0.925373134328\n",
      "0.940321148093\n"
     ]
    }
   ],
   "source": [
    "\n",
    "from sklearn.metrics import f1_score\n",
    "print f1_score(y_test4, y_pred)\n",
    "from sklearn.metrics import average_precision_score\n",
    "print average_precision_score(y_test4, y_pred)"
   ]
  },
  {
   "cell_type": "code",
   "execution_count": 218,
   "metadata": {},
   "outputs": [
    {
     "data": {
      "text/plain": [
       "array([[ 11,  20],\n",
       "       [  5, 155]])"
      ]
     },
     "execution_count": 218,
     "metadata": {},
     "output_type": "execute_result"
    }
   ],
   "source": [
    "import sklearn.metrics \n",
    "sklearn.metrics.confusion_matrix(y_test4, y_pred)"
   ]
  },
  {
   "cell_type": "code",
   "execution_count": 219,
   "metadata": {
    "collapsed": true,
    "scrolled": true
   },
   "outputs": [],
   "source": [
    "dfv_s = pd.DataFrame({\n",
    "    'strength': lr.coef_[0,:],\n",
    "    'question': X_train4.columns\n",
    "}).sort_values('strength', ascending = False)"
   ]
  },
  {
   "cell_type": "code",
   "execution_count": 220,
   "metadata": {},
   "outputs": [
    {
     "data": {
      "text/plain": [
       "<matplotlib.axes._subplots.AxesSubplot at 0x12dc9c050>"
      ]
     },
     "execution_count": 220,
     "metadata": {},
     "output_type": "execute_result"
    },
    {
     "data": {
      "image/png": "[encoded data removed]",
      "text/plain": [
       "<matplotlib.figure.Figure at 0x12dca6a10>"
      ]
     },
     "metadata": {},
     "output_type": "display_data"
    }
   ],
   "source": [
    "sns.barplot(x = 'strength',y = 'question',data = dfv_s[:5])"
   ]
  },
  {
   "cell_type": "code",
   "execution_count": null,
   "metadata": {
    "collapsed": true
   },
   "outputs": [],
   "source": []
  }
 ],
 "metadata": {
  "kernelspec": {
   "display_name": "Python 2",
   "language": "python",
   "name": "python2"
  },
  "language_info": {
   "codemirror_mode": {
    "name": "ipython",
    "version": 2
   },
   "file_extension": ".py",
   "mimetype": "text/x-python",
   "name": "python",
   "nbconvert_exporter": "python",
   "pygments_lexer": "ipython2",
   "version": "2.7.13"
  }
 },
 "nbformat": 4,
 "nbformat_minor": 2
}
