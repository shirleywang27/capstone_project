{
 "cells": [
  {
   "cell_type": "markdown",
   "metadata": {},
   "source": [
    "1. Analysis the data to see if there is any particular question type that we need spend some additional time on."
   ]
  },
  {
   "cell_type": "code",
   "execution_count": 1,
   "metadata": {
    "collapsed": true
   },
   "outputs": [],
   "source": [
    "import numpy as np\n",
    "import scipy.stats as stats\n",
    "import seaborn as sns\n",
    "import matplotlib.pyplot as plt\n",
    "import pandas as pd\n",
    "import re\n",
    "\n",
    "sns.set_style('whitegrid')\n",
    "#sns.set_palette(\"husl\")\n",
    "\n",
    "%matplotlib inline"
   ]
  },
  {
   "cell_type": "code",
   "execution_count": 2,
   "metadata": {
    "collapsed": true
   },
   "outputs": [],
   "source": [
    "y7_2012 = pd.read_csv('./NAPLAN/naplan_schoolexportYr7_2012.csv')\n",
    "y7_2013 = pd.read_csv('./NAPLAN/naplan_schoolexportYr7_2013.csv')\n",
    "y7_2014 = pd.read_csv('./NAPLAN/naplan_schoolexportYr7_2014.csv')\n",
    "y7_2015 = pd.read_csv('./NAPLAN/naplan_schoolexportYr7_2015.csv')\n",
    "# need to predict\n",
    "y7_2016 = pd.read_csv('./NAPLAN/naplan_schoolexportYr7_2016.csv')\n",
    "y7_2017 = pd.read_csv('./NAPLAN/naplan_schoolexportYr7_2017.csv')\n",
    "y9_2012 = pd.read_csv('./NAPLAN/naplan_schoolexportYr9_2012.csv')\n",
    "y9_2013 = pd.read_csv('./NAPLAN/naplan_schoolexportYr9_2013.csv')\n",
    "# useful\n",
    "y9_2014 = pd.read_csv('./NAPLAN/naplan_schoolexportYr9_2014.csv')\n",
    "y9_2015 = pd.read_csv('./NAPLAN/naplan_schoolexportYr9_2015.csv')\n",
    "y9_2016 = pd.read_csv('./NAPLAN/naplan_schoolexportYr9_2016.csv')\n",
    "y9_2017 = pd.read_csv('./NAPLAN/naplan_schoolexportYr9_2017.csv')"
   ]
  },
  {
   "cell_type": "code",
   "execution_count": 3,
   "metadata": {
    "collapsed": true
   },
   "outputs": [],
   "source": [
    "# train data\n",
    "y7_2012_y9_2014 = pd.read_csv('y7_2012_y9_2014_2.csv' )\n",
    "y7_2013_y9_2015 = pd.read_csv('y7_2013_y9_2015_2.csv' )\n",
    "y7_2014_y9_2016 = pd.read_csv('y7_2014_y9_2016_2.csv' )\n",
    "# test data\n",
    "y7_2015_y9_2017 = pd.read_csv('y7_2015_y9_2017_2.csv' )\n"
   ]
  },
  {
   "cell_type": "code",
   "execution_count": 4,
   "metadata": {
    "collapsed": true
   },
   "outputs": [],
   "source": [
    "X_y7_2012 = pd.read_csv('X_y7_2012_2.csv')\n",
    "X_y7_2013 = pd.read_csv('X_y7_2013_2.csv')\n",
    "X_y7_2014 = pd.read_csv('X_y7_2014_2.csv')\n",
    "X_y7_2015 = pd.read_csv('X_y7_2015_2.csv')\n",
    "X_y7_2016 = pd.read_csv('X_y7_2016.csv')\n",
    "X_y7_2017 = pd.read_csv('X_y7_2017.csv')\n",
    "\n",
    "X_y9_2012 = pd.read_csv('X_y9_2012.csv')\n",
    "X_y9_2013 = pd.read_csv('X_y9_2013.csv')\n",
    "X_y9_2014 = pd.read_csv('X_y9_2014.csv')\n",
    "X_y9_2015 = pd.read_csv('X_y9_2015.csv')\n",
    "X_y9_2016 = pd.read_csv('X_y9_2016.csv')\n",
    "X_y9_2017 = pd.read_csv('X_y9_2017.csv')"
   ]
  },
  {
   "cell_type": "code",
   "execution_count": 5,
   "metadata": {
    "collapsed": true
   },
   "outputs": [],
   "source": [
    "# verbes\n",
    "X_y7_2012_v = pd.read_csv('X_y7_2012_verbes_2.csv')\n",
    "X_y7_2013_v = pd.read_csv('X_y7_2013_verbes_2.csv')\n",
    "X_y7_2014_v = pd.read_csv('X_y7_2014_verbes_2.csv')\n",
    "X_y7_2015_v = pd.read_csv('X_y7_2015_verbes_2.csv')\n",
    "X_y7_2016_v = pd.read_csv('X_y7_2016_verbes_2.csv')\n",
    "X_y7_2017_v = pd.read_csv('X_y7_2017_verbes_2.csv')\n",
    "\n",
    "X_y9_2012_v = pd.read_csv('X_y9_2012_verbes.csv')\n",
    "X_y9_2013_v = pd.read_csv('X_y9_2013_verbes.csv')\n",
    "X_y9_2014_v = pd.read_csv('X_y9_2014_verbes.csv')\n",
    "X_y9_2015_v = pd.read_csv('X_y9_2015_verbes.csv')\n",
    "X_y9_2016_v = pd.read_csv('X_y9_2016_verbes.csv')\n",
    "X_y9_2017_v = pd.read_csv('X_y9_2017_verbes.csv')"
   ]
  },
  {
   "cell_type": "markdown",
   "metadata": {},
   "source": [
    "# Plot y9 band\n",
    "\n",
    "The performance for this school"
   ]
  },
  {
   "cell_type": "code",
   "execution_count": 6,
   "metadata": {},
   "outputs": [
    {
     "data": {
      "text/html": [
       "<div>\n",
       "<style>\n",
       "    .dataframe thead tr:only-child th {\n",
       "        text-align: right;\n",
       "    }\n",
       "\n",
       "    .dataframe thead th {\n",
       "        text-align: left;\n",
       "    }\n",
       "\n",
       "    .dataframe tbody tr th {\n",
       "        vertical-align: top;\n",
       "    }\n",
       "</style>\n",
       "<table border=\"1\" class=\"dataframe\">\n",
       "  <thead>\n",
       "    <tr style=\"text-align: right;\">\n",
       "      <th></th>\n",
       "      <th>Year</th>\n",
       "      <th>Band Year 9: Numeracy</th>\n",
       "      <th>Count</th>\n",
       "      <th>Total_student</th>\n",
       "      <th>Percentage</th>\n",
       "    </tr>\n",
       "  </thead>\n",
       "  <tbody>\n",
       "    <tr>\n",
       "      <th>0</th>\n",
       "      <td>2012</td>\n",
       "      <td>False</td>\n",
       "      <td>35</td>\n",
       "      <td>206</td>\n",
       "      <td>0.169903</td>\n",
       "    </tr>\n",
       "    <tr>\n",
       "      <th>1</th>\n",
       "      <td>2012</td>\n",
       "      <td>True</td>\n",
       "      <td>171</td>\n",
       "      <td>206</td>\n",
       "      <td>0.830097</td>\n",
       "    </tr>\n",
       "    <tr>\n",
       "      <th>2</th>\n",
       "      <td>2013</td>\n",
       "      <td>False</td>\n",
       "      <td>49</td>\n",
       "      <td>204</td>\n",
       "      <td>0.240196</td>\n",
       "    </tr>\n",
       "    <tr>\n",
       "      <th>3</th>\n",
       "      <td>2013</td>\n",
       "      <td>True</td>\n",
       "      <td>155</td>\n",
       "      <td>204</td>\n",
       "      <td>0.759804</td>\n",
       "    </tr>\n",
       "    <tr>\n",
       "      <th>4</th>\n",
       "      <td>2014</td>\n",
       "      <td>False</td>\n",
       "      <td>32</td>\n",
       "      <td>205</td>\n",
       "      <td>0.156098</td>\n",
       "    </tr>\n",
       "    <tr>\n",
       "      <th>5</th>\n",
       "      <td>2014</td>\n",
       "      <td>True</td>\n",
       "      <td>173</td>\n",
       "      <td>205</td>\n",
       "      <td>0.843902</td>\n",
       "    </tr>\n",
       "    <tr>\n",
       "      <th>6</th>\n",
       "      <td>2015</td>\n",
       "      <td>False</td>\n",
       "      <td>35</td>\n",
       "      <td>207</td>\n",
       "      <td>0.169082</td>\n",
       "    </tr>\n",
       "    <tr>\n",
       "      <th>7</th>\n",
       "      <td>2015</td>\n",
       "      <td>True</td>\n",
       "      <td>172</td>\n",
       "      <td>207</td>\n",
       "      <td>0.830918</td>\n",
       "    </tr>\n",
       "    <tr>\n",
       "      <th>8</th>\n",
       "      <td>2016</td>\n",
       "      <td>False</td>\n",
       "      <td>28</td>\n",
       "      <td>206</td>\n",
       "      <td>0.135922</td>\n",
       "    </tr>\n",
       "    <tr>\n",
       "      <th>9</th>\n",
       "      <td>2016</td>\n",
       "      <td>True</td>\n",
       "      <td>178</td>\n",
       "      <td>206</td>\n",
       "      <td>0.864078</td>\n",
       "    </tr>\n",
       "    <tr>\n",
       "      <th>10</th>\n",
       "      <td>2017</td>\n",
       "      <td>False</td>\n",
       "      <td>32</td>\n",
       "      <td>207</td>\n",
       "      <td>0.154589</td>\n",
       "    </tr>\n",
       "    <tr>\n",
       "      <th>11</th>\n",
       "      <td>2017</td>\n",
       "      <td>True</td>\n",
       "      <td>175</td>\n",
       "      <td>207</td>\n",
       "      <td>0.845411</td>\n",
       "    </tr>\n",
       "  </tbody>\n",
       "</table>\n",
       "</div>"
      ],
      "text/plain": [
       "    Year  Band Year 9: Numeracy  Count  Total_student  Percentage\n",
       "0   2012                  False     35            206    0.169903\n",
       "1   2012                   True    171            206    0.830097\n",
       "2   2013                  False     49            204    0.240196\n",
       "3   2013                   True    155            204    0.759804\n",
       "4   2014                  False     32            205    0.156098\n",
       "5   2014                   True    173            205    0.843902\n",
       "6   2015                  False     35            207    0.169082\n",
       "7   2015                   True    172            207    0.830918\n",
       "8   2016                  False     28            206    0.135922\n",
       "9   2016                   True    178            206    0.864078\n",
       "10  2017                  False     32            207    0.154589\n",
       "11  2017                   True    175            207    0.845411"
      ]
     },
     "execution_count": 6,
     "metadata": {},
     "output_type": "execute_result"
    }
   ],
   "source": [
    "yc2012_y9band = pd.DataFrame(y9_2012['Band Year 9: Numeracy'].dropna() >=8)\n",
    "yc2012_y9band['Year'] = 2012\n",
    "yc2013_y9band = pd.DataFrame(y9_2013['Band Year 9: Numeracy'].dropna() >=8)\n",
    "yc2013_y9band['Year'] = 2013\n",
    "yc2014_y9band = pd.DataFrame(y9_2014['Band Year 9: Numeracy'].dropna() >=8)\n",
    "yc2014_y9band['Year'] = 2014\n",
    "yc2015_y9band = pd.DataFrame(y9_2015['Band Year 9: Numeracy'].dropna() >=8)\n",
    "yc2015_y9band['Year'] = 2015\n",
    "yc2016_y9band = pd.DataFrame(y9_2016['Band Year 9: Numeracy'].dropna() >=8)\n",
    "yc2016_y9band['Year'] = 2016\n",
    "yc2017_y9band = pd.DataFrame(y9_2017['Band Year 9: Numeracy'].dropna() >=8)\n",
    "yc2017_y9band['Year'] = 2017\n",
    "\n",
    "\n",
    "df_y9band = pd.concat([yc2012_y9band, yc2013_y9band,yc2014_y9band,\n",
    "                       yc2015_y9band,yc2016_y9band,yc2017_y9band])\n",
    "df_y9band['Count'] = 1\n",
    "\n",
    "\n",
    "df_y9band = df_y9band.groupby(['Year','Band Year 9: Numeracy']).count().reset_index()\n",
    "\n",
    "total_student = []\n",
    "for y in range(2012,2018):\n",
    "    total_student.append(sum(df_y9band[df_y9band.Year == y].Count))\n",
    "    total_student.append(sum(df_y9band[df_y9band.Year == y].Count))\n",
    "df_y9band['Total_student'] = total_student\n",
    "df_y9band['Percentage'] = df_y9band.Count /df_y9band['Total_student']\n",
    "df_y9band"
   ]
  },
  {
   "cell_type": "code",
   "execution_count": 7,
   "metadata": {},
   "outputs": [
    {
     "data": {
      "text/html": [
       "<div>\n",
       "<style>\n",
       "    .dataframe thead tr:only-child th {\n",
       "        text-align: right;\n",
       "    }\n",
       "\n",
       "    .dataframe thead th {\n",
       "        text-align: left;\n",
       "    }\n",
       "\n",
       "    .dataframe tbody tr th {\n",
       "        vertical-align: top;\n",
       "    }\n",
       "</style>\n",
       "<table border=\"1\" class=\"dataframe\">\n",
       "  <thead>\n",
       "    <tr style=\"text-align: right;\">\n",
       "      <th></th>\n",
       "      <th>Year</th>\n",
       "      <th>Band Year 9: Numeracy</th>\n",
       "      <th>Count</th>\n",
       "      <th>Total_student</th>\n",
       "      <th>Percentage</th>\n",
       "    </tr>\n",
       "  </thead>\n",
       "  <tbody>\n",
       "    <tr>\n",
       "      <th>0</th>\n",
       "      <td>2012</td>\n",
       "      <td>False</td>\n",
       "      <td>35</td>\n",
       "      <td>206</td>\n",
       "      <td>0.169903</td>\n",
       "    </tr>\n",
       "    <tr>\n",
       "      <th>1</th>\n",
       "      <td>2012</td>\n",
       "      <td>True</td>\n",
       "      <td>171</td>\n",
       "      <td>206</td>\n",
       "      <td>0.830097</td>\n",
       "    </tr>\n",
       "    <tr>\n",
       "      <th>2</th>\n",
       "      <td>2013</td>\n",
       "      <td>False</td>\n",
       "      <td>49</td>\n",
       "      <td>204</td>\n",
       "      <td>0.240196</td>\n",
       "    </tr>\n",
       "    <tr>\n",
       "      <th>3</th>\n",
       "      <td>2013</td>\n",
       "      <td>True</td>\n",
       "      <td>155</td>\n",
       "      <td>204</td>\n",
       "      <td>0.759804</td>\n",
       "    </tr>\n",
       "    <tr>\n",
       "      <th>4</th>\n",
       "      <td>2014</td>\n",
       "      <td>False</td>\n",
       "      <td>32</td>\n",
       "      <td>205</td>\n",
       "      <td>0.156098</td>\n",
       "    </tr>\n",
       "    <tr>\n",
       "      <th>5</th>\n",
       "      <td>2014</td>\n",
       "      <td>True</td>\n",
       "      <td>173</td>\n",
       "      <td>205</td>\n",
       "      <td>0.843902</td>\n",
       "    </tr>\n",
       "    <tr>\n",
       "      <th>6</th>\n",
       "      <td>2015</td>\n",
       "      <td>False</td>\n",
       "      <td>35</td>\n",
       "      <td>207</td>\n",
       "      <td>0.169082</td>\n",
       "    </tr>\n",
       "    <tr>\n",
       "      <th>7</th>\n",
       "      <td>2015</td>\n",
       "      <td>True</td>\n",
       "      <td>172</td>\n",
       "      <td>207</td>\n",
       "      <td>0.830918</td>\n",
       "    </tr>\n",
       "    <tr>\n",
       "      <th>8</th>\n",
       "      <td>2016</td>\n",
       "      <td>False</td>\n",
       "      <td>28</td>\n",
       "      <td>206</td>\n",
       "      <td>0.135922</td>\n",
       "    </tr>\n",
       "    <tr>\n",
       "      <th>9</th>\n",
       "      <td>2016</td>\n",
       "      <td>True</td>\n",
       "      <td>178</td>\n",
       "      <td>206</td>\n",
       "      <td>0.864078</td>\n",
       "    </tr>\n",
       "    <tr>\n",
       "      <th>10</th>\n",
       "      <td>2017</td>\n",
       "      <td>False</td>\n",
       "      <td>32</td>\n",
       "      <td>207</td>\n",
       "      <td>0.154589</td>\n",
       "    </tr>\n",
       "    <tr>\n",
       "      <th>11</th>\n",
       "      <td>2017</td>\n",
       "      <td>True</td>\n",
       "      <td>175</td>\n",
       "      <td>207</td>\n",
       "      <td>0.845411</td>\n",
       "    </tr>\n",
       "  </tbody>\n",
       "</table>\n",
       "</div>"
      ],
      "text/plain": [
       "    Year  Band Year 9: Numeracy  Count  Total_student  Percentage\n",
       "0   2012                  False     35            206    0.169903\n",
       "1   2012                   True    171            206    0.830097\n",
       "2   2013                  False     49            204    0.240196\n",
       "3   2013                   True    155            204    0.759804\n",
       "4   2014                  False     32            205    0.156098\n",
       "5   2014                   True    173            205    0.843902\n",
       "6   2015                  False     35            207    0.169082\n",
       "7   2015                   True    172            207    0.830918\n",
       "8   2016                  False     28            206    0.135922\n",
       "9   2016                   True    178            206    0.864078\n",
       "10  2017                  False     32            207    0.154589\n",
       "11  2017                   True    175            207    0.845411"
      ]
     },
     "execution_count": 7,
     "metadata": {},
     "output_type": "execute_result"
    }
   ],
   "source": [
    "df_y9band"
   ]
  },
  {
   "cell_type": "code",
   "execution_count": 8,
   "metadata": {},
   "outputs": [
    {
     "data": {
      "text/plain": [
       "206"
      ]
     },
     "execution_count": 8,
     "metadata": {},
     "output_type": "execute_result"
    }
   ],
   "source": [
    "sum(df_y9band[df_y9band.Year == 2012].Count)"
   ]
  },
  {
   "cell_type": "code",
   "execution_count": 9,
   "metadata": {},
   "outputs": [
    {
     "data": {
      "text/plain": [
       "1     0.830097\n",
       "3     0.759804\n",
       "5     0.843902\n",
       "7     0.830918\n",
       "9     0.864078\n",
       "11    0.845411\n",
       "Name: Percentage, dtype: float64"
      ]
     },
     "execution_count": 9,
     "metadata": {},
     "output_type": "execute_result"
    }
   ],
   "source": [
    "df_y9band[df_y9band['Band Year 9: Numeracy'] == True].Percentage"
   ]
  },
  {
   "cell_type": "code",
   "execution_count": 10,
   "metadata": {},
   "outputs": [
    {
     "data": {
      "text/html": [
       "<div>\n",
       "<style>\n",
       "    .dataframe thead tr:only-child th {\n",
       "        text-align: right;\n",
       "    }\n",
       "\n",
       "    .dataframe thead th {\n",
       "        text-align: left;\n",
       "    }\n",
       "\n",
       "    .dataframe tbody tr th {\n",
       "        vertical-align: top;\n",
       "    }\n",
       "</style>\n",
       "<table border=\"1\" class=\"dataframe\">\n",
       "  <thead>\n",
       "    <tr style=\"text-align: right;\">\n",
       "      <th></th>\n",
       "      <th>Band 7 or below</th>\n",
       "      <th>Band 8 or above</th>\n",
       "    </tr>\n",
       "    <tr>\n",
       "      <th>Year</th>\n",
       "      <th></th>\n",
       "      <th></th>\n",
       "    </tr>\n",
       "  </thead>\n",
       "  <tbody>\n",
       "    <tr>\n",
       "      <th>2012</th>\n",
       "      <td>0.169903</td>\n",
       "      <td>0.830097</td>\n",
       "    </tr>\n",
       "    <tr>\n",
       "      <th>2013</th>\n",
       "      <td>0.240196</td>\n",
       "      <td>0.759804</td>\n",
       "    </tr>\n",
       "    <tr>\n",
       "      <th>2014</th>\n",
       "      <td>0.156098</td>\n",
       "      <td>0.843902</td>\n",
       "    </tr>\n",
       "    <tr>\n",
       "      <th>2015</th>\n",
       "      <td>0.169082</td>\n",
       "      <td>0.830918</td>\n",
       "    </tr>\n",
       "    <tr>\n",
       "      <th>2016</th>\n",
       "      <td>0.135922</td>\n",
       "      <td>0.864078</td>\n",
       "    </tr>\n",
       "    <tr>\n",
       "      <th>2017</th>\n",
       "      <td>0.154589</td>\n",
       "      <td>0.845411</td>\n",
       "    </tr>\n",
       "  </tbody>\n",
       "</table>\n",
       "</div>"
      ],
      "text/plain": [
       "      Band 7 or below  Band 8 or above\n",
       "Year                                  \n",
       "2012         0.169903         0.830097\n",
       "2013         0.240196         0.759804\n",
       "2014         0.156098         0.843902\n",
       "2015         0.169082         0.830918\n",
       "2016         0.135922         0.864078\n",
       "2017         0.154589         0.845411"
      ]
     },
     "execution_count": 10,
     "metadata": {},
     "output_type": "execute_result"
    }
   ],
   "source": [
    "df_y9band_plot = pd.DataFrame({'Band 8 or above':df_y9band[df_y9band['Band Year 9: Numeracy'] == True].Percentage,\n",
    "                               'Band 7 or below':df_y9band[df_y9band['Band Year 9: Numeracy'] == False].Percentage,\n",
    "                               'Year':df_y9band.Year\n",
    "    \n",
    "    \n",
    "    \n",
    "})\n",
    "df_y9band_plot = df_y9band_plot.groupby('Year').sum()\n",
    "df_y9band_plot\n"
   ]
  },
  {
   "cell_type": "code",
   "execution_count": 11,
   "metadata": {
    "collapsed": true
   },
   "outputs": [],
   "source": [
    "#df_y9band_plot.to_csv('plot_y9band.csv', header=True, index = True)"
   ]
  },
  {
   "cell_type": "code",
   "execution_count": 12,
   "metadata": {},
   "outputs": [
    {
     "data": {
      "text/plain": [
       "Band 7 or below    0.170965\n",
       "Band 8 or above    0.829035\n",
       "dtype: float64"
      ]
     },
     "execution_count": 12,
     "metadata": {},
     "output_type": "execute_result"
    }
   ],
   "source": [
    "df_y9band_plot.mean()"
   ]
  },
  {
   "cell_type": "markdown",
   "metadata": {},
   "source": [
    "Plot in Tableau"
   ]
  },
  {
   "cell_type": "code",
   "execution_count": 13,
   "metadata": {
    "collapsed": true
   },
   "outputs": [],
   "source": [
    "sns.set_style(\"whitegrid\")"
   ]
  },
  {
   "cell_type": "code",
   "execution_count": 17,
   "metadata": {},
   "outputs": [
    {
     "data": {
      "text/plain": [
       "<matplotlib.text.Annotation at 0x120235650>"
      ]
     },
     "execution_count": 17,
     "metadata": {},
     "output_type": "execute_result"
    },
    {
     "data": {
      "image/png": "[encoded data removed]",
      "text/plain": [
       "<matplotlib.figure.Figure at 0x120051790>"
      ]
     },
     "metadata": {},
     "output_type": "display_data"
    }
   ],
   "source": [
    "fig, ax = plt.subplots(figsize = (10,7))\n",
    "df_y9band_plot[['Band 8 or above','Band 7 or below']].plot.barh(stacked = True, ax = ax,\n",
    "                                                               color = ['#4474BB','orange'])\n",
    "ax.axvline(0.829, color = 'black',ls='dashed')\n",
    "ax.legend(loc = 'upper left')\n",
    "ax.set_xlim([0, 1.])\n",
    "ax.set_ylim([-0.5, 6])\n",
    "ax.annotate('Average is 83%', xy=(0.83, 5.5), xytext=(0.89, 5.7),\n",
    "            arrowprops=dict(facecolor='black', shrink=0.03) ,fontsize = 12)\n"
   ]
  },
  {
   "cell_type": "markdown",
   "metadata": {},
   "source": [
    "** Except 2013, More than 80% students meet the min standard(Band 8)**\n",
    "\n",
    "The percentage for students in Australian who meet the min standadd is 50%.\n"
   ]
  },
  {
   "cell_type": "code",
   "execution_count": 15,
   "metadata": {
    "collapsed": true
   },
   "outputs": [],
   "source": [
    "#sns.barplot(x=\"Year\", y=\"Percentage\",hue = 'Band Year 9: Numeracy', \n",
    "#            data=df_y9band,)\n"
   ]
  },
  {
   "cell_type": "code",
   "execution_count": 16,
   "metadata": {
    "collapsed": true
   },
   "outputs": [],
   "source": [
    "yr2012_y9band = pd.DataFrame(y9_2012['Band Year 9: Numeracy'].dropna())\n",
    "yr2012_y9band['Year'] = 2012\n",
    "yr2013_y9band = pd.DataFrame(y9_2013['Band Year 9: Numeracy'].dropna())\n",
    "yr2013_y9band['Year'] = 2013\n",
    "yr2014_y9band = pd.DataFrame(y9_2014['Band Year 9: Numeracy'].dropna())\n",
    "yr2014_y9band['Year'] = 2014\n",
    "yr2015_y9band = pd.DataFrame(y9_2015['Band Year 9: Numeracy'].dropna())\n",
    "yr2015_y9band['Year'] = 2015\n",
    "yr2016_y9band = pd.DataFrame(y9_2016['Band Year 9: Numeracy'].dropna())\n",
    "yr2016_y9band['Year'] = 2016\n",
    "yr2017_y9band = pd.DataFrame(y9_2017['Band Year 9: Numeracy'].dropna())\n",
    "yr2017_y9band['Year'] = 2017"
   ]
  },
  {
   "cell_type": "code",
   "execution_count": 17,
   "metadata": {
    "collapsed": true
   },
   "outputs": [],
   "source": [
    "df_y9band_2 = pd.concat([yr2012_y9band, yr2013_y9band,yr2014_y9band,\n",
    "                       yr2015_y9band,yr2016_y9band,yr2017_y9band])"
   ]
  },
  {
   "cell_type": "code",
   "execution_count": 18,
   "metadata": {},
   "outputs": [
    {
     "data": {
      "text/html": [
       "<div>\n",
       "<style>\n",
       "    .dataframe thead tr:only-child th {\n",
       "        text-align: right;\n",
       "    }\n",
       "\n",
       "    .dataframe thead th {\n",
       "        text-align: left;\n",
       "    }\n",
       "\n",
       "    .dataframe tbody tr th {\n",
       "        vertical-align: top;\n",
       "    }\n",
       "</style>\n",
       "<table border=\"1\" class=\"dataframe\">\n",
       "  <thead>\n",
       "    <tr style=\"text-align: right;\">\n",
       "      <th></th>\n",
       "      <th>Band Year 9: Numeracy</th>\n",
       "      <th>Year</th>\n",
       "    </tr>\n",
       "  </thead>\n",
       "  <tbody>\n",
       "    <tr>\n",
       "      <th>0</th>\n",
       "      <td>8.0</td>\n",
       "      <td>2012</td>\n",
       "    </tr>\n",
       "    <tr>\n",
       "      <th>1</th>\n",
       "      <td>9.0</td>\n",
       "      <td>2012</td>\n",
       "    </tr>\n",
       "    <tr>\n",
       "      <th>2</th>\n",
       "      <td>6.0</td>\n",
       "      <td>2012</td>\n",
       "    </tr>\n",
       "    <tr>\n",
       "      <th>3</th>\n",
       "      <td>10.0</td>\n",
       "      <td>2012</td>\n",
       "    </tr>\n",
       "    <tr>\n",
       "      <th>4</th>\n",
       "      <td>9.0</td>\n",
       "      <td>2012</td>\n",
       "    </tr>\n",
       "  </tbody>\n",
       "</table>\n",
       "</div>"
      ],
      "text/plain": [
       "   Band Year 9: Numeracy  Year\n",
       "0                    8.0  2012\n",
       "1                    9.0  2012\n",
       "2                    6.0  2012\n",
       "3                   10.0  2012\n",
       "4                    9.0  2012"
      ]
     },
     "execution_count": 18,
     "metadata": {},
     "output_type": "execute_result"
    }
   ],
   "source": [
    "df_y9band_2.head()"
   ]
  },
  {
   "cell_type": "code",
   "execution_count": 19,
   "metadata": {},
   "outputs": [
    {
     "data": {
      "text/plain": [
       "10.0    70\n",
       "9.0     58\n",
       "8.0     45\n",
       "7.0     27\n",
       "6.0      4\n",
       "5.0      1\n",
       "Name: Band Year 9: Numeracy, dtype: int64"
      ]
     },
     "execution_count": 19,
     "metadata": {},
     "output_type": "execute_result"
    }
   ],
   "source": [
    "df_y9band_2[df_y9band_2.Year == 2014]['Band Year 9: Numeracy'].value_counts()"
   ]
  },
  {
   "cell_type": "code",
   "execution_count": 20,
   "metadata": {},
   "outputs": [
    {
     "data": {
      "text/plain": [
       "<matplotlib.axes._subplots.AxesSubplot at 0x1169cbe50>"
      ]
     },
     "execution_count": 20,
     "metadata": {},
     "output_type": "execute_result"
    },
    {
     "data": {
      "image/png": "[encoded data removed]",
      "text/plain": [
       "<matplotlib.figure.Figure at 0x1163d4510>"
      ]
     },
     "metadata": {},
     "output_type": "display_data"
    }
   ],
   "source": [
    "sns.boxplot(x='Year', y='Band Year 9: Numeracy', data=df_y9band_2)\n"
   ]
  },
  {
   "cell_type": "markdown",
   "metadata": {},
   "source": [
    "# Does ESL Phase influence the Y9 numercy band?"
   ]
  },
  {
   "cell_type": "markdown",
   "metadata": {},
   "source": [
    "ESL: \n",
    "English as a Second Language\n",
    "\n",
    "Native language for thoes students is not English"
   ]
  },
  {
   "cell_type": "code",
   "execution_count": 21,
   "metadata": {},
   "outputs": [
    {
     "data": {
      "text/plain": [
       "106"
      ]
     },
     "execution_count": 21,
     "metadata": {},
     "output_type": "execute_result"
    }
   ],
   "source": [
    "sum(y7_2012['ESL Phase'] == 0)"
   ]
  },
  {
   "cell_type": "code",
   "execution_count": 22,
   "metadata": {
    "scrolled": true
   },
   "outputs": [
    {
     "data": {
      "text/html": [
       "<div>\n",
       "<style>\n",
       "    .dataframe thead tr:only-child th {\n",
       "        text-align: right;\n",
       "    }\n",
       "\n",
       "    .dataframe thead th {\n",
       "        text-align: left;\n",
       "    }\n",
       "\n",
       "    .dataframe tbody tr th {\n",
       "        vertical-align: top;\n",
       "    }\n",
       "</style>\n",
       "<table border=\"1\" class=\"dataframe\">\n",
       "  <thead>\n",
       "    <tr style=\"text-align: right;\">\n",
       "      <th></th>\n",
       "      <th>SRN</th>\n",
       "      <th>ESL Phase</th>\n",
       "    </tr>\n",
       "  </thead>\n",
       "  <tbody>\n",
       "    <tr>\n",
       "      <th>0</th>\n",
       "      <td>436530790</td>\n",
       "      <td>0</td>\n",
       "    </tr>\n",
       "    <tr>\n",
       "      <th>1</th>\n",
       "      <td>441546149</td>\n",
       "      <td>2</td>\n",
       "    </tr>\n",
       "    <tr>\n",
       "      <th>2</th>\n",
       "      <td>434109426</td>\n",
       "      <td>3</td>\n",
       "    </tr>\n",
       "    <tr>\n",
       "      <th>3</th>\n",
       "      <td>432640256</td>\n",
       "      <td>0</td>\n",
       "    </tr>\n",
       "    <tr>\n",
       "      <th>4</th>\n",
       "      <td>434220173</td>\n",
       "      <td>0</td>\n",
       "    </tr>\n",
       "  </tbody>\n",
       "</table>\n",
       "</div>"
      ],
      "text/plain": [
       "         SRN  ESL Phase\n",
       "0  436530790          0\n",
       "1  441546149          2\n",
       "2  434109426          3\n",
       "3  432640256          0\n",
       "4  434220173          0"
      ]
     },
     "execution_count": 22,
     "metadata": {},
     "output_type": "execute_result"
    }
   ],
   "source": [
    "df1 = pd.concat([y7_2012[['SRN','ESL Phase']],\n",
    "                y7_2013[['SRN','ESL Phase']],\n",
    "                y7_2014[['SRN','ESL Phase']],\n",
    "                y7_2015[['SRN','ESL Phase']],\n",
    "                y7_2016[['SRN','ESL Phase']],\n",
    "                y7_2017[['SRN','ESL Phase']]]\n",
    "               )\n",
    "df1.head()"
   ]
  },
  {
   "cell_type": "code",
   "execution_count": 23,
   "metadata": {
    "collapsed": true
   },
   "outputs": [],
   "source": [
    "y9_2016['Band Year 7: Numeracy'] = y9_2016['Previous Band Year 7: Numeracy']\n",
    "y9_2017['Band Year 7: Numeracy'] = y9_2017['Previous Band Year 7: Numeracy']"
   ]
  },
  {
   "cell_type": "code",
   "execution_count": 24,
   "metadata": {},
   "outputs": [
    {
     "data": {
      "text/html": [
       "<div>\n",
       "<style>\n",
       "    .dataframe thead tr:only-child th {\n",
       "        text-align: right;\n",
       "    }\n",
       "\n",
       "    .dataframe thead th {\n",
       "        text-align: left;\n",
       "    }\n",
       "\n",
       "    .dataframe tbody tr th {\n",
       "        vertical-align: top;\n",
       "    }\n",
       "</style>\n",
       "<table border=\"1\" class=\"dataframe\">\n",
       "  <thead>\n",
       "    <tr style=\"text-align: right;\">\n",
       "      <th></th>\n",
       "      <th>SRN</th>\n",
       "      <th>Band Year 7: Numeracy</th>\n",
       "      <th>Band Year 9: Numeracy</th>\n",
       "    </tr>\n",
       "  </thead>\n",
       "  <tbody>\n",
       "    <tr>\n",
       "      <th>0</th>\n",
       "      <td>436530790</td>\n",
       "      <td>7.0</td>\n",
       "      <td>9.0</td>\n",
       "    </tr>\n",
       "    <tr>\n",
       "      <th>1</th>\n",
       "      <td>441546149</td>\n",
       "      <td>9.0</td>\n",
       "      <td>10.0</td>\n",
       "    </tr>\n",
       "    <tr>\n",
       "      <th>2</th>\n",
       "      <td>432640256</td>\n",
       "      <td>7.0</td>\n",
       "      <td>8.0</td>\n",
       "    </tr>\n",
       "    <tr>\n",
       "      <th>3</th>\n",
       "      <td>434220173</td>\n",
       "      <td>7.0</td>\n",
       "      <td>7.0</td>\n",
       "    </tr>\n",
       "    <tr>\n",
       "      <th>4</th>\n",
       "      <td>431672294</td>\n",
       "      <td>9.0</td>\n",
       "      <td>10.0</td>\n",
       "    </tr>\n",
       "  </tbody>\n",
       "</table>\n",
       "</div>"
      ],
      "text/plain": [
       "         SRN  Band Year 7: Numeracy  Band Year 9: Numeracy\n",
       "0  436530790                    7.0                    9.0\n",
       "1  441546149                    9.0                   10.0\n",
       "2  432640256                    7.0                    8.0\n",
       "3  434220173                    7.0                    7.0\n",
       "4  431672294                    9.0                   10.0"
      ]
     },
     "execution_count": 24,
     "metadata": {},
     "output_type": "execute_result"
    }
   ],
   "source": [
    "df3 = pd.concat([y7_2012_y9_2014[['SRN','Band Year 7: Numeracy','Band Year 9: Numeracy']],\n",
    "                 y7_2013_y9_2015[['SRN','Band Year 7: Numeracy','Band Year 9: Numeracy']],\n",
    "                 y7_2014_y9_2016[['SRN','Band Year 7: Numeracy','Band Year 9: Numeracy']],\n",
    "                 y7_2015_y9_2017[['SRN','Band Year 7: Numeracy','Band Year 9: Numeracy']],\n",
    "                 y9_2016[['SRN','Band Year 7: Numeracy','Band Year 9: Numeracy']],\n",
    "                 y9_2017[['SRN','Band Year 7: Numeracy','Band Year 9: Numeracy']],\n",
    "                ])\n",
    "df3.head()  "
   ]
  },
  {
   "cell_type": "code",
   "execution_count": 25,
   "metadata": {
    "collapsed": true
   },
   "outputs": [],
   "source": [
    "#new_2012 = pd.merge(df1, df2,on = 'SRN') \n",
    "new_2012_band = pd.merge(df1, df3,on = 'SRN')"
   ]
  },
  {
   "cell_type": "code",
   "execution_count": 26,
   "metadata": {},
   "outputs": [
    {
     "data": {
      "text/plain": [
       "0    661\n",
       "3    273\n",
       "9    146\n",
       "2     66\n",
       "1      1\n",
       "Name: ESL Phase, dtype: int64"
      ]
     },
     "execution_count": 26,
     "metadata": {},
     "output_type": "execute_result"
    }
   ],
   "source": [
    "new_2012_band['ESL Phase'].value_counts()"
   ]
  },
  {
   "cell_type": "code",
   "execution_count": 27,
   "metadata": {
    "collapsed": true
   },
   "outputs": [],
   "source": [
    "new_2012_band['y9_band'] = new_2012_band['Band Year 9: Numeracy']>=8"
   ]
  },
  {
   "cell_type": "code",
   "execution_count": 28,
   "metadata": {},
   "outputs": [
    {
     "data": {
      "text/html": [
       "<div>\n",
       "<style>\n",
       "    .dataframe thead tr:only-child th {\n",
       "        text-align: right;\n",
       "    }\n",
       "\n",
       "    .dataframe thead th {\n",
       "        text-align: left;\n",
       "    }\n",
       "\n",
       "    .dataframe tbody tr th {\n",
       "        vertical-align: top;\n",
       "    }\n",
       "</style>\n",
       "<table border=\"1\" class=\"dataframe\">\n",
       "  <thead>\n",
       "    <tr style=\"text-align: right;\">\n",
       "      <th></th>\n",
       "      <th>SRN</th>\n",
       "      <th>ESL Phase</th>\n",
       "      <th>Band Year 7: Numeracy</th>\n",
       "      <th>Band Year 9: Numeracy</th>\n",
       "      <th>y9_band</th>\n",
       "    </tr>\n",
       "  </thead>\n",
       "  <tbody>\n",
       "    <tr>\n",
       "      <th>0</th>\n",
       "      <td>436530790</td>\n",
       "      <td>0</td>\n",
       "      <td>7.0</td>\n",
       "      <td>9.0</td>\n",
       "      <td>True</td>\n",
       "    </tr>\n",
       "    <tr>\n",
       "      <th>1</th>\n",
       "      <td>441546149</td>\n",
       "      <td>2</td>\n",
       "      <td>9.0</td>\n",
       "      <td>10.0</td>\n",
       "      <td>True</td>\n",
       "    </tr>\n",
       "    <tr>\n",
       "      <th>2</th>\n",
       "      <td>432640256</td>\n",
       "      <td>0</td>\n",
       "      <td>7.0</td>\n",
       "      <td>8.0</td>\n",
       "      <td>True</td>\n",
       "    </tr>\n",
       "    <tr>\n",
       "      <th>3</th>\n",
       "      <td>434220173</td>\n",
       "      <td>0</td>\n",
       "      <td>7.0</td>\n",
       "      <td>7.0</td>\n",
       "      <td>False</td>\n",
       "    </tr>\n",
       "    <tr>\n",
       "      <th>4</th>\n",
       "      <td>431672294</td>\n",
       "      <td>3</td>\n",
       "      <td>9.0</td>\n",
       "      <td>10.0</td>\n",
       "      <td>True</td>\n",
       "    </tr>\n",
       "  </tbody>\n",
       "</table>\n",
       "</div>"
      ],
      "text/plain": [
       "         SRN  ESL Phase  Band Year 7: Numeracy  Band Year 9: Numeracy  y9_band\n",
       "0  436530790          0                    7.0                    9.0     True\n",
       "1  441546149          2                    9.0                   10.0     True\n",
       "2  432640256          0                    7.0                    8.0     True\n",
       "3  434220173          0                    7.0                    7.0    False\n",
       "4  431672294          3                    9.0                   10.0     True"
      ]
     },
     "execution_count": 28,
     "metadata": {},
     "output_type": "execute_result"
    }
   ],
   "source": [
    "new_2012_band.head()"
   ]
  },
  {
   "cell_type": "code",
   "execution_count": 29,
   "metadata": {},
   "outputs": [
    {
     "data": {
      "text/html": [
       "<div>\n",
       "<style>\n",
       "    .dataframe thead tr:only-child th {\n",
       "        text-align: right;\n",
       "    }\n",
       "\n",
       "    .dataframe thead th {\n",
       "        text-align: left;\n",
       "    }\n",
       "\n",
       "    .dataframe tbody tr th {\n",
       "        vertical-align: top;\n",
       "    }\n",
       "</style>\n",
       "<table border=\"1\" class=\"dataframe\">\n",
       "  <thead>\n",
       "    <tr style=\"text-align: right;\">\n",
       "      <th></th>\n",
       "      <th>SRN</th>\n",
       "      <th>Band Year 7: Numeracy</th>\n",
       "      <th>Band Year 9: Numeracy</th>\n",
       "      <th>y9_band</th>\n",
       "    </tr>\n",
       "    <tr>\n",
       "      <th>ESL Phase</th>\n",
       "      <th></th>\n",
       "      <th></th>\n",
       "      <th></th>\n",
       "      <th></th>\n",
       "    </tr>\n",
       "  </thead>\n",
       "  <tbody>\n",
       "    <tr>\n",
       "      <th>0</th>\n",
       "      <td>661</td>\n",
       "      <td>659</td>\n",
       "      <td>660</td>\n",
       "      <td>661</td>\n",
       "    </tr>\n",
       "    <tr>\n",
       "      <th>1</th>\n",
       "      <td>1</td>\n",
       "      <td>1</td>\n",
       "      <td>1</td>\n",
       "      <td>1</td>\n",
       "    </tr>\n",
       "    <tr>\n",
       "      <th>2</th>\n",
       "      <td>66</td>\n",
       "      <td>66</td>\n",
       "      <td>65</td>\n",
       "      <td>66</td>\n",
       "    </tr>\n",
       "    <tr>\n",
       "      <th>3</th>\n",
       "      <td>273</td>\n",
       "      <td>273</td>\n",
       "      <td>273</td>\n",
       "      <td>273</td>\n",
       "    </tr>\n",
       "    <tr>\n",
       "      <th>9</th>\n",
       "      <td>146</td>\n",
       "      <td>145</td>\n",
       "      <td>146</td>\n",
       "      <td>146</td>\n",
       "    </tr>\n",
       "  </tbody>\n",
       "</table>\n",
       "</div>"
      ],
      "text/plain": [
       "           SRN  Band Year 7: Numeracy  Band Year 9: Numeracy  y9_band\n",
       "ESL Phase                                                            \n",
       "0          661                    659                    660      661\n",
       "1            1                      1                      1        1\n",
       "2           66                     66                     65       66\n",
       "3          273                    273                    273      273\n",
       "9          146                    145                    146      146"
      ]
     },
     "execution_count": 29,
     "metadata": {},
     "output_type": "execute_result"
    }
   ],
   "source": [
    "new_2012_band.groupby(['ESL Phase']).count()"
   ]
  },
  {
   "cell_type": "code",
   "execution_count": 30,
   "metadata": {},
   "outputs": [
    {
     "data": {
      "text/plain": [
       "ESL Phase  y9_band\n",
       "0          False      107\n",
       "           True       553\n",
       "1          True         1\n",
       "2          False       11\n",
       "           True        54\n",
       "3          False       34\n",
       "           True       239\n",
       "9          False       19\n",
       "           True       127\n",
       "Name: Band Year 9: Numeracy, dtype: int64"
      ]
     },
     "execution_count": 30,
     "metadata": {},
     "output_type": "execute_result"
    }
   ],
   "source": [
    "test = new_2012_band.groupby(['ESL Phase','y9_band']).count()['Band Year 9: Numeracy']\n",
    "test"
   ]
  },
  {
   "cell_type": "code",
   "execution_count": 31,
   "metadata": {
    "collapsed": true
   },
   "outputs": [],
   "source": [
    "test = test.reset_index()\n",
    "#test.set_index('ESL Phase', drop = True, inplace = True)"
   ]
  },
  {
   "cell_type": "code",
   "execution_count": 32,
   "metadata": {},
   "outputs": [
    {
     "data": {
      "text/html": [
       "<div>\n",
       "<style>\n",
       "    .dataframe thead tr:only-child th {\n",
       "        text-align: right;\n",
       "    }\n",
       "\n",
       "    .dataframe thead th {\n",
       "        text-align: left;\n",
       "    }\n",
       "\n",
       "    .dataframe tbody tr th {\n",
       "        vertical-align: top;\n",
       "    }\n",
       "</style>\n",
       "<table border=\"1\" class=\"dataframe\">\n",
       "  <thead>\n",
       "    <tr style=\"text-align: right;\">\n",
       "      <th></th>\n",
       "      <th>ESL Phase</th>\n",
       "      <th>y9_band</th>\n",
       "      <th>Band Year 9: Numeracy</th>\n",
       "    </tr>\n",
       "  </thead>\n",
       "  <tbody>\n",
       "    <tr>\n",
       "      <th>0</th>\n",
       "      <td>0</td>\n",
       "      <td>False</td>\n",
       "      <td>107</td>\n",
       "    </tr>\n",
       "    <tr>\n",
       "      <th>1</th>\n",
       "      <td>0</td>\n",
       "      <td>True</td>\n",
       "      <td>553</td>\n",
       "    </tr>\n",
       "    <tr>\n",
       "      <th>2</th>\n",
       "      <td>1</td>\n",
       "      <td>True</td>\n",
       "      <td>1</td>\n",
       "    </tr>\n",
       "    <tr>\n",
       "      <th>3</th>\n",
       "      <td>2</td>\n",
       "      <td>False</td>\n",
       "      <td>11</td>\n",
       "    </tr>\n",
       "    <tr>\n",
       "      <th>4</th>\n",
       "      <td>2</td>\n",
       "      <td>True</td>\n",
       "      <td>54</td>\n",
       "    </tr>\n",
       "    <tr>\n",
       "      <th>5</th>\n",
       "      <td>3</td>\n",
       "      <td>False</td>\n",
       "      <td>34</td>\n",
       "    </tr>\n",
       "    <tr>\n",
       "      <th>6</th>\n",
       "      <td>3</td>\n",
       "      <td>True</td>\n",
       "      <td>239</td>\n",
       "    </tr>\n",
       "    <tr>\n",
       "      <th>7</th>\n",
       "      <td>9</td>\n",
       "      <td>False</td>\n",
       "      <td>19</td>\n",
       "    </tr>\n",
       "    <tr>\n",
       "      <th>8</th>\n",
       "      <td>9</td>\n",
       "      <td>True</td>\n",
       "      <td>127</td>\n",
       "    </tr>\n",
       "  </tbody>\n",
       "</table>\n",
       "</div>"
      ],
      "text/plain": [
       "   ESL Phase  y9_band  Band Year 9: Numeracy\n",
       "0          0    False                    107\n",
       "1          0     True                    553\n",
       "2          1     True                      1\n",
       "3          2    False                     11\n",
       "4          2     True                     54\n",
       "5          3    False                     34\n",
       "6          3     True                    239\n",
       "7          9    False                     19\n",
       "8          9     True                    127"
      ]
     },
     "execution_count": 32,
     "metadata": {},
     "output_type": "execute_result"
    }
   ],
   "source": [
    "test"
   ]
  },
  {
   "cell_type": "code",
   "execution_count": 34,
   "metadata": {},
   "outputs": [
    {
     "data": {
      "text/plain": [
       "<matplotlib.axes._subplots.AxesSubplot at 0x11ba0c6d0>"
      ]
     },
     "execution_count": 34,
     "metadata": {},
     "output_type": "execute_result"
    },
    {
     "data": {
      "image/png": "[encoded data removed]",
      "text/plain": [
       "<matplotlib.figure.Figure at 0x11b9e6b90>"
      ]
     },
     "metadata": {},
     "output_type": "display_data"
    }
   ],
   "source": [
    "sns.barplot(x = 'ESL Phase', y = 'Band Year 9: Numeracy',data = test,hue = 'y9_band',)\n",
    "\n"
   ]
  },
  {
   "cell_type": "markdown",
   "metadata": {},
   "source": [
    "##  Chi squared test\n",
    "\n",
    "hypothesis\n",
    "\n",
    "H0: there is no significant difference in whether the students has ESL background are more likly to reach Band 8 in Y9"
   ]
  },
  {
   "cell_type": "code",
   "execution_count": 35,
   "metadata": {},
   "outputs": [
    {
     "name": "stdout",
     "output_type": "stream",
     "text": [
      "3.43472353054 0.329327464893\n"
     ]
    }
   ],
   "source": [
    "import scipy.stats as stats\n",
    "(chi_squared_score, p_value, dof, expected)=stats.chi2_contingency([[104, 530], [9, 36], \n",
    "                                                                    [33, 232],[19, 123]])\n",
    "print chi_squared_score,p_value"
   ]
  },
  {
   "cell_type": "markdown",
   "metadata": {},
   "source": [
    "**The pvalue shows that H0 is true, ESL and reaching band 8 in Y9 for Numeracy is independent**"
   ]
  },
  {
   "cell_type": "markdown",
   "metadata": {},
   "source": [
    "# Year 9 Question Analysis\n",
    "Is there any particular question type that we need spend some additional time on."
   ]
  },
  {
   "cell_type": "code",
   "execution_count": 18,
   "metadata": {
    "collapsed": true
   },
   "outputs": [],
   "source": [
    "y9_df1 = pd.concat([X_y9_2012,X_y9_2013,X_y9_2014,\n",
    "                 X_y9_2015,X_y9_2016,X_y9_2017]).set_index('SRN')"
   ]
  },
  {
   "cell_type": "code",
   "execution_count": 20,
   "metadata": {
    "collapsed": true
   },
   "outputs": [],
   "source": [
    "stage_list = [2]*10 +[3]*15 + [4]*18 + [5]*15"
   ]
  },
  {
   "cell_type": "code",
   "execution_count": 21,
   "metadata": {
    "collapsed": true
   },
   "outputs": [],
   "source": [
    "syllabus_dict = {'MA2-11MG':'Volume and Capacity', 'MA2-12MG':'Mass',\n",
    "                 'MA2-13MG':'Time', 'MA2-14MG':'Three-Dimensional Space',\n",
    "                 'MA2-15MG':'Two-Dimensional Space', 'MA2-17MG':'Position',\n",
    "                 'MA2-4NA':'Whole Numbers', 'MA2-6NA':'Multiplication and Division',\n",
    "                 'MA2-7NA':'Fractions and Decimals', 'MA2-8NA':'Patterns and Algebra',\n",
    "                 'MA3-10MG':'Area', 'MA3-11MG':\"Volume and Capacity\",\n",
    "                 'MA3-13MG':'Time', 'MA3-14MG':'Three-Dimensional Space',\n",
    "                 'MA3-15MG':'Two-Dimensional Space', 'MA3-16MG':'Angles',\n",
    "                 'MA3-17MG':'Position', 'MA3-18SP':'Data', 'MA3-19SP':'Chance',\n",
    "                 'MA3-4NA':\"Whole Numbers\", 'MA3-5NA':'Addition and Subtraction',\n",
    "                 'MA3-6NA':'Multiplication and Division','MA3-7NA':\"Fractions, Decimals and Percentages\",\n",
    "                 'MA3-8NA':\"Patterns and Algebra\",'MA3-9MG':\"Length\",\n",
    "                 'MA4-10NA':'Equations','MA4-11NA':\"Linear Relationships\",\n",
    "                 'MA4-12MG':'Length', 'MA4-13MG':'Area', 'MA4-14MG':'Volume',\n",
    "                 'MA4-15MG':'Time', 'MA4-16MG':\"Right-Angled Triangles\",\n",
    "                 'MA4-17MG':'Properties of Geometrical Figures','MA4-18MG':'Angle Relationships',\n",
    "                 'MA4-19SP':'Data Collection and Representation','MA4-20SP':'Single Variable Data Analysis',\n",
    "                 'MA4-21SP':'Probability','MA4-4NA':'Computation with Integers',\n",
    "                 'MA4-5NA':'Fractions, Decimals and Percentages','MA4-6NA':'Financial Mathematics',\n",
    "                 'MA4-7NA':'Ratios and Rates','MA4-8NA':'Algebraic Techniques',\n",
    "                 'MA4-9NA':'Indices','MA5.1-11MG':'Properties of Geometrical Figures',\n",
    "                 'MA5.1-12SP':'Single Variable Data Analysis','MA5.1-13SP':\"Probability\",\n",
    "                 'MA5.1-4NA':'Financial Mathematics','MA5.1-5NA':'Indices',\n",
    "                 'MA5.1-6NA':'Linear Relationships','MA5.1-7NA':'Non-Linear Relationships',\n",
    "                 'MA5.1-8MG':'Area and Surface Area','MA5.1-9MG':'Numbers of Any Magnitude',\n",
    "                 'MA5.2-17SP':'Probability','MA5.2-5NA':'Ratios and Rates',\n",
    "                 'MA5.2-6NA':'Algebraic Techniques','MA5.2-8NA':'Equations',\n",
    "                 'MA5.3-13MG':'Area and Surface Area','MA5.3-4NA':'Ratios and Rates'\n",
    "    \n",
    "}"
   ]
  },
  {
   "cell_type": "code",
   "execution_count": 22,
   "metadata": {
    "collapsed": true
   },
   "outputs": [],
   "source": [
    "# create new columns\n",
    "new_columns = [syllabus_dict.get(i,0) for i in list(y9_df1.columns) ]\n"
   ]
  },
  {
   "cell_type": "code",
   "execution_count": 23,
   "metadata": {},
   "outputs": [
    {
     "data": {
      "text/plain": [
       "['Volume and Capacity(Stage 2)',\n",
       " 'Mass(Stage 2)',\n",
       " 'Time(Stage 2)',\n",
       " 'Three-Dimensional Space(Stage 2)',\n",
       " 'Two-Dimensional Space(Stage 2)',\n",
       " 'Position(Stage 2)',\n",
       " 'Whole Numbers(Stage 2)',\n",
       " 'Multiplication and Division(Stage 2)',\n",
       " 'Fractions and Decimals(Stage 2)',\n",
       " 'Patterns and Algebra(Stage 2)',\n",
       " 'Area(Stage 3)',\n",
       " 'Volume and Capacity(Stage 3)',\n",
       " 'Time(Stage 3)',\n",
       " 'Three-Dimensional Space(Stage 3)',\n",
       " 'Two-Dimensional Space(Stage 3)',\n",
       " 'Angles(Stage 3)',\n",
       " 'Position(Stage 3)',\n",
       " 'Data(Stage 3)',\n",
       " 'Chance(Stage 3)',\n",
       " 'Whole Numbers(Stage 3)',\n",
       " 'Addition and Subtraction(Stage 3)',\n",
       " 'Multiplication and Division(Stage 3)',\n",
       " 'Fractions, Decimals and Percentages(Stage 3)',\n",
       " 'Patterns and Algebra(Stage 3)',\n",
       " 'Length(Stage 3)',\n",
       " 'Equations(Stage 4)',\n",
       " 'Linear Relationships(Stage 4)',\n",
       " 'Length(Stage 4)',\n",
       " 'Area(Stage 4)',\n",
       " 'Volume(Stage 4)',\n",
       " 'Time(Stage 4)',\n",
       " 'Right-Angled Triangles(Stage 4)',\n",
       " 'Properties of Geometrical Figures(Stage 4)',\n",
       " 'Angle Relationships(Stage 4)',\n",
       " 'Data Collection and Representation(Stage 4)',\n",
       " 'Single Variable Data Analysis(Stage 4)',\n",
       " 'Probability(Stage 4)',\n",
       " 'Computation with Integers(Stage 4)',\n",
       " 'Fractions, Decimals and Percentages(Stage 4)',\n",
       " 'Financial Mathematics(Stage 4)',\n",
       " 'Ratios and Rates(Stage 4)',\n",
       " 'Algebraic Techniques(Stage 4)',\n",
       " 'Indices(Stage 4)',\n",
       " 'Properties of Geometrical Figures(Stage 5)',\n",
       " 'Single Variable Data Analysis(Stage 5)',\n",
       " 'Probability(Stage 5)',\n",
       " 'Financial Mathematics(Stage 5)',\n",
       " 'Indices(Stage 5)',\n",
       " 'Linear Relationships(Stage 5)',\n",
       " 'Non-Linear Relationships(Stage 5)',\n",
       " 'Area and Surface Area(Stage 5)',\n",
       " 'Numbers of Any Magnitude(Stage 5)',\n",
       " 'Probability(Stage 5)',\n",
       " 'Ratios and Rates(Stage 5)',\n",
       " 'Algebraic Techniques(Stage 5)',\n",
       " 'Equations(Stage 5)',\n",
       " 'Area and Surface Area(Stage 5)',\n",
       " 'Ratios and Rates(Stage 5)']"
      ]
     },
     "execution_count": 23,
     "metadata": {},
     "output_type": "execute_result"
    }
   ],
   "source": [
    "new_columns2 = []\n",
    "count = 0\n",
    "for i in new_columns:\n",
    "    new_columns2.append(i+'(Stage '+str(stage_list[count]) + ')')\n",
    "    count+=1\n",
    "new_columns2"
   ]
  },
  {
   "cell_type": "code",
   "execution_count": 24,
   "metadata": {
    "collapsed": true
   },
   "outputs": [],
   "source": [
    "y9_df1.columns = new_columns2"
   ]
  },
  {
   "cell_type": "code",
   "execution_count": 25,
   "metadata": {},
   "outputs": [
    {
     "data": {
      "text/html": [
       "<div>\n",
       "<style>\n",
       "    .dataframe thead tr:only-child th {\n",
       "        text-align: right;\n",
       "    }\n",
       "\n",
       "    .dataframe thead th {\n",
       "        text-align: left;\n",
       "    }\n",
       "\n",
       "    .dataframe tbody tr th {\n",
       "        vertical-align: top;\n",
       "    }\n",
       "</style>\n",
       "<table border=\"1\" class=\"dataframe\">\n",
       "  <thead>\n",
       "    <tr style=\"text-align: right;\">\n",
       "      <th></th>\n",
       "      <th>Volume and Capacity(Stage 2)</th>\n",
       "      <th>Mass(Stage 2)</th>\n",
       "      <th>Time(Stage 2)</th>\n",
       "      <th>Three-Dimensional Space(Stage 2)</th>\n",
       "      <th>Two-Dimensional Space(Stage 2)</th>\n",
       "      <th>Position(Stage 2)</th>\n",
       "      <th>Whole Numbers(Stage 2)</th>\n",
       "      <th>Multiplication and Division(Stage 2)</th>\n",
       "      <th>Fractions and Decimals(Stage 2)</th>\n",
       "      <th>Patterns and Algebra(Stage 2)</th>\n",
       "      <th>...</th>\n",
       "      <th>Linear Relationships(Stage 5)</th>\n",
       "      <th>Non-Linear Relationships(Stage 5)</th>\n",
       "      <th>Area and Surface Area(Stage 5)</th>\n",
       "      <th>Numbers of Any Magnitude(Stage 5)</th>\n",
       "      <th>Probability(Stage 5)</th>\n",
       "      <th>Ratios and Rates(Stage 5)</th>\n",
       "      <th>Algebraic Techniques(Stage 5)</th>\n",
       "      <th>Equations(Stage 5)</th>\n",
       "      <th>Area and Surface Area(Stage 5)</th>\n",
       "      <th>Ratios and Rates(Stage 5)</th>\n",
       "    </tr>\n",
       "    <tr>\n",
       "      <th>SRN</th>\n",
       "      <th></th>\n",
       "      <th></th>\n",
       "      <th></th>\n",
       "      <th></th>\n",
       "      <th></th>\n",
       "      <th></th>\n",
       "      <th></th>\n",
       "      <th></th>\n",
       "      <th></th>\n",
       "      <th></th>\n",
       "      <th></th>\n",
       "      <th></th>\n",
       "      <th></th>\n",
       "      <th></th>\n",
       "      <th></th>\n",
       "      <th></th>\n",
       "      <th></th>\n",
       "      <th></th>\n",
       "      <th></th>\n",
       "      <th></th>\n",
       "      <th></th>\n",
       "    </tr>\n",
       "  </thead>\n",
       "  <tbody>\n",
       "    <tr>\n",
       "      <th>428415078</th>\n",
       "      <td>NaN</td>\n",
       "      <td>NaN</td>\n",
       "      <td>NaN</td>\n",
       "      <td>0.5</td>\n",
       "      <td>NaN</td>\n",
       "      <td>0.5</td>\n",
       "      <td>NaN</td>\n",
       "      <td>NaN</td>\n",
       "      <td>1.0</td>\n",
       "      <td>NaN</td>\n",
       "      <td>...</td>\n",
       "      <td>NaN</td>\n",
       "      <td>NaN</td>\n",
       "      <td>1.0</td>\n",
       "      <td>NaN</td>\n",
       "      <td>NaN</td>\n",
       "      <td>NaN</td>\n",
       "      <td>0.666667</td>\n",
       "      <td>0.0</td>\n",
       "      <td>NaN</td>\n",
       "      <td>1.0</td>\n",
       "    </tr>\n",
       "    <tr>\n",
       "      <th>428778791</th>\n",
       "      <td>NaN</td>\n",
       "      <td>NaN</td>\n",
       "      <td>NaN</td>\n",
       "      <td>0.5</td>\n",
       "      <td>NaN</td>\n",
       "      <td>1.0</td>\n",
       "      <td>NaN</td>\n",
       "      <td>NaN</td>\n",
       "      <td>1.0</td>\n",
       "      <td>NaN</td>\n",
       "      <td>...</td>\n",
       "      <td>NaN</td>\n",
       "      <td>NaN</td>\n",
       "      <td>1.0</td>\n",
       "      <td>NaN</td>\n",
       "      <td>NaN</td>\n",
       "      <td>NaN</td>\n",
       "      <td>0.666667</td>\n",
       "      <td>0.0</td>\n",
       "      <td>NaN</td>\n",
       "      <td>1.0</td>\n",
       "    </tr>\n",
       "    <tr>\n",
       "      <th>433786998</th>\n",
       "      <td>NaN</td>\n",
       "      <td>NaN</td>\n",
       "      <td>NaN</td>\n",
       "      <td>0.5</td>\n",
       "      <td>NaN</td>\n",
       "      <td>0.5</td>\n",
       "      <td>NaN</td>\n",
       "      <td>NaN</td>\n",
       "      <td>0.0</td>\n",
       "      <td>NaN</td>\n",
       "      <td>...</td>\n",
       "      <td>NaN</td>\n",
       "      <td>NaN</td>\n",
       "      <td>0.0</td>\n",
       "      <td>NaN</td>\n",
       "      <td>NaN</td>\n",
       "      <td>NaN</td>\n",
       "      <td>0.000000</td>\n",
       "      <td>0.0</td>\n",
       "      <td>NaN</td>\n",
       "      <td>1.0</td>\n",
       "    </tr>\n",
       "    <tr>\n",
       "      <th>433787021</th>\n",
       "      <td>NaN</td>\n",
       "      <td>NaN</td>\n",
       "      <td>NaN</td>\n",
       "      <td>1.0</td>\n",
       "      <td>NaN</td>\n",
       "      <td>0.5</td>\n",
       "      <td>NaN</td>\n",
       "      <td>NaN</td>\n",
       "      <td>1.0</td>\n",
       "      <td>NaN</td>\n",
       "      <td>...</td>\n",
       "      <td>NaN</td>\n",
       "      <td>NaN</td>\n",
       "      <td>1.0</td>\n",
       "      <td>NaN</td>\n",
       "      <td>NaN</td>\n",
       "      <td>NaN</td>\n",
       "      <td>1.000000</td>\n",
       "      <td>1.0</td>\n",
       "      <td>NaN</td>\n",
       "      <td>1.0</td>\n",
       "    </tr>\n",
       "    <tr>\n",
       "      <th>433787048</th>\n",
       "      <td>NaN</td>\n",
       "      <td>NaN</td>\n",
       "      <td>NaN</td>\n",
       "      <td>1.0</td>\n",
       "      <td>NaN</td>\n",
       "      <td>1.0</td>\n",
       "      <td>NaN</td>\n",
       "      <td>NaN</td>\n",
       "      <td>1.0</td>\n",
       "      <td>NaN</td>\n",
       "      <td>...</td>\n",
       "      <td>NaN</td>\n",
       "      <td>NaN</td>\n",
       "      <td>0.0</td>\n",
       "      <td>NaN</td>\n",
       "      <td>NaN</td>\n",
       "      <td>NaN</td>\n",
       "      <td>0.666667</td>\n",
       "      <td>0.0</td>\n",
       "      <td>NaN</td>\n",
       "      <td>1.0</td>\n",
       "    </tr>\n",
       "  </tbody>\n",
       "</table>\n",
       "<p>5 rows × 58 columns</p>\n",
       "</div>"
      ],
      "text/plain": [
       "           Volume and Capacity(Stage 2)  Mass(Stage 2)  Time(Stage 2)  \\\n",
       "SRN                                                                     \n",
       "428415078                           NaN            NaN            NaN   \n",
       "428778791                           NaN            NaN            NaN   \n",
       "433786998                           NaN            NaN            NaN   \n",
       "433787021                           NaN            NaN            NaN   \n",
       "433787048                           NaN            NaN            NaN   \n",
       "\n",
       "           Three-Dimensional Space(Stage 2)  Two-Dimensional Space(Stage 2)  \\\n",
       "SRN                                                                           \n",
       "428415078                               0.5                             NaN   \n",
       "428778791                               0.5                             NaN   \n",
       "433786998                               0.5                             NaN   \n",
       "433787021                               1.0                             NaN   \n",
       "433787048                               1.0                             NaN   \n",
       "\n",
       "           Position(Stage 2)  Whole Numbers(Stage 2)  \\\n",
       "SRN                                                    \n",
       "428415078                0.5                     NaN   \n",
       "428778791                1.0                     NaN   \n",
       "433786998                0.5                     NaN   \n",
       "433787021                0.5                     NaN   \n",
       "433787048                1.0                     NaN   \n",
       "\n",
       "           Multiplication and Division(Stage 2)  \\\n",
       "SRN                                               \n",
       "428415078                                   NaN   \n",
       "428778791                                   NaN   \n",
       "433786998                                   NaN   \n",
       "433787021                                   NaN   \n",
       "433787048                                   NaN   \n",
       "\n",
       "           Fractions and Decimals(Stage 2)  Patterns and Algebra(Stage 2)  \\\n",
       "SRN                                                                         \n",
       "428415078                              1.0                            NaN   \n",
       "428778791                              1.0                            NaN   \n",
       "433786998                              0.0                            NaN   \n",
       "433787021                              1.0                            NaN   \n",
       "433787048                              1.0                            NaN   \n",
       "\n",
       "                     ...              Linear Relationships(Stage 5)  \\\n",
       "SRN                  ...                                              \n",
       "428415078            ...                                        NaN   \n",
       "428778791            ...                                        NaN   \n",
       "433786998            ...                                        NaN   \n",
       "433787021            ...                                        NaN   \n",
       "433787048            ...                                        NaN   \n",
       "\n",
       "           Non-Linear Relationships(Stage 5)  Area and Surface Area(Stage 5)  \\\n",
       "SRN                                                                            \n",
       "428415078                                NaN                             1.0   \n",
       "428778791                                NaN                             1.0   \n",
       "433786998                                NaN                             0.0   \n",
       "433787021                                NaN                             1.0   \n",
       "433787048                                NaN                             0.0   \n",
       "\n",
       "           Numbers of Any Magnitude(Stage 5)  Probability(Stage 5)  \\\n",
       "SRN                                                                  \n",
       "428415078                                NaN                   NaN   \n",
       "428778791                                NaN                   NaN   \n",
       "433786998                                NaN                   NaN   \n",
       "433787021                                NaN                   NaN   \n",
       "433787048                                NaN                   NaN   \n",
       "\n",
       "           Ratios and Rates(Stage 5)  Algebraic Techniques(Stage 5)  \\\n",
       "SRN                                                                   \n",
       "428415078                        NaN                       0.666667   \n",
       "428778791                        NaN                       0.666667   \n",
       "433786998                        NaN                       0.000000   \n",
       "433787021                        NaN                       1.000000   \n",
       "433787048                        NaN                       0.666667   \n",
       "\n",
       "           Equations(Stage 5)  Area and Surface Area(Stage 5)  \\\n",
       "SRN                                                             \n",
       "428415078                 0.0                             NaN   \n",
       "428778791                 0.0                             NaN   \n",
       "433786998                 0.0                             NaN   \n",
       "433787021                 1.0                             NaN   \n",
       "433787048                 0.0                             NaN   \n",
       "\n",
       "           Ratios and Rates(Stage 5)  \n",
       "SRN                                   \n",
       "428415078                        1.0  \n",
       "428778791                        1.0  \n",
       "433786998                        1.0  \n",
       "433787021                        1.0  \n",
       "433787048                        1.0  \n",
       "\n",
       "[5 rows x 58 columns]"
      ]
     },
     "execution_count": 25,
     "metadata": {},
     "output_type": "execute_result"
    }
   ],
   "source": [
    "y9_df1.head()"
   ]
  },
  {
   "cell_type": "code",
   "execution_count": 26,
   "metadata": {
    "collapsed": true
   },
   "outputs": [],
   "source": [
    "question1_mean_y9 = y9_df1.mean().sort_values()"
   ]
  },
  {
   "cell_type": "code",
   "execution_count": 46,
   "metadata": {},
   "outputs": [
    {
     "data": {
      "text/plain": [
       "<matplotlib.text.Text at 0x11bbaf3d0>"
      ]
     },
     "execution_count": 46,
     "metadata": {},
     "output_type": "execute_result"
    },
    {
     "data": {
      "image/png": "[encoded data removed]",
      "text/plain": [
       "<matplotlib.figure.Figure at 0x11bafb490>"
      ]
     },
     "metadata": {},
     "output_type": "display_data"
    }
   ],
   "source": [
    "fig,ax = plt.subplots()\n",
    "question1_mean_y9[:15].plot.barh(ax = ax)\n",
    "ax.set_title('15 questions with lowerest average score')"
   ]
  },
  {
   "cell_type": "markdown",
   "metadata": {},
   "source": [
    "** Merge the same questions**\n",
    "\n",
    "remove the stage"
   ]
  },
  {
   "cell_type": "code",
   "execution_count": 47,
   "metadata": {
    "collapsed": true
   },
   "outputs": [],
   "source": [
    "y9_df2 = pd.concat([X_y9_2012,X_y9_2013,X_y9_2014,\n",
    "                 X_y9_2015,X_y9_2016,X_y9_2017]).set_index('SRN')"
   ]
  },
  {
   "cell_type": "code",
   "execution_count": 48,
   "metadata": {
    "collapsed": true
   },
   "outputs": [],
   "source": [
    "new_columns = [syllabus_dict.get(i,0) for i in list(y9_df2.columns) ]\n",
    "y9_df2.columns = new_columns\n",
    "y9_df2 = y9_df2.T.reset_index().groupby(['index']).apply(np.mean).T"
   ]
  },
  {
   "cell_type": "code",
   "execution_count": 49,
   "metadata": {
    "collapsed": true
   },
   "outputs": [],
   "source": [
    "question2_mean_y9 = y9_df2.mean().sort_values()"
   ]
  },
  {
   "cell_type": "code",
   "execution_count": 50,
   "metadata": {
    "collapsed": true
   },
   "outputs": [],
   "source": [
    "df_plot_q = pd.DataFrame(question2_mean_y9,columns=['Average Score']).reset_index()\n",
    "df_plot_q.columns = ['Question Name', 'Average Score']"
   ]
  },
  {
   "cell_type": "code",
   "execution_count": 51,
   "metadata": {},
   "outputs": [
    {
     "data": {
      "text/plain": [
       "<matplotlib.text.Text at 0x11c3cb390>"
      ]
     },
     "execution_count": 51,
     "metadata": {},
     "output_type": "execute_result"
    },
    {
     "data": {
      "image/png": "[encoded data removed]",
      "text/plain": [
       "<matplotlib.figure.Figure at 0x11bd05950>"
      ]
     },
     "metadata": {},
     "output_type": "display_data"
    }
   ],
   "source": [
    "fig,ax = plt.subplots()\n",
    "question2_mean_y9[:10].plot.barh(ax = ax)\n",
    "ax.set_title('10 questions with lowerest average score')"
   ]
  },
  {
   "cell_type": "code",
   "execution_count": 90,
   "metadata": {},
   "outputs": [
    {
     "data": {
      "text/plain": [
       "(array([ 0. ,  0.1,  0.2,  0.3,  0.4,  0.5,  0.6,  0.7]),\n",
       " <a list of 8 Text xticklabel objects>)"
      ]
     },
     "execution_count": 90,
     "metadata": {},
     "output_type": "execute_result"
    },
    {
     "data": {
      "image/png": "[encoded data removed]",
      "text/plain": [
       "<matplotlib.figure.Figure at 0x11dbe8490>"
      ]
     },
     "metadata": {},
     "output_type": "display_data"
    }
   ],
   "source": [
    "plt.figure(figsize = (10,10))\n",
    "sns.barplot(x = 'Average Score',y = 'Question Name',data = df_plot_q[:10])\n",
    "plt.title('10 Questions with Lowerest Average Score',fontsize = 20)\n",
    "plt.xlabel('Average Score',fontsize = 15)\n",
    "plt.yticks(fontsize = 14)\n",
    "plt.xticks(fontsize = 14)"
   ]
  },
  {
   "cell_type": "markdown",
   "metadata": {},
   "source": [
    "Teachers should pay attending on Area Volumne and Right-angled triangles."
   ]
  },
  {
   "cell_type": "markdown",
   "metadata": {},
   "source": [
    "## ** merge with the same area**\n",
    "\n",
    "Numeracy:\n",
    "\n",
    "Measurement and Geometry\t\n",
    "\n",
    "Number and Algebra\t\n",
    "\n",
    "Statistics and Probability\t"
   ]
  },
  {
   "cell_type": "code",
   "execution_count": 53,
   "metadata": {
    "collapsed": true
   },
   "outputs": [],
   "source": [
    "X_y9_2012['Year'] = 2012\n",
    "X_y9_2013['Year'] = 2013\n",
    "X_y9_2014['Year'] = 2014\n",
    "X_y9_2015['Year'] = 2015\n",
    "X_y9_2016['Year'] = 2016\n",
    "X_y9_2017['Year'] = 2017"
   ]
  },
  {
   "cell_type": "code",
   "execution_count": 54,
   "metadata": {
    "collapsed": true
   },
   "outputs": [],
   "source": [
    "y9_df3 = pd.concat([X_y9_2012,X_y9_2013,X_y9_2014,\n",
    "                 X_y9_2015,X_y9_2016,X_y9_2017]).set_index('SRN')"
   ]
  },
  {
   "cell_type": "code",
   "execution_count": 55,
   "metadata": {
    "collapsed": true
   },
   "outputs": [],
   "source": [
    "column_name = pd.Series(y9_df3.columns)\n",
    "column_name = column_name.str.replace('MA2-','')\n",
    "column_name = column_name.str.replace('MA3-','')\n",
    "column_name = column_name.str.replace('MA4-','')\n",
    "column_name = column_name.str.replace('MA5.1-','')\n",
    "column_name = column_name.str.replace('MA5.2-','')\n",
    "column_name = column_name.str.replace('MA5.3-','')\n",
    "\n",
    "# only take the last 2 digits\n",
    "# NA: Number and Algebra, MG: Measurement and Geometry, SP: Statistics and Probability\n",
    "new_col = column_name.str.extract('\\d+(.*)', expand=False)\n",
    "new_col[58] = 'Year'\n",
    "new_col = new_col.str.replace('NA','Number and Algebra')\n",
    "new_col = new_col.str.replace('MG','Measurement and Geometry')\n",
    "new_col = new_col.str.replace('SP','Statistics and Probability')\n",
    "\n",
    "y9_df3.columns = new_col\n",
    "\n",
    "y9_df3 = y9_df3.T.reset_index().groupby(['index']).apply(np.mean).T"
   ]
  },
  {
   "cell_type": "code",
   "execution_count": 56,
   "metadata": {},
   "outputs": [
    {
     "data": {
      "text/html": [
       "<div>\n",
       "<style>\n",
       "    .dataframe thead tr:only-child th {\n",
       "        text-align: right;\n",
       "    }\n",
       "\n",
       "    .dataframe thead th {\n",
       "        text-align: left;\n",
       "    }\n",
       "\n",
       "    .dataframe tbody tr th {\n",
       "        vertical-align: top;\n",
       "    }\n",
       "</style>\n",
       "<table border=\"1\" class=\"dataframe\">\n",
       "  <thead>\n",
       "    <tr style=\"text-align: right;\">\n",
       "      <th>index</th>\n",
       "      <th>Measurement and Geometry</th>\n",
       "      <th>Number and Algebra</th>\n",
       "      <th>Statistics and Probability</th>\n",
       "      <th>Year</th>\n",
       "    </tr>\n",
       "    <tr>\n",
       "      <th>SRN</th>\n",
       "      <th></th>\n",
       "      <th></th>\n",
       "      <th></th>\n",
       "      <th></th>\n",
       "    </tr>\n",
       "  </thead>\n",
       "  <tbody>\n",
       "    <tr>\n",
       "      <th>428415078</th>\n",
       "      <td>0.461538</td>\n",
       "      <td>0.803419</td>\n",
       "      <td>0.916667</td>\n",
       "      <td>2012.0</td>\n",
       "    </tr>\n",
       "    <tr>\n",
       "      <th>428778791</th>\n",
       "      <td>0.692308</td>\n",
       "      <td>0.729604</td>\n",
       "      <td>0.916667</td>\n",
       "      <td>2012.0</td>\n",
       "    </tr>\n",
       "    <tr>\n",
       "      <th>433786998</th>\n",
       "      <td>0.256410</td>\n",
       "      <td>0.364413</td>\n",
       "      <td>0.250000</td>\n",
       "      <td>2012.0</td>\n",
       "    </tr>\n",
       "    <tr>\n",
       "      <th>433787021</th>\n",
       "      <td>0.878205</td>\n",
       "      <td>0.962704</td>\n",
       "      <td>0.666667</td>\n",
       "      <td>2012.0</td>\n",
       "    </tr>\n",
       "    <tr>\n",
       "      <th>433787048</th>\n",
       "      <td>0.615385</td>\n",
       "      <td>0.837607</td>\n",
       "      <td>1.000000</td>\n",
       "      <td>2012.0</td>\n",
       "    </tr>\n",
       "  </tbody>\n",
       "</table>\n",
       "</div>"
      ],
      "text/plain": [
       "index      Measurement and Geometry  Number and Algebra  \\\n",
       "SRN                                                       \n",
       "428415078                  0.461538            0.803419   \n",
       "428778791                  0.692308            0.729604   \n",
       "433786998                  0.256410            0.364413   \n",
       "433787021                  0.878205            0.962704   \n",
       "433787048                  0.615385            0.837607   \n",
       "\n",
       "index      Statistics and Probability    Year  \n",
       "SRN                                            \n",
       "428415078                    0.916667  2012.0  \n",
       "428778791                    0.916667  2012.0  \n",
       "433786998                    0.250000  2012.0  \n",
       "433787021                    0.666667  2012.0  \n",
       "433787048                    1.000000  2012.0  "
      ]
     },
     "execution_count": 56,
     "metadata": {},
     "output_type": "execute_result"
    }
   ],
   "source": [
    "y9_df3.head()"
   ]
  },
  {
   "cell_type": "code",
   "execution_count": 57,
   "metadata": {},
   "outputs": [
    {
     "data": {
      "text/html": [
       "<div>\n",
       "<style>\n",
       "    .dataframe thead tr:only-child th {\n",
       "        text-align: right;\n",
       "    }\n",
       "\n",
       "    .dataframe thead th {\n",
       "        text-align: left;\n",
       "    }\n",
       "\n",
       "    .dataframe tbody tr th {\n",
       "        vertical-align: top;\n",
       "    }\n",
       "</style>\n",
       "<table border=\"1\" class=\"dataframe\">\n",
       "  <thead>\n",
       "    <tr style=\"text-align: right;\">\n",
       "      <th>index</th>\n",
       "      <th>Measurement and Geometry</th>\n",
       "      <th>Number and Algebra</th>\n",
       "      <th>Statistics and Probability</th>\n",
       "    </tr>\n",
       "    <tr>\n",
       "      <th>Year</th>\n",
       "      <th></th>\n",
       "      <th></th>\n",
       "      <th></th>\n",
       "    </tr>\n",
       "  </thead>\n",
       "  <tbody>\n",
       "    <tr>\n",
       "      <th>2012.0</th>\n",
       "      <td>0.595843</td>\n",
       "      <td>0.760103</td>\n",
       "      <td>0.716828</td>\n",
       "    </tr>\n",
       "    <tr>\n",
       "      <th>2013.0</th>\n",
       "      <td>0.549711</td>\n",
       "      <td>0.696148</td>\n",
       "      <td>0.747549</td>\n",
       "    </tr>\n",
       "    <tr>\n",
       "      <th>2014.0</th>\n",
       "      <td>0.708220</td>\n",
       "      <td>0.773993</td>\n",
       "      <td>0.916260</td>\n",
       "    </tr>\n",
       "    <tr>\n",
       "      <th>2015.0</th>\n",
       "      <td>0.589434</td>\n",
       "      <td>0.574922</td>\n",
       "      <td>0.684380</td>\n",
       "    </tr>\n",
       "    <tr>\n",
       "      <th>2016.0</th>\n",
       "      <td>0.592406</td>\n",
       "      <td>0.671388</td>\n",
       "      <td>0.776456</td>\n",
       "    </tr>\n",
       "    <tr>\n",
       "      <th>2017.0</th>\n",
       "      <td>0.658414</td>\n",
       "      <td>0.636795</td>\n",
       "      <td>0.687198</td>\n",
       "    </tr>\n",
       "  </tbody>\n",
       "</table>\n",
       "</div>"
      ],
      "text/plain": [
       "index   Measurement and Geometry  Number and Algebra  \\\n",
       "Year                                                   \n",
       "2012.0                  0.595843            0.760103   \n",
       "2013.0                  0.549711            0.696148   \n",
       "2014.0                  0.708220            0.773993   \n",
       "2015.0                  0.589434            0.574922   \n",
       "2016.0                  0.592406            0.671388   \n",
       "2017.0                  0.658414            0.636795   \n",
       "\n",
       "index   Statistics and Probability  \n",
       "Year                                \n",
       "2012.0                    0.716828  \n",
       "2013.0                    0.747549  \n",
       "2014.0                    0.916260  \n",
       "2015.0                    0.684380  \n",
       "2016.0                    0.776456  \n",
       "2017.0                    0.687198  "
      ]
     },
     "execution_count": 57,
     "metadata": {},
     "output_type": "execute_result"
    }
   ],
   "source": [
    "question3_mean_y9 = y9_df3.groupby('Year').mean()\n",
    "question3_mean_y9"
   ]
  },
  {
   "cell_type": "code",
   "execution_count": 58,
   "metadata": {},
   "outputs": [
    {
     "data": {
      "text/plain": [
       "index\n",
       "Measurement and Geometry      0.615671\n",
       "Number and Algebra            0.685558\n",
       "Statistics and Probability    0.754779\n",
       "dtype: float64"
      ]
     },
     "execution_count": 58,
     "metadata": {},
     "output_type": "execute_result"
    }
   ],
   "source": [
    "question3_mean_y9.mean()"
   ]
  },
  {
   "cell_type": "code",
   "execution_count": 59,
   "metadata": {},
   "outputs": [
    {
     "data": {
      "text/html": [
       "<div>\n",
       "<style>\n",
       "    .dataframe thead tr:only-child th {\n",
       "        text-align: right;\n",
       "    }\n",
       "\n",
       "    .dataframe thead th {\n",
       "        text-align: left;\n",
       "    }\n",
       "\n",
       "    .dataframe tbody tr th {\n",
       "        vertical-align: top;\n",
       "    }\n",
       "</style>\n",
       "<table border=\"1\" class=\"dataframe\">\n",
       "  <thead>\n",
       "    <tr style=\"text-align: right;\">\n",
       "      <th>index</th>\n",
       "      <th>Measurement and Geometry</th>\n",
       "      <th>Number and Algebra</th>\n",
       "      <th>Statistics and Probability</th>\n",
       "      <th>Year</th>\n",
       "    </tr>\n",
       "  </thead>\n",
       "  <tbody>\n",
       "    <tr>\n",
       "      <th>count</th>\n",
       "      <td>1235.000000</td>\n",
       "      <td>1235.000000</td>\n",
       "      <td>1235.000000</td>\n",
       "      <td>1235.000000</td>\n",
       "    </tr>\n",
       "    <tr>\n",
       "      <th>mean</th>\n",
       "      <td>0.615717</td>\n",
       "      <td>0.685340</td>\n",
       "      <td>0.754548</td>\n",
       "      <td>2014.505263</td>\n",
       "    </tr>\n",
       "    <tr>\n",
       "      <th>std</th>\n",
       "      <td>0.196128</td>\n",
       "      <td>0.185922</td>\n",
       "      <td>0.233300</td>\n",
       "      <td>1.709615</td>\n",
       "    </tr>\n",
       "    <tr>\n",
       "      <th>min</th>\n",
       "      <td>0.038462</td>\n",
       "      <td>0.100000</td>\n",
       "      <td>0.000000</td>\n",
       "      <td>2012.000000</td>\n",
       "    </tr>\n",
       "    <tr>\n",
       "      <th>25%</th>\n",
       "      <td>0.474359</td>\n",
       "      <td>0.559167</td>\n",
       "      <td>0.650000</td>\n",
       "      <td>2013.000000</td>\n",
       "    </tr>\n",
       "    <tr>\n",
       "      <th>50%</th>\n",
       "      <td>0.628205</td>\n",
       "      <td>0.711706</td>\n",
       "      <td>0.800000</td>\n",
       "      <td>2015.000000</td>\n",
       "    </tr>\n",
       "    <tr>\n",
       "      <th>75%</th>\n",
       "      <td>0.756410</td>\n",
       "      <td>0.827500</td>\n",
       "      <td>1.000000</td>\n",
       "      <td>2016.000000</td>\n",
       "    </tr>\n",
       "    <tr>\n",
       "      <th>max</th>\n",
       "      <td>1.000000</td>\n",
       "      <td>1.000000</td>\n",
       "      <td>1.000000</td>\n",
       "      <td>2017.000000</td>\n",
       "    </tr>\n",
       "  </tbody>\n",
       "</table>\n",
       "</div>"
      ],
      "text/plain": [
       "index  Measurement and Geometry  Number and Algebra  \\\n",
       "count               1235.000000         1235.000000   \n",
       "mean                   0.615717            0.685340   \n",
       "std                    0.196128            0.185922   \n",
       "min                    0.038462            0.100000   \n",
       "25%                    0.474359            0.559167   \n",
       "50%                    0.628205            0.711706   \n",
       "75%                    0.756410            0.827500   \n",
       "max                    1.000000            1.000000   \n",
       "\n",
       "index  Statistics and Probability         Year  \n",
       "count                 1235.000000  1235.000000  \n",
       "mean                     0.754548  2014.505263  \n",
       "std                      0.233300     1.709615  \n",
       "min                      0.000000  2012.000000  \n",
       "25%                      0.650000  2013.000000  \n",
       "50%                      0.800000  2015.000000  \n",
       "75%                      1.000000  2016.000000  \n",
       "max                      1.000000  2017.000000  "
      ]
     },
     "execution_count": 59,
     "metadata": {},
     "output_type": "execute_result"
    }
   ],
   "source": [
    "y9_df3.describe()"
   ]
  },
  {
   "cell_type": "code",
   "execution_count": 60,
   "metadata": {},
   "outputs": [
    {
     "data": {
      "text/plain": [
       "<matplotlib.text.Text at 0x11771cad0>"
      ]
     },
     "execution_count": 60,
     "metadata": {},
     "output_type": "execute_result"
    },
    {
     "data": {
      "image/png": "[encoded data removed]",
      "text/plain": [
       "<matplotlib.figure.Figure at 0x116503e50>"
      ]
     },
     "metadata": {},
     "output_type": "display_data"
    }
   ],
   "source": [
    "fig,ax = plt.subplots()\n",
    "question3_mean_y9.mean().plot.barh(ax = ax)\n",
    "ax.set_title('average score')"
   ]
  },
  {
   "cell_type": "code",
   "execution_count": 61,
   "metadata": {},
   "outputs": [
    {
     "data": {
      "text/plain": [
       "<matplotlib.legend.Legend at 0x11785cd10>"
      ]
     },
     "execution_count": 61,
     "metadata": {},
     "output_type": "execute_result"
    },
    {
     "data": {
      "image/png": "[encoded data removed]",
      "text/plain": [
       "<matplotlib.figure.Figure at 0x1164f1a50>"
      ]
     },
     "metadata": {},
     "output_type": "display_data"
    }
   ],
   "source": [
    "question3_mean_y9.plot()\n",
    "plt.legend(loc='best')"
   ]
  },
  {
   "cell_type": "code",
   "execution_count": 62,
   "metadata": {},
   "outputs": [
    {
     "data": {
      "text/plain": [
       "(1235, 4)"
      ]
     },
     "execution_count": 62,
     "metadata": {},
     "output_type": "execute_result"
    }
   ],
   "source": [
    "y9_df3.shape"
   ]
  },
  {
   "cell_type": "code",
   "execution_count": 63,
   "metadata": {
    "collapsed": true
   },
   "outputs": [],
   "source": [
    "df_y9band_3 = pd.concat([yr2012_y9band, yr2013_y9band,yr2014_y9band,\n",
    "                       yr2015_y9band,yr2016_y9band,yr2017_y9band])\n",
    "df_y9band_3.reset_index(drop = True, inplace=True)\n",
    "y9_df3_heat = y9_df3.reset_index(drop = True)\n",
    "y9_df3_heat['Y9band'] = df_y9band_3['Band Year 9: Numeracy']\n",
    "y9_df3_heat.set_index('Y9band', inplace=True)\n",
    "new_heat = y9_df3_heat.groupby('Y9band').mean()"
   ]
  },
  {
   "cell_type": "code",
   "execution_count": 64,
   "metadata": {
    "collapsed": true
   },
   "outputs": [],
   "source": [
    "del new_heat['Year']"
   ]
  },
  {
   "cell_type": "code",
   "execution_count": 65,
   "metadata": {},
   "outputs": [
    {
     "data": {
      "text/html": [
       "<div>\n",
       "<style>\n",
       "    .dataframe thead tr:only-child th {\n",
       "        text-align: right;\n",
       "    }\n",
       "\n",
       "    .dataframe thead th {\n",
       "        text-align: left;\n",
       "    }\n",
       "\n",
       "    .dataframe tbody tr th {\n",
       "        vertical-align: top;\n",
       "    }\n",
       "</style>\n",
       "<table border=\"1\" class=\"dataframe\">\n",
       "  <thead>\n",
       "    <tr style=\"text-align: right;\">\n",
       "      <th>index</th>\n",
       "      <th>Measurement and Geometry</th>\n",
       "      <th>Number and Algebra</th>\n",
       "      <th>Statistics and Probability</th>\n",
       "    </tr>\n",
       "    <tr>\n",
       "      <th>Y9band</th>\n",
       "      <th></th>\n",
       "      <th></th>\n",
       "      <th></th>\n",
       "    </tr>\n",
       "  </thead>\n",
       "  <tbody>\n",
       "    <tr>\n",
       "      <th>5.0</th>\n",
       "      <td>0.132479</td>\n",
       "      <td>0.169052</td>\n",
       "      <td>0.000000</td>\n",
       "    </tr>\n",
       "    <tr>\n",
       "      <th>6.0</th>\n",
       "      <td>0.251564</td>\n",
       "      <td>0.279723</td>\n",
       "      <td>0.342014</td>\n",
       "    </tr>\n",
       "    <tr>\n",
       "      <th>7.0</th>\n",
       "      <td>0.383446</td>\n",
       "      <td>0.460553</td>\n",
       "      <td>0.551156</td>\n",
       "    </tr>\n",
       "    <tr>\n",
       "      <th>8.0</th>\n",
       "      <td>0.522460</td>\n",
       "      <td>0.606567</td>\n",
       "      <td>0.691335</td>\n",
       "    </tr>\n",
       "    <tr>\n",
       "      <th>9.0</th>\n",
       "      <td>0.673535</td>\n",
       "      <td>0.742146</td>\n",
       "      <td>0.808007</td>\n",
       "    </tr>\n",
       "    <tr>\n",
       "      <th>10.0</th>\n",
       "      <td>0.814594</td>\n",
       "      <td>0.871156</td>\n",
       "      <td>0.918852</td>\n",
       "    </tr>\n",
       "  </tbody>\n",
       "</table>\n",
       "</div>"
      ],
      "text/plain": [
       "index   Measurement and Geometry  Number and Algebra  \\\n",
       "Y9band                                                 \n",
       "5.0                     0.132479            0.169052   \n",
       "6.0                     0.251564            0.279723   \n",
       "7.0                     0.383446            0.460553   \n",
       "8.0                     0.522460            0.606567   \n",
       "9.0                     0.673535            0.742146   \n",
       "10.0                    0.814594            0.871156   \n",
       "\n",
       "index   Statistics and Probability  \n",
       "Y9band                              \n",
       "5.0                       0.000000  \n",
       "6.0                       0.342014  \n",
       "7.0                       0.551156  \n",
       "8.0                       0.691335  \n",
       "9.0                       0.808007  \n",
       "10.0                      0.918852  "
      ]
     },
     "execution_count": 65,
     "metadata": {},
     "output_type": "execute_result"
    }
   ],
   "source": [
    "new_heat"
   ]
  },
  {
   "cell_type": "code",
   "execution_count": 66,
   "metadata": {},
   "outputs": [
    {
     "data": {
      "text/plain": [
       "<matplotlib.axes._subplots.AxesSubplot at 0x11c5c5590>"
      ]
     },
     "execution_count": 66,
     "metadata": {},
     "output_type": "execute_result"
    },
    {
     "data": {
      "image/png": "[encoded data removed]",
      "text/plain": [
       "<matplotlib.figure.Figure at 0x11c3338d0>"
      ]
     },
     "metadata": {},
     "output_type": "display_data"
    }
   ],
   "source": [
    "plt.subplots(figsize = (8,6))\n",
    "sns.heatmap(new_heat, annot=True,cmap = 'plasma_r')"
   ]
  },
  {
   "cell_type": "markdown",
   "metadata": {},
   "source": [
    "## Y9 verbs analysis"
   ]
  },
  {
   "cell_type": "code",
   "execution_count": 67,
   "metadata": {
    "collapsed": true
   },
   "outputs": [],
   "source": [
    "df_v_y9 = pd.concat([X_y9_2012_v,X_y9_2013_v,X_y9_2014_v,X_y9_2015_v,\n",
    "                     X_y9_2016_v,X_y9_2017_v])"
   ]
  },
  {
   "cell_type": "code",
   "execution_count": 68,
   "metadata": {
    "collapsed": true
   },
   "outputs": [],
   "source": [
    "df_v_y9.set_index('SRN', inplace = True)"
   ]
  },
  {
   "cell_type": "code",
   "execution_count": 69,
   "metadata": {},
   "outputs": [
    {
     "data": {
      "text/html": [
       "<div>\n",
       "<style>\n",
       "    .dataframe thead tr:only-child th {\n",
       "        text-align: right;\n",
       "    }\n",
       "\n",
       "    .dataframe thead th {\n",
       "        text-align: left;\n",
       "    }\n",
       "\n",
       "    .dataframe tbody tr th {\n",
       "        vertical-align: top;\n",
       "    }\n",
       "</style>\n",
       "<table border=\"1\" class=\"dataframe\">\n",
       "  <thead>\n",
       "    <tr style=\"text-align: right;\">\n",
       "      <th></th>\n",
       "      <th>Average_Score</th>\n",
       "    </tr>\n",
       "  </thead>\n",
       "  <tbody>\n",
       "    <tr>\n",
       "      <th>Combines</th>\n",
       "      <td>0.210784</td>\n",
       "    </tr>\n",
       "    <tr>\n",
       "      <th>Compares</th>\n",
       "      <td>0.407767</td>\n",
       "    </tr>\n",
       "    <tr>\n",
       "      <th>Generalises</th>\n",
       "      <td>0.407767</td>\n",
       "    </tr>\n",
       "    <tr>\n",
       "      <th>Specifies</th>\n",
       "      <td>0.490291</td>\n",
       "    </tr>\n",
       "    <tr>\n",
       "      <th>Writes</th>\n",
       "      <td>0.498783</td>\n",
       "    </tr>\n",
       "  </tbody>\n",
       "</table>\n",
       "</div>"
      ],
      "text/plain": [
       "             Average_Score\n",
       "Combines          0.210784\n",
       "Compares          0.407767\n",
       "Generalises       0.407767\n",
       "Specifies         0.490291\n",
       "Writes            0.498783"
      ]
     },
     "execution_count": 69,
     "metadata": {},
     "output_type": "execute_result"
    }
   ],
   "source": [
    "df_v_mean_y9 = pd.DataFrame(df_v_y9.mean().sort_values(), \n",
    "                         columns=['Average_Score'])\n",
    "df_v_mean_y9.head()"
   ]
  },
  {
   "cell_type": "code",
   "execution_count": 70,
   "metadata": {},
   "outputs": [
    {
     "data": {
      "text/plain": [
       "<matplotlib.text.Text at 0x11c85b6d0>"
      ]
     },
     "execution_count": 70,
     "metadata": {},
     "output_type": "execute_result"
    },
    {
     "data": {
      "image/png": "[encoded data removed]",
      "text/plain": [
       "<matplotlib.figure.Figure at 0x11c770e10>"
      ]
     },
     "metadata": {},
     "output_type": "display_data"
    }
   ],
   "source": [
    "fig,ax = plt.subplots()\n",
    "df_v_mean_y9[:5].plot.barh(ax = ax)\n",
    "ax.set_title('5 questions with lowerest average score')"
   ]
  },
  {
   "cell_type": "code",
   "execution_count": 71,
   "metadata": {
    "collapsed": true
   },
   "outputs": [],
   "source": [
    "df_v_mean_y9_2 = df_v_mean_y9.reset_index()\n",
    "df_v_mean_y9_2.columns = ['Verbs', 'Average Score']"
   ]
  },
  {
   "cell_type": "code",
   "execution_count": 72,
   "metadata": {
    "collapsed": true
   },
   "outputs": [],
   "source": [
    "sns.set_palette(\"Blues\")"
   ]
  },
  {
   "cell_type": "code",
   "execution_count": 85,
   "metadata": {
    "scrolled": true
   },
   "outputs": [
    {
     "data": {
      "text/plain": [
       "(array([ 0. ,  0.1,  0.2,  0.3,  0.4,  0.5,  0.6]),\n",
       " <a list of 7 Text xticklabel objects>)"
      ]
     },
     "execution_count": 85,
     "metadata": {},
     "output_type": "execute_result"
    },
    {
     "data": {
      "image/png": "[encoded data removed]",
      "text/plain": [
       "<matplotlib.figure.Figure at 0x11d4cb710>"
      ]
     },
     "metadata": {},
     "output_type": "display_data"
    }
   ],
   "source": [
    "\n",
    "sns.barplot(x='Average Score',y='Verbs',data =df_v_mean_y9_2[:5],palette=\"coolwarm\")\n",
    "plt.title('5 Verbs with Lowest Average Score',fontsize = 20)\n",
    "plt.xlabel('Average Score',fontsize = 15)\n",
    "plt.yticks(fontsize = 14)\n",
    "plt.xticks(fontsize = 14)"
   ]
  },
  {
   "cell_type": "markdown",
   "metadata": {},
   "source": [
    "Teachers should spend addition time on how to answer the questions with those verbs. \n",
    "\n"
   ]
  },
  {
   "cell_type": "markdown",
   "metadata": {},
   "source": [
    "to help students to better understand what the examination questions require according to the verbs. "
   ]
  }
 ],
 "metadata": {
  "kernelspec": {
   "display_name": "Python 2",
   "language": "python",
   "name": "python2"
  },
  "language_info": {
   "codemirror_mode": {
    "name": "ipython",
    "version": 2
   },
   "file_extension": ".py",
   "mimetype": "text/x-python",
   "name": "python",
   "nbconvert_exporter": "python",
   "pygments_lexer": "ipython2",
   "version": "2.7.13"
  }
 },
 "nbformat": 4,
 "nbformat_minor": 2
}
