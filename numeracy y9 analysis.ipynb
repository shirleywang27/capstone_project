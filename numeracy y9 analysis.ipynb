{
 "cells": [
  {
   "cell_type": "code",
   "execution_count": 1,
   "metadata": {
    "collapsed": true
   },
   "outputs": [],
   "source": [
    "import numpy as np\n",
    "import scipy.stats as stats\n",
    "import seaborn as sns\n",
    "import matplotlib.pyplot as plt\n",
    "import pandas as pd\n",
    "import re\n",
    "\n",
    "sns.set_style('whitegrid')\n",
    "sns.set_palette(\"husl\")\n",
    "\n",
    "%matplotlib inline"
   ]
  },
  {
   "cell_type": "code",
   "execution_count": 2,
   "metadata": {
    "collapsed": true
   },
   "outputs": [],
   "source": [
    "y9_2012 = pd.read_csv('./NAPLAN/naplan_schoolexportYr9_2012.csv')\n",
    "y9_2013 = pd.read_csv('./NAPLAN/naplan_schoolexportYr9_2013.csv')\n",
    "# useful\n",
    "y9_2014 = pd.read_csv('./NAPLAN/naplan_schoolexportYr9_2014.csv')\n",
    "y9_2015 = pd.read_csv('./NAPLAN/naplan_schoolexportYr9_2015.csv')\n",
    "y9_2016 = pd.read_csv('./NAPLAN/naplan_schoolexportYr9_2016.csv')\n",
    "y9_2017 = pd.read_csv('./NAPLAN/naplan_schoolexportYr9_2017.csv')"
   ]
  },
  {
   "cell_type": "code",
   "execution_count": 3,
   "metadata": {
    "collapsed": true
   },
   "outputs": [],
   "source": [
    "X_y7_2012 = pd.read_csv('X_y7_2012.csv')\n",
    "X_y7_2013 = pd.read_csv('X_y7_2013.csv')\n",
    "X_y7_2014 = pd.read_csv('X_y7_2014.csv')\n",
    "X_y7_2015 = pd.read_csv('X_y7_2015.csv')\n",
    "X_y7_2016 = pd.read_csv('X_y7_2016.csv')\n",
    "X_y7_2017 = pd.read_csv('X_y7_2017.csv')\n",
    "\n",
    "X_y9_2012 = pd.read_csv('X_y9_2012.csv')\n",
    "X_y9_2013 = pd.read_csv('X_y9_2013.csv')\n",
    "X_y9_2014 = pd.read_csv('X_y9_2014.csv')\n",
    "X_y9_2015 = pd.read_csv('X_y9_2015.csv')\n",
    "X_y9_2016 = pd.read_csv('X_y9_2016.csv')\n",
    "X_y9_2017 = pd.read_csv('X_y9_2017.csv')"
   ]
  },
  {
   "cell_type": "code",
   "execution_count": 4,
   "metadata": {
    "collapsed": true
   },
   "outputs": [],
   "source": [
    "# verbes\n",
    "X_y7_2012_v = pd.read_csv('X_y7_2012_verbes.csv')\n",
    "X_y7_2013_v = pd.read_csv('X_y7_2013_verbes.csv')\n",
    "X_y7_2014_v = pd.read_csv('X_y7_2014_verbes.csv')\n",
    "X_y7_2015_v = pd.read_csv('X_y7_2015_verbes.csv')\n",
    "X_y7_2016_v = pd.read_csv('X_y7_2016_verbes.csv')\n",
    "X_y7_2017_v = pd.read_csv('X_y7_2017_verbes.csv')\n",
    "\n",
    "X_y9_2012_v = pd.read_csv('X_y9_2012_verbes.csv')\n",
    "X_y9_2013_v = pd.read_csv('X_y9_2013_verbes.csv')\n",
    "X_y9_2014_v = pd.read_csv('X_y9_2014_verbes.csv')\n",
    "X_y9_2015_v = pd.read_csv('X_y9_2015_verbes.csv')\n",
    "X_y9_2016_v = pd.read_csv('X_y9_2016_verbes.csv')\n",
    "X_y9_2017_v = pd.read_csv('X_y9_2017_verbes.csv')"
   ]
  },
  {
   "cell_type": "code",
   "execution_count": 5,
   "metadata": {
    "collapsed": true
   },
   "outputs": [],
   "source": [
    "\n",
    "yc2012 = y9_2012['Band Year 9: Numeracy'].dropna() >=8\n",
    "yc2013 = y9_2013['Band Year 9: Numeracy'].dropna() >=8\n",
    "yc2014 = y9_2014['Band Year 9: Numeracy'].dropna() >=8\n",
    "yc2015 = y9_2015['Band Year 9: Numeracy'].dropna() >=8\n",
    "yc2016 = y9_2016['Band Year 9: Numeracy'].dropna() >=8\n",
    "yc2017 = y9_2017['Band Year 9: Numeracy'].dropna() >=8\n",
    "\n",
    "\n",
    "\n",
    "yr2012 = y9_2012['Band Year 9: Numeracy'].dropna() \n",
    "yr2013 = y9_2013['Band Year 9: Numeracy'].dropna()\n",
    "yr2014 = y9_2014['Band Year 9: Numeracy'].dropna()\n",
    "yr2015 = y9_2015['Band Year 9: Numeracy'].dropna()\n",
    "yr2016 = y9_2016['Band Year 9: Numeracy'].dropna()\n",
    "yr2017 = y9_2017['Band Year 9: Numeracy'].dropna()\n",
    " "
   ]
  },
  {
   "cell_type": "code",
   "execution_count": null,
   "metadata": {
    "collapsed": true
   },
   "outputs": [],
   "source": []
  },
  {
   "cell_type": "code",
   "execution_count": 6,
   "metadata": {
    "collapsed": true
   },
   "outputs": [],
   "source": [
    "yc = pd.DataFrame(pd.concat([yc2012,yc2013,yc2014,\n",
    "                             yc2015,yc2016,yc2017]))\n",
    "yr = pd.DataFrame(pd.concat([yr2012,yr2013,yr2014,\n",
    "                             yr2015,yr2016,yr2017]))"
   ]
  },
  {
   "cell_type": "code",
   "execution_count": 9,
   "metadata": {
    "collapsed": true
   },
   "outputs": [],
   "source": [
    "stage_list = [2]*10 +[3]*15 + [4]*18 + [5]*15\n",
    "syllabus_dict = {'MA2-11MG':'Volume and Capacity', 'MA2-12MG':'Mass',\n",
    "                 'MA2-13MG':'Time', 'MA2-14MG':'Three-Dimensional Space',\n",
    "                 'MA2-15MG':'Two-Dimensional Space', 'MA2-17MG':'Position',\n",
    "                 'MA2-4NA':'Whole Numbers', 'MA2-6NA':'Multiplication and Division',\n",
    "                 'MA2-7NA':'Fractions and Decimals', 'MA2-8NA':'Patterns and Algebra',\n",
    "                 'MA3-10MG':'Area', 'MA3-11MG':\"Volume and Capacity\",\n",
    "                 'MA3-13MG':'Time', 'MA3-14MG':'Three-Dimensional Space',\n",
    "                 'MA3-15MG':'Two-Dimensional Space', 'MA3-16MG':'Angles',\n",
    "                 'MA3-17MG':'Position', 'MA3-18SP':'Data', 'MA3-19SP':'Chance',\n",
    "                 'MA3-4NA':\"Whole Numbers\", 'MA3-5NA':'Addition and Subtraction',\n",
    "                 'MA3-6NA':'Multiplication and Division','MA3-7NA':\"Fractions and Decimals\",\n",
    "                 'MA3-8NA':\"Patterns and Algebra\",'MA3-9MG':\"Length\",\n",
    "                 'MA4-10NA':'Equations','MA4-11NA':\"Linear Relationships\",\n",
    "                 'MA4-12MG':'Length', 'MA4-13MG':'Area', 'MA4-14MG':'Volume',\n",
    "                 'MA4-15MG':'Time', 'MA4-16MG':\"Right-Angled Triangles\",\n",
    "                 'MA4-17MG':'Properties of Geometrical Figures','MA4-18MG':'Angle Relationships',\n",
    "                 'MA4-19SP':'Data Collection and Representation','MA4-20SP':'Single Variable Data Analysis',\n",
    "                 'MA4-21SP':'Probability','MA4-4NA':'Computation with Integers',\n",
    "                 'MA4-5NA':'Fractions and Decimals','MA4-6NA':'Financial Mathematics',\n",
    "                 'MA4-7NA':'Ratios and Rates','MA4-8NA':'Algebraic Techniques',\n",
    "                 'MA4-9NA':'Indices','MA5.1-11MG':'Properties of Geometrical Figures',\n",
    "                 'MA5.1-12SP':'Single Variable Data Analysis','MA5.1-13SP':\"Probability\",\n",
    "                 'MA5.1-4NA':'Financial Mathematics','MA5.1-5NA':'Indices',\n",
    "                 'MA5.1-6NA':'Linear Relationships','MA5.1-7NA':'Non-Linear Relationships',\n",
    "                 'MA5.1-8MG':'Area and Surface Area','MA5.1-9MG':'Numbers of Any Magnitude',\n",
    "                 'MA5.2-17SP':'Probability','MA5.2-5NA':'Ratios and Rates',\n",
    "                 'MA5.2-6NA':'Algebraic Techniques','MA5.2-8NA':'Equations',\n",
    "                 'MA5.3-13MG':'Area and Surface Area','MA5.3-4NA':'Ratios and Rates'\n",
    "    \n",
    "}"
   ]
  },
  {
   "cell_type": "markdown",
   "metadata": {},
   "source": [
    "# merge with the interrelated components\n",
    "\n",
    "remove the stage, merge with the interrelated components"
   ]
  },
  {
   "cell_type": "code",
   "execution_count": 42,
   "metadata": {
    "collapsed": true
   },
   "outputs": [],
   "source": [
    "y9_df2 = pd.concat([X_y9_2012,X_y9_2013,X_y9_2014,\n",
    "                 X_y9_2015,X_y9_2016,X_y9_2017]).set_index('SRN')"
   ]
  },
  {
   "cell_type": "code",
   "execution_count": 43,
   "metadata": {
    "collapsed": true
   },
   "outputs": [],
   "source": [
    "# create new columns\n",
    "new_columns = [syllabus_dict.get(i,0) for i in list(y9_df2.columns) ]"
   ]
  },
  {
   "cell_type": "code",
   "execution_count": 44,
   "metadata": {
    "collapsed": true
   },
   "outputs": [],
   "source": [
    "y9_df2.columns = new_columns\n",
    "y9_df3 = y9_df2.T.reset_index().groupby(['index']).apply(np.mean).T"
   ]
  },
  {
   "cell_type": "code",
   "execution_count": 45,
   "metadata": {
    "collapsed": true
   },
   "outputs": [],
   "source": [
    "y9_df4 = y9_df3.T.fillna(y9_df3.T.mean()).T"
   ]
  },
  {
   "cell_type": "code",
   "execution_count": 46,
   "metadata": {},
   "outputs": [
    {
     "data": {
      "text/html": [
       "<div>\n",
       "<style>\n",
       "    .dataframe thead tr:only-child th {\n",
       "        text-align: right;\n",
       "    }\n",
       "\n",
       "    .dataframe thead th {\n",
       "        text-align: left;\n",
       "    }\n",
       "\n",
       "    .dataframe tbody tr th {\n",
       "        vertical-align: top;\n",
       "    }\n",
       "</style>\n",
       "<table border=\"1\" class=\"dataframe\">\n",
       "  <thead>\n",
       "    <tr style=\"text-align: right;\">\n",
       "      <th>index</th>\n",
       "      <th>Addition and Subtraction</th>\n",
       "      <th>Algebraic Techniques</th>\n",
       "      <th>Angle Relationships</th>\n",
       "      <th>Angles</th>\n",
       "      <th>Area</th>\n",
       "      <th>Area and Surface Area</th>\n",
       "      <th>Chance</th>\n",
       "      <th>Computation with Integers</th>\n",
       "      <th>Data</th>\n",
       "      <th>Data Collection and Representation</th>\n",
       "      <th>...</th>\n",
       "      <th>Properties of Geometrical Figures</th>\n",
       "      <th>Ratios and Rates</th>\n",
       "      <th>Right-Angled Triangles</th>\n",
       "      <th>Single Variable Data Analysis</th>\n",
       "      <th>Three-Dimensional Space</th>\n",
       "      <th>Time</th>\n",
       "      <th>Two-Dimensional Space</th>\n",
       "      <th>Volume</th>\n",
       "      <th>Volume and Capacity</th>\n",
       "      <th>Whole Numbers</th>\n",
       "    </tr>\n",
       "    <tr>\n",
       "      <th>SRN</th>\n",
       "      <th></th>\n",
       "      <th></th>\n",
       "      <th></th>\n",
       "      <th></th>\n",
       "      <th></th>\n",
       "      <th></th>\n",
       "      <th></th>\n",
       "      <th></th>\n",
       "      <th></th>\n",
       "      <th></th>\n",
       "      <th></th>\n",
       "      <th></th>\n",
       "      <th></th>\n",
       "      <th></th>\n",
       "      <th></th>\n",
       "      <th></th>\n",
       "      <th></th>\n",
       "      <th></th>\n",
       "      <th></th>\n",
       "      <th></th>\n",
       "      <th></th>\n",
       "    </tr>\n",
       "  </thead>\n",
       "  <tbody>\n",
       "    <tr>\n",
       "      <th>428415078</th>\n",
       "      <td>0.671368</td>\n",
       "      <td>0.833333</td>\n",
       "      <td>0.0</td>\n",
       "      <td>0.671368</td>\n",
       "      <td>0.0</td>\n",
       "      <td>1.0</td>\n",
       "      <td>0.666667</td>\n",
       "      <td>1.0</td>\n",
       "      <td>1.0</td>\n",
       "      <td>1.0</td>\n",
       "      <td>...</td>\n",
       "      <td>0.00</td>\n",
       "      <td>1.0</td>\n",
       "      <td>0.671368</td>\n",
       "      <td>1.0</td>\n",
       "      <td>0.583333</td>\n",
       "      <td>0.666667</td>\n",
       "      <td>1.0</td>\n",
       "      <td>0.671368</td>\n",
       "      <td>0.671368</td>\n",
       "      <td>0.671368</td>\n",
       "    </tr>\n",
       "    <tr>\n",
       "      <th>428778791</th>\n",
       "      <td>0.765705</td>\n",
       "      <td>0.833333</td>\n",
       "      <td>0.0</td>\n",
       "      <td>0.765705</td>\n",
       "      <td>1.0</td>\n",
       "      <td>1.0</td>\n",
       "      <td>0.666667</td>\n",
       "      <td>1.0</td>\n",
       "      <td>1.0</td>\n",
       "      <td>1.0</td>\n",
       "      <td>...</td>\n",
       "      <td>0.50</td>\n",
       "      <td>1.0</td>\n",
       "      <td>0.765705</td>\n",
       "      <td>1.0</td>\n",
       "      <td>0.583333</td>\n",
       "      <td>0.666667</td>\n",
       "      <td>1.0</td>\n",
       "      <td>0.765705</td>\n",
       "      <td>0.765705</td>\n",
       "      <td>0.765705</td>\n",
       "    </tr>\n",
       "    <tr>\n",
       "      <th>433786998</th>\n",
       "      <td>0.328846</td>\n",
       "      <td>0.000000</td>\n",
       "      <td>0.0</td>\n",
       "      <td>0.328846</td>\n",
       "      <td>1.0</td>\n",
       "      <td>0.0</td>\n",
       "      <td>0.000000</td>\n",
       "      <td>1.0</td>\n",
       "      <td>1.0</td>\n",
       "      <td>0.0</td>\n",
       "      <td>...</td>\n",
       "      <td>0.00</td>\n",
       "      <td>1.0</td>\n",
       "      <td>0.328846</td>\n",
       "      <td>0.0</td>\n",
       "      <td>0.416667</td>\n",
       "      <td>0.000000</td>\n",
       "      <td>0.0</td>\n",
       "      <td>0.328846</td>\n",
       "      <td>0.328846</td>\n",
       "      <td>0.328846</td>\n",
       "    </tr>\n",
       "    <tr>\n",
       "      <th>433787021</th>\n",
       "      <td>0.857051</td>\n",
       "      <td>1.000000</td>\n",
       "      <td>1.0</td>\n",
       "      <td>0.857051</td>\n",
       "      <td>1.0</td>\n",
       "      <td>1.0</td>\n",
       "      <td>0.666667</td>\n",
       "      <td>1.0</td>\n",
       "      <td>1.0</td>\n",
       "      <td>1.0</td>\n",
       "      <td>...</td>\n",
       "      <td>0.25</td>\n",
       "      <td>1.0</td>\n",
       "      <td>0.857051</td>\n",
       "      <td>0.0</td>\n",
       "      <td>1.000000</td>\n",
       "      <td>0.833333</td>\n",
       "      <td>1.0</td>\n",
       "      <td>0.857051</td>\n",
       "      <td>0.857051</td>\n",
       "      <td>0.857051</td>\n",
       "    </tr>\n",
       "    <tr>\n",
       "      <th>433787048</th>\n",
       "      <td>0.789209</td>\n",
       "      <td>0.833333</td>\n",
       "      <td>1.0</td>\n",
       "      <td>0.789209</td>\n",
       "      <td>1.0</td>\n",
       "      <td>0.0</td>\n",
       "      <td>1.000000</td>\n",
       "      <td>1.0</td>\n",
       "      <td>1.0</td>\n",
       "      <td>1.0</td>\n",
       "      <td>...</td>\n",
       "      <td>0.50</td>\n",
       "      <td>1.0</td>\n",
       "      <td>0.789209</td>\n",
       "      <td>1.0</td>\n",
       "      <td>0.833333</td>\n",
       "      <td>0.416667</td>\n",
       "      <td>1.0</td>\n",
       "      <td>0.789209</td>\n",
       "      <td>0.789209</td>\n",
       "      <td>0.789209</td>\n",
       "    </tr>\n",
       "  </tbody>\n",
       "</table>\n",
       "<p>5 rows × 33 columns</p>\n",
       "</div>"
      ],
      "text/plain": [
       "index      Addition and Subtraction  Algebraic Techniques  \\\n",
       "SRN                                                         \n",
       "428415078                  0.671368              0.833333   \n",
       "428778791                  0.765705              0.833333   \n",
       "433786998                  0.328846              0.000000   \n",
       "433787021                  0.857051              1.000000   \n",
       "433787048                  0.789209              0.833333   \n",
       "\n",
       "index      Angle Relationships    Angles  Area  Area and Surface Area  \\\n",
       "SRN                                                                     \n",
       "428415078                  0.0  0.671368   0.0                    1.0   \n",
       "428778791                  0.0  0.765705   1.0                    1.0   \n",
       "433786998                  0.0  0.328846   1.0                    0.0   \n",
       "433787021                  1.0  0.857051   1.0                    1.0   \n",
       "433787048                  1.0  0.789209   1.0                    0.0   \n",
       "\n",
       "index        Chance  Computation with Integers  Data  \\\n",
       "SRN                                                    \n",
       "428415078  0.666667                        1.0   1.0   \n",
       "428778791  0.666667                        1.0   1.0   \n",
       "433786998  0.000000                        1.0   1.0   \n",
       "433787021  0.666667                        1.0   1.0   \n",
       "433787048  1.000000                        1.0   1.0   \n",
       "\n",
       "index      Data Collection and Representation      ...        \\\n",
       "SRN                                                ...         \n",
       "428415078                                 1.0      ...         \n",
       "428778791                                 1.0      ...         \n",
       "433786998                                 0.0      ...         \n",
       "433787021                                 1.0      ...         \n",
       "433787048                                 1.0      ...         \n",
       "\n",
       "index      Properties of Geometrical Figures  Ratios and Rates  \\\n",
       "SRN                                                              \n",
       "428415078                               0.00               1.0   \n",
       "428778791                               0.50               1.0   \n",
       "433786998                               0.00               1.0   \n",
       "433787021                               0.25               1.0   \n",
       "433787048                               0.50               1.0   \n",
       "\n",
       "index      Right-Angled Triangles  Single Variable Data Analysis  \\\n",
       "SRN                                                                \n",
       "428415078                0.671368                            1.0   \n",
       "428778791                0.765705                            1.0   \n",
       "433786998                0.328846                            0.0   \n",
       "433787021                0.857051                            0.0   \n",
       "433787048                0.789209                            1.0   \n",
       "\n",
       "index      Three-Dimensional Space      Time  Two-Dimensional Space    Volume  \\\n",
       "SRN                                                                             \n",
       "428415078                 0.583333  0.666667                    1.0  0.671368   \n",
       "428778791                 0.583333  0.666667                    1.0  0.765705   \n",
       "433786998                 0.416667  0.000000                    0.0  0.328846   \n",
       "433787021                 1.000000  0.833333                    1.0  0.857051   \n",
       "433787048                 0.833333  0.416667                    1.0  0.789209   \n",
       "\n",
       "index      Volume and Capacity  Whole Numbers  \n",
       "SRN                                            \n",
       "428415078             0.671368       0.671368  \n",
       "428778791             0.765705       0.765705  \n",
       "433786998             0.328846       0.328846  \n",
       "433787021             0.857051       0.857051  \n",
       "433787048             0.789209       0.789209  \n",
       "\n",
       "[5 rows x 33 columns]"
      ]
     },
     "execution_count": 46,
     "metadata": {},
     "output_type": "execute_result"
    }
   ],
   "source": [
    "y9_df4.head()"
   ]
  },
  {
   "cell_type": "code",
   "execution_count": 47,
   "metadata": {
    "collapsed": true
   },
   "outputs": [],
   "source": [
    "# train test split\n",
    "from sklearn.model_selection import train_test_split\n",
    "X_train2,X_test2,y_train2,y_test2 = train_test_split(y9_df4,yc,\n",
    "                                                 random_state = 233)"
   ]
  },
  {
   "cell_type": "markdown",
   "metadata": {},
   "source": [
    "## Logistic regression"
   ]
  },
  {
   "cell_type": "code",
   "execution_count": 48,
   "metadata": {},
   "outputs": [
    {
     "name": "stdout",
     "output_type": "stream",
     "text": [
      "0.957928802589\n"
     ]
    }
   ],
   "source": [
    "import sklearn.linear_model\n",
    "lr = sklearn.linear_model.LogisticRegression()\n",
    "lr.fit(X_train2, y_train2)\n",
    "y_pred = lr.predict(X_test2)\n",
    "print lr.score(X_test2, y_test2)\n"
   ]
  },
  {
   "cell_type": "code",
   "execution_count": 49,
   "metadata": {},
   "outputs": [
    {
     "data": {
      "text/plain": [
       "array([[ 32,   9],\n",
       "       [  4, 264]])"
      ]
     },
     "execution_count": 49,
     "metadata": {},
     "output_type": "execute_result"
    }
   ],
   "source": [
    "import sklearn.metrics \n",
    "sklearn.metrics.confusion_matrix(y_test2, y_pred)"
   ]
  },
  {
   "cell_type": "code",
   "execution_count": 52,
   "metadata": {
    "collapsed": true,
    "scrolled": true
   },
   "outputs": [],
   "source": [
    "s_1 = pd.DataFrame({\n",
    "    'strength': lr.coef_[0,:],\n",
    "    'question': X_train2.columns\n",
    "}).sort_values('strength', ascending = False)"
   ]
  },
  {
   "cell_type": "code",
   "execution_count": 54,
   "metadata": {},
   "outputs": [
    {
     "data": {
      "text/plain": [
       "<matplotlib.axes._subplots.AxesSubplot at 0x110e1f910>"
      ]
     },
     "execution_count": 54,
     "metadata": {},
     "output_type": "execute_result"
    },
    {
     "data": {
      "image/png": "[encoded data removed]",
      "text/plain": [
       "<matplotlib.figure.Figure at 0x110e406d0>"
      ]
     },
     "metadata": {},
     "output_type": "display_data"
    }
   ],
   "source": [
    "sns.barplot(x = 'strength',y = 'question',data = s_1[:5])"
   ]
  },
  {
   "cell_type": "markdown",
   "metadata": {},
   "source": [
    "**merge again**"
   ]
  },
  {
   "cell_type": "code",
   "execution_count": 29,
   "metadata": {
    "collapsed": true
   },
   "outputs": [],
   "source": [
    "y9_df5 = pd.concat([X_y9_2012,X_y9_2013,X_y9_2014,\n",
    "                 X_y9_2015,X_y9_2016,X_y9_2017]).set_index('SRN')"
   ]
  },
  {
   "cell_type": "code",
   "execution_count": 30,
   "metadata": {
    "collapsed": true
   },
   "outputs": [],
   "source": [
    "column_name = pd.Series(y9_df5.columns)\n",
    "column_name = column_name.str.replace('MA2-','')\n",
    "column_name = column_name.str.replace('MA3-','')\n",
    "column_name = column_name.str.replace('MA4-','')\n",
    "column_name = column_name.str.replace('MA5.1-','')\n",
    "column_name = column_name.str.replace('MA5.2-','')\n",
    "column_name = column_name.str.replace('MA5.3-','')\n",
    "\n",
    "# only take the last 2 digits\n",
    "# NA: Number and Algebra, MG: Measurement and Geometry, SP: Statistics and Probability\n",
    "new_col = column_name.str.extract('\\d+(.*)', expand=False)\n",
    "new_col = new_col.str.replace('NA','Number and Algebra')\n",
    "new_col = new_col.str.replace('MG','Measurement and Geometry')\n",
    "new_col = new_col.str.replace('SP','Statistics and Probability')\n",
    "\n",
    "y9_df5.columns = new_col\n",
    "\n",
    "y9_df5 = y9_df5.T.reset_index().groupby(['index']).apply(np.mean).T"
   ]
  },
  {
   "cell_type": "code",
   "execution_count": 31,
   "metadata": {},
   "outputs": [
    {
     "data": {
      "text/html": [
       "<div>\n",
       "<style>\n",
       "    .dataframe thead tr:only-child th {\n",
       "        text-align: right;\n",
       "    }\n",
       "\n",
       "    .dataframe thead th {\n",
       "        text-align: left;\n",
       "    }\n",
       "\n",
       "    .dataframe tbody tr th {\n",
       "        vertical-align: top;\n",
       "    }\n",
       "</style>\n",
       "<table border=\"1\" class=\"dataframe\">\n",
       "  <thead>\n",
       "    <tr style=\"text-align: right;\">\n",
       "      <th>index</th>\n",
       "      <th>Measurement and Geometry</th>\n",
       "      <th>Number and Algebra</th>\n",
       "      <th>Statistics and Probability</th>\n",
       "    </tr>\n",
       "    <tr>\n",
       "      <th>SRN</th>\n",
       "      <th></th>\n",
       "      <th></th>\n",
       "      <th></th>\n",
       "    </tr>\n",
       "  </thead>\n",
       "  <tbody>\n",
       "    <tr>\n",
       "      <th>428415078</th>\n",
       "      <td>0.461538</td>\n",
       "      <td>0.803419</td>\n",
       "      <td>0.916667</td>\n",
       "    </tr>\n",
       "    <tr>\n",
       "      <th>428778791</th>\n",
       "      <td>0.692308</td>\n",
       "      <td>0.729604</td>\n",
       "      <td>0.916667</td>\n",
       "    </tr>\n",
       "    <tr>\n",
       "      <th>433786998</th>\n",
       "      <td>0.256410</td>\n",
       "      <td>0.364413</td>\n",
       "      <td>0.250000</td>\n",
       "    </tr>\n",
       "    <tr>\n",
       "      <th>433787021</th>\n",
       "      <td>0.878205</td>\n",
       "      <td>0.962704</td>\n",
       "      <td>0.666667</td>\n",
       "    </tr>\n",
       "    <tr>\n",
       "      <th>433787048</th>\n",
       "      <td>0.615385</td>\n",
       "      <td>0.837607</td>\n",
       "      <td>1.000000</td>\n",
       "    </tr>\n",
       "  </tbody>\n",
       "</table>\n",
       "</div>"
      ],
      "text/plain": [
       "index      Measurement and Geometry  Number and Algebra  \\\n",
       "SRN                                                       \n",
       "428415078                  0.461538            0.803419   \n",
       "428778791                  0.692308            0.729604   \n",
       "433786998                  0.256410            0.364413   \n",
       "433787021                  0.878205            0.962704   \n",
       "433787048                  0.615385            0.837607   \n",
       "\n",
       "index      Statistics and Probability  \n",
       "SRN                                    \n",
       "428415078                    0.916667  \n",
       "428778791                    0.916667  \n",
       "433786998                    0.250000  \n",
       "433787021                    0.666667  \n",
       "433787048                    1.000000  "
      ]
     },
     "execution_count": 31,
     "metadata": {},
     "output_type": "execute_result"
    }
   ],
   "source": [
    "y9_df5.head()"
   ]
  },
  {
   "cell_type": "code",
   "execution_count": 32,
   "metadata": {},
   "outputs": [
    {
     "data": {
      "text/plain": [
       "index\n",
       "Measurement and Geometry      0.615717\n",
       "Number and Algebra            0.685340\n",
       "Statistics and Probability    0.754548\n",
       "dtype: float64"
      ]
     },
     "execution_count": 32,
     "metadata": {},
     "output_type": "execute_result"
    }
   ],
   "source": [
    "np.mean(y9_df5)"
   ]
  },
  {
   "cell_type": "code",
   "execution_count": 33,
   "metadata": {
    "collapsed": true
   },
   "outputs": [],
   "source": [
    "# train test split\n",
    "from sklearn.model_selection import train_test_split\n",
    "X_train3,X_test3,y_train3,y_test3 = train_test_split(y9_df5,yc,\n",
    "                                                 random_state = 233)"
   ]
  },
  {
   "cell_type": "markdown",
   "metadata": {},
   "source": [
    "## Logistic regression"
   ]
  },
  {
   "cell_type": "code",
   "execution_count": 34,
   "metadata": {},
   "outputs": [
    {
     "name": "stdout",
     "output_type": "stream",
     "text": [
      "0.94498381877\n"
     ]
    }
   ],
   "source": [
    "import sklearn.linear_model\n",
    "lr = sklearn.linear_model.LogisticRegression()\n",
    "lr.fit(X_train3, y_train3)\n",
    "y_pred = lr.predict(X_test3)\n",
    "print lr.score(X_test3, y_test3)\n"
   ]
  },
  {
   "cell_type": "code",
   "execution_count": 35,
   "metadata": {},
   "outputs": [
    {
     "data": {
      "text/plain": [
       "array([[ 26,  15],\n",
       "       [  2, 266]])"
      ]
     },
     "execution_count": 35,
     "metadata": {},
     "output_type": "execute_result"
    }
   ],
   "source": [
    "import sklearn.metrics \n",
    "sklearn.metrics.confusion_matrix(y_test3, y_pred)"
   ]
  },
  {
   "cell_type": "code",
   "execution_count": 39,
   "metadata": {
    "collapsed": true,
    "scrolled": true
   },
   "outputs": [],
   "source": [
    "s_2 = pd.DataFrame({\n",
    "    'strength': lr.coef_[0,:],\n",
    "    'question': X_train3.columns\n",
    "}).sort_values('strength', ascending = False)"
   ]
  },
  {
   "cell_type": "code",
   "execution_count": 41,
   "metadata": {},
   "outputs": [
    {
     "data": {
      "text/plain": [
       "<matplotlib.axes._subplots.AxesSubplot at 0x110df1510>"
      ]
     },
     "execution_count": 41,
     "metadata": {},
     "output_type": "execute_result"
    },
    {
     "data": {
      "image/png": "[encoded data removed]",
      "text/plain": [
       "<matplotlib.figure.Figure at 0x110de6bd0>"
      ]
     },
     "metadata": {},
     "output_type": "display_data"
    }
   ],
   "source": [
    "sns.barplot(x = 'strength',y = 'question',data = s_2)"
   ]
  },
  {
   "cell_type": "markdown",
   "metadata": {},
   "source": [
    "## ** Verbs**"
   ]
  },
  {
   "cell_type": "code",
   "execution_count": 20,
   "metadata": {
    "collapsed": true
   },
   "outputs": [],
   "source": [
    "df_v_y9 = pd.concat([X_y9_2012_v,X_y9_2013_v,X_y9_2014_v,X_y9_2015_v,\n",
    "                     X_y9_2016_v,X_y9_2017_v]).set_index('SRN')"
   ]
  },
  {
   "cell_type": "code",
   "execution_count": 22,
   "metadata": {
    "collapsed": true
   },
   "outputs": [],
   "source": [
    "df_v_y9 = df_v_y9.T.fillna(df_v_y9.T.mean()).T"
   ]
  },
  {
   "cell_type": "code",
   "execution_count": 23,
   "metadata": {
    "collapsed": true
   },
   "outputs": [],
   "source": [
    "# train test split\n",
    "from sklearn.model_selection import train_test_split\n",
    "X_train4,X_test4,y_train4,y_test4 = train_test_split(df_v_y9,yc,\n",
    "                                                    random_state = 233)"
   ]
  },
  {
   "cell_type": "markdown",
   "metadata": {},
   "source": [
    "## Logistic Regression"
   ]
  },
  {
   "cell_type": "code",
   "execution_count": 28,
   "metadata": {},
   "outputs": [
    {
     "name": "stdout",
     "output_type": "stream",
     "text": [
      "0.970873786408\n"
     ]
    }
   ],
   "source": [
    "import sklearn.linear_model\n",
    "lr = sklearn.linear_model.LogisticRegression()\n",
    "lr.fit(X_train4, y_train4)\n",
    "y_pred = lr.predict(X_test4)\n",
    "print lr.score(X_test4, y_test4)\n"
   ]
  },
  {
   "cell_type": "code",
   "execution_count": 25,
   "metadata": {},
   "outputs": [
    {
     "data": {
      "text/plain": [
       "array([[ 33,   8],\n",
       "       [  1, 267]])"
      ]
     },
     "execution_count": 25,
     "metadata": {},
     "output_type": "execute_result"
    }
   ],
   "source": [
    "import sklearn.metrics \n",
    "sklearn.metrics.confusion_matrix(y_test4, y_pred)"
   ]
  },
  {
   "cell_type": "code",
   "execution_count": 26,
   "metadata": {
    "collapsed": true,
    "scrolled": true
   },
   "outputs": [],
   "source": [
    "strength_df = pd.DataFrame({\n",
    "    'strength': lr.coef_[0,:],\n",
    "    'question': X_train4.columns\n",
    "}).sort_values('strength', ascending = False)"
   ]
  },
  {
   "cell_type": "code",
   "execution_count": 27,
   "metadata": {},
   "outputs": [
    {
     "data": {
      "text/plain": [
       "<matplotlib.axes._subplots.AxesSubplot at 0x10d391550>"
      ]
     },
     "execution_count": 27,
     "metadata": {},
     "output_type": "execute_result"
    },
    {
     "data": {
      "image/png": "[encoded data removed]",
      "text/plain": [
       "<matplotlib.figure.Figure at 0x102144e10>"
      ]
     },
     "metadata": {},
     "output_type": "display_data"
    }
   ],
   "source": [
    "sns.barplot(x = 'strength',y = 'question',data = strength_df.iloc[0:5])"
   ]
  },
  {
   "cell_type": "code",
   "execution_count": null,
   "metadata": {
    "collapsed": true
   },
   "outputs": [],
   "source": []
  }
 ],
 "metadata": {
  "kernelspec": {
   "display_name": "Python 2",
   "language": "python",
   "name": "python2"
  },
  "language_info": {
   "codemirror_mode": {
    "name": "ipython",
    "version": 2
   },
   "file_extension": ".py",
   "mimetype": "text/x-python",
   "name": "python",
   "nbconvert_exporter": "python",
   "pygments_lexer": "ipython2",
   "version": "2.7.13"
  }
 },
 "nbformat": 4,
 "nbformat_minor": 2
}
